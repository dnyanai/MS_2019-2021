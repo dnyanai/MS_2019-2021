{
 "cells": [
  {
   "cell_type": "markdown",
   "metadata": {},
   "source": [
    "#### <div class=\"alert alert-info\"> Program for censoring bad Words/Phrases from a religional language text </div>\n"
   ]
  },
  {
   "cell_type": "markdown",
   "metadata": {},
   "source": [
    "#### Importing the libraries"
   ]
  },
  {
   "cell_type": "code",
   "execution_count": 1,
   "metadata": {},
   "outputs": [],
   "source": [
    "import pandas as pd\n",
    "import re \n",
    "#import sklearn as sk\n",
    "#from nltk.corpus import stopwords"
   ]
  },
  {
   "cell_type": "markdown",
   "metadata": {},
   "source": [
    "#### Reading the data file which is in CSV"
   ]
  },
  {
   "cell_type": "code",
   "execution_count": 2,
   "metadata": {},
   "outputs": [
    {
     "data": {
      "text/html": [
       "<div>\n",
       "<style scoped>\n",
       "    .dataframe tbody tr th:only-of-type {\n",
       "        vertical-align: middle;\n",
       "    }\n",
       "\n",
       "    .dataframe tbody tr th {\n",
       "        vertical-align: top;\n",
       "    }\n",
       "\n",
       "    .dataframe thead th {\n",
       "        text-align: right;\n",
       "    }\n",
       "</style>\n",
       "<table border=\"1\" class=\"dataframe\">\n",
       "  <thead>\n",
       "    <tr style=\"text-align: right;\">\n",
       "      <th></th>\n",
       "      <th>Word</th>\n",
       "      <th>Phrase</th>\n",
       "    </tr>\n",
       "  </thead>\n",
       "  <tbody>\n",
       "    <tr>\n",
       "      <td>0</td>\n",
       "      <td>Arabou</td>\n",
       "      <td>A arabo so a ye ti fa que ala la</td>\n",
       "    </tr>\n",
       "    <tr>\n",
       "      <td>1</td>\n",
       "      <td>tueur</td>\n",
       "      <td>A bengue so a doit ti kiri na kodro ti ala</td>\n",
       "    </tr>\n",
       "    <tr>\n",
       "      <td>2</td>\n",
       "      <td>Touber</td>\n",
       "      <td>Arabo sans bouta</td>\n",
       "    </tr>\n",
       "    <tr>\n",
       "      <td>3</td>\n",
       "      <td>Djak</td>\n",
       "      <td>Assassins d'opposants</td>\n",
       "    </tr>\n",
       "    <tr>\n",
       "      <td>4</td>\n",
       "      <td>Arna</td>\n",
       "      <td>Bozizé et ses amis Tchadiens veulent encore fa...</td>\n",
       "    </tr>\n",
       "  </tbody>\n",
       "</table>\n",
       "</div>"
      ],
      "text/plain": [
       "     Word                                             Phrase\n",
       "0  Arabou                   A arabo so a ye ti fa que ala la\n",
       "1   tueur         A bengue so a doit ti kiri na kodro ti ala\n",
       "2  Touber                                   Arabo sans bouta\n",
       "3    Djak                              Assassins d'opposants\n",
       "4    Arna  Bozizé et ses amis Tchadiens veulent encore fa..."
      ]
     },
     "execution_count": 2,
     "metadata": {},
     "output_type": "execute_result"
    }
   ],
   "source": [
    "df = pd.read_csv('./CAR-hate-speech.csv',encoding='latin-1')\n",
    "df.head()"
   ]
  },
  {
   "cell_type": "markdown",
   "metadata": {},
   "source": [
    "#### Data cleaning: \n",
    "<ol><li>make everything lowercase</li>\n",
    "    <li>remove all the puntuations which are not required</li>\n"
   ]
  },
  {
   "cell_type": "code",
   "execution_count": 3,
   "metadata": {},
   "outputs": [
    {
     "data": {
      "text/html": [
       "<div>\n",
       "<style scoped>\n",
       "    .dataframe tbody tr th:only-of-type {\n",
       "        vertical-align: middle;\n",
       "    }\n",
       "\n",
       "    .dataframe tbody tr th {\n",
       "        vertical-align: top;\n",
       "    }\n",
       "\n",
       "    .dataframe thead th {\n",
       "        text-align: right;\n",
       "    }\n",
       "</style>\n",
       "<table border=\"1\" class=\"dataframe\">\n",
       "  <thead>\n",
       "    <tr style=\"text-align: right;\">\n",
       "      <th></th>\n",
       "      <th>Word</th>\n",
       "      <th>Phrase</th>\n",
       "    </tr>\n",
       "  </thead>\n",
       "  <tbody>\n",
       "    <tr>\n",
       "      <td>0</td>\n",
       "      <td>arabou</td>\n",
       "      <td>a arabo so a ye ti fa que ala la</td>\n",
       "    </tr>\n",
       "    <tr>\n",
       "      <td>1</td>\n",
       "      <td>tueur</td>\n",
       "      <td>a bengue so a doit ti kiri na kodro ti ala</td>\n",
       "    </tr>\n",
       "    <tr>\n",
       "      <td>2</td>\n",
       "      <td>touber</td>\n",
       "      <td>arabo sans bouta</td>\n",
       "    </tr>\n",
       "    <tr>\n",
       "      <td>3</td>\n",
       "      <td>djak</td>\n",
       "      <td>assassins d'opposants</td>\n",
       "    </tr>\n",
       "    <tr>\n",
       "      <td>4</td>\n",
       "      <td>arna</td>\n",
       "      <td>bozizé et ses amis tchadiens veulent encore fa...</td>\n",
       "    </tr>\n",
       "  </tbody>\n",
       "</table>\n",
       "</div>"
      ],
      "text/plain": [
       "     Word                                             Phrase\n",
       "0  arabou                   a arabo so a ye ti fa que ala la\n",
       "1   tueur         a bengue so a doit ti kiri na kodro ti ala\n",
       "2  touber                                   arabo sans bouta\n",
       "3    djak                              assassins d'opposants\n",
       "4    arna  bozizé et ses amis tchadiens veulent encore fa..."
      ]
     },
     "execution_count": 3,
     "metadata": {},
     "output_type": "execute_result"
    }
   ],
   "source": [
    "df.Word = df.Word.str.lower()\n",
    "df.Phrase = df.Phrase.str.lower()\n",
    "df.head()"
   ]
  },
  {
   "cell_type": "markdown",
   "metadata": {},
   "source": [
    "#### Masking the bad words : (only words)"
   ]
  },
  {
   "cell_type": "code",
   "execution_count": 4,
   "metadata": {},
   "outputs": [],
   "source": [
    "def profanityFilter(text):\n",
    "    \n",
    "    brokenStr = text.split()\n",
    "     \n",
    "    badWordMask = '*@#$%@#$%^~@%^~@#$@#$%^~'\n",
    "    \n",
    "    for word in brokenStr:\n",
    "        if word in df.Word.values:\n",
    "            #print(word + ' <--Bad word!')\n",
    "            text = text.replace(word,badWordMask[:len(word)])\n",
    "    return text\n"
   ]
  },
  {
   "cell_type": "code",
   "execution_count": 5,
   "metadata": {},
   "outputs": [
    {
     "name": "stdout",
     "output_type": "stream",
     "text": [
      "Enter text: djak\n",
      "*@#$\n"
     ]
    }
   ],
   "source": [
    "for x in range(1):\n",
    "    user_input = input(\"Enter text: \")\n",
    "    print(profanityFilter(user_input))"
   ]
  },
  {
   "cell_type": "markdown",
   "metadata": {},
   "source": [
    "### Masking the phrases: "
   ]
  },
  {
   "cell_type": "code",
   "execution_count": 6,
   "metadata": {},
   "outputs": [
    {
     "data": {
      "text/plain": [
       "count              66\n",
       "unique             66\n",
       "top       les requins\n",
       "freq                1\n",
       "Name: Phrase, dtype: object"
      ]
     },
     "execution_count": 6,
     "metadata": {},
     "output_type": "execute_result"
    }
   ],
   "source": [
    "df.Phrase.describe()"
   ]
  },
  {
   "cell_type": "code",
   "execution_count": 7,
   "metadata": {},
   "outputs": [
    {
     "data": {
      "text/html": [
       "<div>\n",
       "<style scoped>\n",
       "    .dataframe tbody tr th:only-of-type {\n",
       "        vertical-align: middle;\n",
       "    }\n",
       "\n",
       "    .dataframe tbody tr th {\n",
       "        vertical-align: top;\n",
       "    }\n",
       "\n",
       "    .dataframe thead th {\n",
       "        text-align: right;\n",
       "    }\n",
       "</style>\n",
       "<table border=\"1\" class=\"dataframe\">\n",
       "  <thead>\n",
       "    <tr style=\"text-align: right;\">\n",
       "      <th></th>\n",
       "      <th>Word</th>\n",
       "      <th>Phrase</th>\n",
       "      <th>PhraseForCompare</th>\n",
       "    </tr>\n",
       "  </thead>\n",
       "  <tbody>\n",
       "    <tr>\n",
       "      <td>0</td>\n",
       "      <td>arabou</td>\n",
       "      <td>a arabo so a ye ti fa que ala la</td>\n",
       "      <td>a_arabo_so_a_ye_ti_fa_que_ala_la</td>\n",
       "    </tr>\n",
       "  </tbody>\n",
       "</table>\n",
       "</div>"
      ],
      "text/plain": [
       "     Word                            Phrase                  PhraseForCompare\n",
       "0  arabou  a arabo so a ye ti fa que ala la  a_arabo_so_a_ye_ti_fa_que_ala_la"
      ]
     },
     "execution_count": 7,
     "metadata": {},
     "output_type": "execute_result"
    }
   ],
   "source": [
    "df['PhraseForCompare'] = df.Phrase.str.replace(' ','_')\n",
    "df.head(1)"
   ]
  },
  {
   "cell_type": "markdown",
   "metadata": {},
   "source": [
    "### Demonstrating how the phrases should be masked"
   ]
  },
  {
   "cell_type": "code",
   "execution_count": 8,
   "metadata": {},
   "outputs": [
    {
     "name": "stdout",
     "output_type": "stream",
     "text": [
      "_*@#$%@#$%^~@%^~@#$@#$DFGH\n"
     ]
    }
   ],
   "source": [
    "tct = \"_assassins_d'opposantsDFGH\"\n",
    "badwordmask = '*@#$%@#$%^~@%^~@#$@#$%^~'\n",
    "\n",
    "for txt in df.PhraseForCompare.loc[df.PhraseForCompare.str.contains\\\n",
    "             (\"assassins_d'opposants\",regex=False)==True].values:\n",
    "    if txt.find(tct):\n",
    "        tct = tct.replace(txt,badwordmask[:len(txt)])\n",
    "        print(tct)"
   ]
  },
  {
   "cell_type": "markdown",
   "metadata": {},
   "source": [
    "## Working script: \n",
    "def phraseFiltering(usrtxt):\n",
    "    text = usrtxt.lower()    #.replace(' ','_')<br>\n",
    "    text_new= ''<br>\n",
    "    badwordmask = '*@#$%@#$%^~@%^~@#$@#$%^~'     <br>\n",
    "           \n",
    "    for item in df.PhraseForCompare:\n",
    "        for phrase in df.PhraseForCompare.loc\\\n",
    "        [df.PhraseForCompare.str.contains\\\n",
    "             (item,regex=False)==True].values:\n",
    "            \n",
    "            if phrase in text:\n",
    "                text_new = text.replace(phrase,badwordmask[:len(phrase)])\n",
    "                print(text_new)\n",
    "                #break\n",
    "                \n",
    "    return text_new\n",
    "           "
   ]
  },
  {
   "cell_type": "markdown",
   "metadata": {},
   "source": [
    "### <div class=\"alert alert-danger\">Problems with the above functions (both Word and Phrase):<br><ol><li>The user text is not always in lower case.</li><br><li>The program should not change the case of the user given text, that kills the purpose. The text output will not be usable after it masks the badwords.</li><br><li> The words and phrases should both be masked in the same user given text, these functions should be integrated to work together.</li></div>\n"
   ]
  },
  {
   "cell_type": "markdown",
   "metadata": {},
   "source": [
    "### The correct way: Using regex to ignore Case of the user input text"
   ]
  },
  {
   "cell_type": "code",
   "execution_count": 9,
   "metadata": {},
   "outputs": [
    {
     "name": "stdout",
     "output_type": "stream",
     "text": [
      "Enfant batard\n",
      "*@#$%@#$%^~@% laaaaaa c’est leur métier\n"
     ]
    }
   ],
   "source": [
    "usrtxt = 'Enfant batard laaaaaa c’est leur métier'\n",
    "\n",
    "for item in df.Phrase:\n",
    "    \n",
    "    for phrase in df.Phrase.loc\\\n",
    "    [df.Phrase.str.contains\\\n",
    "         (item,regex=False)==True].values:\n",
    "        \n",
    "        phrase = re.search(phrase,usrtxt,re.I)\n",
    "        \n",
    "        if phrase!=None:\n",
    "            print(phrase.group(0))\n",
    "            usrtxt = usrtxt.replace(phrase.group(0),badwordmask[:len(phrase.group(0))])  #.capitalize() -> only the first word is Caps\n",
    "            print(usrtxt)\n"
   ]
  },
  {
   "cell_type": "markdown",
   "metadata": {},
   "source": [
    "### Integrating both Word and Phrase fitlerint features on user inputted text: "
   ]
  },
  {
   "cell_type": "code",
   "execution_count": 10,
   "metadata": {},
   "outputs": [],
   "source": [
    "def ProfanityFiltering():\n",
    "    \n",
    "    usrtxt = input('\\nPlease enter text: ')\n",
    "    \n",
    "    badWordMask = '*@#$%@#$%^~@%^~@#$@#$%^~'     \n",
    "    usrtxt1 = ''\n",
    "    brokenStr = usrtxt.lower().split()\n",
    "    \n",
    "    \n",
    "    for item in df.Word:\n",
    "       \n",
    "        for word in df.Word.loc\\\n",
    "        [df.Word.str.contains\\\n",
    "             (item,regex=False)==True].values:\n",
    "        \n",
    "            wordReplace = re.search(word,usrtxt,re.I)\n",
    "        \n",
    "            if wordReplace!=None:\n",
    "                usrtxt1 = usrtxt.replace(wordReplace.group(0),badWordMask[:len(wordReplace.group(0))])\n",
    "\n",
    "           \n",
    "    for item in df.Phrase:\n",
    "    \n",
    "        for phrase in df.Phrase.loc\\\n",
    "        [df.Phrase.str.contains\\\n",
    "             (item,regex=False)==True].values:\n",
    "\n",
    "            if usrtxt1!='':\n",
    "                phrase = re.search(phrase,usrtxt1,re.I)\n",
    "            else: \n",
    "                usrtxt1 = usrtxt\n",
    "                phrase = re.search(phrase,usrtxt1,re.I)\n",
    "                \n",
    "            if phrase!=None:\n",
    "                usrtxt1 =  usrtxt1.replace(phrase.group(0),badWordMask[:len(phrase.group(0))]) \n",
    "                \n",
    "    print('\\n\\nThe verified text is as follows: \\n ',usrtxt1)\n",
    "\n",
    "\n",
    "##### Option 0 Function: Exit the program \n",
    "def funcExit():\n",
    "    print(\"\\nExiting...\") #just printing Exit\n",
    "           "
   ]
  },
  {
   "cell_type": "markdown",
   "metadata": {},
   "source": [
    "### Taking user input: "
   ]
  },
  {
   "cell_type": "code",
   "execution_count": 12,
   "metadata": {},
   "outputs": [
    {
     "name": "stdout",
     "output_type": "stream",
     "text": [
      "__________________________________________________________________________________________\n",
      "Option 1: Verify Text\n",
      "Option 2: Upload and verify text\n",
      "Please give an option from the above menu or press 0 to exit: 1\n",
      "\n",
      "Please enter text: Enfant batard laaaaaa c’est leur métier\n",
      "\n",
      "\n",
      "The verified text is as follows: \n",
      "  *@#$%@#$%^~@% laaaaaa c’est leur métier\n",
      "__________________________________________________________________________________________\n",
      "Option 1: Verify Text\n",
      "Option 2: Upload and verify text\n",
      "Please give an option from the above menu or press 0 to exit: 1\n",
      "\n",
      "Please enter text: Enfant batard laaaaaa c’est leur métier 2) Qu’on soit clairs tous les supporters de l’OL qui regrettent Genesio et/ou qui veulent son retour vous êtes priés de m’unfollow au plus vite bande d’immenses enfants de putes que vous êtes. Merci\n",
      "\n",
      "\n",
      "The verified text is as follows: \n",
      "  *@#$%@#$%^~@% laaaaaa c’est leur métier 2) Qu’on soit clairs tous les supporters de l’OL qui regrettent Genesio et/ou qui veulent son retour vous êtes priés de m’unfollow au plus vite bande d’immenses *@#$%@#$%^~@%^~@ que vous êtes. Merci\n",
      "__________________________________________________________________________________________\n",
      "Option 1: Verify Text\n",
      "Option 2: Upload and verify text\n",
      "Please give an option from the above menu or press 0 to exit: 1\n",
      "\n",
      "Please enter text: Enfant batard laaaaaa c’est leur métier. DJAK\n",
      "\n",
      "\n",
      "The verified text is as follows: \n",
      "  *@#$%@#$%^~@% laaaaaa c’est leur métier. *@#$\n",
      "__________________________________________________________________________________________\n",
      "Option 1: Verify Text\n",
      "Option 2: Upload and verify text\n",
      "Please give an option from the above menu or press 0 to exit: 0\n",
      "\n",
      "Exiting...\n"
     ]
    }
   ],
   "source": [
    "dictMenu = {'1':ProfanityFiltering, '0': funcExit}\n",
    "\n",
    "goodChoice = True\n",
    "\n",
    "while goodChoice:\n",
    "    \n",
    "    #Just print a print and a menu for UI\n",
    "    print (\"_\"*90 + \"\\nOption 1: Verify Text\\nOption 2: Upload and verify text\")\n",
    "        \n",
    "    #User Input validation for whole numbers\n",
    "    while True:\n",
    "        usrIn = input(\"Please give an option from the above menu or press 0 to exit: \")\n",
    "        if usrIn.isnumeric():\n",
    "            break\n",
    "        else:\n",
    "            print (\"\\nPlease select the correct menu option\")\n",
    "    \n",
    "\n",
    "#We are checking if the keys in dictMenu match the value of usrIn\n",
    "    if usrIn in dictMenu.keys():\n",
    "        if int(usrIn)==0: #0 is for exiting so has a different behavior\n",
    "            dictMenu[usrIn]() #referencing the function () via dictMenu names\n",
    "            break #come out of the loop and do not repeat the menu options\n",
    "        else:\n",
    "            dictMenu[usrIn]()\n",
    "            \n",
    "    else:\n",
    "            print(\"\\nPlease give proper choice\") #Tell user to re-enter the value for menu if its\n",
    "                                               # not in the ditcMenu [1,2,0] \n"
   ]
  },
  {
   "cell_type": "markdown",
   "metadata": {},
   "source": [
    "Test twitter:<br>\n",
    "    1) Enfant batard laaaaaa c’est leur métier<br>\n",
    "    2) Qu’on soit clairs tous les supporters de l’OL qui regrettent Genesio et/ou qui veulent son retour vous êtes priés de m’unfollow au plus vite bande d’immenses enfants de putes que vous êtes. Merci<br>\n",
    "    3)<br>\n",
    "    4)<br>\n",
    "    5)<br>"
   ]
  },
  {
   "cell_type": "code",
   "execution_count": null,
   "metadata": {},
   "outputs": [],
   "source": []
  }
 ],
 "metadata": {
  "kernelspec": {
   "display_name": "Python 3",
   "language": "python",
   "name": "python3"
  },
  "language_info": {
   "codemirror_mode": {
    "name": "ipython",
    "version": 3
   },
   "file_extension": ".py",
   "mimetype": "text/x-python",
   "name": "python",
   "nbconvert_exporter": "python",
   "pygments_lexer": "ipython3",
   "version": "3.7.4"
  }
 },
 "nbformat": 4,
 "nbformat_minor": 2
}
