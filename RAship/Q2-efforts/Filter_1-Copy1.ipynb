{
 "cells": [
  {
   "cell_type": "markdown",
   "metadata": {},
   "source": [
    "#### <div class=\"alert alert-info\"> Program for censoring bad Words/Phrases from a religional language text </div>\n"
   ]
  },
  {
   "cell_type": "markdown",
   "metadata": {},
   "source": [
    "#### Importing the libraries"
   ]
  },
  {
   "cell_type": "code",
   "execution_count": null,
   "metadata": {},
   "outputs": [],
   "source": [
    "import pandas as pd\n",
    "import sklearn as sk\n",
    "from nltk.corpus import stopwords"
   ]
  },
  {
   "cell_type": "markdown",
   "metadata": {},
   "source": [
    "#### Reading the data file which is in CSV"
   ]
  },
  {
   "cell_type": "code",
   "execution_count": null,
   "metadata": {},
   "outputs": [],
   "source": [
    "df = pd.read_csv('./CAR-hate-speech.csv',encoding='latin-1')\n",
    "df.head()"
   ]
  },
  {
   "cell_type": "markdown",
   "metadata": {},
   "source": [
    "#### Data cleaning: \n",
    "<ol><li>make everything lowercase</li>\n",
    "    <li>remove all the puntuations which are not required</li>\n"
   ]
  },
  {
   "cell_type": "code",
   "execution_count": 3,
   "metadata": {},
   "outputs": [
    {
     "data": {
      "text/html": [
       "<div>\n",
       "<style scoped>\n",
       "    .dataframe tbody tr th:only-of-type {\n",
       "        vertical-align: middle;\n",
       "    }\n",
       "\n",
       "    .dataframe tbody tr th {\n",
       "        vertical-align: top;\n",
       "    }\n",
       "\n",
       "    .dataframe thead th {\n",
       "        text-align: right;\n",
       "    }\n",
       "</style>\n",
       "<table border=\"1\" class=\"dataframe\">\n",
       "  <thead>\n",
       "    <tr style=\"text-align: right;\">\n",
       "      <th></th>\n",
       "      <th>Word</th>\n",
       "      <th>Phrase</th>\n",
       "    </tr>\n",
       "  </thead>\n",
       "  <tbody>\n",
       "    <tr>\n",
       "      <td>0</td>\n",
       "      <td>arabou</td>\n",
       "      <td>a arabo so a ye ti fa que ala la</td>\n",
       "    </tr>\n",
       "    <tr>\n",
       "      <td>1</td>\n",
       "      <td>tueur</td>\n",
       "      <td>a bengue so a doit ti kiri na kodro ti ala</td>\n",
       "    </tr>\n",
       "    <tr>\n",
       "      <td>2</td>\n",
       "      <td>touber</td>\n",
       "      <td>arabo sans bouta</td>\n",
       "    </tr>\n",
       "    <tr>\n",
       "      <td>3</td>\n",
       "      <td>djak</td>\n",
       "      <td>assassins d'opposants</td>\n",
       "    </tr>\n",
       "    <tr>\n",
       "      <td>4</td>\n",
       "      <td>arna</td>\n",
       "      <td>bozizé et ses amis tchadiens veulent encore fa...</td>\n",
       "    </tr>\n",
       "  </tbody>\n",
       "</table>\n",
       "</div>"
      ],
      "text/plain": [
       "     Word                                             Phrase\n",
       "0  arabou                   a arabo so a ye ti fa que ala la\n",
       "1   tueur         a bengue so a doit ti kiri na kodro ti ala\n",
       "2  touber                                   arabo sans bouta\n",
       "3    djak                              assassins d'opposants\n",
       "4    arna  bozizé et ses amis tchadiens veulent encore fa..."
      ]
     },
     "execution_count": 3,
     "metadata": {},
     "output_type": "execute_result"
    }
   ],
   "source": [
    "df.Word = df.Word.str.lower()\n",
    "df.Phrase = df.Phrase.str.lower()\n",
    "df.head()"
   ]
  },
  {
   "cell_type": "markdown",
   "metadata": {},
   "source": [
    "filtered_words = [word for word in df.Term.values if word in \\\n",
    "                  stopwords.words('french')]"
   ]
  },
  {
   "cell_type": "markdown",
   "metadata": {},
   "source": [
    "stopwords.words('french')"
   ]
  },
  {
   "cell_type": "markdown",
   "metadata": {},
   "source": [
    "#### Masking the bad words : (only words)"
   ]
  },
  {
   "cell_type": "code",
   "execution_count": null,
   "metadata": {},
   "outputs": [],
   "source": [
    "def profanityFilter(text):\n",
    "    \n",
    "    brokenStr = text.split()\n",
    "     \n",
    "    badWordMask = '*@#$%@#$%^~@%^~@#$@#$%^~'\n",
    "    \n",
    "    for word in brokenStr:\n",
    "        if word in df.Word.values:\n",
    "            print(word + ' <--Bad word!')\n",
    "            text = text.replace(word,badWordMask[:len(word)])\n",
    "    return text\n"
   ]
  },
  {
   "cell_type": "code",
   "execution_count": null,
   "metadata": {},
   "outputs": [],
   "source": [
    "for x in range(1):\n",
    "    user_input = input(\"Enter text: \")\n",
    "    print(profanityFilter(user_input))"
   ]
  },
  {
   "cell_type": "markdown",
   "metadata": {},
   "source": [
    "#### Masking the phrases: "
   ]
  },
  {
   "cell_type": "code",
   "execution_count": 4,
   "metadata": {},
   "outputs": [
    {
     "data": {
      "text/plain": [
       "count                                           66\n",
       "unique                                          66\n",
       "top       ceux qui ont mis le feu à la rca sont là\n",
       "freq                                             1\n",
       "Name: Phrase, dtype: object"
      ]
     },
     "execution_count": 4,
     "metadata": {},
     "output_type": "execute_result"
    }
   ],
   "source": [
    "df.Phrase.describe()"
   ]
  },
  {
   "cell_type": "code",
   "execution_count": 5,
   "metadata": {},
   "outputs": [
    {
     "data": {
      "text/plain": [
       "0                      a arabo so a ye ti fa que ala la\n",
       "1            a bengue so a doit ti kiri na kodro ti ala\n",
       "2                                      arabo sans bouta\n",
       "3                                 assassins d'opposants\n",
       "4     bozizé et ses amis tchadiens veulent encore fa...\n",
       "                            ...                        \n",
       "61                          etrangers, rentrez vez vous\n",
       "62                                        les étrangers\n",
       "63    retournez dans vos pays ou on va vous massacre...\n",
       "64                              wandé kodro ti a ke gue\n",
       "65                                      zo ti likoundou\n",
       "Name: Phrase, Length: 66, dtype: object"
      ]
     },
     "execution_count": 5,
     "metadata": {},
     "output_type": "execute_result"
    }
   ],
   "source": [
    "df.Phrase.replace(\" \", \"_\")"
   ]
  },
  {
   "cell_type": "code",
   "execution_count": 6,
   "metadata": {},
   "outputs": [
    {
     "data": {
      "text/html": [
       "<div>\n",
       "<style scoped>\n",
       "    .dataframe tbody tr th:only-of-type {\n",
       "        vertical-align: middle;\n",
       "    }\n",
       "\n",
       "    .dataframe tbody tr th {\n",
       "        vertical-align: top;\n",
       "    }\n",
       "\n",
       "    .dataframe thead th {\n",
       "        text-align: right;\n",
       "    }\n",
       "</style>\n",
       "<table border=\"1\" class=\"dataframe\">\n",
       "  <thead>\n",
       "    <tr style=\"text-align: right;\">\n",
       "      <th></th>\n",
       "      <th>Word</th>\n",
       "      <th>Phrase</th>\n",
       "      <th>PhraseForCompare</th>\n",
       "    </tr>\n",
       "  </thead>\n",
       "  <tbody>\n",
       "    <tr>\n",
       "      <td>0</td>\n",
       "      <td>arabou</td>\n",
       "      <td>a arabo so a ye ti fa que ala la</td>\n",
       "      <td>a_arabo_so_a_ye_ti_fa_que_ala_la</td>\n",
       "    </tr>\n",
       "  </tbody>\n",
       "</table>\n",
       "</div>"
      ],
      "text/plain": [
       "     Word                            Phrase                  PhraseForCompare\n",
       "0  arabou  a arabo so a ye ti fa que ala la  a_arabo_so_a_ye_ti_fa_que_ala_la"
      ]
     },
     "execution_count": 6,
     "metadata": {},
     "output_type": "execute_result"
    }
   ],
   "source": [
    "df['PhraseForCompare'] = df.Phrase.str.replace(' ','_')\n",
    "df.head(1)"
   ]
  },
  {
   "cell_type": "code",
   "execution_count": 7,
   "metadata": {},
   "outputs": [
    {
     "name": "stdout",
     "output_type": "stream",
     "text": [
      "_*@#$%@#$%^~@%^~@#$@#$DFGH\n"
     ]
    }
   ],
   "source": [
    "tct = \"_assassins_d'opposantsDFGH\"\n",
    "badwordmask = '*@#$%@#$%^~@%^~@#$@#$%^~'\n",
    "\n",
    "for txt in df.PhraseForCompare.loc[df.PhraseForCompare.str.contains\\\n",
    "             (\"assassins_d'opposants\",regex=False)==True].values:\n",
    "    if txt.find(tct):\n",
    "        tct = tct.replace(txt,badwordmask[:len(txt)])\n",
    "        print(tct)"
   ]
  },
  {
   "cell_type": "code",
   "execution_count": null,
   "metadata": {},
   "outputs": [],
   "source": [
    "def function2(usrtxt):\n",
    "    text = usrtxt.lower().replace(' ','_')\n",
    "   \n",
    "    badwordmask = '*@#$%@#$%^~@%^~@#$@#$%^~'\n",
    "      \n",
    "    for phrase in df.PhraseForCompare.loc[df.PhraseForCompare.str.contains\\\n",
    "             (\"assassins_d'opposants\",regex=False)==True].values:\n",
    "        if phrase.find(text):\n",
    "            text = text.replace(phrase,badwordmask[:len(phrase)])  \n",
    "        return text\n",
    "    "
   ]
  },
  {
   "cell_type": "code",
   "execution_count": null,
   "metadata": {},
   "outputs": [],
   "source": [
    "df.PhraseForCompare.values[0]"
   ]
  },
  {
   "cell_type": "code",
   "execution_count": null,
   "metadata": {},
   "outputs": [],
   "source": [
    "def phraseFiltering(usrtxt):\n",
    "    text = usrtxt.lower().replace(' ','_')\n",
    "         #print(text)   \n",
    "    for item in df.PhraseForCompare:\n",
    "        for phrase in df.PhraseForCompare.loc\\\n",
    "        [df.PhraseForCompare.str.contains\\\n",
    "             (item,regex=False)==True].values:\n",
    "            #print(phrase)\n",
    "            if phrase.find(text):\n",
    "                text = text.replace(phrase,badwordmask[:len(phrase)])\n",
    "                return text\n",
    "            else:\n",
    "                print('No bad phrases')\n",
    "                break\n",
    "    return 0\n",
    "           "
   ]
  },
  {
   "cell_type": "code",
   "execution_count": null,
   "metadata": {},
   "outputs": [],
   "source": [
    "for x in range(2):\n",
    "    usrtxt = input('Enter Text:')\n",
    "    #print(usrtxt+'____________________')\n",
    "    phraseFiltering(usrtxt)\n"
   ]
  },
  {
   "cell_type": "code",
   "execution_count": null,
   "metadata": {},
   "outputs": [],
   "source": []
  }
 ],
 "metadata": {
  "kernelspec": {
   "display_name": "Python 3",
   "language": "python",
   "name": "python3"
  },
  "language_info": {
   "codemirror_mode": {
    "name": "ipython",
    "version": 3
   },
   "file_extension": ".py",
   "mimetype": "text/x-python",
   "name": "python",
   "nbconvert_exporter": "python",
   "pygments_lexer": "ipython3",
   "version": "3.7.4"
  }
 },
 "nbformat": 4,
 "nbformat_minor": 2
}
