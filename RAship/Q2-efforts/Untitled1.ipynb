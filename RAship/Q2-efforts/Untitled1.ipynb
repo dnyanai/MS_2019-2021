{
 "cells": [
  {
   "cell_type": "code",
   "execution_count": 1,
   "metadata": {},
   "outputs": [],
   "source": [
    "from sklearn.feature_extraction.text import CountVectorizer\n",
    "from sklearn.naive_bayes import BernoulliNB\n",
    "from sklearn.metrics import confusion_matrix\n",
    "\n",
    "import numpy as np\n",
    "import itertools\n",
    "import matplotlib.pyplot as plt"
   ]
  },
  {
   "cell_type": "code",
   "execution_count": 10,
   "metadata": {},
   "outputs": [
    {
     "data": {
      "text/plain": [
       "['A arabo so a ye ti fa que ala la',\n",
       " 'A bengue so a doit ti kiri na kodro ti ala',\n",
       " 'Arabo sans bouta',\n",
       " 'Arabou',\n",
       " '\"Arabou, touber, Djak, arna, Banday\"',\n",
       " 'Touber',\n",
       " 'Djak',\n",
       " 'Arna',\n",
       " 'Banday',\n",
       " \"Assassins d'opposants\",\n",
       " 'Assassins',\n",
       " \"Bozizé et ses amis Tchadiens veulent encore faire un coup d'État\",\n",
       " \"C'est votre tour de manger notre tour viendra\",\n",
       " 'Caisse de résonance',\n",
       " 'Ceux qui ont mis le feu à la RCA sont là',\n",
       " 'Chamaroka',\n",
       " 'Dengbe',\n",
       " 'Enfant batard',\n",
       " 'enfants de putes',\n",
       " 'Etaient presents chretien et musulman',\n",
       " 'Ethnie',\n",
       " 'Gouvernement aveugle et paraplégique',\n",
       " 'Handicapé',\n",
       " 'I yeke fa ala koué',\n",
       " 'Il faut les tuer ',\n",
       " 'Ils veulent boire notre sang',\n",
       " 'Kata',\n",
       " 'Kota bongo',\n",
       " 'Koukouré',\n",
       " 'mono',\n",
       " 'gagango',\n",
       " 'seleka',\n",
       " 'Les enculés de Seleka',\n",
       " 'Les Gbakamandja se mettent dans le camp des Seleka',\n",
       " 'niama',\n",
       " 'Kpanda',\n",
       " \"La RCA n'a pas besoin d'homosexuels parce que c'est contre nature\",\n",
       " 'Le clan de va-t-en-guerre du Mathématicien de Boy rabe',\n",
       " 'Les animaux méritent la mort',\n",
       " 'Les artistes et surtout les musiciens centrafricains ne valent rien',\n",
       " '\"Les centro tchadien,les arabou du pk5\"',\n",
       " \"Les gens dont les noms se terminent  par feï -na-gaï Nam- maï -zoui n'ont pas droit à la parole\",\n",
       " \"Les groupes d'auto défense sont des jeunes qui pillent la société\",\n",
       " 'Les Mbororo doivent dégager de notre ville avec leurs boeufs',\n",
       " 'Les Mbororo nous envahissent avec leurs boeufs',\n",
       " 'Les monstres sans cœurs ',\n",
       " 'Les Musulmans ne méritent pas de vivre. Il faut les tuer tous',\n",
       " \"Les Musulmans nous empêchent d'avoir du travail. Il faut les faire partir\",\n",
       " '\"Les musulmans sont des assassins, tueur\"',\n",
       " 'Les Musulmans sont des terroristes',\n",
       " 'Les Musulmans sont des terroristes',\n",
       " 'Des musulmans tués par des chretiens',\n",
       " 'Tous les musulmans sont des etrangers',\n",
       " 'communautée musulmane',\n",
       " '\"Si vous protéger les Musulmans, c\\'est que vous êtes des traites\"',\n",
       " 'On doit tuer tous ces musulmans car ils sont seleka',\n",
       " \"Le gouvernement doit massacrer les musulsulman car c'est pas leur pays\",\n",
       " 'Les rapatriés ne nous apportent que des maladies',\n",
       " 'Les requins',\n",
       " 'Les Étrangers hors de la RCA',\n",
       " 'Les seleka baraka goula et autres ne doivent plus vivre en RCA',\n",
       " \"Les Seleka veulent reprendre le pouvoir mais on va les tuer d'abord\",\n",
       " 'Seleka',\n",
       " '\"Si la rebellion continue, c\\'est parce que les Seleka sont encore dans le pays. Renvoyons tous les Musulmans et il n\\'y aura plus de Seleka\"',\n",
       " 'Les vampires',\n",
       " 'Mbo',\n",
       " 'Mbororo',\n",
       " 'Mercenaires',\n",
       " \"Bandes de mercenaires à mettre hors d'état de nuire\",\n",
       " 'Milice chrétiens',\n",
       " \"N'oubliez jamais que c'est à cause des Gbaya que nous sommes dans cette galère\",\n",
       " 'Naigre',\n",
       " 'Ne comptez pas sur le peuple Centrafricain pour vous pardonner',\n",
       " '\"Ne fuit pas le Tribunal Pénal International, vieux sanguinaire\"',\n",
       " 'Ngba na mbana',\n",
       " 'On doit raser le Kilomètre 5 de la surface de la terre',\n",
       " 'Tant que le km5 existe on aura jamais la paix dans ce pays',\n",
       " \"le Kilomètre 5 est l'épicentre des crises de la RCA\",\n",
       " 'On va finir avec eux cette fois ci',\n",
       " 'On va vous tuer tous ',\n",
       " 'Pindougou',\n",
       " 'Prostitués politique',\n",
       " 'Sorcier',\n",
       " '\"Touadera Doit Rester signifie que le chef de l\\'État centrafricain en exercice poursuivra son mandat à l\\'infini, ce qui incite la haine à partir duquel on veut faire la RCA un pays démocratique.\"',\n",
       " 'Touaderade',\n",
       " 'Tu es là pour que le sang coule encore?',\n",
       " '\"Vous n\\'êtes pas des êtres humains, vous n\\'êtes que de la viande\"',\n",
       " \"Vous ne devez pas prendre la parole dans nos discussions parce que vous n'êtes pas chez vous\",\n",
       " '\"Etrangers, rentrez vez vous\"',\n",
       " 'Les étrangers',\n",
       " 'Retournez dans vos pays ou on va vous massacrer un jour',\n",
       " 'Wandé kodro ti a ke gue',\n",
       " 'Zo ti likoundou',\n",
       " 'Zouè',\n",
       " '']"
      ]
     },
     "execution_count": 10,
     "metadata": {},
     "output_type": "execute_result"
    }
   ],
   "source": [
    "def get_all_data():\n",
    "    root = \"./\"\n",
    "\n",
    "    with open(root + \"CAR-hate-speech.csv\", \"r\") as csv_file:\n",
    "        data = csv_file.read().split('\\n')\n",
    "         \n",
    "    return data\n",
    "get_all_data()"
   ]
  },
  {
   "cell_type": "code",
   "execution_count": 13,
   "metadata": {},
   "outputs": [
    {
     "data": {
      "text/plain": [
       "[]"
      ]
     },
     "execution_count": 13,
     "metadata": {},
     "output_type": "execute_result"
    }
   ],
   "source": [
    "def preprocessing_data(data):\n",
    "    processing_data = []\n",
    "    for single_data in data:\n",
    "        if len(single_data.split(\"\\t\")) == 2 and single_data.split(\"\\t\")[1] != \"\":\n",
    "            processing_data.append(single_data.split(\"\\t\"))\n",
    "\n",
    "    return processing_data\n",
    "a = get_all_data()\n",
    "preprocessing_data(a)"
   ]
  },
  {
   "cell_type": "code",
   "execution_count": null,
   "metadata": {},
   "outputs": [],
   "source": []
  }
 ],
 "metadata": {
  "kernelspec": {
   "display_name": "Python 3",
   "language": "python",
   "name": "python3"
  },
  "language_info": {
   "codemirror_mode": {
    "name": "ipython",
    "version": 3
   },
   "file_extension": ".py",
   "mimetype": "text/x-python",
   "name": "python",
   "nbconvert_exporter": "python",
   "pygments_lexer": "ipython3",
   "version": "3.7.4"
  }
 },
 "nbformat": 4,
 "nbformat_minor": 2
}
