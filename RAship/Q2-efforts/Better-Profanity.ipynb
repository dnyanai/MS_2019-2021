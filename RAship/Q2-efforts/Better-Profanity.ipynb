{
 "cells": [
  {
   "cell_type": "code",
   "execution_count": 2,
   "metadata": {},
   "outputs": [],
   "source": [
    "from better_profanity import profanity\n",
    "import pandas as pd"
   ]
  },
  {
   "cell_type": "code",
   "execution_count": 3,
   "metadata": {},
   "outputs": [
    {
     "data": {
      "text/plain": [
       "['a arabo so a ye ti fa que ala la',\n",
       " 'a bengue so a doit ti kiri na kodro ti ala',\n",
       " 'arabo sans bouta',\n",
       " 'arabou',\n",
       " 'touber',\n",
       " 'touber',\n",
       " 'djak',\n",
       " 'arna',\n",
       " 'banday',\n",
       " \"assassins d'opposants\",\n",
       " 'assassins',\n",
       " \"bozizc) et ses amis tchadiens veulent encore faire un coup d'c\\ttat\",\n",
       " \"c'est votre tour de manger notre tour viendra\",\n",
       " 'caisse de rc)sonance',\n",
       " 'ceux qui ont mis le feu c  la rca sont lc ',\n",
       " 'chamaroka',\n",
       " 'dengbe',\n",
       " 'enfant batard',\n",
       " 'enfants de putes',\n",
       " 'etaient presents chretien et musulman',\n",
       " 'ethnie',\n",
       " 'gouvernement aveugle et paraplc)gique',\n",
       " 'handicapc)',\n",
       " 'i yeke fa ala kouc)',\n",
       " 'il faut les tuer ',\n",
       " 'ils veulent boire notre sang',\n",
       " 'kata',\n",
       " 'kota bongo',\n",
       " 'koukourc)',\n",
       " 'mono',\n",
       " 'gagango',\n",
       " 'seleka',\n",
       " 'les enculc)s de seleka',\n",
       " 'les gbakamandja se mettent dans le camp des seleka',\n",
       " 'niama',\n",
       " 'kpanda',\n",
       " \"la rca n'a pas besoin d'homosexuels parce que c'est contre nature\",\n",
       " 'le clan de va-t-en-guerre du mathc)maticien de boy rabe',\n",
       " 'les animaux mc)ritent la mort',\n",
       " 'les artistes et surtout les musiciens centrafricains ne valent rien',\n",
       " 'les centro tchadien,les arabou du pk5',\n",
       " \"les gens dont les noms se terminent  par fec/ -na-gac/ nam- mac/ -zoui n'ont pas droit c  la parole\",\n",
       " \"les groupes d'auto dc)fense sont des jeunes qui pillent la socic)tc)\",\n",
       " 'les mbororo doivent dc)gager de notre ville avec leurs boeufs',\n",
       " 'les mbororo nous envahissent avec leurs boeufs',\n",
       " 'les monstres sans ce\\x13urs ',\n",
       " 'les musulmans ne mc)ritent pas de vivre. il faut les tuer tous',\n",
       " \"les musulmans nous empc*chent d'avoir du travail. il faut les faire partir\",\n",
       " 'les musulmans sont des assassins, tueur',\n",
       " 'les musulmans sont des terroristes',\n",
       " 'les musulmans sont des terroristes',\n",
       " 'des musulmans tuc)s par des chretiens',\n",
       " 'tous les musulmans sont des etrangers',\n",
       " 'communautc)e musulmane',\n",
       " \"si vous protc)ger les musulmans, c'est que vous c*tes des traites\",\n",
       " 'on doit tuer tous ces musulmans car ils sont seleka',\n",
       " \"le gouvernement doit massacrer les musulsulman car c'est pas leur pays\",\n",
       " 'les rapatric)s ne nous apportent que des maladies',\n",
       " 'les requins',\n",
       " 'les c\\ttrangers hors de la rca',\n",
       " 'les seleka baraka goula et autres ne doivent plus vivre en rca',\n",
       " \"les seleka veulent reprendre le pouvoir mais on va les tuer d'abord\",\n",
       " 'seleka',\n",
       " \"si la rebellion continue, c'est parce que les seleka sont encore dans le pays. renvoyons tous les musulmans et il n'y aura plus de seleka\",\n",
       " 'les vampires',\n",
       " 'mbo',\n",
       " 'mbororo',\n",
       " 'mercenaires',\n",
       " \"bandes de mercenaires c  mettre hors d'c)tat de nuire\",\n",
       " 'milice chrc)tiens',\n",
       " \"n'oubliez jamais que c'est c  cause des gbaya que nous sommes dans cette galc(re\",\n",
       " 'naigre',\n",
       " 'ne comptez pas sur le peuple centrafricain pour vous pardonner',\n",
       " 'ne fuit pas le tribunal pc)nal international, vieux sanguinaire',\n",
       " 'ngba na mbana',\n",
       " 'on doit raser le kilomc(tre 5 de la surface de la terre',\n",
       " 'tant que le km5 existe on aura jamais la paix dans ce pays',\n",
       " \"le kilomc(tre 5 est l'c)picentre des crises de la rca\",\n",
       " 'on va finir avec eux cette fois ci',\n",
       " 'on va vous tuer tous ',\n",
       " 'pindougou',\n",
       " 'prostituc)s politique',\n",
       " 'sorcier',\n",
       " \"touadera doit rester signifie que le chef de l'c\\ttat centrafricain en exercice poursuivra son mandat c  l'infini, ce qui incite la haine c  partir duquel on veut faire la rca un pays dc)mocratique.\",\n",
       " 'touaderade',\n",
       " 'tu es lc  pour que le sang coule encore?',\n",
       " \"vous n'c*tes pas des c*tres humains, vous n'c*tes que de la viande\",\n",
       " \"vous ne devez pas prendre la parole dans nos discussions parce que vous n'c*tes pas chez vous\",\n",
       " 'etrangers, rentrez vez vous',\n",
       " 'les c)trangers',\n",
       " 'retournez dans vos pays ou on va vous massacrer un jour',\n",
       " 'wandc) kodro ti a ke gue',\n",
       " 'zo ti likoundou',\n",
       " 'zouc(']"
      ]
     },
     "execution_count": 3,
     "metadata": {},
     "output_type": "execute_result"
    }
   ],
   "source": [
    "df = pd.read_csv('./CAR_hate_speech.csv')\n",
    "lst = list(df.Term.str.lower().values)\n",
    "lst"
   ]
  },
  {
   "cell_type": "code",
   "execution_count": 4,
   "metadata": {},
   "outputs": [
    {
     "name": "stdout",
     "output_type": "stream",
     "text": [
      "zo ti **** djak Assasins You!\n"
     ]
    }
   ],
   "source": [
    "if __name__ == \"__main__\":\n",
    "    profanity.load_censor_words(['arabou','touber','touber'])\n",
    " \n",
    "    text = 'zo ti touber djak Assasins You!'\n",
    "    censored_text = profanity.censor(text)\n",
    "    print(censored_text)\n",
    "    # You **** of ****."
   ]
  },
  {
   "cell_type": "code",
   "execution_count": null,
   "metadata": {},
   "outputs": [],
   "source": []
  },
  {
   "cell_type": "code",
   "execution_count": null,
   "metadata": {},
   "outputs": [],
   "source": [
    "df.head()"
   ]
  },
  {
   "cell_type": "code",
   "execution_count": null,
   "metadata": {},
   "outputs": [],
   "source": []
  },
  {
   "cell_type": "code",
   "execution_count": null,
   "metadata": {},
   "outputs": [],
   "source": []
  }
 ],
 "metadata": {
  "kernelspec": {
   "display_name": "Python 3",
   "language": "python",
   "name": "python3"
  },
  "language_info": {
   "codemirror_mode": {
    "name": "ipython",
    "version": 3
   },
   "file_extension": ".py",
   "mimetype": "text/x-python",
   "name": "python",
   "nbconvert_exporter": "python",
   "pygments_lexer": "ipython3",
   "version": "3.7.4"
  }
 },
 "nbformat": 4,
 "nbformat_minor": 2
}
