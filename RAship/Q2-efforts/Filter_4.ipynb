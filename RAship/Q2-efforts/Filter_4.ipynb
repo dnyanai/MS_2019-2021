{
 "cells": [
  {
   "cell_type": "code",
   "execution_count": 1,
   "metadata": {},
   "outputs": [],
   "source": [
    "import pandas as pd"
   ]
  },
  {
   "cell_type": "code",
   "execution_count": 2,
   "metadata": {},
   "outputs": [],
   "source": [
    "df = pd.read_csv('./CAR_Hate_Speech.csv')"
   ]
  },
  {
   "cell_type": "code",
   "execution_count": 3,
   "metadata": {},
   "outputs": [
    {
     "data": {
      "text/html": [
       "<div>\n",
       "<style scoped>\n",
       "    .dataframe tbody tr th:only-of-type {\n",
       "        vertical-align: middle;\n",
       "    }\n",
       "\n",
       "    .dataframe tbody tr th {\n",
       "        vertical-align: top;\n",
       "    }\n",
       "\n",
       "    .dataframe thead th {\n",
       "        text-align: right;\n",
       "    }\n",
       "</style>\n",
       "<table border=\"1\" class=\"dataframe\">\n",
       "  <thead>\n",
       "    <tr style=\"text-align: right;\">\n",
       "      <th></th>\n",
       "      <th>Term</th>\n",
       "    </tr>\n",
       "  </thead>\n",
       "  <tbody>\n",
       "    <tr>\n",
       "      <td>0</td>\n",
       "      <td>A arabo so a ye ti fa que ala la</td>\n",
       "    </tr>\n",
       "    <tr>\n",
       "      <td>1</td>\n",
       "      <td>A bengue so a doit ti kiri na kodro ti ala</td>\n",
       "    </tr>\n",
       "    <tr>\n",
       "      <td>2</td>\n",
       "      <td>Arabo sans bouta</td>\n",
       "    </tr>\n",
       "    <tr>\n",
       "      <td>3</td>\n",
       "      <td>Arabou</td>\n",
       "    </tr>\n",
       "    <tr>\n",
       "      <td>4</td>\n",
       "      <td>touber</td>\n",
       "    </tr>\n",
       "  </tbody>\n",
       "</table>\n",
       "</div>"
      ],
      "text/plain": [
       "                                         Term\n",
       "0            A arabo so a ye ti fa que ala la\n",
       "1  A bengue so a doit ti kiri na kodro ti ala\n",
       "2                            Arabo sans bouta\n",
       "3                                      Arabou\n",
       "4                                      touber"
      ]
     },
     "execution_count": 3,
     "metadata": {},
     "output_type": "execute_result"
    }
   ],
   "source": [
    "df.head()"
   ]
  },
  {
   "cell_type": "code",
   "execution_count": 4,
   "metadata": {},
   "outputs": [],
   "source": [
    "df.set_index('Term',inplace=True)"
   ]
  },
  {
   "cell_type": "code",
   "execution_count": 7,
   "metadata": {},
   "outputs": [],
   "source": [
    "pattern = '|'.join(df.index)"
   ]
  },
  {
   "cell_type": "code",
   "execution_count": 9,
   "metadata": {},
   "outputs": [
    {
     "data": {
      "text/plain": [
       "\"A arabo so a ye ti fa que ala la|A bengue so a doit ti kiri na kodro ti ala|Arabo sans bouta|Arabou|touber|Touber|Djak|Arna|Banday|Assassins d'opposants|Assassins|Bozizé et ses amis Tchadiens veulent encore faire un coup d'État|C'est votre tour de manger notre tour viendra|Caisse de résonance|Ceux qui ont mis le feu à la RCA sont là|Chamaroka|Dengbe|Enfant batard|enfants de putes|Etaient presents chretien et musulman|Ethnie|Gouvernement aveugle et paraplégique|Handicapé|I yeke fa ala koué|Il faut les tuer |Ils veulent boire notre sang|Kata|Kota bongo|Koukouré|mono|gagango|seleka|Les enculés de Seleka|Les Gbakamandja se mettent dans le camp des Seleka|niama|Kpanda|La RCA n'a pas besoin d'homosexuels parce que c'est contre nature|Le clan de va-t-en-guerre du Mathématicien de Boy rabe|Les animaux méritent la mort|Les artistes et surtout les musiciens centrafricains ne valent rien|Les centro tchadien,les arabou du pk5|Les gens dont les noms se terminent  par feï -na-gaï Nam- maï -zoui n'ont pas droit à la parole|Les groupes d'auto défense sont des jeunes qui pillent la société|Les Mbororo doivent dégager de notre ville avec leurs boeufs|Les Mbororo nous envahissent avec leurs boeufs|Les monstres sans cœurs |Les Musulmans ne méritent pas de vivre. Il faut les tuer tous|Les Musulmans nous empêchent d'avoir du travail. Il faut les faire partir|Les musulmans sont des assassins, tueur|Les Musulmans sont des terroristes|Les Musulmans sont des terroristes|Des musulmans tués par des chretiens|Tous les musulmans sont des etrangers|communautée musulmane|Si vous protéger les Musulmans, c'est que vous êtes des traites|On doit tuer tous ces musulmans car ils sont seleka|Le gouvernement doit massacrer les musulsulman car c'est pas leur pays|Les rapatriés ne nous apportent que des maladies|Les requins|Les Étrangers hors de la RCA|Les seleka baraka goula et autres ne doivent plus vivre en RCA|Les Seleka veulent reprendre le pouvoir mais on va les tuer d'abord|Seleka|Si la rebellion continue, c'est parce que les Seleka sont encore dans le pays. Renvoyons tous les Musulmans et il n'y aura plus de Seleka|Les vampires|Mbo|Mbororo|Mercenaires|Bandes de mercenaires à mettre hors d'état de nuire|Milice chrétiens|N'oubliez jamais que c'est à cause des Gbaya que nous sommes dans cette galère|Naigre|Ne comptez pas sur le peuple Centrafricain pour vous pardonner|Ne fuit pas le Tribunal Pénal International, vieux sanguinaire|Ngba na mbana|On doit raser le Kilomètre 5 de la surface de la terre|Tant que le km5 existe on aura jamais la paix dans ce pays|le Kilomètre 5 est l'épicentre des crises de la RCA|On va finir avec eux cette fois ci|On va vous tuer tous |Pindougou|Prostitués politique|Sorcier|Touadera Doit Rester signifie que le chef de l'État centrafricain en exercice poursuivra son mandat à l'infini, ce qui incite la haine à partir duquel on veut faire la RCA un pays démocratique.|Touaderade|Tu es là pour que le sang coule encore?|Vous n'êtes pas des êtres humains, vous n'êtes que de la viande|Vous ne devez pas prendre la parole dans nos discussions parce que vous n'êtes pas chez vous|Etrangers, rentrez vez vous|Les étrangers|Retournez dans vos pays ou on va vous massacrer un jour|Wandé kodro ti a ke gue|Zo ti likoundou|Zouè\""
      ]
     },
     "execution_count": 9,
     "metadata": {},
     "output_type": "execute_result"
    }
   ],
   "source": [
    "pattern"
   ]
  },
  {
   "cell_type": "code",
   "execution_count": 10,
   "metadata": {},
   "outputs": [
    {
     "data": {
      "text/plain": [
       "array([False, False, False, False, False, False, False, False, False,\n",
       "       False, False, False, False, False, False, False, False, False,\n",
       "       False, False, False, False, False, False, False, False, False,\n",
       "       False, False, False, False, False, False, False, False, False,\n",
       "       False, False, False, False, False, False, False, False, False,\n",
       "       False, False, False, False, False, False, False, False, False,\n",
       "       False, False, False, False, False, False, False, False, False,\n",
       "       False, False, False, False, False, False, False, False, False,\n",
       "       False, False, False, False, False, False, False, False, False,\n",
       "       False, False, False, False, False, False, False, False, False,\n",
       "       False, False, False, False])"
      ]
     },
     "execution_count": 10,
     "metadata": {},
     "output_type": "execute_result"
    }
   ],
   "source": [
    "odd = \"Ua Zouè\"\n"
   ]
  },
  {
   "cell_type": "code",
   "execution_count": null,
   "metadata": {},
   "outputs": [],
   "source": []
  }
 ],
 "metadata": {
  "kernelspec": {
   "display_name": "Python 3",
   "language": "python",
   "name": "python3"
  },
  "language_info": {
   "codemirror_mode": {
    "name": "ipython",
    "version": 3
   },
   "file_extension": ".py",
   "mimetype": "text/x-python",
   "name": "python",
   "nbconvert_exporter": "python",
   "pygments_lexer": "ipython3",
   "version": "3.7.4"
  }
 },
 "nbformat": 4,
 "nbformat_minor": 2
}
