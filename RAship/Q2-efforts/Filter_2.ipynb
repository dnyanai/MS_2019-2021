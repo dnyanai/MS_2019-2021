{
 "cells": [
  {
   "cell_type": "code",
   "execution_count": 3,
   "metadata": {},
   "outputs": [
    {
     "data": {
      "text/plain": [
       "pandas.core.series.Series"
      ]
     },
     "execution_count": 3,
     "metadata": {},
     "output_type": "execute_result"
    }
   ],
   "source": [
    "import pandas as pd\n",
    "\n",
    "df = pd.read_csv('./CAR_hate_speech.csv')\n",
    "type(df.Term)"
   ]
  },
  {
   "cell_type": "code",
   "execution_count": 4,
   "metadata": {},
   "outputs": [
    {
     "data": {
      "text/plain": [
       "0              A arabo so a ye ti fa que ala la\n",
       "1    A bengue so a doit ti kiri na kodro ti ala\n",
       "2                              Arabo sans bouta\n",
       "3                                        Arabou\n",
       "4                                        Arabou\n",
       "Name: Term, dtype: object"
      ]
     },
     "execution_count": 4,
     "metadata": {},
     "output_type": "execute_result"
    }
   ],
   "source": [
    "df.Term.head()"
   ]
  },
  {
   "cell_type": "code",
   "execution_count": 5,
   "metadata": {},
   "outputs": [],
   "source": [
    "df1 = df.Term"
   ]
  },
  {
   "cell_type": "code",
   "execution_count": 27,
   "metadata": {},
   "outputs": [],
   "source": [
    "def profanityFilter(text):\n",
    "    #text1 = text.split()\n",
    "    badWordMask = '*@#$%@#$%^~@%^~@#$@#$%^~'\n",
    "    new = ''\n",
    "        #print(word)\n",
    "    for substring in df1.values:\n",
    "        if map(text.lower(),substring.lower()):\n",
    "            word = text\n",
    "            print(word)\n",
    "            #print(word + ' <--Bad word!')\n",
    "            text1 = text.replace(text,badWordMask[:len(word)])\n",
    "    return text\n"
   ]
  },
  {
   "cell_type": "code",
   "execution_count": 28,
   "metadata": {},
   "outputs": [
    {
     "name": "stdout",
     "output_type": "stream",
     "text": [
      "Enter text: you A bengue so a doit ti kiri na kodro ti ala\n",
      "you A bengue so a doit ti kiri na kodro ti ala\n",
      "you A bengue so a doit ti kiri na kodro ti ala\n",
      "you A bengue so a doit ti kiri na kodro ti ala\n",
      "you A bengue so a doit ti kiri na kodro ti ala\n",
      "you A bengue so a doit ti kiri na kodro ti ala\n",
      "you A bengue so a doit ti kiri na kodro ti ala\n",
      "you A bengue so a doit ti kiri na kodro ti ala\n",
      "you A bengue so a doit ti kiri na kodro ti ala\n",
      "you A bengue so a doit ti kiri na kodro ti ala\n",
      "you A bengue so a doit ti kiri na kodro ti ala\n",
      "you A bengue so a doit ti kiri na kodro ti ala\n",
      "you A bengue so a doit ti kiri na kodro ti ala\n",
      "you A bengue so a doit ti kiri na kodro ti ala\n",
      "you A bengue so a doit ti kiri na kodro ti ala\n",
      "you A bengue so a doit ti kiri na kodro ti ala\n",
      "you A bengue so a doit ti kiri na kodro ti ala\n",
      "you A bengue so a doit ti kiri na kodro ti ala\n",
      "you A bengue so a doit ti kiri na kodro ti ala\n",
      "you A bengue so a doit ti kiri na kodro ti ala\n",
      "you A bengue so a doit ti kiri na kodro ti ala\n",
      "you A bengue so a doit ti kiri na kodro ti ala\n",
      "you A bengue so a doit ti kiri na kodro ti ala\n",
      "you A bengue so a doit ti kiri na kodro ti ala\n",
      "you A bengue so a doit ti kiri na kodro ti ala\n",
      "you A bengue so a doit ti kiri na kodro ti ala\n",
      "you A bengue so a doit ti kiri na kodro ti ala\n",
      "you A bengue so a doit ti kiri na kodro ti ala\n",
      "you A bengue so a doit ti kiri na kodro ti ala\n",
      "you A bengue so a doit ti kiri na kodro ti ala\n",
      "you A bengue so a doit ti kiri na kodro ti ala\n",
      "you A bengue so a doit ti kiri na kodro ti ala\n",
      "you A bengue so a doit ti kiri na kodro ti ala\n",
      "you A bengue so a doit ti kiri na kodro ti ala\n",
      "you A bengue so a doit ti kiri na kodro ti ala\n",
      "you A bengue so a doit ti kiri na kodro ti ala\n",
      "you A bengue so a doit ti kiri na kodro ti ala\n",
      "you A bengue so a doit ti kiri na kodro ti ala\n",
      "you A bengue so a doit ti kiri na kodro ti ala\n",
      "you A bengue so a doit ti kiri na kodro ti ala\n",
      "you A bengue so a doit ti kiri na kodro ti ala\n",
      "you A bengue so a doit ti kiri na kodro ti ala\n",
      "you A bengue so a doit ti kiri na kodro ti ala\n",
      "you A bengue so a doit ti kiri na kodro ti ala\n",
      "you A bengue so a doit ti kiri na kodro ti ala\n",
      "you A bengue so a doit ti kiri na kodro ti ala\n",
      "you A bengue so a doit ti kiri na kodro ti ala\n",
      "you A bengue so a doit ti kiri na kodro ti ala\n",
      "you A bengue so a doit ti kiri na kodro ti ala\n",
      "you A bengue so a doit ti kiri na kodro ti ala\n",
      "you A bengue so a doit ti kiri na kodro ti ala\n",
      "you A bengue so a doit ti kiri na kodro ti ala\n",
      "you A bengue so a doit ti kiri na kodro ti ala\n",
      "you A bengue so a doit ti kiri na kodro ti ala\n",
      "you A bengue so a doit ti kiri na kodro ti ala\n",
      "you A bengue so a doit ti kiri na kodro ti ala\n",
      "you A bengue so a doit ti kiri na kodro ti ala\n",
      "you A bengue so a doit ti kiri na kodro ti ala\n",
      "you A bengue so a doit ti kiri na kodro ti ala\n",
      "you A bengue so a doit ti kiri na kodro ti ala\n",
      "you A bengue so a doit ti kiri na kodro ti ala\n",
      "you A bengue so a doit ti kiri na kodro ti ala\n",
      "you A bengue so a doit ti kiri na kodro ti ala\n",
      "you A bengue so a doit ti kiri na kodro ti ala\n",
      "you A bengue so a doit ti kiri na kodro ti ala\n",
      "you A bengue so a doit ti kiri na kodro ti ala\n",
      "you A bengue so a doit ti kiri na kodro ti ala\n",
      "you A bengue so a doit ti kiri na kodro ti ala\n",
      "you A bengue so a doit ti kiri na kodro ti ala\n",
      "you A bengue so a doit ti kiri na kodro ti ala\n",
      "you A bengue so a doit ti kiri na kodro ti ala\n",
      "you A bengue so a doit ti kiri na kodro ti ala\n",
      "you A bengue so a doit ti kiri na kodro ti ala\n",
      "you A bengue so a doit ti kiri na kodro ti ala\n",
      "you A bengue so a doit ti kiri na kodro ti ala\n",
      "you A bengue so a doit ti kiri na kodro ti ala\n",
      "you A bengue so a doit ti kiri na kodro ti ala\n",
      "you A bengue so a doit ti kiri na kodro ti ala\n",
      "you A bengue so a doit ti kiri na kodro ti ala\n",
      "you A bengue so a doit ti kiri na kodro ti ala\n",
      "you A bengue so a doit ti kiri na kodro ti ala\n",
      "you A bengue so a doit ti kiri na kodro ti ala\n",
      "you A bengue so a doit ti kiri na kodro ti ala\n",
      "you A bengue so a doit ti kiri na kodro ti ala\n",
      "you A bengue so a doit ti kiri na kodro ti ala\n",
      "you A bengue so a doit ti kiri na kodro ti ala\n",
      "you A bengue so a doit ti kiri na kodro ti ala\n",
      "you A bengue so a doit ti kiri na kodro ti ala\n",
      "you A bengue so a doit ti kiri na kodro ti ala\n",
      "you A bengue so a doit ti kiri na kodro ti ala\n",
      "you A bengue so a doit ti kiri na kodro ti ala\n",
      "you A bengue so a doit ti kiri na kodro ti ala\n",
      "you A bengue so a doit ti kiri na kodro ti ala\n",
      "you A bengue so a doit ti kiri na kodro ti ala\n",
      "you A bengue so a doit ti kiri na kodro ti ala\n",
      "you A bengue so a doit ti kiri na kodro ti ala\n"
     ]
    }
   ],
   "source": [
    "user_input = input(\"Enter text: \")\n",
    "print(profanityFilter(user_input))"
   ]
  },
  {
   "cell_type": "code",
   "execution_count": null,
   "metadata": {},
   "outputs": [],
   "source": []
  },
  {
   "cell_type": "code",
   "execution_count": null,
   "metadata": {},
   "outputs": [],
   "source": []
  }
 ],
 "metadata": {
  "kernelspec": {
   "display_name": "Python 3",
   "language": "python",
   "name": "python3"
  },
  "language_info": {
   "codemirror_mode": {
    "name": "ipython",
    "version": 3
   },
   "file_extension": ".py",
   "mimetype": "text/x-python",
   "name": "python",
   "nbconvert_exporter": "python",
   "pygments_lexer": "ipython3",
   "version": "3.7.4"
  }
 },
 "nbformat": 4,
 "nbformat_minor": 2
}
