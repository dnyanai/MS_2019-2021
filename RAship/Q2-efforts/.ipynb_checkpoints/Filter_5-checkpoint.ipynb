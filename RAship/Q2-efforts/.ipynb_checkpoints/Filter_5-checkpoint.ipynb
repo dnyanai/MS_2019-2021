{
 "cells": [
  {
   "cell_type": "code",
   "execution_count": 3,
   "metadata": {},
   "outputs": [
    {
     "name": "stdout",
     "output_type": "stream",
     "text": [
      "[['ï»¿Term'], ['A arabo so a ye ti fa que ala la'], ['A bengue so a doit ti kiri na kodro ti ala'], ['Arabo sans bouta'], ['Arabou'], ['touber'], ['Touber'], ['Djak'], ['Arna'], ['Banday'], [\"Assassins d'opposants\"], ['Assassins'], [\"BozizÃ© et ses amis Tchadiens veulent encore faire un coup d'Ã‰tat\"], [\"C'est votre tour de manger notre tour viendra\"], ['Caisse de rÃ©sonance'], ['Ceux qui ont mis le feu Ã\\xa0 la RCA sont lÃ\\xa0'], ['Chamaroka'], ['Dengbe'], ['Enfant batard'], ['enfants de putes'], ['Etaient presents chretien et musulman'], ['Ethnie'], ['Gouvernement aveugle et paraplÃ©gique'], ['HandicapÃ©'], ['I yeke fa ala kouÃ©'], ['Il faut les tuer '], ['Ils veulent boire notre sang'], ['Kata'], ['Kota bongo'], ['KoukourÃ©'], ['mono'], ['gagango'], ['seleka'], ['Les enculÃ©s de Seleka'], ['Les Gbakamandja se mettent dans le camp des Seleka'], ['niama'], ['Kpanda'], [\"La RCA n'a pas besoin d'homosexuels parce que c'est contre nature\"], ['Le clan de va-t-en-guerre du MathÃ©maticien de Boy rabe'], ['Les animaux mÃ©ritent la mort'], ['Les artistes et surtout les musiciens centrafricains ne valent rien'], ['Les centro tchadien,les arabou du pk5'], [\"Les gens dont les noms se terminent  par feÃ¯ -na-gaÃ¯ Nam- maÃ¯ -zoui n'ont pas droit Ã\\xa0 la parole\"], [\"Les groupes d'auto dÃ©fense sont des jeunes qui pillent la sociÃ©tÃ©\"], ['Les Mbororo doivent dÃ©gager de notre ville avec leurs boeufs'], ['Les Mbororo nous envahissent avec leurs boeufs'], ['Les monstres sans cÅ“urs '], ['Les Musulmans ne mÃ©ritent pas de vivre. Il faut les tuer tous'], [\"Les Musulmans nous empÃªchent d'avoir du travail. Il faut les faire partir\"], ['Les musulmans sont des assassins, tueur'], ['Les Musulmans sont des terroristes'], ['Les Musulmans sont des terroristes'], ['Des musulmans tuÃ©s par des chretiens'], ['Tous les musulmans sont des etrangers'], ['communautÃ©e musulmane'], [\"Si vous protÃ©ger les Musulmans, c'est que vous Ãªtes des traites\"], ['On doit tuer tous ces musulmans car ils sont seleka'], [\"Le gouvernement doit massacrer les musulsulman car c'est pas leur pays\"], ['Les rapatriÃ©s ne nous apportent que des maladies'], ['Les requins'], ['Les Ã‰trangers hors de la RCA'], ['Les seleka baraka goula et autres ne doivent plus vivre en RCA'], [\"Les Seleka veulent reprendre le pouvoir mais on va les tuer d'abord\"], ['Seleka'], [\"Si la rebellion continue, c'est parce que les Seleka sont encore dans le pays. Renvoyons tous les Musulmans et il n'y aura plus de Seleka\"], ['Les vampires'], ['Mbo'], ['Mbororo'], ['Mercenaires'], [\"Bandes de mercenaires Ã\\xa0 mettre hors d'Ã©tat de nuire\"], ['Milice chrÃ©tiens'], [\"N'oubliez jamais que c'est Ã\\xa0 cause des Gbaya que nous sommes dans cette galÃ¨re\"], ['Naigre'], ['Ne comptez pas sur le peuple Centrafricain pour vous pardonner'], ['Ne fuit pas le Tribunal PÃ©nal International, vieux sanguinaire'], ['Ngba na mbana'], ['On doit raser le KilomÃ¨tre 5 de la surface de la terre'], ['Tant que le km5 existe on aura jamais la paix dans ce pays'], [\"le KilomÃ¨tre 5 est l'Ã©picentre des crises de la RCA\"], ['On va finir avec eux cette fois ci'], ['On va vous tuer tous '], ['Pindougou'], ['ProstituÃ©s politique'], ['Sorcier'], [\"Touadera Doit Rester signifie que le chef de l'Ã‰tat centrafricain en exercice poursuivra son mandat Ã\\xa0 l'infini, ce qui incite la haine Ã\\xa0 partir duquel on veut faire la RCA un pays dÃ©mocratique.\"], ['Touaderade'], ['Tu es lÃ\\xa0 pour que le sang coule encore?'], [\"Vous n'Ãªtes pas des Ãªtres humains, vous n'Ãªtes que de la viande\"], [\"Vous ne devez pas prendre la parole dans nos discussions parce que vous n'Ãªtes pas chez vous\"], ['Etrangers, rentrez vez vous'], ['Les Ã©trangers'], ['Retournez dans vos pays ou on va vous massacrer un jour'], ['WandÃ© kodro ti a ke gue'], ['Zo ti likoundou'], ['ZouÃ¨']]\n"
     ]
    }
   ],
   "source": [
    "import csv\n",
    "\n",
    "with open('./CAR_hate_speech.csv',newline='') as f:\n",
    "    reader = csv.reader(f)\n",
    "    data = list(reader)\n",
    "\n",
    "print(data)"
   ]
  },
  {
   "cell_type": "code",
   "execution_count": null,
   "metadata": {},
   "outputs": [],
   "source": [
    "with open('test.txt') as myfile:\n",
    "     if 'String' in myfile.read():\n",
    "         print('Blahblah')"
   ]
  }
 ],
 "metadata": {
  "kernelspec": {
   "display_name": "Python 3",
   "language": "python",
   "name": "python3"
  },
  "language_info": {
   "codemirror_mode": {
    "name": "ipython",
    "version": 3
   },
   "file_extension": ".py",
   "mimetype": "text/x-python",
   "name": "python",
   "nbconvert_exporter": "python",
   "pygments_lexer": "ipython3",
   "version": "3.7.4"
  }
 },
 "nbformat": 4,
 "nbformat_minor": 2
}
