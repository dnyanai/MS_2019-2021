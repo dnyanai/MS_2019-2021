{
 "cells": [
  {
   "cell_type": "code",
   "execution_count": 13,
   "metadata": {},
   "outputs": [],
   "source": [
    "import pandas as pd\n",
    "\n",
    "df = pd.read_csv('./CAR-hate-speech.csv',encoding='latin-1')\n"
   ]
  },
  {
   "cell_type": "code",
   "execution_count": 14,
   "metadata": {},
   "outputs": [
    {
     "data": {
      "text/html": [
       "<div>\n",
       "<style scoped>\n",
       "    .dataframe tbody tr th:only-of-type {\n",
       "        vertical-align: middle;\n",
       "    }\n",
       "\n",
       "    .dataframe tbody tr th {\n",
       "        vertical-align: top;\n",
       "    }\n",
       "\n",
       "    .dataframe thead th {\n",
       "        text-align: right;\n",
       "    }\n",
       "</style>\n",
       "<table border=\"1\" class=\"dataframe\">\n",
       "  <thead>\n",
       "    <tr style=\"text-align: right;\">\n",
       "      <th></th>\n",
       "      <th>Term</th>\n",
       "    </tr>\n",
       "  </thead>\n",
       "  <tbody>\n",
       "    <tr>\n",
       "      <td>0</td>\n",
       "      <td>A arabo so a ye ti fa que ala la</td>\n",
       "    </tr>\n",
       "    <tr>\n",
       "      <td>1</td>\n",
       "      <td>A bengue so a doit ti kiri na kodro ti ala</td>\n",
       "    </tr>\n",
       "    <tr>\n",
       "      <td>2</td>\n",
       "      <td>Arabo sans bouta</td>\n",
       "    </tr>\n",
       "    <tr>\n",
       "      <td>3</td>\n",
       "      <td>Arabou</td>\n",
       "    </tr>\n",
       "    <tr>\n",
       "      <td>4</td>\n",
       "      <td>Arabou, touber, Djak, arna, Banday</td>\n",
       "    </tr>\n",
       "  </tbody>\n",
       "</table>\n",
       "</div>"
      ],
      "text/plain": [
       "                                         Term\n",
       "0            A arabo so a ye ti fa que ala la\n",
       "1  A bengue so a doit ti kiri na kodro ti ala\n",
       "2                            Arabo sans bouta\n",
       "3                                      Arabou\n",
       "4          Arabou, touber, Djak, arna, Banday"
      ]
     },
     "execution_count": 14,
     "metadata": {},
     "output_type": "execute_result"
    }
   ],
   "source": [
    "df.head()"
   ]
  },
  {
   "cell_type": "code",
   "execution_count": 15,
   "metadata": {},
   "outputs": [
    {
     "data": {
      "text/plain": [
       "array(['A arabo so a ye ti fa que ala la',\n",
       "       'A bengue so a doit ti kiri na kodro ti ala', 'Arabo sans bouta',\n",
       "       'Arabou', 'Arabou, touber, Djak, arna, Banday', 'Touber', 'Djak',\n",
       "       'Arna', 'Banday', \"Assassins d'opposants\", 'Assassins',\n",
       "       \"Bozizé et ses amis Tchadiens veulent encore faire un coup d'État\",\n",
       "       \"C'est votre tour de manger notre tour viendra\",\n",
       "       'Caisse de résonance', 'Ceux qui ont mis le feu à la RCA sont là',\n",
       "       'Chamaroka', 'Dengbe', 'Enfant batard', 'enfants de putes',\n",
       "       'Etaient presents chretien et musulman', 'Ethnie',\n",
       "       'Gouvernement aveugle et paraplégique', 'Handicapé',\n",
       "       'I yeke fa ala koué', 'Il faut les tuer ',\n",
       "       'Ils veulent boire notre sang', 'Kata', 'Kota bongo', 'Koukouré',\n",
       "       'mono', 'gagango', 'seleka', 'Les enculés de Seleka',\n",
       "       'Les Gbakamandja se mettent dans le camp des Seleka', 'niama',\n",
       "       'Kpanda',\n",
       "       \"La RCA n'a pas besoin d'homosexuels parce que c'est contre nature\",\n",
       "       'Le clan de va-t-en-guerre du Mathématicien de Boy rabe',\n",
       "       'Les animaux méritent la mort',\n",
       "       'Les artistes et surtout les musiciens centrafricains ne valent rien',\n",
       "       'Les centro tchadien,les arabou du pk5',\n",
       "       \"Les gens dont les noms se terminent  par feï -na-gaï Nam- maï -zoui n'ont pas droit à la parole\",\n",
       "       \"Les groupes d'auto défense sont des jeunes qui pillent la société\",\n",
       "       'Les Mbororo doivent dégager de notre ville avec leurs boeufs',\n",
       "       'Les Mbororo nous envahissent avec leurs boeufs',\n",
       "       'Les monstres sans c\\x9curs ',\n",
       "       'Les Musulmans ne méritent pas de vivre. Il faut les tuer tous',\n",
       "       \"Les Musulmans nous empêchent d'avoir du travail. Il faut les faire partir\",\n",
       "       'Les musulmans sont des assassins, tueur',\n",
       "       'Les Musulmans sont des terroristes',\n",
       "       'Les Musulmans sont des terroristes',\n",
       "       'Des musulmans tués par des chretiens',\n",
       "       'Tous les musulmans sont des etrangers', 'communautée musulmane',\n",
       "       \"Si vous protéger les Musulmans, c'est que vous êtes des traites\",\n",
       "       'On doit tuer tous ces musulmans car ils sont seleka',\n",
       "       \"Le gouvernement doit massacrer les musulsulman car c'est pas leur pays\",\n",
       "       'Les rapatriés ne nous apportent que des maladies', 'Les requins',\n",
       "       'Les Étrangers hors de la RCA',\n",
       "       'Les seleka baraka goula et autres ne doivent plus vivre en RCA',\n",
       "       \"Les Seleka veulent reprendre le pouvoir mais on va les tuer d'abord\",\n",
       "       'Seleka',\n",
       "       \"Si la rebellion continue, c'est parce que les Seleka sont encore dans le pays. Renvoyons tous les Musulmans et il n'y aura plus de Seleka\",\n",
       "       'Les vampires', 'Mbo', 'Mbororo', 'Mercenaires',\n",
       "       \"Bandes de mercenaires à mettre hors d'état de nuire\",\n",
       "       'Milice chrétiens',\n",
       "       \"N'oubliez jamais que c'est à cause des Gbaya que nous sommes dans cette galère\",\n",
       "       'Naigre',\n",
       "       'Ne comptez pas sur le peuple Centrafricain pour vous pardonner',\n",
       "       'Ne fuit pas le Tribunal Pénal International, vieux sanguinaire',\n",
       "       'Ngba na mbana',\n",
       "       'On doit raser le Kilomètre 5 de la surface de la terre',\n",
       "       'Tant que le km5 existe on aura jamais la paix dans ce pays',\n",
       "       \"le Kilomètre 5 est l'épicentre des crises de la RCA\",\n",
       "       'On va finir avec eux cette fois ci', 'On va vous tuer tous ',\n",
       "       'Pindougou', 'Prostitués politique', 'Sorcier',\n",
       "       \"Touadera Doit Rester signifie que le chef de l'État centrafricain en exercice poursuivra son mandat à l'infini, ce qui incite la haine à partir duquel on veut faire la RCA un pays démocratique.\",\n",
       "       'Touaderade', 'Tu es là pour que le sang coule encore?',\n",
       "       \"Vous n'êtes pas des êtres humains, vous n'êtes que de la viande\",\n",
       "       \"Vous ne devez pas prendre la parole dans nos discussions parce que vous n'êtes pas chez vous\",\n",
       "       'Etrangers, rentrez vez vous', 'Les étrangers',\n",
       "       'Retournez dans vos pays ou on va vous massacrer un jour',\n",
       "       'Wandé kodro ti a ke gue', 'Zo ti likoundou', 'Zouè'], dtype=object)"
      ]
     },
     "execution_count": 15,
     "metadata": {},
     "output_type": "execute_result"
    }
   ],
   "source": [
    "df1 = df.Term\n",
    "df1.values"
   ]
  },
  {
   "cell_type": "code",
   "execution_count": 16,
   "metadata": {},
   "outputs": [],
   "source": [
    "def profanityFilter(text):\n",
    "    brokenStr1 = text.split()\n",
    "    badWordMask = '*@#$%@#$%^~@%^~@#$@#$%^~'\n",
    "    new = ''\n",
    "    for word in brokenStr1:\n",
    "        if word.lower() in df1.str.lower().values:\n",
    "            print(word + ' <--Bad word!')\n",
    "            text = text.replace(word,badWordMask[:len(word)])\n",
    "    return text\n"
   ]
  },
  {
   "cell_type": "code",
   "execution_count": 17,
   "metadata": {},
   "outputs": [
    {
     "name": "stdout",
     "output_type": "stream",
     "text": [
      "Enter text: \n",
      "\n",
      "Enter text: \n",
      "\n",
      "Enter text: \n",
      "\n",
      "Enter text: \n",
      "\n",
      "Enter text: \n",
      "\n"
     ]
    }
   ],
   "source": [
    "for x in range(5):\n",
    "    user_input = input(\"Enter text: \")\n",
    "    print(profanityFilter(user_input))"
   ]
  },
  {
   "cell_type": "code",
   "execution_count": null,
   "metadata": {},
   "outputs": [],
   "source": []
  },
  {
   "cell_type": "code",
   "execution_count": null,
   "metadata": {},
   "outputs": [],
   "source": []
  }
 ],
 "metadata": {
  "kernelspec": {
   "display_name": "Python 3",
   "language": "python",
   "name": "python3"
  },
  "language_info": {
   "codemirror_mode": {
    "name": "ipython",
    "version": 3
   },
   "file_extension": ".py",
   "mimetype": "text/x-python",
   "name": "python",
   "nbconvert_exporter": "python",
   "pygments_lexer": "ipython3",
   "version": "3.7.4"
  }
 },
 "nbformat": 4,
 "nbformat_minor": 2
}
