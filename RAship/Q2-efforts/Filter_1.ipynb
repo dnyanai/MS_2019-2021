{
 "cells": [
  {
   "cell_type": "markdown",
   "metadata": {},
   "source": [
    "#### <div class=\"alert alert-info\"> Program for censoring bad Words/Phrases from a religional language text </div>\n"
   ]
  },
  {
   "cell_type": "markdown",
   "metadata": {},
   "source": [
    "#### Importing the libraries"
   ]
  },
  {
   "cell_type": "code",
   "execution_count": 1,
   "metadata": {},
   "outputs": [],
   "source": [
    "import pandas as pd\n",
    "import sklearn as sk\n",
    "from nltk.corpus import stopwords"
   ]
  },
  {
   "cell_type": "markdown",
   "metadata": {},
   "source": [
    "#### Reading the data file which is in CSV"
   ]
  },
  {
   "cell_type": "code",
   "execution_count": 2,
   "metadata": {},
   "outputs": [
    {
     "data": {
      "text/html": [
       "<div>\n",
       "<style scoped>\n",
       "    .dataframe tbody tr th:only-of-type {\n",
       "        vertical-align: middle;\n",
       "    }\n",
       "\n",
       "    .dataframe tbody tr th {\n",
       "        vertical-align: top;\n",
       "    }\n",
       "\n",
       "    .dataframe thead th {\n",
       "        text-align: right;\n",
       "    }\n",
       "</style>\n",
       "<table border=\"1\" class=\"dataframe\">\n",
       "  <thead>\n",
       "    <tr style=\"text-align: right;\">\n",
       "      <th></th>\n",
       "      <th>Word</th>\n",
       "      <th>Phrase</th>\n",
       "    </tr>\n",
       "  </thead>\n",
       "  <tbody>\n",
       "    <tr>\n",
       "      <td>0</td>\n",
       "      <td>Arabou</td>\n",
       "      <td>A arabo so a ye ti fa que ala la</td>\n",
       "    </tr>\n",
       "    <tr>\n",
       "      <td>1</td>\n",
       "      <td>tueur</td>\n",
       "      <td>A bengue so a doit ti kiri na kodro ti ala</td>\n",
       "    </tr>\n",
       "    <tr>\n",
       "      <td>2</td>\n",
       "      <td>Touber</td>\n",
       "      <td>Arabo sans bouta</td>\n",
       "    </tr>\n",
       "    <tr>\n",
       "      <td>3</td>\n",
       "      <td>Djak</td>\n",
       "      <td>Assassins d'opposants</td>\n",
       "    </tr>\n",
       "    <tr>\n",
       "      <td>4</td>\n",
       "      <td>Arna</td>\n",
       "      <td>Bozizé et ses amis Tchadiens veulent encore fa...</td>\n",
       "    </tr>\n",
       "  </tbody>\n",
       "</table>\n",
       "</div>"
      ],
      "text/plain": [
       "     Word                                             Phrase\n",
       "0  Arabou                   A arabo so a ye ti fa que ala la\n",
       "1   tueur         A bengue so a doit ti kiri na kodro ti ala\n",
       "2  Touber                                   Arabo sans bouta\n",
       "3    Djak                              Assassins d'opposants\n",
       "4    Arna  Bozizé et ses amis Tchadiens veulent encore fa..."
      ]
     },
     "execution_count": 2,
     "metadata": {},
     "output_type": "execute_result"
    }
   ],
   "source": [
    "df = pd.read_csv('./CAR-hate-speech.csv',encoding='latin-1')\n",
    "df.head()"
   ]
  },
  {
   "cell_type": "markdown",
   "metadata": {},
   "source": [
    "#### Data cleaning: \n",
    "<ol><li>make everything lowercase</li>\n",
    "    <li>remove all the puntuations which are not required</li>\n"
   ]
  },
  {
   "cell_type": "code",
   "execution_count": 3,
   "metadata": {},
   "outputs": [
    {
     "data": {
      "text/html": [
       "<div>\n",
       "<style scoped>\n",
       "    .dataframe tbody tr th:only-of-type {\n",
       "        vertical-align: middle;\n",
       "    }\n",
       "\n",
       "    .dataframe tbody tr th {\n",
       "        vertical-align: top;\n",
       "    }\n",
       "\n",
       "    .dataframe thead th {\n",
       "        text-align: right;\n",
       "    }\n",
       "</style>\n",
       "<table border=\"1\" class=\"dataframe\">\n",
       "  <thead>\n",
       "    <tr style=\"text-align: right;\">\n",
       "      <th></th>\n",
       "      <th>Word</th>\n",
       "      <th>Phrase</th>\n",
       "    </tr>\n",
       "  </thead>\n",
       "  <tbody>\n",
       "    <tr>\n",
       "      <td>0</td>\n",
       "      <td>arabou</td>\n",
       "      <td>a arabo so a ye ti fa que ala la</td>\n",
       "    </tr>\n",
       "    <tr>\n",
       "      <td>1</td>\n",
       "      <td>tueur</td>\n",
       "      <td>a bengue so a doit ti kiri na kodro ti ala</td>\n",
       "    </tr>\n",
       "    <tr>\n",
       "      <td>2</td>\n",
       "      <td>touber</td>\n",
       "      <td>arabo sans bouta</td>\n",
       "    </tr>\n",
       "    <tr>\n",
       "      <td>3</td>\n",
       "      <td>djak</td>\n",
       "      <td>assassins d'opposants</td>\n",
       "    </tr>\n",
       "    <tr>\n",
       "      <td>4</td>\n",
       "      <td>arna</td>\n",
       "      <td>bozizé et ses amis tchadiens veulent encore fa...</td>\n",
       "    </tr>\n",
       "  </tbody>\n",
       "</table>\n",
       "</div>"
      ],
      "text/plain": [
       "     Word                                             Phrase\n",
       "0  arabou                   a arabo so a ye ti fa que ala la\n",
       "1   tueur         a bengue so a doit ti kiri na kodro ti ala\n",
       "2  touber                                   arabo sans bouta\n",
       "3    djak                              assassins d'opposants\n",
       "4    arna  bozizé et ses amis tchadiens veulent encore fa..."
      ]
     },
     "execution_count": 3,
     "metadata": {},
     "output_type": "execute_result"
    }
   ],
   "source": [
    "df.Word = df.Word.str.lower()\n",
    "df.Phrase = df.Phrase.str.lower()\n",
    "df.head()"
   ]
  },
  {
   "cell_type": "markdown",
   "metadata": {},
   "source": [
    "filtered_words = [word for word in df.Term.values if word in \\\n",
    "                  stopwords.words('french')]"
   ]
  },
  {
   "cell_type": "markdown",
   "metadata": {},
   "source": [
    "stopwords.words('french')"
   ]
  },
  {
   "cell_type": "markdown",
   "metadata": {},
   "source": [
    "#### Masking the bad words : (only words)"
   ]
  },
  {
   "cell_type": "code",
   "execution_count": 4,
   "metadata": {},
   "outputs": [],
   "source": [
    "def profanityFilter(text):\n",
    "    \n",
    "    brokenStr = text.split()\n",
    "     \n",
    "    badWordMask = '*@#$%@#$%^~@%^~@#$@#$%^~'\n",
    "    \n",
    "    for word in brokenStr:\n",
    "        if word in df.Word.values:\n",
    "            print(word + ' <--Bad word!')\n",
    "            text = text.replace(word,badWordMask[:len(word)])\n",
    "    return text\n"
   ]
  },
  {
   "cell_type": "code",
   "execution_count": 5,
   "metadata": {},
   "outputs": [
    {
     "name": "stdout",
     "output_type": "stream",
     "text": [
      "Enter text: Corrupt thieves seized 40 cars and bikes without mistakes, they only bresilian roots sweat the small lamda these imbeciles do not respect the law of the man except operes.Regarder flights out their bellies never met these dogs fault assassins d, opponents waitFPB\n",
      "assassins <--Bad word!\n",
      "Corrupt thieves seized 40 cars and bikes without mistakes, they only bresilian roots sweat the small lamda these imbeciles do not respect the law of the man except operes.Regarder flights out their bellies never met these dogs fault *@#$%@#$% d, opponents waitFPB\n"
     ]
    }
   ],
   "source": [
    "for x in range(1):\n",
    "    user_input = input(\"Enter text: \")\n",
    "    print(profanityFilter(user_input))"
   ]
  },
  {
   "cell_type": "markdown",
   "metadata": {},
   "source": [
    "#### Masking the phrases: "
   ]
  },
  {
   "cell_type": "code",
   "execution_count": 6,
   "metadata": {},
   "outputs": [
    {
     "data": {
      "text/plain": [
       "count                                   66\n",
       "unique                                  66\n",
       "top       a arabo so a ye ti fa que ala la\n",
       "freq                                     1\n",
       "Name: Phrase, dtype: object"
      ]
     },
     "execution_count": 6,
     "metadata": {},
     "output_type": "execute_result"
    }
   ],
   "source": [
    "df.Phrase.describe()"
   ]
  },
  {
   "cell_type": "code",
   "execution_count": 7,
   "metadata": {},
   "outputs": [
    {
     "data": {
      "text/plain": [
       "0                      a arabo so a ye ti fa que ala la\n",
       "1            a bengue so a doit ti kiri na kodro ti ala\n",
       "2                                      arabo sans bouta\n",
       "3                                 assassins d'opposants\n",
       "4     bozizé et ses amis tchadiens veulent encore fa...\n",
       "                            ...                        \n",
       "61                          etrangers, rentrez vez vous\n",
       "62                                        les étrangers\n",
       "63    retournez dans vos pays ou on va vous massacre...\n",
       "64                              wandé kodro ti a ke gue\n",
       "65                                      zo ti likoundou\n",
       "Name: Phrase, Length: 66, dtype: object"
      ]
     },
     "execution_count": 7,
     "metadata": {},
     "output_type": "execute_result"
    }
   ],
   "source": [
    "df.Phrase.replace(\" \", \"_\")"
   ]
  },
  {
   "cell_type": "code",
   "execution_count": 8,
   "metadata": {},
   "outputs": [
    {
     "data": {
      "text/html": [
       "<div>\n",
       "<style scoped>\n",
       "    .dataframe tbody tr th:only-of-type {\n",
       "        vertical-align: middle;\n",
       "    }\n",
       "\n",
       "    .dataframe tbody tr th {\n",
       "        vertical-align: top;\n",
       "    }\n",
       "\n",
       "    .dataframe thead th {\n",
       "        text-align: right;\n",
       "    }\n",
       "</style>\n",
       "<table border=\"1\" class=\"dataframe\">\n",
       "  <thead>\n",
       "    <tr style=\"text-align: right;\">\n",
       "      <th></th>\n",
       "      <th>Word</th>\n",
       "      <th>Phrase</th>\n",
       "      <th>PhraseForCompare</th>\n",
       "    </tr>\n",
       "  </thead>\n",
       "  <tbody>\n",
       "    <tr>\n",
       "      <td>0</td>\n",
       "      <td>arabou</td>\n",
       "      <td>a arabo so a ye ti fa que ala la</td>\n",
       "      <td>a_arabo_so_a_ye_ti_fa_que_ala_la</td>\n",
       "    </tr>\n",
       "  </tbody>\n",
       "</table>\n",
       "</div>"
      ],
      "text/plain": [
       "     Word                            Phrase                  PhraseForCompare\n",
       "0  arabou  a arabo so a ye ti fa que ala la  a_arabo_so_a_ye_ti_fa_que_ala_la"
      ]
     },
     "execution_count": 8,
     "metadata": {},
     "output_type": "execute_result"
    }
   ],
   "source": [
    "df['PhraseForCompare'] = df.Phrase.str.replace(' ','_')\n",
    "df.head(1)"
   ]
  },
  {
   "cell_type": "code",
   "execution_count": 21,
   "metadata": {},
   "outputs": [
    {
     "name": "stdout",
     "output_type": "stream",
     "text": [
      "_*@#$%@#$%^~@%^~@#$@#$DFGH\n"
     ]
    }
   ],
   "source": [
    "tct = \"_assassins_d'opposantsDFGH\"\n",
    "badwordmask = '*@#$%@#$%^~@%^~@#$@#$%^~'\n",
    "\n",
    "for txt in df.PhraseForCompare.loc[df.PhraseForCompare.str.contains\\\n",
    "             (\"assassins_d'opposants\",regex=False)==True].values:\n",
    "    if txt.find(tct):\n",
    "        tct = tct.replace(txt,badwordmask[:len(txt)])\n",
    "        print(tct)"
   ]
  },
  {
   "cell_type": "code",
   "execution_count": 22,
   "metadata": {},
   "outputs": [],
   "source": [
    "def function2(usrtxt):\n",
    "    text = usrtxt.lower().replace(' ','_')\n",
    "   \n",
    "    badwordmask = '*@#$%@#$%^~@%^~@#$@#$%^~'\n",
    "      \n",
    "    for phrase in df.PhraseForCompare.loc[df.PhraseForCompare.str.contains\\\n",
    "             (\"assassins_d'opposants\",regex=False)==True].values:\n",
    "        if phrase.find(text):\n",
    "            text = text.replace(phrase,badwordmask[:len(phrase)])  \n",
    "        return text\n",
    "    "
   ]
  },
  {
   "cell_type": "code",
   "execution_count": 23,
   "metadata": {},
   "outputs": [
    {
     "name": "stdout",
     "output_type": "stream",
     "text": [
      "Enter Text:Après le qatar qui donne des leçons de féminisme sexiste on a la Russie qui valorise les remarques de régimes assassins d’opposants. Fermez vos gueules les ratés de l’histoire.\n"
     ]
    },
    {
     "data": {
      "text/plain": [
       "'après_le_qatar_qui_donne_des_leçons_de_féminisme_sexiste_on_a_la_russie_qui_valorise_les_remarques_de_régimes_assassins_d’opposants._fermez_vos_gueules_les_ratés_de_l’histoire.'"
      ]
     },
     "execution_count": 23,
     "metadata": {},
     "output_type": "execute_result"
    }
   ],
   "source": [
    "usrtxt = input('Enter Text:')\n",
    "function2(usrtxt)\n"
   ]
  },
  {
   "cell_type": "code",
   "execution_count": null,
   "metadata": {},
   "outputs": [],
   "source": [
    "#if text in df.PhraseForCompare.values:\n",
    "        \n",
    "    if text.isin(df.PhraseForCompare.values):\n",
    "        #phrase = df.PhraseForCompare\\\n",
    "        #[df.PhraseForCompare.str.contains(text)==True].values\n",
    "        #text = text.replace(phrase,badwordmask[:len(phrase)])"
   ]
  },
  {
   "cell_type": "code",
   "execution_count": 11,
   "metadata": {},
   "outputs": [
    {
     "data": {
      "text/plain": [
       "0     False\n",
       "1     False\n",
       "2     False\n",
       "3      True\n",
       "4     False\n",
       "      ...  \n",
       "61    False\n",
       "62    False\n",
       "63    False\n",
       "64    False\n",
       "65    False\n",
       "Name: Phrase, Length: 66, dtype: bool"
      ]
     },
     "execution_count": 11,
     "metadata": {},
     "output_type": "execute_result"
    }
   ],
   "source": [
    "df.Phrase.str.contains(\"assassins d'opposants\")\n",
    ".loc\\\n",
    "             [df.PhraseForCompare.str.contains\\\n",
    "             (text,regex=False)==True]"
   ]
  },
  {
   "cell_type": "code",
   "execution_count": null,
   "metadata": {},
   "outputs": [],
   "source": []
  }
 ],
 "metadata": {
  "kernelspec": {
   "display_name": "Python 3",
   "language": "python",
   "name": "python3"
  },
  "language_info": {
   "codemirror_mode": {
    "name": "ipython",
    "version": 3
   },
   "file_extension": ".py",
   "mimetype": "text/x-python",
   "name": "python",
   "nbconvert_exporter": "python",
   "pygments_lexer": "ipython3",
   "version": "3.7.4"
  }
 },
 "nbformat": 4,
 "nbformat_minor": 2
}
