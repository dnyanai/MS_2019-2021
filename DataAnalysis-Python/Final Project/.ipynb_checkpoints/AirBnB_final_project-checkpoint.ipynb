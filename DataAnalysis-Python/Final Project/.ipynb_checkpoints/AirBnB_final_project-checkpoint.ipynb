{
 "cells": [
  {
   "cell_type": "code",
   "execution_count": null,
   "metadata": {},
   "outputs": [],
   "source": [
    "from IPython.display import Image\n",
    "\n",
    "Image(url='https://img4.cityrealty.com/neo/i/p/mig/airbnb_guide.jpg')"
   ]
  },
  {
   "cell_type": "markdown",
   "metadata": {},
   "source": [
    "# <font color = 'blue'> AirBnB Data Analysis with Python Final Project\n",
    "    "
   ]
  },
  {
   "cell_type": "markdown",
   "metadata": {},
   "source": [
    "### <font color='blue'>Content: \n",
    "We are focusing on California’s data for analysis. Being new to California, it would be interesting to learn about places which people prefer for AirBnb in California. Our main focus was around affordability, customer preference for AirBnb property based on customer reviews and how close are these AirBnb properties from airport, beach and other touristy location.\n",
    "\n",
    "### <font color='blue'>Dataset:\n",
    "https://www.kaggle.com/gkdoad/airbnb\n",
    "\n",
    "### <font color='blue'>Team:\n",
    "<ol>\n",
    "<li> Resham Uttamchandani - ruttamchandani@scu.edu</li>\n",
    "<li> Mukesh Ganesh - mganesh2@scu.edu</li>\n",
    "<li> Pratiksha Raval - praval@scu.edu</li>\n",
    "<li> Dnyanai Surkutwar - dsurkutwar@scu.edu</li>\n",
    "</ol>\n",
    "\n",
    "### <font color='blue'>Following are a few questions that we aim to answer through our analysis:\n",
    "<ol>\n",
    "<li>Affordability analysis: How do prices of listings vary by location?</li>\n",
    "<li>Airbnb property preference based on cutomer reviews.</li>\n",
    "<li>What are the different types of properties in and around LA? Do they vary by neighborhood?</li>\n",
    "<li>What neighborhoods are rated highly by guests?</li>\n",
    "<li>Customer preference based Airbnb recommendations.</li>  \n",
    "</ol>\n"
   ]
  },
  {
   "cell_type": "markdown",
   "metadata": {},
   "source": [
    "##### <font color='blue'> Importing libraries "
   ]
  },
  {
   "cell_type": "code",
   "execution_count": null,
   "metadata": {},
   "outputs": [],
   "source": [
    "import pandas as pd\n",
    "import numpy as np\n",
    "import matplotlib.pyplot as plt\n",
    "import seaborn as sns\n",
    "import folium\n",
    "import json\n",
    "import branca\n",
    "\n",
    "pd.set_option('display.max_columns',50)\n",
    "pd.options.display.max_rows"
   ]
  },
  {
   "cell_type": "markdown",
   "metadata": {},
   "source": [
    "##### <font color='blue'> Setting the map location co-ordinates for the map graphs later"
   ]
  },
  {
   "cell_type": "code",
   "execution_count": null,
   "metadata": {},
   "outputs": [],
   "source": [
    "# Setting a base map\n",
    "lat = 34.1000\n",
    "long = -118.4662"
   ]
  },
  {
   "cell_type": "markdown",
   "metadata": {},
   "source": [
    "##### <font color='blue'> Read the listings csv file and setting the index column as id "
   ]
  },
  {
   "cell_type": "code",
   "execution_count": null,
   "metadata": {},
   "outputs": [],
   "source": [
    "initFile = pd.read_csv('listings.csv',index_col= 'id',low_memory=False)\n",
    "initFile.head(1)"
   ]
  },
  {
   "cell_type": "markdown",
   "metadata": {},
   "source": [
    "##### <font color='blue'> Description of Data\n",
    "<ol>\n",
    "<font color='blue'><li>The dataset comprises of three main tables:</li></font>\n",
    "<ul>\n",
    "<font color='blue'><li>listings -</li></font> Detailed listings data showing 106 atttributes for each of the listings. Some of the attributes used in the analysis are price, longitude, latitude, listing_type (categorical),neighbourhood_cleansed(categorical), ratings among others.\n",
    "<font color='blue'><li>reviews -</li></font> Detailed reviews given by the guests with 6 attributes. Key attributes include review_scores_rating, review_scores_accuracy, review_scores_cleanliness, review_scores_checkin, review_scores_communication, review_scores_location, review_scores_value, cancellation_policy.\n",
    "</ul>\n",
    "<br>\n",
    "</ol>\n",
    "\n",
    "<font color='blue'>                          \n",
    "2. A quick glance at the data shows that there are:</font>\n",
    "<ul>\n",
    "<li>Most of the listings in California are based in and near LA, predominately in LA county. \n",
    "<li>Over 35,959 reviews have been written by guests since 26th May 2009.</li>\n",
    "<li>The price for a listing ranges from 10 per night to 25,000 dollars(!) per night. Listing with $25,000 price tag are in Hollywood hills west.</li>\n",
    "</ul>"
   ]
  },
  {
   "cell_type": "code",
   "execution_count": null,
   "metadata": {},
   "outputs": [],
   "source": [
    "initFile.first_review.count()"
   ]
  },
  {
   "cell_type": "code",
   "execution_count": null,
   "metadata": {},
   "outputs": [],
   "source": [
    "initFile.first_review.sort_values(ascending=True).head(1)"
   ]
  },
  {
   "cell_type": "code",
   "execution_count": null,
   "metadata": {
    "scrolled": true
   },
   "outputs": [],
   "source": [
    "initFile.head()"
   ]
  },
  {
   "cell_type": "markdown",
   "metadata": {},
   "source": [
    "##### <font color='blue'> Reseting the index and assigning a new column as the dataset id "
   ]
  },
  {
   "cell_type": "code",
   "execution_count": null,
   "metadata": {},
   "outputs": [],
   "source": [
    "initFile.reset_index(inplace=True)"
   ]
  },
  {
   "cell_type": "code",
   "execution_count": null,
   "metadata": {},
   "outputs": [],
   "source": [
    "initFile['colid'] = initFile.index "
   ]
  },
  {
   "cell_type": "code",
   "execution_count": null,
   "metadata": {},
   "outputs": [],
   "source": [
    "initFile.drop('id',axis=1,inplace=True)"
   ]
  },
  {
   "cell_type": "code",
   "execution_count": null,
   "metadata": {},
   "outputs": [],
   "source": [
    "initFile.rename(columns={'colid':'id'},inplace=True)\n",
    "initFile.id +=1"
   ]
  },
  {
   "cell_type": "code",
   "execution_count": null,
   "metadata": {},
   "outputs": [],
   "source": [
    "initFile.set_index('id',inplace=True)\n",
    "initFile.head(1)"
   ]
  },
  {
   "cell_type": "markdown",
   "metadata": {},
   "source": [
    "##### <font color='blue'> Cleaning the dataset to make sure we have only CA related values"
   ]
  },
  {
   "cell_type": "code",
   "execution_count": null,
   "metadata": {},
   "outputs": [],
   "source": [
    "df_cleansed = initFile.copy()"
   ]
  },
  {
   "cell_type": "code",
   "execution_count": null,
   "metadata": {},
   "outputs": [],
   "source": [
    "### Taking only the CA listings and making sure everything in state as uppercase\n",
    "df_cleansed.state.loc[df_cleansed.state=='California'] = 'CA'\n",
    "df_cleansed.state.unique()\n",
    "df_cleansed.state = df_cleansed['state'].str.upper()"
   ]
  },
  {
   "cell_type": "code",
   "execution_count": null,
   "metadata": {},
   "outputs": [],
   "source": [
    "## As we can see there are some unwanted & non-CA entries in the state column\n",
    "df_cleansed.state.value_counts()"
   ]
  },
  {
   "cell_type": "markdown",
   "metadata": {},
   "source": [
    "##### <font color = 'blue'> We need to remove the non-CA values from the dataset"
   ]
  },
  {
   "cell_type": "code",
   "execution_count": null,
   "metadata": {},
   "outputs": [],
   "source": [
    "df_cleansed.drop(df_cleansed[~(df_cleansed.state.values=='CA')].index,axis=0,inplace=True)"
   ]
  },
  {
   "cell_type": "markdown",
   "metadata": {},
   "source": [
    "##### <font color='blue'> Convert the city column to lower case"
   ]
  },
  {
   "cell_type": "code",
   "execution_count": null,
   "metadata": {},
   "outputs": [],
   "source": [
    "df_cleansed.city = df_cleansed.city.str.lower()\n",
    "df_cleansed.city.unique()\n",
    "df_cleansed.city.dropna(inplace=True)"
   ]
  },
  {
   "cell_type": "markdown",
   "metadata": {},
   "source": [
    "##### <font color='blue'> Cleaning the city column and dropping NaN values in city column "
   ]
  },
  {
   "cell_type": "code",
   "execution_count": null,
   "metadata": {},
   "outputs": [],
   "source": [
    "df_cleansed['city'] = df_cleansed['city'].str.replace(r'[^\\x00-\\x7F]+', '')\n",
    "df_cleansed.city.dropna(inplace=True)\n",
    "df_cleansed.city.value_counts()"
   ]
  },
  {
   "cell_type": "code",
   "execution_count": null,
   "metadata": {},
   "outputs": [],
   "source": [
    "df_cleansed.groupby('city')['neighbourhood_cleansed'].value_counts()"
   ]
  },
  {
   "cell_type": "code",
   "execution_count": null,
   "metadata": {},
   "outputs": [],
   "source": [
    "df_cleansed.smart_location.shape"
   ]
  },
  {
   "cell_type": "code",
   "execution_count": null,
   "metadata": {},
   "outputs": [],
   "source": [
    "df_cleansed.smart_location = df_cleansed.smart_location.str.lower()"
   ]
  },
  {
   "cell_type": "code",
   "execution_count": null,
   "metadata": {},
   "outputs": [],
   "source": [
    "df_cleansed.isnull().sum()"
   ]
  },
  {
   "cell_type": "markdown",
   "metadata": {},
   "source": [
    "##### <font color='blue'> Cleaning the smart_location column, removing the non-English characters in the smart_location column "
   ]
  },
  {
   "cell_type": "code",
   "execution_count": null,
   "metadata": {},
   "outputs": [],
   "source": [
    "df_cleansed.drop(df_cleansed[(df_cleansed['smart_location'] == '蒙特利帕克, ca') | \\\n",
    "                       (df_cleansed['smart_location'] == '因達斯特里, ca') | \\\n",
    "                       (df_cleansed['smart_location'] == '艾尔蒙地, ca') | \\\n",
    "                       (df_cleansed['smart_location'] == '沃尔纳特, ca') | \\\n",
    "                       (df_cleansed['smart_location'] == '哈仙达岗, ca') | \\\n",
    "                       (df_cleansed['smart_location'] == '罗兰高地, ca') | \\\n",
    "                       (df_cleansed['smart_location'] == '罗兰岗, ca') | \\\n",
    "                       (df_cleansed['smart_location'] == '天普市, ca') | \\\n",
    "                       (df_cleansed['smart_location'] == '洛杉矶, ca')  \\\n",
    "                      ].index, inplace = True)"
   ]
  },
  {
   "cell_type": "markdown",
   "metadata": {},
   "source": [
    "##### <font color='blue'> Replacing ', ca' in smart_location column so that it is uniform with the other location related columns "
   ]
  },
  {
   "cell_type": "code",
   "execution_count": null,
   "metadata": {},
   "outputs": [],
   "source": [
    "df_cleansed.smart_location = df_cleansed.smart_location.str.replace(', ca',' ', regex=True)\n",
    "df_cleansed.smart_location = df_cleansed.smart_location.str.strip()\n",
    "## Removing the spaces from the neighbourhood_cleansed\n",
    "df_cleansed.neighbourhood_cleansed = df_cleansed.neighbourhood_cleansed.str.strip()"
   ]
  },
  {
   "cell_type": "code",
   "execution_count": null,
   "metadata": {},
   "outputs": [],
   "source": [
    "## Convert smart_location and neighbourhood_cleansed columns into lower case\n",
    "df_cleansed.smart_location = df_cleansed.smart_location.str.lower()\n",
    "df_cleansed.neighbourhood_cleansed = df_cleansed.neighbourhood_cleansed.str.lower() \n",
    "df_cleansed.head(2)"
   ]
  },
  {
   "cell_type": "markdown",
   "metadata": {},
   "source": [
    "### <font color='Red'><b> Interesting Fact 1</b></font>"
   ]
  },
  {
   "cell_type": "markdown",
   "metadata": {},
   "source": [
    "#### <font color='green'>Q) Make a dataset copy for Interesting Fact 1 which is focused on:\n",
    "<font color='green'>1)Affordability analysis: How do prices of listings vary by location</font><br>\n",
    "<font color='green'>2)Building an autoML solution and testing to see if it is a good solution to invest in for making the priceType tags for the listings.</font>\n"
   ]
  },
  {
   "cell_type": "markdown",
   "metadata": {},
   "source": [
    "##### <div class=\"alert alert-block alert-success\">Fact 1 insights:<br><li>For the Low price range,almost all of the prices in Low price range are located in Hollywood.<br>Other top locations with maximum low price range are: Venice, pico-union, Downtown and Long Beach.<br>The average price in the Low range is around 100 dollars.</li><br><li>For the Mid price range,almost all of the prices in the Mid price range are located in Venice.<br>Other top locations with maximum mid price range are: Hollywood, Downtown and Long Beach.<br>The average price in the Mid range is around 150-200 dollars.</li><br><li>As observed above,Almost all of the prices in the High price range are located in Venice and Beverly grove.Venice seems a real versatile location for Airbnb listings.<br>Other top locations with maximum high price range are: Hollywood hills West, Malibu and Avalon.<br>The average price in the High range is around $550-800.</li></div>"
   ]
  },
  {
   "cell_type": "markdown",
   "metadata": {},
   "source": [
    "### <font color='black'> 1) Affordability analysis: How do prices of listings vary by location"
   ]
  },
  {
   "cell_type": "code",
   "execution_count": null,
   "metadata": {},
   "outputs": [],
   "source": [
    "df_fact1 = df_cleansed[['price','security_deposit','cleaning_fee','guests_included','extra_people','minimum_nights',\\\n",
    "          'maximum_nights','amenities','neighbourhood_cleansed',\\\n",
    "       'state','zipcode','latitude','longitude']].copy()\n",
    "## Renaming the neighbourhood_cleansed column to location \n",
    "df_fact1.rename(columns={'neighbourhood_cleansed':'location'},inplace=True)"
   ]
  },
  {
   "cell_type": "code",
   "execution_count": null,
   "metadata": {},
   "outputs": [],
   "source": [
    "df_fact1.info()"
   ]
  },
  {
   "cell_type": "code",
   "execution_count": null,
   "metadata": {},
   "outputs": [],
   "source": [
    "df_fact1.isna().sum()\n",
    "## We see that we have NaN values in the security_deposit, cleaning_fee, zipcode columns \n",
    "## So, lets clean these columns "
   ]
  },
  {
   "cell_type": "code",
   "execution_count": null,
   "metadata": {},
   "outputs": [],
   "source": [
    "## Lets see what the amenities column holds..\n",
    "df_fact1.groupby('amenities')['price'].value_counts().nlargest(3)"
   ]
  },
  {
   "cell_type": "markdown",
   "metadata": {},
   "source": [
    "##### <font color='blue'> Cleaning the Amenities column and converting it to lower case"
   ]
  },
  {
   "cell_type": "code",
   "execution_count": null,
   "metadata": {},
   "outputs": [],
   "source": [
    "df_fact1.amenities = df_fact1.amenities.str.strip('{}')\n",
    "df_fact1.amenities = df_fact1.amenities.str.replace('\"','')\n",
    "df_fact1.amenities = df_fact1.amenities.str.lower()"
   ]
  },
  {
   "cell_type": "markdown",
   "metadata": {},
   "source": [
    "##### <font color='blue'> Trying to understand which are the more frequently used values in the amenities column "
   ]
  },
  {
   "cell_type": "code",
   "execution_count": null,
   "metadata": {},
   "outputs": [],
   "source": [
    "pd.Series(' '.join(df_fact1['amenities']).lower().split(',')).value_counts().nlargest(12)"
   ]
  },
  {
   "cell_type": "markdown",
   "metadata": {},
   "source": [
    "##### <font color='blue'> Creating new coulmns around most frequently used values in the Amenities column "
   ]
  },
  {
   "cell_type": "code",
   "execution_count": null,
   "metadata": {},
   "outputs": [],
   "source": [
    "## Taking the most sort after amenities by customers and creating new columns for them \n",
    "df_fact1['wifi'] = ''\n",
    "df_fact1['ac'] = ''\n",
    "df_fact1['pet'] = ''\n",
    "df_fact1['park'] = ''\n",
    "df_fact1['htub'] = ''\n",
    "df_fact1['dishwasher'] = ''\n",
    "df_fact1['bbq'] = ''\n",
    "df_fact1['pool'] = ''\n",
    "df_fact1['hr'] = ''\n",
    "df_fact1['coffee'] = ''\n",
    "df_fact1['heating'] = ''\n",
    "df_fact1['iron'] = ''\n",
    "df_fact1['washer'] = ''\n",
    "df_fact1['dryer'] = ''\n",
    "df_fact1['parking'] = ''"
   ]
  },
  {
   "cell_type": "markdown",
   "metadata": {},
   "source": [
    "##### <font color='blue'> If the amenities satisfy the condition of being present in the Amenities column then set the column as 'True'"
   ]
  },
  {
   "cell_type": "code",
   "execution_count": null,
   "metadata": {},
   "outputs": [],
   "source": [
    "df_fact1.wifi = df_fact1.amenities.str.contains(\"wifi\").apply(lambda x: 'wifi' if x==True else '')\n",
    "df_fact1.ac = df_fact1.amenities.str.contains(\"air conditioning\").apply(lambda x: 'air conditioning' if x==True else '')\n",
    "df_fact1.pet = df_fact1.amenities.str.contains(\"pet\").apply(lambda x: 'pet' if x==True else '')\n",
    "df_fact1.park = df_fact1.amenities.str.contains(\"park\").apply(lambda x: 'park' if x==True else '')\n",
    "df_fact1.htub = df_fact1.amenities.str.contains(\"hot tub\").apply(lambda x: 'hot tub' if x==True else '')\n",
    "df_fact1.dishwasher = df_fact1.amenities.str.contains(\"dishwasher\").apply(lambda x: 'dishwasher' if x==True else '')\n",
    "df_fact1.bbq = df_fact1.amenities.str.contains(\"bbq\").apply(lambda x: 'BBQ' if x==True else '')\n",
    "df_fact1.pool = df_fact1.amenities.str.contains(\"pool\").apply(lambda x: 'pool' if x==True else '')\n",
    "df_fact1.hr = df_fact1.amenities.str.contains(\"24-hour check-in\").apply(lambda x: '24-hour check-in' if x==True else '')\n",
    "df_fact1.coffee = df_fact1.amenities.str.contains(\"coffee\").apply(lambda x: 'coffee' if x==True else '')\n",
    "df_fact1.heating = df_fact1.amenities.str.contains(\"heating\").apply(lambda x: 'heating' if x==True else '')\n",
    "df_fact1.iron = df_fact1.amenities.str.contains(\"iron\").apply(lambda x: 'iron' if x==True else '')\n",
    "df_fact1.washer = df_fact1.amenities.str.contains(\"washer\").apply(lambda x: 'washer' if x==True else '')\n",
    "df_fact1.dryer = df_fact1.amenities.str.contains(\"dryer\").apply(lambda x: 'dryer' if x==True else '')\n",
    "df_fact1.parking = df_fact1.amenities.str.contains(\"parking\").apply(lambda x: 'parking' if x==True else '')"
   ]
  },
  {
   "cell_type": "markdown",
   "metadata": {},
   "source": [
    "##### <font color='blue'> Drop the old amenities column as we have made columns for amenities and did one-hot encoding"
   ]
  },
  {
   "cell_type": "code",
   "execution_count": null,
   "metadata": {},
   "outputs": [],
   "source": [
    "df_fact1.drop('amenities',axis=1,inplace=True)"
   ]
  },
  {
   "cell_type": "markdown",
   "metadata": {},
   "source": [
    "##### <font color='blue'> Adding amenities to the Amenities column "
   ]
  },
  {
   "cell_type": "code",
   "execution_count": null,
   "metadata": {},
   "outputs": [],
   "source": [
    "df_fact1['amenities'] = df_fact1.wifi+' '+df_fact1.ac+' '+df_fact1.pet+' '+df_fact1.park+' '+\\\n",
    "df_fact1.htub+' '+df_fact1.dishwasher+' '+df_fact1.bbq+' '+df_fact1.pool+' '+df_fact1.hr+' '+df_fact1.coffee+' '+\\\n",
    "df_fact1.heating+' '+df_fact1.iron+' '+df_fact1.washer+' '+df_fact1.dryer+' '+df_fact1.parking\n"
   ]
  },
  {
   "cell_type": "markdown",
   "metadata": {},
   "source": [
    "##### <font color='blue'> Converting the individual amenities columns using one-hot encoding "
   ]
  },
  {
   "cell_type": "code",
   "execution_count": null,
   "metadata": {},
   "outputs": [],
   "source": [
    "df_fact1.wifi = df_fact1.wifi.apply(lambda x: 1 if x=='wifi' else 0)\n",
    "df_fact1.ac = df_fact1.ac.apply(lambda x: 1 if x=='air conditioning' else 0)\n",
    "df_fact1.pet = df_fact1.pet.apply(lambda x: 1 if x=='pet' else 0)\n",
    "df_fact1.park = df_fact1.park.apply(lambda x:1 if x=='park' else 0)\n",
    "df_fact1.htub = df_fact1.htub.apply(lambda x:1 if x=='hot tub' else 0)\n",
    "df_fact1.dishwasher = df_fact1.dishwasher.apply(lambda x:1 if x=='dishwasher' else 0)\n",
    "df_fact1.bbq = df_fact1.bbq.apply(lambda x:1 if x=='BBQ' else 0)\n",
    "df_fact1.pool = df_fact1.pool.apply(lambda x:1 if x=='pool' else 0)\n",
    "df_fact1.hr = df_fact1.hr.apply(lambda x:1 if x=='24-hour check-in' else 0)\n",
    "df_fact1.coffee = df_fact1.coffee.apply(lambda x:1 if x=='coffee' else 0)\n",
    "df_fact1.heating = df_fact1.heating.apply(lambda x:1 if x=='heating' else 0)\n",
    "df_fact1.iron = df_fact1.iron.apply(lambda x:1 if x=='iron' else 0)\n",
    "df_fact1.washer = df_fact1.washer.apply(lambda x:1 if x=='washer' else 0)\n",
    "df_fact1.dryer = df_fact1.dryer.apply(lambda x:1 if x=='dryer' else 0)\n",
    "df_fact1.parking = df_fact1.parking.apply(lambda x:1 if x=='parking' else 0)"
   ]
  },
  {
   "cell_type": "code",
   "execution_count": null,
   "metadata": {},
   "outputs": [],
   "source": [
    "df_fact1.isna().sum()"
   ]
  },
  {
   "cell_type": "markdown",
   "metadata": {},
   "source": [
    "##### <font color='blue'> Working on the security_deposit column and adjusting its NaN values"
   ]
  },
  {
   "cell_type": "code",
   "execution_count": null,
   "metadata": {},
   "outputs": [],
   "source": [
    "## Removing the '$' & ',' symbols form the security_deposit column \n",
    "df_fact1.security_deposit = df_fact1.security_deposit.str.strip('$')\n",
    "df_fact1.security_deposit = df_fact1.security_deposit.str.replace(',','')"
   ]
  },
  {
   "cell_type": "code",
   "execution_count": null,
   "metadata": {},
   "outputs": [],
   "source": [
    "## Converting the security_deposit column to Float from str\n",
    "df_fact1.security_deposit = df_fact1.security_deposit.astype('float64')"
   ]
  },
  {
   "cell_type": "code",
   "execution_count": null,
   "metadata": {},
   "outputs": [],
   "source": [
    "## Understanding the security_deposit column using describe()\n",
    "df_fact1.security_deposit.describe()"
   ]
  },
  {
   "cell_type": "code",
   "execution_count": null,
   "metadata": {},
   "outputs": [],
   "source": [
    "## Rounding the security_deposit column values after filling the NaN values to mean() of\n",
    "## the security_deposit values\n",
    "df_fact1.security_deposit.fillna(round(df_fact1.security_deposit.mean(),2),inplace=True)"
   ]
  },
  {
   "cell_type": "markdown",
   "metadata": {},
   "source": [
    "##### <font color='blue'> Working on the cleaning_fee column and adjusting its NaN values"
   ]
  },
  {
   "cell_type": "code",
   "execution_count": null,
   "metadata": {},
   "outputs": [],
   "source": [
    "## Understanding the cleaning_fee column using describe()\n",
    "df_fact1.cleaning_fee.describe()"
   ]
  },
  {
   "cell_type": "code",
   "execution_count": null,
   "metadata": {},
   "outputs": [],
   "source": [
    "df_fact1.cleaning_fee.isna().sum()"
   ]
  },
  {
   "cell_type": "code",
   "execution_count": null,
   "metadata": {},
   "outputs": [],
   "source": [
    "## Removing the '$' & ',' symbols form the cleaning_fee column \n",
    "df_fact1.cleaning_fee = df_fact1.cleaning_fee.str.strip('$')\n",
    "df_fact1.cleaning_fee = df_fact1.cleaning_fee.str.replace(',','')"
   ]
  },
  {
   "cell_type": "code",
   "execution_count": null,
   "metadata": {},
   "outputs": [],
   "source": [
    "## Converting the cleaning_fee column to Float from str\n",
    "df_fact1.cleaning_fee = df_fact1.cleaning_fee.astype('float64')"
   ]
  },
  {
   "cell_type": "code",
   "execution_count": null,
   "metadata": {},
   "outputs": [],
   "source": [
    "## Understanding the cleaning_fee column using describe()\n",
    "df_fact1.cleaning_fee.describe()"
   ]
  },
  {
   "cell_type": "code",
   "execution_count": null,
   "metadata": {},
   "outputs": [],
   "source": [
    "## Converting the cleaning_fee column NaN values to the mean() of values in that column\n",
    "df_fact1.cleaning_fee.fillna(round(df_fact1.cleaning_fee.mean(),2),inplace=True)"
   ]
  },
  {
   "cell_type": "code",
   "execution_count": null,
   "metadata": {},
   "outputs": [],
   "source": [
    "## Describing the cleaning_fee column after filling the NaN values in the column\n",
    "df_fact1.cleaning_fee.describe()"
   ]
  },
  {
   "cell_type": "code",
   "execution_count": null,
   "metadata": {},
   "outputs": [],
   "source": [
    "df_fact1.isna().sum()"
   ]
  },
  {
   "cell_type": "markdown",
   "metadata": {},
   "source": [
    "##### <font color='blue'> Checking the zipcode column and its NaN values"
   ]
  },
  {
   "cell_type": "code",
   "execution_count": null,
   "metadata": {},
   "outputs": [],
   "source": [
    "df_fact1.zipcode.isna().sum()"
   ]
  },
  {
   "cell_type": "code",
   "execution_count": null,
   "metadata": {},
   "outputs": [],
   "source": [
    "df_fact1.zipcode.dropna(inplace=True)"
   ]
  },
  {
   "cell_type": "code",
   "execution_count": null,
   "metadata": {},
   "outputs": [],
   "source": [
    "df_fact1.shape"
   ]
  },
  {
   "cell_type": "markdown",
   "metadata": {},
   "source": [
    "##### <font color='blue'> Checking the price column"
   ]
  },
  {
   "cell_type": "code",
   "execution_count": null,
   "metadata": {},
   "outputs": [],
   "source": [
    "## Removing the '$' & ',' symbols form the price column \n",
    "df_fact1.price = df_fact1.price.str.strip('$')\n",
    "df_fact1.price = df_fact1.price.str.replace(',','')"
   ]
  },
  {
   "cell_type": "code",
   "execution_count": null,
   "metadata": {},
   "outputs": [],
   "source": [
    "## Converting the price column to Float from str\n",
    "df_fact1.price = df_fact1.price.astype('float64')"
   ]
  },
  {
   "cell_type": "code",
   "execution_count": null,
   "metadata": {},
   "outputs": [],
   "source": [
    "## Understanding the price column using describe()\n",
    "df_fact1.price.describe()"
   ]
  },
  {
   "cell_type": "code",
   "execution_count": null,
   "metadata": {},
   "outputs": [],
   "source": [
    "## Price '0' makes no sense as the listing need to charge for per night stay and there are\n",
    "## only 9 values \n",
    "df_fact1.drop(df_fact1[df_fact1.price==0].index,axis=0,inplace=True)"
   ]
  },
  {
   "cell_type": "code",
   "execution_count": null,
   "metadata": {},
   "outputs": [],
   "source": [
    "df_fact1.price.count()"
   ]
  },
  {
   "cell_type": "markdown",
   "metadata": {},
   "source": [
    "##### <font color='blue'> Checking the extra_people column and making it numerical "
   ]
  },
  {
   "cell_type": "code",
   "execution_count": null,
   "metadata": {},
   "outputs": [],
   "source": [
    "## Removing the '$' & ',' symbols form the extra_people column \n",
    "df_fact1.extra_people = df_fact1.extra_people.str.strip('$')\n",
    "df_fact1.extra_people = df_fact1.extra_people.str.replace(',','')"
   ]
  },
  {
   "cell_type": "code",
   "execution_count": null,
   "metadata": {},
   "outputs": [],
   "source": [
    "## Converting the extra_people column to Float from str\n",
    "df_fact1.extra_people = df_fact1.extra_people.astype('float64')"
   ]
  },
  {
   "cell_type": "code",
   "execution_count": null,
   "metadata": {},
   "outputs": [],
   "source": [
    "## Understanding the extra_people column using describe()\n",
    "df_fact1.extra_people.describe()"
   ]
  },
  {
   "cell_type": "code",
   "execution_count": null,
   "metadata": {},
   "outputs": [],
   "source": [
    "df_fact1.guests_included.dtype\n",
    "df_fact1.minimum_nights.dtype\n",
    "df_fact1.maximum_nights.dtype\n",
    "## Since the numerical columns are alreay in integer type we do not need to make any change"
   ]
  },
  {
   "cell_type": "code",
   "execution_count": null,
   "metadata": {},
   "outputs": [],
   "source": [
    "## Converting the df1 to a csv file \n",
    "df_fact1.to_csv('AffordabilityDataset.csv',index=False)"
   ]
  },
  {
   "cell_type": "markdown",
   "metadata": {},
   "source": [
    "##### <font color='blue'> Dividing the price column into 10 equal parts "
   ]
  },
  {
   "cell_type": "code",
   "execution_count": null,
   "metadata": {},
   "outputs": [],
   "source": [
    "pd.qcut(df_fact1.price,10)"
   ]
  },
  {
   "cell_type": "markdown",
   "metadata": {},
   "source": [
    "##### <font color='blue'> Create a new priceType column which will be have price ranges - Low,Mid,High"
   ]
  },
  {
   "cell_type": "code",
   "execution_count": null,
   "metadata": {},
   "outputs": [],
   "source": [
    "df_fact1['priceType'] = ''"
   ]
  },
  {
   "cell_type": "markdown",
   "metadata": {},
   "source": [
    "##### <font color='blue'> Dividing the price column into categories and assigning them a label in the priceType column  "
   ]
  },
  {
   "cell_type": "code",
   "execution_count": null,
   "metadata": {},
   "outputs": [],
   "source": [
    "df_fact1.priceType.loc[(df_fact1['price']> 9.999) & (df_fact1['price'] <= 110.0)] = 'Low'#Low\n",
    "df_fact1.priceType.loc[(df_fact1['price'] > 110.0) & (df_fact1['price'] <= 500.0)] = 'Mid'#Mid\n",
    "df_fact1.priceType.loc[(df_fact1['price'] > 500.0) & (df_fact1['price'] <= 25000.0)] = 'High'#High"
   ]
  },
  {
   "cell_type": "markdown",
   "metadata": {},
   "source": [
    "##### <font color='blue'> We have created labels based on the Airbnb prices, lets have a look at the airbnb in these particular ranges"
   ]
  },
  {
   "cell_type": "code",
   "execution_count": null,
   "metadata": {},
   "outputs": [],
   "source": [
    "df_fact1['mapPriceTags'] = ''"
   ]
  },
  {
   "cell_type": "code",
   "execution_count": null,
   "metadata": {},
   "outputs": [],
   "source": [
    "df_fact1.mapPriceTags.loc[(df_fact1['price']> 9.999) & (df_fact1['price'] <= 110.0)] = 1#Low\n",
    "df_fact1.mapPriceTags.loc[(df_fact1['price'] > 110.0) & (df_fact1['price'] <= 500.0)] = 2#Mid\n",
    "df_fact1.mapPriceTags.loc[(df_fact1['price'] > 500.0) & (df_fact1['price'] <= 25000.0)] = 3#High"
   ]
  },
  {
   "cell_type": "code",
   "execution_count": null,
   "metadata": {},
   "outputs": [],
   "source": [
    "df_fact1.head(1)"
   ]
  },
  {
   "cell_type": "markdown",
   "metadata": {},
   "source": [
    "##### <font color='blue'> First, we will check for the Low range Airbnb's"
   ]
  },
  {
   "cell_type": "code",
   "execution_count": null,
   "metadata": {},
   "outputs": [],
   "source": [
    "## Making a lowRange dataframe which has all the values with the priceType as \"Low\"\n",
    "lowRnge = pd.DataFrame(df_fact1[df_fact1.priceType=='Low'])\n",
    "lowRnge.head(2)"
   ]
  },
  {
   "cell_type": "markdown",
   "metadata": {},
   "source": [
    "##### <font color='blue'>Making the map for representing the Low ranged Airbnb listings using folium library "
   ]
  },
  {
   "cell_type": "code",
   "execution_count": null,
   "metadata": {},
   "outputs": [],
   "source": [
    "## Importing the markercluster module from the folium library \n",
    "from folium.plugins import MarkerCluster\n",
    "mc = MarkerCluster()\n",
    "\n",
    "## Assigning base_low to save the map\n",
    "### making the world map to zoom on the latitude and longitude of LA county as maximum \n",
    "### number of airbnb listings are in LA county.\n",
    "base_low = folium.Map(location=[lowRnge.latitude.mean(), \n",
    " lowRnge.longitude.mean()], \n",
    " zoom_start=10)##This simply zoom in on the CA state\n",
    "\n",
    "## For every value in the Low range airbnb's put a popup marker with the Airbnb per night\n",
    "## prices\n",
    "for row in lowRnge.itertuples():\n",
    "    mc.add_child(folium.Marker(location=[row.latitude, row.longitude],popup=row.price))\n",
    "    \n",
    "base_low.add_child(mc)    \n",
    "\n",
    "## Saving the map in html format in the current directory with the name map_lowprices\n",
    "base_low.save('map_lowprices.html')"
   ]
  },
  {
   "cell_type": "markdown",
   "metadata": {},
   "source": [
    "##### <div class=\"alert alert-block alert-danger\"> Please note, you might have to run the jupyter notebook to see the map below or refer to the map_<name>.html for map details "
   ]
  },
  {
   "cell_type": "code",
   "execution_count": null,
   "metadata": {},
   "outputs": [],
   "source": [
    "base_low"
   ]
  },
  {
   "cell_type": "markdown",
   "metadata": {},
   "source": [
    "##### <font color='blue'>Now, lets see what kind of rates are included in the price ranges - Low,Mid,High for the top  places in these categories"
   ]
  },
  {
   "cell_type": "markdown",
   "metadata": {},
   "source": [
    "##### <font color='blue'> Checking the Low price range closely to see what kind of prices in the Low range "
   ]
  },
  {
   "cell_type": "code",
   "execution_count": null,
   "metadata": {},
   "outputs": [],
   "source": [
    "## Checking the low prices in the Low range for the top 10 places \n",
    "low_1 = df_fact1[df_fact1.priceType=='Low'].groupby(['price'])['location'].\\\n",
    "value_counts().nlargest(10).unstack().plot(kind='bar',stacked=True,figsize=(10,7));\n",
    "plt.title('Top locations with top low range prices')\n",
    "plt.show()\n",
    "## Almost all the top 10 prices are in the locations below "
   ]
  },
  {
   "cell_type": "code",
   "execution_count": null,
   "metadata": {},
   "outputs": [],
   "source": [
    "## Checking the low prices in the Low range for the top 10 places \n",
    "low_2 = df_fact1[df_fact1.priceType=='Low'].groupby(['location'])['price'].\\\n",
    "value_counts().nlargest(10).unstack().plot(kind='bar',stacked=True,figsize=(10,7));\n",
    "plt.title('Top locations with top low range prices')\n",
    "plt.show()\n",
    "## Almost all the top 10 prices are in the locations below "
   ]
  },
  {
   "cell_type": "markdown",
   "metadata": {},
   "source": [
    "##### <div class=\"alert alert-block alert-info\">As observed above,Almost all of the prices in Low price range are located in Hollywood.<br>Other top locations with maximum low price range are: Venice, pico-union, Downtown and Long Beach.<br>The average price in the Low range is around $100   \n",
    "</div> "
   ]
  },
  {
   "cell_type": "markdown",
   "metadata": {},
   "source": [
    "##### <font color='blue'> Checking the Mid price range closely to see what kind of prices in the Mid range "
   ]
  },
  {
   "cell_type": "code",
   "execution_count": null,
   "metadata": {},
   "outputs": [],
   "source": [
    "## Making a midRange dataframe which has all the values with the priceType as \"Mid\"\n",
    "midRnge = pd.DataFrame(df_fact1[df_fact1.priceType=='Mid'])\n",
    "midRnge.head(2)"
   ]
  },
  {
   "cell_type": "code",
   "execution_count": null,
   "metadata": {},
   "outputs": [],
   "source": [
    "## Importing the markercluster module from the folium library \n",
    "mc = MarkerCluster()\n",
    "\n",
    "## Assigning base_mid to save the map\n",
    "### making the world map to zoom on the latitude and longitude of LA county as maximum \n",
    "### number of airbnb listings are in LA county.\n",
    "base_mid = folium.Map(location=[midRnge.latitude.mean(), \n",
    " midRnge.longitude.mean()], \n",
    " zoom_start=10)##This simply zoom in on the CA state\n",
    "\n",
    "## For every value in the Mid range airbnb's put a popup marker with the Airbnb per night\n",
    "## prices\n",
    "for row in midRnge.itertuples():\n",
    "    mc.add_child(folium.Marker(location=[row.latitude, row.longitude],popup=row.price))\n",
    "\n",
    "base_mid.add_child(mc)    \n",
    "## Saving the map in html format in the current directory with the name map_midprices\n",
    "base_mid.save('map_midprices.html')"
   ]
  },
  {
   "cell_type": "markdown",
   "metadata": {},
   "source": [
    "##### <div class=\"alert alert-block alert-danger\"> Please note, you might have to run the jupyter notebook to see the map below or refer to the map_<name>.html for map details "
   ]
  },
  {
   "cell_type": "code",
   "execution_count": null,
   "metadata": {
    "scrolled": true
   },
   "outputs": [],
   "source": [
    "base_mid"
   ]
  },
  {
   "cell_type": "markdown",
   "metadata": {},
   "source": [
    "##### <font color='blue'> Second, lets have a closer look into the mid range rates..."
   ]
  },
  {
   "cell_type": "code",
   "execution_count": null,
   "metadata": {},
   "outputs": [],
   "source": [
    "## Checking the mid prices in the Mid range for the top 10 places \n",
    "mid_1 = df_fact1[df_fact1.priceType=='Mid'].groupby(['price'])['location'].\\\n",
    "value_counts().nlargest(10).unstack().plot(kind='bar',stacked=True,figsize=(10,7));\n",
    "plt.title('Top locations with top mid range prices')\n",
    "plt.show()\n",
    "## Almost all the top 10 prices are in the locations below "
   ]
  },
  {
   "cell_type": "code",
   "execution_count": null,
   "metadata": {},
   "outputs": [],
   "source": [
    "## Checking the mid prices in the Mid range for the top 10 places \n",
    "mid_2 = df_fact1[df_fact1.priceType=='Mid'].groupby(['location'])['price'].\\\n",
    "value_counts().nlargest(10).unstack().plot(kind='bar',stacked=True,figsize=(10,7));\n",
    "plt.title('Top locations with top mid range prices')\n",
    "plt.show()\n",
    "## Almost all the top 10 prices are in the locations below "
   ]
  },
  {
   "cell_type": "markdown",
   "metadata": {},
   "source": [
    "\n",
    "##### <div class=\"alert alert-block alert-info\">As observed above,Almost all of the prices in the Mid price range are located in Venice.<br>Other top locations with maximum mid price range are: Hollywood, Downtown and Long Beach.<br>The average price in the Mid range is around $150-200   \n",
    "</div> "
   ]
  },
  {
   "cell_type": "code",
   "execution_count": null,
   "metadata": {},
   "outputs": [],
   "source": [
    "## Making a highRange dataframe which has all the values with the priceType as \"High\"\n",
    "highRnge = pd.DataFrame(df_fact1[df_fact1.priceType=='High'])\n",
    "highRnge.head(2)"
   ]
  },
  {
   "cell_type": "code",
   "execution_count": null,
   "metadata": {},
   "outputs": [],
   "source": [
    "## Importing the markercluster module from the folium library \n",
    "mc = MarkerCluster()\n",
    "\n",
    "## Assigning base_high to save the map\n",
    "### making the world map to zoom on the latitude and longitude of LA county as maximum \n",
    "### number of airbnb listings are in LA county.\n",
    "base_high = folium.Map(location=[highRnge.latitude.mean(), \n",
    " highRnge.longitude.mean()], \n",
    " zoom_start=10)##This simply zoom in on the CA state\n",
    "\n",
    "## For every value in the High range airbnb's put a popup marker with the Airbnb per night\n",
    "## prices\n",
    "for row in highRnge.itertuples():\n",
    "    mc.add_child(folium.Marker(location=[row.latitude,  row.longitude],popup=row.price))\n",
    "    \n",
    "base_high.add_child(mc)    \n",
    "## Saving the map in html format in the current directory with the name map_highprices\n",
    "base_high.save('map_highprices.html')"
   ]
  },
  {
   "cell_type": "markdown",
   "metadata": {},
   "source": [
    "##### <div class=\"alert alert-block alert-danger\"> Please note, you might have to run the jupyter notebook to see the map below or refer to the map_<name>.html for map details "
   ]
  },
  {
   "cell_type": "code",
   "execution_count": null,
   "metadata": {},
   "outputs": [],
   "source": [
    "base_high"
   ]
  },
  {
   "cell_type": "markdown",
   "metadata": {},
   "source": [
    "##### <font color='blue'>Now, lets have a closer look into the high range rates..."
   ]
  },
  {
   "cell_type": "code",
   "execution_count": null,
   "metadata": {},
   "outputs": [],
   "source": [
    "## Finding out which listing has the highest price per night!\n",
    "high_info = df_fact1[df_fact1.priceType=='High']\n",
    "high_info.location[high_info['price']==25000]"
   ]
  },
  {
   "cell_type": "code",
   "execution_count": null,
   "metadata": {},
   "outputs": [],
   "source": [
    "## Checking the high prices in the High range for the top 10 places \n",
    "high_1 = df_fact1[df_fact1.priceType=='High'].groupby(['price'])['location'].\\\n",
    "value_counts().nlargest(10).unstack().plot(kind='bar',stacked=True,figsize=(10,7));\n",
    "plt.title('Top locations with top high range prices')\n",
    "plt.show()\n",
    "## Almost all the top 10 prices are in the locations below "
   ]
  },
  {
   "cell_type": "code",
   "execution_count": null,
   "metadata": {},
   "outputs": [],
   "source": [
    "## Checking the high prices in the High range for the top 10 places \n",
    "high_1 = df_fact1[df_fact1.priceType=='High'].groupby(['location'])['price'].\\\n",
    "value_counts().nlargest(10).unstack().plot(kind='bar',stacked=True,figsize=(10,7));\n",
    "plt.title('Top locations with top high range prices')\n",
    "plt.show()\n",
    "## Almost all the top 10 prices are in the locations below "
   ]
  },
  {
   "cell_type": "markdown",
   "metadata": {},
   "source": [
    "##### <div class=\"alert alert-block alert-info\">As observed above,Almost all of the prices in the High price range are located in Venice and Beverly grove.Venice seems a real versatile location for Airbnb listings.<br>Other top locations with maximum high price range are: Hollywood hills West, Malibu and Avalon.<br>The average price in the High range is around $550-800   \n",
    "</div> "
   ]
  },
  {
   "cell_type": "markdown",
   "metadata": {},
   "source": [
    "### <font color='red'><b>Interesting Fact 2</b></font>"
   ]
  },
  {
   "cell_type": "markdown",
   "metadata": {},
   "source": [
    "#### <font color='green'>Q) Make a dataset copy for Interesting Fact 2 which is focused on:\n",
    "<font color='green'>1) What are the different types of properties in and around LA? Do they vary by neighborhood?<br>2) Airbnb property preference based on cutomer reviews.<br>3) What neighbhourhoods are rated highly by guests?</font>"
   ]
  },
  {
   "cell_type": "markdown",
   "metadata": {},
   "source": [
    "##### <div class=\"alert alert-block alert-success\"><li>Most popular room type in the Airbnb listings is \"Entire House/apt\" which meaning mostly all of the customers prefer to book entire house or apartment when they select an Airbnb.The second most preferred is the \"Private room\" type which means that the room is private but the house or apartment is not available to only one customer group.The least popular is the \"Shared room\" type of Airbnb in which the customers may share the House or apartment with the host or other people already living at the Airbnb.<br><br></li><li>The top 5 neighbhourhoods according to properties and customer reviews  are:Venice,Downtown, Hollywood, Santa Monica and Long Beach.<br><br><li>We can see that Apartment style listings are highest in number in all the neighbhourhoods.As we can see, Hollywood has the highest number of apartment style listings. In Venice, we observe that both Apartment and House styled listings are highest. In Downtown we also observe that Other type of listings like tent, camper/RV etc are popular.<br><br></li><li>We see that for a perfect score of 10.0 in the categories- accuracy,cleanliness,checkin,communication,location and value:<br><li>Hollywood has the highest cutomer ratings for Apartment style listings.</li><br><li>It is interesting to see that in Venice & Long Beach - House type listings have higher customer ratings overall in contrast to Apartment style listings.</li><br><li> Overall for the category of value, Hollywood apartments, Venice & Long Beach's houses are customer's favorite. Even the Downtown region has notiecable preference for apartment styled listings.<br><br><li> It is also observed that in Downtown customers have varied property type experience as the \"Other\" category in property_type which includes tent, bus,camper/RV etc, has been scored high.</li> </div>"
   ]
  },
  {
   "cell_type": "code",
   "execution_count": null,
   "metadata": {},
   "outputs": [],
   "source": [
    "## Creating a dataset for interesting Fact 2\n",
    "df_Fact2 = initFile[['name','property_type', 'room_type', 'neighbourhood_cleansed', 'review_scores_rating', 'review_scores_accuracy',\n",
    "       'review_scores_cleanliness', 'review_scores_checkin','review_scores_communication', 'review_scores_location',\n",
    "       'review_scores_value', 'number_of_reviews', 'first_review', 'last_review',  'minimum_nights',\n",
    "       'price', 'reviews_per_month', 'host_response_time', 'cancellation_policy']].copy()"
   ]
  },
  {
   "cell_type": "code",
   "execution_count": null,
   "metadata": {},
   "outputs": [],
   "source": [
    "## Understanding the number of reviews through their value_counts\n",
    "df_Fact2['number_of_reviews'].value_counts()"
   ]
  },
  {
   "cell_type": "code",
   "execution_count": null,
   "metadata": {},
   "outputs": [],
   "source": [
    "df_Fact2.shape"
   ]
  },
  {
   "cell_type": "markdown",
   "metadata": {},
   "source": [
    "##### <font color='blue'> Dropping the NaN values from the number_of_reviews column"
   ]
  },
  {
   "cell_type": "code",
   "execution_count": null,
   "metadata": {},
   "outputs": [],
   "source": [
    "df_Fact2.drop(df_Fact2[df_Fact2.number_of_reviews.values==0].index,axis=0,inplace=True)"
   ]
  },
  {
   "cell_type": "code",
   "execution_count": null,
   "metadata": {},
   "outputs": [],
   "source": [
    "df_Fact2.shape"
   ]
  },
  {
   "cell_type": "markdown",
   "metadata": {},
   "source": [
    "##### <font color='blue'>Finding out the top 5 neighbourhoods with maximum properties "
   ]
  },
  {
   "cell_type": "code",
   "execution_count": null,
   "metadata": {},
   "outputs": [],
   "source": [
    "df_Fact2.groupby('neighbourhood_cleansed')['property_type'].count().nlargest(5)"
   ]
  },
  {
   "cell_type": "markdown",
   "metadata": {},
   "source": [
    "### <div class=\"alert alert-block alert-info\"><li>Most popular room type in the Airbnb listings is \"Entire House/apt\" which meaning mostly all of the customers prefer to book entire house or apartment when they select an Airbnb. The second most preferred is the \"Private room\" type which means that the room is private but the house or apartment is not available to only one customer group. The least popular is the \"Shared room\" type of Airbnb in which the customers may share the House or apartment with the host or other people already living at the Airbnb.<br></li></div>"
   ]
  },
  {
   "cell_type": "code",
   "execution_count": null,
   "metadata": {},
   "outputs": [],
   "source": [
    "## Doing a countplot on room_type column to find out which is the most preferred type\n",
    "room_plot = sns.countplot(df_Fact2['room_type'])\n",
    "room_plot.set(xlabel='Room type of the listing', ylabel='Number of Airbnb')\n",
    "plt.show()"
   ]
  },
  {
   "cell_type": "markdown",
   "metadata": {},
   "source": [
    "##### <font color='blue'> Finding out the top 5 neighbhourhoods for Airbnb listings "
   ]
  },
  {
   "cell_type": "code",
   "execution_count": null,
   "metadata": {},
   "outputs": [],
   "source": [
    "## Plotting a bar graph here \n",
    "feq=df_Fact2['neighbourhood_cleansed'].value_counts().nlargest(5).\\\n",
    "    sort_values(ascending=True)\n",
    "feq.plot.barh(figsize=(10, 8), color='salmon', width=1)\n",
    "plt.title(\"Number of listings by neighbourhood\", fontsize=20)\n",
    "plt.xlabel('Number of listings', fontsize=12)\n",
    "plt.show()"
   ]
  },
  {
   "cell_type": "markdown",
   "metadata": {},
   "source": [
    "##### <font color='blue'> Now, lets see what type of property are most common "
   ]
  },
  {
   "cell_type": "code",
   "execution_count": null,
   "metadata": {},
   "outputs": [],
   "source": [
    "df_Fact2.property_type.value_counts()"
   ]
  },
  {
   "cell_type": "markdown",
   "metadata": {},
   "source": [
    "##### <font color='blue'> We have a lot of similar kind of properties therefore clubbing them into one category "
   ]
  },
  {
   "cell_type": "code",
   "execution_count": null,
   "metadata": {},
   "outputs": [],
   "source": [
    "## Converting other apartment type listings to Apartment \n",
    "df_Fact2.property_type.loc[df_Fact2.property_type.values=='Serviced apartment'] = 'Apartment'\n",
    "df_Fact2.property_type.loc[df_Fact2.property_type.values=='Aparthotel'] = 'Apartment'\n",
    "\n",
    "## Converting other house type listings to House \n",
    "df_Fact2.property_type.loc[df_Fact2.property_type.values=='Villa'] = 'House'\n",
    "df_Fact2.property_type.loc[df_Fact2.property_type.values=='Cottage'] = 'House'\n",
    "df_Fact2.property_type.loc[df_Fact2.property_type.values=='Bungalow'] = 'House'\n",
    "df_Fact2.property_type.loc[df_Fact2.property_type.values=='Tiny house'] = 'House'\n",
    "df_Fact2.property_type.loc[df_Fact2.property_type.values=='Chalet'] = 'House'\n",
    "df_Fact2.property_type.loc[df_Fact2.property_type.values=='Farm stay'] = 'House'\n",
    "df_Fact2.property_type.loc[df_Fact2.property_type.values=='Cabin'] = 'House'\n",
    "df_Fact2.property_type.loc[df_Fact2.property_type.values=='Dome house'] = 'House'\n",
    "\n",
    "## Converting other guesthouse type listings to Guesthouse \n",
    "df_Fact2.property_type.loc[df_Fact2.property_type.values=='Guest suite'] = 'Guesthouse'\n",
    "\n",
    "## Converting other guesthouse type listings to Hotel\n",
    "df_Fact2.property_type.loc[df_Fact2.property_type.values=='Boutique hotel'] = 'Hotel'\n",
    "df_Fact2.property_type.loc[df_Fact2.property_type.values=='Bed and breakfast'] = 'Hotel'\n",
    "\n",
    "## Converting other hostel type listings to Hostel\n",
    "df_Fact2.property_type.loc[df_Fact2.property_type.values=='Dorm'] = 'Hostel'\n",
    "\n",
    "## Converting other hostel type listings to Hostel\n",
    "df_Fact2.property_type.loc[df_Fact2.property_type.values=='Campsite'] = 'Camper/RV'\n",
    "\n",
    "\n",
    "top5types = df_Fact2.property_type.value_counts().nlargest(5).index\n",
    "\n",
    "df_Fact2.property_type.value_counts()"
   ]
  },
  {
   "cell_type": "markdown",
   "metadata": {},
   "source": [
    "##### <font color='blue'>Taking the top 5 types of Airbnb properties "
   ]
  },
  {
   "cell_type": "code",
   "execution_count": null,
   "metadata": {},
   "outputs": [],
   "source": [
    "top5types"
   ]
  },
  {
   "cell_type": "markdown",
   "metadata": {},
   "source": [
    "##### <font color='blue'>Setting non-top properties as Other to differentiate better"
   ]
  },
  {
   "cell_type": "code",
   "execution_count": null,
   "metadata": {},
   "outputs": [],
   "source": [
    "df_Fact2.loc[~df_Fact2.property_type.isin(top5types),'property_type'] = 'Other'\n",
    "df_Fact2.property_type.value_counts()"
   ]
  },
  {
   "cell_type": "markdown",
   "metadata": {},
   "source": [
    "##### <font color='blue'> Understanding what kind of properties are famous in the top 5 neighbhourhoods"
   ]
  },
  {
   "cell_type": "code",
   "execution_count": null,
   "metadata": {},
   "outputs": [],
   "source": [
    "#grabbing top 5 neighbourhoods for sub-dataframe\n",
    "sub_5=df_Fact2.loc[df_Fact2['neighbourhood_cleansed'].\\\n",
    "                 isin(['Venice','Hollywood','Downtown','Long Beach',\n",
    "                 'Santa Monica'])]\n",
    "\n",
    "#using catplot to represent multiple interesting attributes together and a count\n",
    "viz=sns.catplot(x='neighbourhood_cleansed',\\\n",
    "                  col='room_type', data=sub_5,\\\n",
    "                   kind='count',hue='property_type',edgecolor=\".6\")\n",
    "viz.set_xticklabels(rotation=90)\n"
   ]
  },
  {
   "cell_type": "markdown",
   "metadata": {},
   "source": [
    "###### <div class=\"alert alert-block alert-info\"> We can see that Apartment style listings are highest in number in all the neighbhourhoods.As we can see, Hollywood has the highest number of apartment style listings. In Venice, we observe that both Apartment and House styled listings are highest. In Downtown we also observe that Other type of listings like tent, camper/RV etc are popular.    "
   ]
  },
  {
   "cell_type": "markdown",
   "metadata": {},
   "source": [
    "#### <font color='blue'> Grouping the top 5 property types with the number of reviews"
   ]
  },
  {
   "cell_type": "code",
   "execution_count": null,
   "metadata": {},
   "outputs": [],
   "source": [
    "df_Fact2.groupby('property_type')['number_of_reviews'].count().nlargest(5)"
   ]
  },
  {
   "cell_type": "code",
   "execution_count": null,
   "metadata": {},
   "outputs": [],
   "source": [
    "df_Fact2.dtypes"
   ]
  },
  {
   "cell_type": "code",
   "execution_count": null,
   "metadata": {},
   "outputs": [],
   "source": [
    "property_col = df_Fact2.property_type.value_counts().nlargest(5)"
   ]
  },
  {
   "cell_type": "markdown",
   "metadata": {},
   "source": [
    "##### <font color='blue'> Top 5 property types by the number of reviews"
   ]
  },
  {
   "cell_type": "code",
   "execution_count": null,
   "metadata": {},
   "outputs": [],
   "source": [
    "plt.style.use('fivethirtyeight')\n",
    "\n",
    "## Setting the subplots and color for the piechart and barplot\n",
    "fig,ax=plt.subplots(1,2,figsize=(15,8))\n",
    "clr = (\"blue\", \"forestgreen\", \"gold\", \"red\", \"brown\")\n",
    "\n",
    "## Plotting a bar plot to get the top 5 property_type values \n",
    "df_Fact2.property_type.value_counts().sort_values(ascending=False)[:5].\\\n",
    "sort_values().plot(kind='barh',color=clr,ax=ax[0])\n",
    "\n",
    "## Settting the x axis and title \n",
    "ax[0].set_title(\"Top 5 property types by the number of reviews\",size=20)\n",
    "ax[0].set_xlabel('number_of_reviews',size=18)\n",
    "\n",
    "## Doing a count and grouping the property_type for the top 5\n",
    "count=df_Fact2['property_type'].value_counts()\n",
    "groups=list(df_Fact2['property_type'].value_counts().index)[:5]\n",
    "counts=list(count[:5])\n",
    "counts.append(count.agg(sum)-count[:5].agg('sum'))\n",
    "groups.append('Other')\n",
    "type_dict=pd.DataFrame({\"group\":groups,\"counts\":counts})\n",
    "\n",
    "clr1=(\"brown\",\"red\", \"gold\", \"forestgreen\",\"blue\")\n",
    "qx = type_dict.plot(kind='pie', y='counts', labels=groups,colors=clr1,\\\n",
    "                    autopct='%1.1f%%', pctdistance=0.9, radius=1.2,ax=ax[1])\n",
    "\n",
    "plt.legend(loc=0, bbox_to_anchor=(1.15,0.4)) \n",
    "plt.subplots_adjust(wspace =0.5, hspace =0)\n",
    "plt.ioff()"
   ]
  },
  {
   "cell_type": "markdown",
   "metadata": {},
   "source": [
    "##### <font color='blue'> Specific type of reviews which people look at when booking an airbnb"
   ]
  },
  {
   "cell_type": "code",
   "execution_count": null,
   "metadata": {},
   "outputs": [],
   "source": [
    "df_Fact2.review_scores_accuracy.count()"
   ]
  },
  {
   "cell_type": "code",
   "execution_count": null,
   "metadata": {},
   "outputs": [],
   "source": [
    "## Making sublplots to plot the countplots \n",
    "fig,axes= plt.subplots(nrows=2, ncols= 3,figsize=(20,20))\n",
    "\n",
    "## Customer review count on the basis of accuracy\n",
    "percentage = \n",
    "sns.countplot(df_Fact2['review_scores_accuracy'],ax=axes[0][0],estimator=percentage)        \n",
    "\n",
    "## Customer review count on the basis of cleanliness\n",
    "sns.countplot(df_Fact2['review_scores_cleanliness'],ax=axes[0][1])\n",
    "\n",
    "## Customer review count on the basis of checkin\n",
    "sns.countplot(df_Fact2['review_scores_checkin'],ax=axes[0][2])\n",
    "\n",
    "## Customer review count on the basis of communication\n",
    "sns.countplot(df_Fact2['review_scores_communication'],ax=axes[1][0])\n",
    "\n",
    "## Customer review count on the basis of location\n",
    "sns.countplot(df_Fact2['review_scores_location'],ax=axes[1][1])\n",
    "\n",
    "## Customer review count on the basis of value\n",
    "sns.countplot(df_Fact2['review_scores_value'],ax=axes[1][2])\n"
   ]
  },
  {
   "cell_type": "markdown",
   "metadata": {},
   "source": [
    "###### <div class=\"alert alert-block alert-info\"> As observed customers who have good Airbnb experience have reviewed their stay 8.0 or above. Lets take a closer look at how the top 5 neighbhourhoods are rated in these high scores."
   ]
  },
  {
   "cell_type": "markdown",
   "metadata": {},
   "source": [
    "##### <font color='blue'> Understanding the customer reviews at the top 5 neighbourhoods against the property type"
   ]
  },
  {
   "cell_type": "code",
   "execution_count": null,
   "metadata": {},
   "outputs": [],
   "source": [
    "from  matplotlib.ticker import PercentFormatter"
   ]
  },
  {
   "cell_type": "code",
   "execution_count": null,
   "metadata": {},
   "outputs": [],
   "source": [
    "a = df_Fact2.loc[(df_Fact2['neighbourhood_cleansed'].\\\n",
    "                 isin(['Venice','Hollywood','Downtown','Long Beach',\n",
    "                 'Santa Monica']))]\n",
    "\n",
    "tot_holly_9 = a[a['review_scores_accuracy']==9.0].neighbourhood_cleansed\\\n",
    "[a.neighbourhood_cleansed=='Hollywood'].count()\n",
    "\n",
    "tot_holly = a[a['neighbourhood_cleansed']=='Hollywood'].count()\n",
    "P_holly = tot_holly_9/tot_holly\n",
    "\n",
    "df_Fact2"
   ]
  },
  {
   "cell_type": "code",
   "execution_count": null,
   "metadata": {},
   "outputs": [],
   "source": [
    "## Checking for review_scores_accuracy\n",
    "df_Fact2.groupby('neighbourhood_cleansed')['review_scores_accuracy'].value_counts().nlargest(5)\n",
    "\n",
    "#grabbing top 5 neighbourhoods for sub-dataframe\n",
    "sub_5=df_Fact2.loc[(df_Fact2['neighbourhood_cleansed'].\\\n",
    "                 isin(['Venice','Hollywood','Downtown','Long Beach',\n",
    "                 'Santa Monica']))&(df_Fact2.review_scores_accuracy.isin(['9.0','10.0']))]\n",
    "                                                                          \n",
    "                                                                          \n",
    "#using catplot to represent multiple interesting attributes together and a count\n",
    "viz=sns.catplot(x='neighbourhood_cleansed',\\\n",
    "                  col='review_scores_accuracy', data=sub_5,\\\n",
    "                   kind='count',hue='property_type',edgecolor=\".6\")\n",
    "viz.set_xticklabels(rotation=90)\n",
    "\n",
    "plt.show()"
   ]
  },
  {
   "cell_type": "code",
   "execution_count": null,
   "metadata": {},
   "outputs": [],
   "source": [
    "df_Fact2.groupby('neighbourhood_cleansed')['review_scores_cleanliness'].value_counts().nlargest(5)\n",
    "\n",
    "#grabbing top 5 neighbourhoods for sub-dataframe\n",
    "sub_5=df_Fact2.loc[(df_Fact2['neighbourhood_cleansed'].\\\n",
    "                 isin(['Venice','Hollywood','Downtown','Long Beach',\n",
    "                 'Santa Monica']))&(df_Fact2.review_scores_cleanliness.isin(['9.0'\\\n",
    "                                                                            ,'10.0']))]\n",
    "\n",
    "#using catplot to represent multiple interesting attributes together and a count\n",
    "viz=sns.catplot(x='neighbourhood_cleansed',\\\n",
    "                  col='review_scores_cleanliness', data=sub_5,\\\n",
    "                   kind='count',hue='property_type',edgecolor=\".6\")\n",
    "viz.set_xticklabels(rotation=90)\n",
    "\n",
    "for ax in viz.axes.flat:\n",
    "    ax.yaxis.set_major_formatter(PercentFormatter(1000))\n",
    "plt.show()"
   ]
  },
  {
   "cell_type": "code",
   "execution_count": null,
   "metadata": {},
   "outputs": [],
   "source": [
    "df_Fact2.groupby('neighbourhood_cleansed')['review_scores_checkin'].value_counts().nlargest(5)\n",
    "\n",
    "#grabbing top 5 neighbourhoods for sub-dataframe\n",
    "sub_5=df_Fact2.loc[(df_Fact2['neighbourhood_cleansed'].\\\n",
    "                 isin(['Venice','Hollywood','Downtown','Long Beach',\n",
    "                 'Santa Monica']))&(df_Fact2.review_scores_checkin.isin(['9.0'\\\n",
    "                                                                            ,'10.0']))]\n",
    "\n",
    "#using catplot to represent multiple interesting attributes together and a count\n",
    "viz=sns.catplot(x='neighbourhood_cleansed',\\\n",
    "                  col='review_scores_checkin', data=sub_5,\\\n",
    "                   kind='count',hue='property_type',edgecolor=\".6\")\n",
    "viz.set_xticklabels(rotation=90)\n",
    "\n",
    "for ax in viz.axes.flat:\n",
    "    ax.yaxis.set_major_formatter(PercentFormatter(1000))\n",
    "plt.show()"
   ]
  },
  {
   "cell_type": "code",
   "execution_count": null,
   "metadata": {},
   "outputs": [],
   "source": [
    "df_Fact2.groupby('neighbourhood_cleansed')['review_scores_communication'].value_counts().nlargest(5)\n",
    "\n",
    "#grabbing top 5 neighbourhoods for sub-dataframe\n",
    "sub_5=df_Fact2.loc[(df_Fact2['neighbourhood_cleansed'].\\\n",
    "                 isin(['Venice','Hollywood','Downtown','Long Beach',\n",
    "                 'Santa Monica']))&(df_Fact2.review_scores_communication.isin(['9.0'\\\n",
    "                                                                            ,'10.0']))]\n",
    "\n",
    "#using catplot to represent multiple interesting attributes together and a count\n",
    "viz=sns.catplot(x='neighbourhood_cleansed',\\\n",
    "                  col='review_scores_communication', data=sub_5,\\\n",
    "                   kind='count',hue='property_type',edgecolor=\".6\")\n",
    "viz.set_xticklabels(rotation=90)\n",
    "\n",
    "for ax in viz.axes.flat:\n",
    "    ax.yaxis.set_major_formatter(PercentFormatter(1000))\n",
    "plt.show()"
   ]
  },
  {
   "cell_type": "code",
   "execution_count": null,
   "metadata": {},
   "outputs": [],
   "source": [
    "df_Fact2.groupby('neighbourhood_cleansed')['review_scores_location'].value_counts().nlargest(5)\n",
    "\n",
    "#grabbing top 5 neighbourhoods for sub-dataframe\n",
    "sub_5=df_Fact2.loc[(df_Fact2['neighbourhood_cleansed'].\\\n",
    "                 isin(['Venice','Hollywood','Downtown','Long Beach',\n",
    "                 'Santa Monica']))&(df_Fact2.review_scores_location.isin(['9.0'\\\n",
    "                                                                            ,'10.0']))]\n",
    "\n",
    "#using catplot to represent multiple interesting attributes together and a count\n",
    "viz=sns.catplot(x='neighbourhood_cleansed',\\\n",
    "                  col='review_scores_location', data=sub_5,\\\n",
    "                   kind='count',hue='property_type',edgecolor=\".6\")\n",
    "viz.set_xticklabels(rotation=90)\n",
    "for ax in viz.axes.flat:\n",
    "    ax.yaxis.set_major_formatter(PercentFormatter(1000))\n",
    "plt.show()"
   ]
  },
  {
   "cell_type": "code",
   "execution_count": null,
   "metadata": {},
   "outputs": [],
   "source": [
    "df_Fact2.groupby('neighbourhood_cleansed')['review_scores_value'].value_counts().nlargest(5)\n",
    "\n",
    "#grabbing top 5 neighbourhoods for sub-dataframe\n",
    "sub_5=df_Fact2.loc[(df_Fact2['neighbourhood_cleansed'].\\\n",
    "                 isin(['Venice','Hollywood','Downtown','Long Beach',\n",
    "                 'Santa Monica']))&(df_Fact2.review_scores_value.isin(['9.0'\\\n",
    "                                                                            ,'10.0']))]\n",
    "\n",
    "#using catplot to represent multiple interesting attributes together and a count\n",
    "viz=sns.catplot(x='neighbourhood_cleansed',\\\n",
    "                  col='review_scores_value', data=sub_5,\\\n",
    "                   kind='count',hue='property_type',edgecolor=\".6\")\n",
    "viz.set_xticklabels(rotation=90)"
   ]
  },
  {
   "cell_type": "markdown",
   "metadata": {},
   "source": [
    "###### <div class=\"alert alert-block alert-info\">We see that for a perfect score of 10.0 in the categories- accuracy,cleanliness,checkin,communication,location and value:<br><li>Hollywood has the highest cutomer ratings for Apartment style listings.</li><br><li>It is interesting to see that in Venice & Long Beach - House type listings have higher customer ratings overall in contrast to Apartment style listings.</li><br><li> Overall for the category of value, Hollywood apartments, Venice & Long Beach's houses are customer's favorite. Even the Downtown region has notiecable preference for apartment styled listings.<br><br><li> It is also observed that in Downtown customers have varied property type experience as the \"Other\" category in property_type which includes tent, bus,camper/RV etc, has been scored high.</li>  \n",
    "    "
   ]
  },
  {
   "cell_type": "markdown",
   "metadata": {},
   "source": [
    "### <font color='red'> Interesting Fact 3"
   ]
  },
  {
   "cell_type": "markdown",
   "metadata": {},
   "source": [
    "#### <font color='green'>Q) Make a dataset copy for Interesting Fact 3 which is focused on:\n",
    "<font color='green'> Predicting where and what kind of listing a Host should invest in for a profitable Airbnb business.\n",
    "</font>"
   ]
  },
  {
   "cell_type": "markdown",
   "metadata": {},
   "source": [
    "###### <div class=\"alert alert-block alert-success\"> Using a decision tree class model we have come to a conclusion that there is a strong relationship between the f and t v c \n",
    "  this model has a 64% accuracy\n",
    "    the host can refer this to make investing \n",
    "    there is little to no correlation between the price and the follow variables "
   ]
  },
  {
   "cell_type": "code",
   "execution_count": null,
   "metadata": {},
   "outputs": [],
   "source": [
    "#importing libraries for the decision tree classification model \n",
    "import sklearn as sk\n",
    "import sklearn.tree as tree\n",
    "from IPython.display import Image  \n",
    "import pydotplus"
   ]
  },
  {
   "cell_type": "code",
   "execution_count": null,
   "metadata": {},
   "outputs": [],
   "source": [
    "## Taking a copy of the original file \n",
    "df_host = initFile.copy()"
   ]
  },
  {
   "cell_type": "markdown",
   "metadata": {},
   "source": [
    "##### <font color='blue'> Cleaning the df_host dataset as we did for df_fact1 and df_Fact2 "
   ]
  },
  {
   "cell_type": "code",
   "execution_count": null,
   "metadata": {},
   "outputs": [],
   "source": [
    "### Taking only the CA listings and making sure everything in state as uppercase\n",
    "df_host.state.loc[df_host.state=='California'] = 'CA'\n",
    "df_host.state.unique()\n",
    "df_host.state = df_host['state'].str.upper()"
   ]
  },
  {
   "cell_type": "code",
   "execution_count": null,
   "metadata": {},
   "outputs": [],
   "source": [
    "## Making sure we have only CA state values\n",
    "df_host.drop(df_host[~(df_host.state.values=='CA')].index,axis=0,inplace=True)"
   ]
  },
  {
   "cell_type": "code",
   "execution_count": null,
   "metadata": {},
   "outputs": [],
   "source": [
    "df_host.city = df_host.city.str.lower()\n",
    "df_host.city.unique()\n",
    "df_host.city.dropna(inplace=True)"
   ]
  },
  {
   "cell_type": "code",
   "execution_count": null,
   "metadata": {},
   "outputs": [],
   "source": [
    "df_host['city'] = df_host['city'].str.replace(r'[^\\x00-\\x7F]+', '')\n",
    "df_host.city.dropna(inplace=True)"
   ]
  },
  {
   "cell_type": "markdown",
   "metadata": {},
   "source": [
    "##### <font color='blue'> Cleaning up all the location related columns "
   ]
  },
  {
   "cell_type": "code",
   "execution_count": null,
   "metadata": {},
   "outputs": [],
   "source": [
    "## Removing the spaces from the neighbourhood_cleansed\n",
    "df_host.neighbourhood_cleansed = df_host.neighbourhood_cleansed.str.strip()\n",
    "\n",
    "## Cleaning the smart_location column \n",
    "df_host.smart_location = df_host.smart_location.str.replace(', ca',' ', regex=True)\n",
    "df_host.smart_location = df_host.smart_location.str.strip()\n",
    "df_host.drop(df_host[(df_host['smart_location'] == '蒙特利帕克, ca') | \\\n",
    "                       (df_host['smart_location'] == '因達斯特里, ca') | \\\n",
    "                       (df_host['smart_location'] == '艾尔蒙地, ca') | \\\n",
    "                       (df_host['smart_location'] == '沃尔纳特, ca') | \\\n",
    "                       (df_host['smart_location'] == '哈仙达岗, ca') | \\\n",
    "                       (df_host['smart_location'] == '罗兰高地, ca') | \\\n",
    "                       (df_host['smart_location'] == '罗兰岗, ca') | \\\n",
    "                       (df_host['smart_location'] == '天普市, ca') | \\\n",
    "                       (df_host['smart_location'] == '洛杉矶, ca')  \\\n",
    "                      ].index, inplace = True)\n",
    "\n",
    "## Convert smart_location and neighbourhood_cleansed columns into lower case\n",
    "df_host.smart_location = df_host.smart_location.str.lower()\n",
    "df_host.neighbourhood_cleansed = df_host.neighbourhood_cleansed.str.lower() "
   ]
  },
  {
   "cell_type": "markdown",
   "metadata": {},
   "source": [
    "##### <font color='blue'> Cleaning the listing price related columns "
   ]
  },
  {
   "cell_type": "code",
   "execution_count": null,
   "metadata": {},
   "outputs": [],
   "source": [
    "## Removing the '$' & ',' symbols form the security_deposit column \n",
    "df_host.security_deposit = df_host.security_deposit.str.strip('$')\n",
    "df_host.security_deposit = df_host.security_deposit.str.replace(',','')\n",
    "\n",
    "## Converting the security_deposit column to Float from str\n",
    "df_host.security_deposit = df_host.security_deposit.astype('float64')\n",
    "\n",
    "## Rounding the security_deposit column values after filling the NaN values to mean() of\n",
    "## the security_deposit values\n",
    "df_host.security_deposit.fillna(round(df_host.security_deposit.mean(),2),inplace=True)\n",
    "\n",
    "## Removing the '$' & ',' symbols form the cleaning_fee column \n",
    "df_host.cleaning_fee = df_host.cleaning_fee.str.strip('$')\n",
    "df_host.cleaning_fee = df_host.cleaning_fee.str.replace(',','')\n",
    "\n",
    "## Converting the cleaning_fee column to Float from str\n",
    "df_host.cleaning_fee = df_host.cleaning_fee.astype('float64')\n",
    "\n",
    "## Converting the cleaning_fee column NaN values to the mean() of values in that column\n",
    "df_host.cleaning_fee.fillna(round(df_host.cleaning_fee.mean(),2),inplace=True)\n",
    "\n",
    "## Removing the '$' & ',' symbols form the price column \n",
    "df_host.price = df_host.price.str.strip('$')\n",
    "df_host.price = df_host.price.str.replace(',','')\n",
    "\n",
    "## Converting the price column to Float from str\n",
    "df_host.price = df_host.price.astype('float64')\n",
    "\n",
    "## Price '0' makes no sense as the listing need to charge for per night stay and there are\n",
    "## only 9 values \n",
    "df_host.drop(df_host[df_host.price==0].index,axis=0,inplace=True)\n",
    "\n",
    "## Removing the '$' & ',' symbols form the extra_people column \n",
    "df_host.extra_people = df_host.extra_people.str.strip('$')\n",
    "df_host.extra_people = df_host.extra_people.str.replace(',','')\n",
    "\n",
    "## Converting the extra_people column to Float from str\n",
    "df_host.extra_people = df_host.extra_people.astype('float64')\n"
   ]
  },
  {
   "cell_type": "markdown",
   "metadata": {},
   "source": [
    "##### <font color='blue'> Cleaning the important columns we are considering off their NaN values"
   ]
  },
  {
   "cell_type": "code",
   "execution_count": null,
   "metadata": {},
   "outputs": [],
   "source": [
    "df_host.zipcode.dropna(inplace=True)"
   ]
  },
  {
   "cell_type": "markdown",
   "metadata": {},
   "source": [
    "##### <font color='blue'> Making sure the columns related to df_Fact2 are also clean and uniform "
   ]
  },
  {
   "cell_type": "code",
   "execution_count": null,
   "metadata": {},
   "outputs": [],
   "source": [
    "## Dropping the nan reviews from the number_of_Reviews column \n",
    "df_host.drop(df_host[df_host.number_of_reviews.values==0].index,axis=0,inplace=True)\n",
    "\n",
    "## Converting other apartment type listings to Apartment \n",
    "df_host.property_type.loc[df_host.property_type.values=='Serviced apartment'] = 'Apartment'\n",
    "df_host.property_type.loc[df_host.property_type.values=='Aparthotel'] = 'Apartment'\n",
    "\n",
    "## Converting other house type listings to House \n",
    "df_host.property_type.loc[df_host.property_type.values=='Villa'] = 'House'\n",
    "df_host.property_type.loc[df_host.property_type.values=='Cottage'] = 'House'\n",
    "df_host.property_type.loc[df_host.property_type.values=='Bungalow'] = 'House'\n",
    "df_host.property_type.loc[df_host.property_type.values=='Tiny house'] = 'House'\n",
    "df_host.property_type.loc[df_host.property_type.values=='Chalet'] = 'House'\n",
    "df_host.property_type.loc[df_host.property_type.values=='Farm stay'] = 'House'\n",
    "df_host.property_type.loc[df_host.property_type.values=='Cabin'] = 'House'\n",
    "df_host.property_type.loc[df_host.property_type.values=='Dome house'] = 'House'\n",
    "df_host.property_type.loc[df_host.property_type.values=='Townhouse'] = 'House'\n",
    "\n",
    "## Converting other guesthouse type listings to Guesthouse \n",
    "df_host.property_type.loc[df_host.property_type.values=='Guest suite'] = 'Guesthouse'\n",
    "\n",
    "## Converting other guesthouse type listings to Hotel\n",
    "df_host.property_type.loc[df_host.property_type.values=='Boutique hotel'] = 'Hotel'\n",
    "df_host.property_type.loc[df_host.property_type.values=='Bed and breakfast'] = 'Hotel'\n",
    "\n",
    "## Converting other hostel type listings to Hostel\n",
    "df_host.property_type.loc[df_host.property_type.values=='Dorm'] = 'Hostel'\n",
    "\n",
    "## Converting other hostel type listings to Hostel\n",
    "df_host.property_type.loc[df_host.property_type.values=='Campsite'] = 'Camper/RV'\n",
    "\n",
    "top5types = df_host.property_type.value_counts().nlargest(5).index\n",
    "\n",
    "df_host.loc[~df_host.property_type.isin(top5types),'property_type'] = 'Other'"
   ]
  },
  {
   "cell_type": "code",
   "execution_count": null,
   "metadata": {},
   "outputs": [],
   "source": [
    "df_host.property_type.value_counts()"
   ]
  },
  {
   "cell_type": "code",
   "execution_count": null,
   "metadata": {},
   "outputs": [],
   "source": [
    "df_host['property_style'] = ''"
   ]
  },
  {
   "cell_type": "code",
   "execution_count": null,
   "metadata": {},
   "outputs": [],
   "source": [
    "df_Fact3['property_style'].replace('', np.nan, inplace=True)\n",
    "\n",
    "df_Fact3.property_style.fillna(0,inplace=True)\n"
   ]
  },
  {
   "cell_type": "code",
   "execution_count": null,
   "metadata": {},
   "outputs": [],
   "source": [
    "df_host.property_style.loc[df_host.property_type=='House'] = 1\n",
    "df_host.property_style.loc[df_host.property_type=='Apartment'] = 2\n",
    "df_host.property_style.loc[df_host.property_type=='Guesthouse'] = 3\n",
    "df_host.property_style.loc[df_host.property_type=='Condominium'] = 4\n",
    "df_host.property_style.loc[df_host.property_type=='Other'] = 0\n"
   ]
  },
  {
   "cell_type": "code",
   "execution_count": null,
   "metadata": {},
   "outputs": [],
   "source": [
    "df_Fact3.property_style.value_counts()"
   ]
  },
  {
   "cell_type": "code",
   "execution_count": null,
   "metadata": {},
   "outputs": [],
   "source": [
    "df_host['priceRange'] = ''"
   ]
  },
  {
   "cell_type": "code",
   "execution_count": null,
   "metadata": {},
   "outputs": [],
   "source": [
    "df_host.priceRange.loc[(df_host['price']> 9.999) & (df_host['price'] <= 110.0)] = 0#Low\n",
    "df_host.priceRange.loc[(df_host['price'] > 110.0) & (df_host['price'] <= 500.0)] = 1#Mid\n",
    "df_host.priceRange.loc[(df_host['price'] > 500.0) & (df_host['price'] <= 25000.0)] =2#High"
   ]
  },
  {
   "cell_type": "markdown",
   "metadata": {},
   "source": [
    "##### <font color='blue'> Lets predict where a future airbnb host should invest in the top5 neighbhourhoods?"
   ]
  },
  {
   "cell_type": "code",
   "execution_count": null,
   "metadata": {},
   "outputs": [],
   "source": [
    "df_Fact = df_host[['property_style','priceRange',\\\n",
    "                   'guests_included','neighbourhood_cleansed']].copy()\n",
    "df_Fact.reset_index()"
   ]
  },
  {
   "cell_type": "code",
   "execution_count": null,
   "metadata": {},
   "outputs": [],
   "source": [
    "df_Fact3  = df_Fact.loc[(df_Fact['neighbourhood_cleansed'].\\\n",
    "                 isin(['venice','hollywood','downtown','long beach',\n",
    "                 'santa monica']))].copy()\n",
    "df_Fact3.head()"
   ]
  },
  {
   "cell_type": "code",
   "execution_count": null,
   "metadata": {},
   "outputs": [],
   "source": [
    "df_Fact3.reset_index(inplace=True)\n",
    "df_Fact3.head(1)"
   ]
  },
  {
   "cell_type": "code",
   "execution_count": null,
   "metadata": {},
   "outputs": [],
   "source": [
    "df_Fact3.drop('id',axis=1,inplace=True)"
   ]
  },
  {
   "cell_type": "code",
   "execution_count": null,
   "metadata": {},
   "outputs": [],
   "source": [
    "#df_Fact3['neighbourhood_group'] = ''"
   ]
  },
  {
   "cell_type": "code",
   "execution_count": null,
   "metadata": {},
   "outputs": [],
   "source": [
    "'''\n",
    "df_Fact3.neighbourhood_group.loc[df_Fact3.neighbourhood_cleansed\\\n",
    "                                   =='venice'] = 0\n",
    "\n",
    "df_Fact3.neighbourhood_group.loc[df_Fact3.neighbourhood_cleansed\\\n",
    "                                   =='hollywood'] = 1\n",
    "\n",
    "df_Fact3.neighbourhood_group.loc[df_Fact3.neighbourhood_cleansed\\\n",
    "                                   =='downtown'] = 2\n",
    "\n",
    "df_Fact3.neighbourhood_group.loc[df_Fact3.neighbourhood_cleansed\\\n",
    "                                   =='long beach'] = 3\n",
    "\n",
    "df_Fact3.neighbourhood_group.loc[df_Fact3.neighbourhood_cleansed\\\n",
    "                                   =='santa monica'] = 4\n",
    "'''"
   ]
  },
  {
   "cell_type": "code",
   "execution_count": null,
   "metadata": {},
   "outputs": [],
   "source": []
  },
  {
   "cell_type": "code",
   "execution_count": null,
   "metadata": {},
   "outputs": [],
   "source": [
    "df_Fact3.info()"
   ]
  },
  {
   "cell_type": "code",
   "execution_count": null,
   "metadata": {
    "scrolled": true
   },
   "outputs": [],
   "source": [
    "df_dt = pd.get_dummies(df_Fact3, columns=['neighbourhood_cleansed'])\n",
    "df_dt.head(3)"
   ]
  },
  {
   "cell_type": "code",
   "execution_count": null,
   "metadata": {},
   "outputs": [],
   "source": [
    "## Creating a dataframe including the independent variables except the dependent variable\n",
    "X = df_dt.drop(['priceRange'],axis=1)"
   ]
  },
  {
   "cell_type": "code",
   "execution_count": null,
   "metadata": {},
   "outputs": [],
   "source": [
    "## Creating the dependent variable with the neighbourhood_cleansed column. Y is a series.\n",
    "Y = df_dt.priceRange    "
   ]
  },
  {
   "cell_type": "code",
   "execution_count": null,
   "metadata": {},
   "outputs": [],
   "source": [
    "## Splitting the data into train and test data for the decision tree model\n",
    "from sklearn.model_selection import train_test_split\n",
    "\n",
    "## Here, we are dividing the data into 70% train and 30% test data\n",
    "X_train, X_test, Y_train, Y_test = train_test_split\\\n",
    "(X, Y, test_size=0.3, random_state = 0)"
   ]
  },
  {
   "cell_type": "code",
   "execution_count": null,
   "metadata": {},
   "outputs": [],
   "source": [
    "X_train.head()"
   ]
  },
  {
   "cell_type": "code",
   "execution_count": null,
   "metadata": {},
   "outputs": [],
   "source": [
    "X_test.head()"
   ]
  },
  {
   "cell_type": "code",
   "execution_count": null,
   "metadata": {},
   "outputs": [],
   "source": [
    "## Defining the decision tree classifier to maximum depth of 3\n",
    "dt = tree.DecisionTreeClassifier(max_depth=3) "
   ]
  },
  {
   "cell_type": "code",
   "execution_count": null,
   "metadata": {},
   "outputs": [],
   "source": [
    "#Fitting the model \n",
    "dt.fit(X_train,Y_train)"
   ]
  },
  {
   "cell_type": "code",
   "execution_count": null,
   "metadata": {},
   "outputs": [],
   "source": [
    "# This code will visualize a decision tree dt, trained with the attributes in X and the class labels in Y\n",
    "dt_feature_names = list(X.columns) #Converting the independent variables to a list \n",
    "dt_target_names = [str(s) for s in Y.unique()] #take unique values of Y i.e. DogName\n",
    "tree.export_graphviz(dt, out_file='tree.dot', \n",
    "    feature_names=dt_feature_names, class_names=dt_target_names,\n",
    "    filled=True)  \n",
    "graph = pydotplus.graph_from_dot_file('tree.dot') #generating a tree\n",
    "Image(graph.create_png())"
   ]
  },
  {
   "cell_type": "markdown",
   "metadata": {},
   "source": [
    "##### <font color='blue'> Understanding the important features for the model "
   ]
  },
  {
   "cell_type": "code",
   "execution_count": null,
   "metadata": {},
   "outputs": [],
   "source": [
    "importances = dt.feature_importances_\n",
    "\n",
    "# Sort feature importances in descending order\n",
    "indices = np.argsort(importances)[::-1]\n",
    "\n",
    "# Rearrange feature names so they match the sorted feature importances\n",
    "names = [df_dt.columns[i] for i in indices]\n",
    "\n",
    "# Create plot\n",
    "plt.figure()\n",
    "\n",
    "# Create plot title\n",
    "plt.title(\"Feature Importance\")\n",
    "\n",
    "# Add bars\n",
    "plt.bar(range(X.shape[1]), importances[indices])\n",
    "\n",
    "# Add feature names as x-axis labels\n",
    "plt.xticks(range(X.shape[1]), names, rotation=90)\n",
    "\n",
    "# Show plot\n",
    "plt.show()"
   ]
  },
  {
   "cell_type": "code",
   "execution_count": null,
   "metadata": {},
   "outputs": [],
   "source": [
    "dt.predict(X_test)"
   ]
  },
  {
   "cell_type": "markdown",
   "metadata": {},
   "source": [
    "##### <font color='blue'> Accuracy of the prediction model "
   ]
  },
  {
   "cell_type": "code",
   "execution_count": null,
   "metadata": {},
   "outputs": [],
   "source": [
    "(dt.predict(X_test) == Y_test).mean()"
   ]
  },
  {
   "cell_type": "code",
   "execution_count": null,
   "metadata": {},
   "outputs": [],
   "source": [
    "y_pred = dt.predict(X_test)"
   ]
  },
  {
   "cell_type": "code",
   "execution_count": null,
   "metadata": {},
   "outputs": [],
   "source": [
    "dt.predict_proba(X_test)"
   ]
  },
  {
   "cell_type": "code",
   "execution_count": null,
   "metadata": {},
   "outputs": [],
   "source": [
    "from sklearn.metrics import confusion_matrix\n",
    "import sklearn.metrics as met"
   ]
  },
  {
   "cell_type": "code",
   "execution_count": null,
   "metadata": {},
   "outputs": [],
   "source": [
    "confusion_matrix(Y_test,y_pred)"
   ]
  },
  {
   "cell_type": "code",
   "execution_count": null,
   "metadata": {},
   "outputs": [],
   "source": [
    "(y_pred == Y_test).mean()"
   ]
  },
  {
   "cell_type": "code",
   "execution_count": null,
   "metadata": {},
   "outputs": [],
   "source": [
    "met.accuracy_score(Y_test, y_pred)"
   ]
  },
  {
   "cell_type": "code",
   "execution_count": null,
   "metadata": {},
   "outputs": [],
   "source": [
    "Y_test.mean()"
   ]
  },
  {
   "cell_type": "markdown",
   "metadata": {},
   "source": []
  },
  {
   "cell_type": "code",
   "execution_count": null,
   "metadata": {},
   "outputs": [],
   "source": [
    "df_new = df_host[['room_type','price','neighbourhood_cleansed',\\\n",
    "                  'minimum_nights',\\\n",
    "                  'number_of_reviews',\\\n",
    "              'reviews_per_month','availability_365']].copy()"
   ]
  },
  {
   "cell_type": "code",
   "execution_count": null,
   "metadata": {},
   "outputs": [],
   "source": [
    "df_new['priceRange'] = ''"
   ]
  },
  {
   "cell_type": "code",
   "execution_count": null,
   "metadata": {},
   "outputs": [],
   "source": [
    "df_new.priceRange.loc[(df_new['price']> 9.999) & (df_host['price'] <= 110.0)] = 0#Low\n",
    "df_new.priceRange.loc[(df_new['price'] > 110.0) & (df_host['price'] <= 500.0)] = 1#Mid\n",
    "df_new.priceRange.loc[(df_new['price'] > 500.0) & (df_host['price'] <= 25000.0)] =2#High"
   ]
  },
  {
   "cell_type": "code",
   "execution_count": null,
   "metadata": {},
   "outputs": [],
   "source": [
    "df_new.drop(columns=['price'],axis=1,inplace=True)"
   ]
  },
  {
   "cell_type": "code",
   "execution_count": null,
   "metadata": {},
   "outputs": [],
   "source": [
    "df_new.room_type.isna().sum()"
   ]
  },
  {
   "cell_type": "code",
   "execution_count": null,
   "metadata": {},
   "outputs": [],
   "source": [
    "df_new.minimum_nights.isna().sum()"
   ]
  },
  {
   "cell_type": "code",
   "execution_count": null,
   "metadata": {},
   "outputs": [],
   "source": [
    "df_new.availability_365.value_counts()"
   ]
  },
  {
   "cell_type": "code",
   "execution_count": null,
   "metadata": {},
   "outputs": [],
   "source": [
    "df_new.head()"
   ]
  },
  {
   "cell_type": "code",
   "execution_count": null,
   "metadata": {},
   "outputs": [],
   "source": [
    "df_new.info()"
   ]
  },
  {
   "cell_type": "code",
   "execution_count": null,
   "metadata": {},
   "outputs": [],
   "source": [
    "df_Fact3_2 = df_new.loc[(df_new['neighbourhood_cleansed'].\\\n",
    "                 isin(['venice','hollywood','downtown','long beach',\n",
    "                 'santa monica']))].copy()\n",
    "df_Fact3_2.head()"
   ]
  },
  {
   "cell_type": "code",
   "execution_count": null,
   "metadata": {},
   "outputs": [],
   "source": [
    "df_Fact3_2.corr()"
   ]
  },
  {
   "cell_type": "code",
   "execution_count": null,
   "metadata": {},
   "outputs": [],
   "source": [
    "df_dt2 = pd.get_dummies(df_Fact3_2, columns=['neighbourhood_cleansed'])\n",
    "df_dt2.head(3)"
   ]
  },
  {
   "cell_type": "code",
   "execution_count": null,
   "metadata": {},
   "outputs": [],
   "source": [
    "## Creating a dataframe including the independent variables except the dependent variable\n",
    "X2 = df_dt2.drop(['room_type'],axis=1)"
   ]
  },
  {
   "cell_type": "code",
   "execution_count": null,
   "metadata": {},
   "outputs": [],
   "source": [
    "## Creating the dependent variable with the neighbourhood_cleansed column. Y is a series.\n",
    "Y2 = df_dt2.room_type    "
   ]
  },
  {
   "cell_type": "code",
   "execution_count": null,
   "metadata": {},
   "outputs": [],
   "source": [
    "## Splitting the data into train and test data for the decision tree model\n",
    "from sklearn.model_selection import train_test_split\n",
    "\n",
    "## Here, we are dividing the data into 70% train and 30% test data\n",
    "X2_train, X2_test, Y2_train, Y2_test = train_test_split\\\n",
    "(X2, Y2, test_size=0.3, random_state = 0)"
   ]
  },
  {
   "cell_type": "code",
   "execution_count": null,
   "metadata": {},
   "outputs": [],
   "source": [
    "## Defining the decision tree classifier to maximum depth of 3\n",
    "dt2 = tree.DecisionTreeClassifier(max_depth=3) "
   ]
  },
  {
   "cell_type": "code",
   "execution_count": null,
   "metadata": {},
   "outputs": [],
   "source": [
    "#Fitting the model \n",
    "dt2.fit(X2_train,Y2_train)"
   ]
  },
  {
   "cell_type": "code",
   "execution_count": null,
   "metadata": {},
   "outputs": [],
   "source": [
    "# This code will visualize a decision tree dt, trained with the attributes in X and the class labels in Y\n",
    "dt2_feature_names = list(X2.columns) #Converting the independent variables to a list \n",
    "dt2_target_names = [str(s) for s in Y2.unique()] #take unique values of Y i.e. DogName\n",
    "tree.export_graphviz(dt2, out_file='tree.dot', \n",
    "    feature_names=dt_feature_names, class_names=dt_target_names,\n",
    "    filled=True)  \n",
    "graph = pydotplus.graph_from_dot_file('tree.dot') #generating a tree\n",
    "Image(graph.create_png())"
   ]
  },
  {
   "cell_type": "code",
   "execution_count": null,
   "metadata": {},
   "outputs": [],
   "source": [
    "importances2 = dt2.feature_importances_\n",
    "\n",
    "# Sort feature importances in descending order\n",
    "indices = np.argsort(importances2)[::-1]\n",
    "\n",
    "# Rearrange feature names so they match the sorted feature importances\n",
    "names = [df_dt2.columns[i] for i in indices]\n",
    "\n",
    "# Create plot\n",
    "plt.figure()\n",
    "\n",
    "# Create plot title\n",
    "plt.title(\"Feature Importance\")\n",
    "\n",
    "# Add bars\n",
    "plt.bar(range(X2.shape[1]), importances2[indices])\n",
    "\n",
    "# Add feature names as x-axis labels\n",
    "plt.xticks(range(X2.shape[1]), names, rotation=90)\n",
    "\n",
    "# Show plot\n",
    "plt.show()"
   ]
  },
  {
   "cell_type": "code",
   "execution_count": null,
   "metadata": {},
   "outputs": [],
   "source": [
    "dt2.predict(X2_test)"
   ]
  },
  {
   "cell_type": "code",
   "execution_count": null,
   "metadata": {},
   "outputs": [],
   "source": [
    "(dt2.predict(X2_test) == Y2_test).mean()"
   ]
  },
  {
   "cell_type": "code",
   "execution_count": null,
   "metadata": {},
   "outputs": [],
   "source": [
    "y2_pred = dt2.predict(X2_test)"
   ]
  },
  {
   "cell_type": "code",
   "execution_count": null,
   "metadata": {},
   "outputs": [],
   "source": [
    "dt2.predict_proba(X2_test)"
   ]
  },
  {
   "cell_type": "code",
   "execution_count": null,
   "metadata": {},
   "outputs": [],
   "source": [
    "from sklearn.metrics import confusion_matrix\n",
    "import sklearn.metrics as met"
   ]
  },
  {
   "cell_type": "code",
   "execution_count": null,
   "metadata": {},
   "outputs": [],
   "source": [
    "confusion_matrix(Y2_test,y2_pred)"
   ]
  },
  {
   "cell_type": "code",
   "execution_count": null,
   "metadata": {},
   "outputs": [],
   "source": [
    "(y2_pred == Y2_test).mean()"
   ]
  },
  {
   "cell_type": "code",
   "execution_count": null,
   "metadata": {},
   "outputs": [],
   "source": []
  },
  {
   "cell_type": "code",
   "execution_count": null,
   "metadata": {},
   "outputs": [],
   "source": []
  }
 ],
 "metadata": {
  "kernelspec": {
   "display_name": "Python 3",
   "language": "python",
   "name": "python3"
  },
  "language_info": {
   "codemirror_mode": {
    "name": "ipython",
    "version": 3
   },
   "file_extension": ".py",
   "mimetype": "text/x-python",
   "name": "python",
   "nbconvert_exporter": "python",
   "pygments_lexer": "ipython3",
   "version": "3.7.4"
  }
 },
 "nbformat": 4,
 "nbformat_minor": 2
}
