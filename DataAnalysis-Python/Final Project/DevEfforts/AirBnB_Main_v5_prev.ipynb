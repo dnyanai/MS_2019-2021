{
 "cells": [
  {
   "cell_type": "markdown",
   "metadata": {},
   "source": [
    "intro "
   ]
  },
  {
   "cell_type": "markdown",
   "metadata": {},
   "source": [
    "F1"
   ]
  },
  {
   "cell_type": "markdown",
   "metadata": {},
   "source": [
    "plots -> "
   ]
  },
  {
   "cell_type": "code",
   "execution_count": 1,
   "metadata": {},
   "outputs": [
    {
     "data": {
      "text/plain": [
       "60"
      ]
     },
     "execution_count": 1,
     "metadata": {},
     "output_type": "execute_result"
    }
   ],
   "source": [
    "import pandas as pd\n",
    "import numpy as np\n",
    "import matplotlib.pyplot as plt\n",
    "import seaborn as sns\n",
    "\n",
    "pd.set_option('display.max_columns',50)\n",
    "pd.options.display.max_rows"
   ]
  },
  {
   "cell_type": "code",
   "execution_count": null,
   "metadata": {},
   "outputs": [],
   "source": [
    "initFile = pd.read_csv('listings.csv',index_col= 'id',low_memory=False)\n",
    "initFile.head(1)"
   ]
  },
  {
   "cell_type": "code",
   "execution_count": null,
   "metadata": {},
   "outputs": [],
   "source": [
    "lst = ['listing_url','scrape_id','last_scraped','summary',\\\n",
    "       'space','description','experiences_offered','neighborhood_overview','interaction','access','house_rules',\\\n",
    "       'notes','thumbnail_url','medium_url','picture_url','host_url',\\\n",
    "      'host_about','host_response_rate','host_acceptance_rate','host_thumbnail_url','host_picture_url',\\\n",
    "       'host_listings_count','host_has_profile_pic','host_verifications',\\\n",
    "       'neighbourhood','neighbourhood_group_cleansed','market','country_code',\\\n",
    "      'country','is_location_exact','square_feet','weekly_price','monthly_price','minimum_minimum_nights',\\\n",
    "      'minimum_minimum_nights','maximum_minimum_nights','minimum_maximum_nights','maximum_maximum_nights',\\\n",
    "      'minimum_nights_avg_ntm','maximum_nights_avg_ntm','calendar_updated','has_availability','calendar_last_scraped',\\\n",
    "      'availability_30','availability_60','availability_90','availability_365','number_of_reviews_ltm',\\\n",
    "       'requires_license','license','jurisdiction_names','is_business_travel_ready','require_guest_profile_picture',\\\n",
    "      'require_guest_phone_verification','calculated_host_listings_count','calculated_host_listings_count_entire_homes',\\\n",
    "      'calculated_host_listings_count_private_rooms','calculated_host_listings_count_shared_rooms','xl_picture_url',\\\n",
    "      ]\n",
    "initFile.drop(columns=lst,inplace=True)"
   ]
  },
  {
   "cell_type": "code",
   "execution_count": null,
   "metadata": {},
   "outputs": [],
   "source": [
    "initFile.head()"
   ]
  },
  {
   "cell_type": "code",
   "execution_count": null,
   "metadata": {},
   "outputs": [],
   "source": [
    "initFile.reset_index(inplace=True)"
   ]
  },
  {
   "cell_type": "code",
   "execution_count": null,
   "metadata": {},
   "outputs": [],
   "source": [
    "initFile['colid'] = initFile.index "
   ]
  },
  {
   "cell_type": "code",
   "execution_count": null,
   "metadata": {},
   "outputs": [],
   "source": [
    "initFile.drop('id',axis=1,inplace=True)"
   ]
  },
  {
   "cell_type": "code",
   "execution_count": null,
   "metadata": {},
   "outputs": [],
   "source": [
    "initFile.rename(columns={'colid':'id'},inplace=True)\n",
    "initFile.id +=1"
   ]
  },
  {
   "cell_type": "code",
   "execution_count": null,
   "metadata": {},
   "outputs": [],
   "source": [
    "initFile.set_index('id',inplace=True)\n",
    "initFile.head(1)"
   ]
  },
  {
   "cell_type": "markdown",
   "metadata": {},
   "source": [
    "## Cleaning the dataset to make sure we have only CA related values"
   ]
  },
  {
   "cell_type": "code",
   "execution_count": null,
   "metadata": {},
   "outputs": [],
   "source": [
    "df = initFile.copy()"
   ]
  },
  {
   "cell_type": "code",
   "execution_count": null,
   "metadata": {},
   "outputs": [],
   "source": [
    "df.state.loc[df.state=='California'] = 'CA'\n",
    "df.state.unique()\n",
    "df.state = df['state'].str.upper()"
   ]
  },
  {
   "cell_type": "code",
   "execution_count": null,
   "metadata": {},
   "outputs": [],
   "source": [
    "df.state.value_counts()"
   ]
  },
  {
   "cell_type": "markdown",
   "metadata": {},
   "source": [
    "## We need to remove the non-CA values from the dataset"
   ]
  },
  {
   "cell_type": "code",
   "execution_count": null,
   "metadata": {},
   "outputs": [],
   "source": [
    "df.drop(df[~(df.state.values=='CA')].index,axis=0,inplace=True)"
   ]
  },
  {
   "cell_type": "code",
   "execution_count": null,
   "metadata": {},
   "outputs": [],
   "source": [
    "df.columns"
   ]
  },
  {
   "cell_type": "code",
   "execution_count": null,
   "metadata": {},
   "outputs": [],
   "source": [
    "df.city = df.city.str.lower()\n",
    "df.city.unique()\n",
    "df.city.dropna(inplace=True)"
   ]
  },
  {
   "cell_type": "code",
   "execution_count": null,
   "metadata": {},
   "outputs": [],
   "source": [
    "df['city'] = df['city'].str.replace(r'[^\\x00-\\x7F]+', '')\n",
    "df.city.dropna(inplace=True)\n",
    "df.city.value_counts()"
   ]
  },
  {
   "cell_type": "code",
   "execution_count": null,
   "metadata": {},
   "outputs": [],
   "source": [
    "df.groupby('city')['neighbourhood_cleansed'].value_counts()"
   ]
  },
  {
   "cell_type": "code",
   "execution_count": null,
   "metadata": {},
   "outputs": [],
   "source": [
    "df.smart_location.shape"
   ]
  },
  {
   "cell_type": "code",
   "execution_count": null,
   "metadata": {},
   "outputs": [],
   "source": [
    "df.smart_location = df.smart_location.str.lower()"
   ]
  },
  {
   "cell_type": "code",
   "execution_count": null,
   "metadata": {},
   "outputs": [],
   "source": [
    "df.smart_location.unique()"
   ]
  },
  {
   "cell_type": "code",
   "execution_count": null,
   "metadata": {},
   "outputs": [],
   "source": [
    "df.isnull().sum()"
   ]
  },
  {
   "cell_type": "code",
   "execution_count": null,
   "metadata": {},
   "outputs": [],
   "source": [
    "df.drop(df[(df['smart_location'] == '蒙特利帕克, ca') | \\\n",
    "                       (df['smart_location'] == '因達斯特里, ca') | \\\n",
    "                       (df['smart_location'] == '艾尔蒙地, ca') | \\\n",
    "                       (df['smart_location'] == '沃尔纳特, ca') | \\\n",
    "                       (df['smart_location'] == '哈仙达岗, ca') | \\\n",
    "                       (df['smart_location'] == '罗兰高地, ca') | \\\n",
    "                       (df['smart_location'] == '罗兰岗, ca') | \\\n",
    "                       (df['smart_location'] == '天普市, ca') | \\\n",
    "                       (df['smart_location'] == '洛杉矶, ca')  \\\n",
    "                      ].index, inplace = True)"
   ]
  },
  {
   "cell_type": "code",
   "execution_count": null,
   "metadata": {},
   "outputs": [],
   "source": [
    "df.smart_location = df.smart_location.str.replace(', ca',' ', regex=True)\n",
    "df.smart_location = df.smart_location.str.strip()\n",
    "df.neighbourhood_cleansed = df.neighbourhood_cleansed.str.strip()"
   ]
  },
  {
   "cell_type": "code",
   "execution_count": null,
   "metadata": {},
   "outputs": [],
   "source": [
    "df['location'] = ''"
   ]
  },
  {
   "cell_type": "code",
   "execution_count": null,
   "metadata": {},
   "outputs": [],
   "source": [
    "df.smart_location = df.smart_location.str.lower()\n",
    "df.neighbourhood_cleansed = df.neighbourhood_cleansed.str.lower() \n",
    "df.location = df.location.str.lower()\n",
    "df.head()"
   ]
  },
  {
   "cell_type": "code",
   "execution_count": null,
   "metadata": {},
   "outputs": [],
   "source": [
    " df.location =  df.neighbourhood_cleansed[df['neighbourhood_cleansed']== df['smart_location']]\n",
    " df.head()"
   ]
  },
  {
   "cell_type": "code",
   "execution_count": null,
   "metadata": {},
   "outputs": [],
   "source": [
    "df.location.isna().value_counts()"
   ]
  },
  {
   "cell_type": "code",
   "execution_count": null,
   "metadata": {},
   "outputs": [],
   "source": [
    "df.location.fillna(df.neighbourhood_cleansed+','+df.smart_location,inplace=True)\n",
    "df.head()"
   ]
  },
  {
   "cell_type": "code",
   "execution_count": null,
   "metadata": {},
   "outputs": [],
   "source": [
    "df.groupby('location')['zipcode'].value_counts().sort_values(ascending=False)"
   ]
  },
  {
   "cell_type": "code",
   "execution_count": null,
   "metadata": {},
   "outputs": [],
   "source": [
    "df.columns"
   ]
  },
  {
   "cell_type": "markdown",
   "metadata": {},
   "source": [
    "## Make a dataset copy for Interesting Fact 1 which is focused on finding out the most affordable places in CA \n"
   ]
  },
  {
   "cell_type": "markdown",
   "metadata": {},
   "source": [
    "#### More adept for indetails about the location : 'host_name','host_location','host_response_time','host_is_superhost', 'property_type','room_type','accommodates','bathrooms','bedrooms','beds','bed_type'"
   ]
  },
  {
   "cell_type": "code",
   "execution_count": null,
   "metadata": {},
   "outputs": [],
   "source": [
    "df1 = df[['price','security_deposit','cleaning_fee','guests_included','extra_people','minimum_nights',\\\n",
    "          'maximum_nights','amenities','location',\\\n",
    "       'state','zipcode','latitude','longitude']].copy()"
   ]
  },
  {
   "cell_type": "code",
   "execution_count": null,
   "metadata": {},
   "outputs": [],
   "source": [
    "df1.info()"
   ]
  },
  {
   "cell_type": "code",
   "execution_count": null,
   "metadata": {},
   "outputs": [],
   "source": [
    "df1.isna().sum()"
   ]
  },
  {
   "cell_type": "code",
   "execution_count": null,
   "metadata": {},
   "outputs": [],
   "source": [
    "df1.amenities.value_counts().nlargest(10)"
   ]
  },
  {
   "cell_type": "code",
   "execution_count": null,
   "metadata": {},
   "outputs": [],
   "source": [
    "df1.groupby('amenities')['price'].value_counts().nlargest(10)"
   ]
  },
  {
   "cell_type": "code",
   "execution_count": null,
   "metadata": {},
   "outputs": [],
   "source": []
  },
  {
   "cell_type": "markdown",
   "metadata": {},
   "source": [
    "# "
   ]
  },
  {
   "cell_type": "code",
   "execution_count": null,
   "metadata": {},
   "outputs": [],
   "source": [
    "df1.head()"
   ]
  },
  {
   "cell_type": "code",
   "execution_count": null,
   "metadata": {},
   "outputs": [],
   "source": [
    "df1.amenities = df1.amenities.str.strip('{}')\n",
    "df1.amenities = df1.amenities.str.replace('\"','')\n",
    "df1.amenities = df1.amenities.str.lower()"
   ]
  },
  {
   "cell_type": "code",
   "execution_count": null,
   "metadata": {},
   "outputs": [],
   "source": [
    "#from collections import Counter\n",
    "#Counter(\" \".join(df1[\"amenities\"]).split(',')).most_common()\n",
    "pd.Series(' '.join(df1['amenities']).lower().split(',')).value_counts().nlargest(12)"
   ]
  },
  {
   "cell_type": "code",
   "execution_count": null,
   "metadata": {},
   "outputs": [],
   "source": [
    "df1.amenities[df1.amenities.str.contains('washer')].values[1]"
   ]
  },
  {
   "cell_type": "code",
   "execution_count": null,
   "metadata": {},
   "outputs": [],
   "source": [
    "df1['wifi'] = ''\n",
    "df1['ac'] = ''\n",
    "df1['pet'] = ''\n",
    "df1['park'] = ''\n",
    "df1['htub'] = ''\n",
    "df1['dishwasher'] = ''\n",
    "df1['bbq'] = ''\n",
    "df1['pool'] = ''\n",
    "df1['hr'] = ''\n",
    "df1['coffee'] = ''\n",
    "df1['heating'] = ''\n",
    "df1['iron'] = ''\n",
    "df1['washer'] = ''\n",
    "df1['dryer'] = ''\n",
    "df1['parking'] = ''"
   ]
  },
  {
   "cell_type": "code",
   "execution_count": null,
   "metadata": {},
   "outputs": [],
   "source": []
  },
  {
   "cell_type": "code",
   "execution_count": null,
   "metadata": {},
   "outputs": [],
   "source": [
    "df1.wifi = df1.amenities.str.contains(\"wifi\").apply(lambda x: 'wifi' if x==True else '')\n",
    "df1.ac = df1.amenities.str.contains(\"air conditioning\").apply(lambda x: 'air conditioning' if x==True else '')\n",
    "df1.pet = df1.amenities.str.contains(\"pet\").apply(lambda x: 'pet' if x==True else '')\n",
    "df1.park = df1.amenities.str.contains(\"park\").apply(lambda x: 'park' if x==True else '')\n",
    "df1.htub = df1.amenities.str.contains(\"hot tub\").apply(lambda x: 'hot tub' if x==True else '')\n",
    "df1.dishwasher = df1.amenities.str.contains(\"dishwasher\").apply(lambda x: 'dishwasher' if x==True else '')\n",
    "df1.bbq = df1.amenities.str.contains(\"bbq\").apply(lambda x: 'BBQ' if x==True else '')\n",
    "df1.pool = df1.amenities.str.contains(\"pool\").apply(lambda x: 'pool' if x==True else '')\n",
    "df1.hr = df1.amenities.str.contains(\"24-hour check-in\").apply(lambda x: '24-hour check-in' if x==True else '')\n",
    "df1.coffee = df1.amenities.str.contains(\"coffee\").apply(lambda x: 'coffee' if x==True else '')\n",
    "df1.heating = df1.amenities.str.contains(\"heating\").apply(lambda x: 'heating' if x==True else '')\n",
    "df1.iron = df1.amenities.str.contains(\"iron\").apply(lambda x: 'iron' if x==True else '')"
   ]
  },
  {
   "cell_type": "code",
   "execution_count": null,
   "metadata": {},
   "outputs": [],
   "source": [
    "df1.washer = df1.amenities.str.contains(\"washer\").apply(lambda x: 'washer' if x==True else '')\n",
    "df1.dryer = df1.amenities.str.contains(\"dryer\").apply(lambda x: 'dryer' if x==True else '')\n",
    "df1.parking = df1.amenities.str.contains(\"parking\").apply(lambda x: 'parking' if x==True else '')"
   ]
  },
  {
   "cell_type": "code",
   "execution_count": null,
   "metadata": {},
   "outputs": [],
   "source": [
    "df1.drop('amenities',axis=1,inplace=True)"
   ]
  },
  {
   "cell_type": "code",
   "execution_count": null,
   "metadata": {},
   "outputs": [],
   "source": []
  },
  {
   "cell_type": "code",
   "execution_count": null,
   "metadata": {},
   "outputs": [],
   "source": [
    "df1['amenities'] = df1.wifi+' '+df1.ac+' '+df1.pet+' '+df1.park+' '+\\\n",
    "df1.htub+' '+df1.dishwasher+' '+df1.bbq+' '+df1.pool+' '+df1.hr+' '+df1.coffee+' '+\\\n",
    "df1.heating+' '+df1.iron+' '+df1.washer+' '+df1.dryer+' '+df1.parking\n"
   ]
  },
  {
   "cell_type": "code",
   "execution_count": null,
   "metadata": {},
   "outputs": [],
   "source": []
  },
  {
   "cell_type": "code",
   "execution_count": null,
   "metadata": {},
   "outputs": [],
   "source": [
    "df1.wifi = df1.wifi.apply(lambda x: 1 if x=='wifi' else 0)\n",
    "df1.ac = df1.ac.apply(lambda x: 1 if x=='air conditioning' else 0)\n",
    "df1.pet = df1.pet.apply(lambda x: 1 if x=='pet' else 0)\n",
    "df1.park = df1.park.apply(lambda x:1 if x=='park' else 0)\n",
    "df1.htub = df1.htub.apply(lambda x:1 if x=='hot tub' else 0)\n",
    "df1.dishwasher = df1.dishwasher.apply(lambda x:1 if x=='dishwasher' else 0)\n",
    "df1.bbq = df1.bbq.apply(lambda x:1 if x=='BBQ' else 0)\n",
    "df1.pool = df1.pool.apply(lambda x:1 if x=='pool' else 0)\n",
    "df1.hr = df1.hr.apply(lambda x:1 if x=='24-hour check-in' else 0)\n",
    "df1.coffee = df1.coffee.apply(lambda x:1 if x=='coffee' else 0)\n",
    "df1.heating = df1.heating.apply(lambda x:1 if x=='heating' else 0)\n",
    "df1.iron = df1.iron.apply(lambda x:1 if x=='iron' else 0)\n",
    "df1.washer = df1.washer.apply(lambda x:1 if x=='washer' else 0)\n",
    "df1.dryer = df1.dryer.apply(lambda x:1 if x=='dryer' else 0)\n",
    "df1.parking = df1.parking.apply(lambda x:1 if x=='parking' else 0)\n"
   ]
  },
  {
   "cell_type": "code",
   "execution_count": null,
   "metadata": {},
   "outputs": [],
   "source": [
    "df1.head()"
   ]
  },
  {
   "cell_type": "code",
   "execution_count": null,
   "metadata": {},
   "outputs": [],
   "source": [
    "df1.isna().sum()"
   ]
  },
  {
   "cell_type": "code",
   "execution_count": null,
   "metadata": {},
   "outputs": [],
   "source": [
    "df1.security_deposit = df1.security_deposit.str.strip('$')\n",
    "df1.security_deposit = df1.security_deposit.str.replace(',','')"
   ]
  },
  {
   "cell_type": "code",
   "execution_count": null,
   "metadata": {},
   "outputs": [],
   "source": [
    "df1.security_deposit = df1.security_deposit.astype('float64')"
   ]
  },
  {
   "cell_type": "code",
   "execution_count": null,
   "metadata": {},
   "outputs": [],
   "source": [
    "df1.security_deposit.describe()"
   ]
  },
  {
   "cell_type": "code",
   "execution_count": null,
   "metadata": {},
   "outputs": [],
   "source": [
    "df1.security_deposit.fillna(round(df1.security_deposit.mean(),2),inplace=True)"
   ]
  },
  {
   "cell_type": "code",
   "execution_count": null,
   "metadata": {},
   "outputs": [],
   "source": [
    "df1.cleaning_fee.describe()"
   ]
  },
  {
   "cell_type": "code",
   "execution_count": null,
   "metadata": {},
   "outputs": [],
   "source": [
    "df1.cleaning_fee.isna().sum()"
   ]
  },
  {
   "cell_type": "code",
   "execution_count": null,
   "metadata": {},
   "outputs": [],
   "source": [
    "df1.cleaning_fee = df1.cleaning_fee.str.strip('$')\n",
    "df1.cleaning_fee = df1.cleaning_fee.str.replace(',','')"
   ]
  },
  {
   "cell_type": "code",
   "execution_count": null,
   "metadata": {},
   "outputs": [],
   "source": [
    "df1.cleaning_fee = df1.cleaning_fee.astype('float64')"
   ]
  },
  {
   "cell_type": "code",
   "execution_count": null,
   "metadata": {},
   "outputs": [],
   "source": [
    "df1.cleaning_fee.describe()"
   ]
  },
  {
   "cell_type": "code",
   "execution_count": null,
   "metadata": {},
   "outputs": [],
   "source": [
    "df1.cleaning_fee.fillna(round(df1.cleaning_fee.mean(),2),inplace=True)"
   ]
  },
  {
   "cell_type": "code",
   "execution_count": null,
   "metadata": {},
   "outputs": [],
   "source": [
    "df1.cleaning_fee.describe()"
   ]
  },
  {
   "cell_type": "markdown",
   "metadata": {},
   "source": []
  },
  {
   "cell_type": "code",
   "execution_count": null,
   "metadata": {},
   "outputs": [],
   "source": [
    "df1.isna().sum()"
   ]
  },
  {
   "cell_type": "code",
   "execution_count": null,
   "metadata": {},
   "outputs": [],
   "source": [
    "df1.location[df1.zipcode.isna()==True]"
   ]
  },
  {
   "cell_type": "code",
   "execution_count": null,
   "metadata": {},
   "outputs": [],
   "source": [
    "for x in df1.location[df1.zipcode.isna()==True].values:\n",
    "    if x=='malibu':\n",
    "        idxZip = df1.index(x)\n",
    "        = df1[df1.location=='malibu'].zipcode.values[0]\n",
    "        \n"
   ]
  },
  {
   "cell_type": "code",
   "execution_count": null,
   "metadata": {},
   "outputs": [],
   "source": []
  },
  {
   "cell_type": "code",
   "execution_count": null,
   "metadata": {},
   "outputs": [],
   "source": [
    "df1.price.hist()"
   ]
  },
  {
   "cell_type": "code",
   "execution_count": null,
   "metadata": {},
   "outputs": [],
   "source": [
    "df1.groupby('price')['location'].value_counts().nsmallest(20)"
   ]
  },
  {
   "cell_type": "code",
   "execution_count": null,
   "metadata": {},
   "outputs": [],
   "source": [
    "df1.price.describe()"
   ]
  },
  {
   "cell_type": "code",
   "execution_count": null,
   "metadata": {},
   "outputs": [],
   "source": [
    "df1.price = df1.price.str.strip('$')\n",
    "df1.price = df1.price.str.replace(',','')"
   ]
  },
  {
   "cell_type": "code",
   "execution_count": null,
   "metadata": {},
   "outputs": [],
   "source": [
    "df1.price = df1.price.astype('float64')"
   ]
  },
  {
   "cell_type": "code",
   "execution_count": null,
   "metadata": {},
   "outputs": [],
   "source": [
    "df1.price.describe()"
   ]
  },
  {
   "cell_type": "code",
   "execution_count": null,
   "metadata": {},
   "outputs": [],
   "source": [
    "df1.drop(df1[df1.price==0].index,axis=0,inplace=True)"
   ]
  },
  {
   "cell_type": "code",
   "execution_count": null,
   "metadata": {},
   "outputs": [],
   "source": [
    "df1.price.count()"
   ]
  },
  {
   "cell_type": "code",
   "execution_count": null,
   "metadata": {},
   "outputs": [],
   "source": [
    "df1.to_csv('AffordabilityDataset.csv',index=False)"
   ]
  },
  {
   "cell_type": "code",
   "execution_count": null,
   "metadata": {},
   "outputs": [],
   "source": [
    "df1[df1.price==1000]"
   ]
  },
  {
   "cell_type": "markdown",
   "metadata": {},
   "source": [
    "Plotly graph:"
   ]
  },
  {
   "cell_type": "markdown",
   "metadata": {
    "scrolled": true
   },
   "source": [
    "import chart_studio.plotly as py\n",
    "import plotly.figure_factory as ff\n",
    "#from plotly.figure_factory._county_choropleth import create_choropleth\n",
    "\n",
    "\n",
    "#df_sample = pd.read_csv('https://raw.githubusercontent.com/plotly/datasets/master/minoritymajority.csv')\n",
    "df_plot = df1[df1['state'] == 'CA']\n",
    "\n",
    "values = df_plot['price'].tolist()\n",
    "fips = '06'\n",
    "\n",
    "endpts = list(np.mgrid[min(values):max(values):4j])\n",
    "colorscale = [\n",
    "    'rgb(193, 193, 193)',\n",
    "    'rgb(239,239,239)',\n",
    "    'rgb(195, 196, 222)',\n",
    "    'rgb(144,148,194)',\n",
    "    'rgb(101,104,168)',\n",
    "    'rgb(65, 53, 132)'\n",
    "]\n",
    "\n",
    "fig = ff.create_choropleth(\n",
    "    fips=fips, values=values, scope=['California'], show_state_data=True,\n",
    "    colorscale=colorscale, binning_endpoints=endpts, round_legend_values=True,\n",
    "    plot_bgcolor='rgb(229,229,229)',\n",
    "    paper_bgcolor='rgb(229,229,229)',\n",
    "    legend_title='AirBnB Locations according to their per day prices',\n",
    "    county_outline={'color': 'rgb(255,255,255)', 'width': 0.5},\n",
    "    exponent_format=True,\n",
    ")\n",
    "py.iplot(fig, filename='choropleth_california')"
   ]
  },
  {
   "cell_type": "markdown",
   "metadata": {},
   "source": [
    "Geopandas graph tool: "
   ]
  },
  {
   "cell_type": "markdown",
   "metadata": {},
   "source": [
    "import geopandas as gpd\n",
    "from shapely.geometry import Point, Polygon\n",
    "usa = gpd.read_file('./state_21_basic/states.shp')\n",
    "usa.head()\n"
   ]
  },
  {
   "cell_type": "markdown",
   "metadata": {},
   "source": [
    "usa[usa.STATE_ABBR == 'CA'].plot()"
   ]
  },
  {
   "cell_type": "code",
   "execution_count": null,
   "metadata": {
    "scrolled": true
   },
   "outputs": [],
   "source": [
    "df1.price.describe()"
   ]
  },
  {
   "cell_type": "code",
   "execution_count": null,
   "metadata": {},
   "outputs": [],
   "source": [
    "pd.qcut(df1.price,10)"
   ]
  },
  {
   "cell_type": "code",
   "execution_count": null,
   "metadata": {},
   "outputs": [],
   "source": [
    "df1.groupby('price')['location'].value_counts().nlargest(10)"
   ]
  },
  {
   "cell_type": "code",
   "execution_count": null,
   "metadata": {},
   "outputs": [],
   "source": [
    "#df1.price.loc[(df1['price']<= 9.999) & (df1['price'] <= 57.0)] = 1.0 #Low\n",
    "df1.price.loc[(df1['price'] > 57.0) & (df1['price'] <= 84.0)] = 1.1\n",
    "df1.price.loc[(df1['price'] > 84.0) & (df1['price'] <= 110.0)] = 1.2\n",
    "df1.price.loc[(df1['price'] > 110.0) & (df1['price'] <= 150.0)] = 2.0 #Mid\n",
    "df1.price.loc[ df1['price'] > 150.0 & (df1['price'] <= 249.0)] = 2.1\n",
    "df1.price.loc[ df1['price'] > 249.0 & (df1['price'] <= 350.0)] = 2.2\n",
    "df1.price.loc[ df1['price'] > 350.0 & (df1['price'] <= 500.0)] = 3.0 #High\n",
    "df1.price.loc[ df1['price'] > 500.0 & (df1['price'] <= 900.0)] = 3.1\n",
    "df1.price.loc[ df1['price'] > 900.0 & (df1['price'] <= 1500.0)] = 3.2\n",
    "df1.price.loc[ df1['price'] > 1500.0 & (df1['price'] <= 25000.0)] = 3.3\n",
    "    \n"
   ]
  },
  {
   "cell_type": "code",
   "execution_count": null,
   "metadata": {},
   "outputs": [],
   "source": [
    "import folium\n",
    "from folium.plugins import MarkerCluster"
   ]
  },
  {
   "cell_type": "code",
   "execution_count": null,
   "metadata": {},
   "outputs": [],
   "source": [
    "# Setting a base map\n",
    "lat = 34.1000\n",
    "long = -118.4662\n",
    "\n",
    "base = folium.Map(location=[lat,long], zoom_start=10)\n",
    "base"
   ]
  },
  {
   "cell_type": "code",
   "execution_count": null,
   "metadata": {},
   "outputs": [],
   "source": [
    "neighbourhoods = folium.map.FeatureGroup()"
   ]
  },
  {
   "cell_type": "code",
   "execution_count": null,
   "metadata": {
    "scrolled": true
   },
   "outputs": [],
   "source": [
    "for inc_lat,inc_long in zip(df1.longitude,df1.latitude):\n",
    "    neighbourhoods.add_child(\n",
    "    folium.CircleMarker(\n",
    "    [inc_long,inc_lat],\n",
    "    radius = 5,\n",
    "    color='yellow',\n",
    "    fill=True,\n",
    "    fill_color='blue',\n",
    "    fill_opacity=0.6\n",
    "    )\n",
    ")\n",
    "base.add_child(neighbourhoods)"
   ]
  },
  {
   "cell_type": "code",
   "execution_count": null,
   "metadata": {},
   "outputs": [],
   "source": [
    "boston_Marker=folium.Map(location=[lat,lang],zoom_start=12)\n",
    "for lat,lng,num in zip(df.Y,df.X,range(1,df.shape[0])): \n",
    "         popup = folium.Popup(df['SCH_NAME'][num], parse_html=True)\n",
    "         folium.Marker(\n",
    "                    [lat,lng],\n",
    "                    popup=popup,\n",
    "                    icon=folium.Icon(color=colors[df.iloc[num,-8]])\n",
    "            ).add_to(boston_Marker)\n",
    "boston_Marker"
   ]
  },
  {
   "cell_type": "code",
   "execution_count": null,
   "metadata": {},
   "outputs": [],
   "source": [
    "boston_cluster=folium.Map(location=[lat,lang],zoom_start=12)\n",
    "from folium import plugins\n",
    "cluster=plugins.MarkerCluster().add_to(boston_cluster)\n",
    "\n",
    "boston_Marker=folium.Map(location=[lat,lang],zoom_start=12)\n",
    "for lat,lng,num in zip(df.Y,df.X,range(1,df.shape[0])): \n",
    "         popup = folium.Popup(df['SCH_NAME'][num], parse_html=True)\n",
    "         folium.Marker(\n",
    "                    [lat,lng],\n",
    "                    popup=popup,\n",
    "                    icon=folium.Icon(color=colors[df.iloc[num,-8]])\n",
    "            ).add_to(cluster)\n",
    "boston_cluster\n"
   ]
  }
 ],
 "metadata": {
  "kernelspec": {
   "display_name": "Python 3",
   "language": "python",
   "name": "python3"
  },
  "language_info": {
   "codemirror_mode": {
    "name": "ipython",
    "version": 3
   },
   "file_extension": ".py",
   "mimetype": "text/x-python",
   "name": "python",
   "nbconvert_exporter": "python",
   "pygments_lexer": "ipython3",
   "version": "3.7.4"
  }
 },
 "nbformat": 4,
 "nbformat_minor": 2
}
