{
 "cells": [
  {
   "cell_type": "code",
   "execution_count": null,
   "metadata": {},
   "outputs": [],
   "source": [
    "df2 = pd.read_csv('./SFMTA_Managed_Off-street_Parking.csv',index_col=0)\n",
    "\n",
    "df2.STREET_ADDRESS = df2.STREET_ADDRESS.str.lower()\n",
    "dftmp = df2['STREET_ADDRESS'].str.extract('(?P<Address_Number>\\d+)(?P<Street_Address>.*)', expand=True)\n",
    "df2['STREET_ADDRESS'] = dftmp.Street_Address\n",
    "df2['ADDRESS_NUMBER'] = dftmp.Address_Number\n",
    "df2.head()\n",
    "\n",
    "df = df1.merge(df2,left_on='Street Address',right_on='STREET_ADDRESS',how='outer')\n",
    "df.head()\n",
    "df.columns\n",
    "\n",
    "print(type(df1['Street Address'].values[0]))\n",
    "print(type(df2.STREET_ADDRESS.values[0]))\n",
    "\n",
    "\n",
    "from functools import reduce # python 3 only\n",
    "reduce(np.intersect1d, [df1['Street Address'].str, df2['STREET_ADDRESS'].str])\n",
    "\n",
    "\n"
   ]
  }
 ],
 "metadata": {
  "kernelspec": {
   "display_name": "Python 3",
   "language": "python",
   "name": "python3"
  },
  "language_info": {
   "codemirror_mode": {
    "name": "ipython",
    "version": 3
   },
   "file_extension": ".py",
   "mimetype": "text/x-python",
   "name": "python",
   "nbconvert_exporter": "python",
   "pygments_lexer": "ipython3",
   "version": "3.7.4"
  }
 },
 "nbformat": 4,
 "nbformat_minor": 2
}
