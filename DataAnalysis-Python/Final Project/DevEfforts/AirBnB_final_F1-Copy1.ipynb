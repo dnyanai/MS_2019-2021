{
 "cells": [
  {
   "cell_type": "markdown",
   "metadata": {},
   "source": [
    "intro "
   ]
  },
  {
   "cell_type": "markdown",
   "metadata": {},
   "source": [
    "F1"
   ]
  },
  {
   "cell_type": "markdown",
   "metadata": {},
   "source": [
    "plots -> "
   ]
  },
  {
   "cell_type": "code",
   "execution_count": 1,
   "metadata": {},
   "outputs": [
    {
     "data": {
      "text/plain": [
       "60"
      ]
     },
     "execution_count": 1,
     "metadata": {},
     "output_type": "execute_result"
    }
   ],
   "source": [
    "import pandas as pd\n",
    "import numpy as np\n",
    "import matplotlib.pyplot as plt\n",
    "import seaborn as sns\n",
    "\n",
    "pd.set_option('display.max_columns',50)\n",
    "pd.options.display.max_rows"
   ]
  },
  {
   "cell_type": "code",
   "execution_count": 2,
   "metadata": {},
   "outputs": [
    {
     "data": {
      "text/html": [
       "<div>\n",
       "<style scoped>\n",
       "    .dataframe tbody tr th:only-of-type {\n",
       "        vertical-align: middle;\n",
       "    }\n",
       "\n",
       "    .dataframe tbody tr th {\n",
       "        vertical-align: top;\n",
       "    }\n",
       "\n",
       "    .dataframe thead th {\n",
       "        text-align: right;\n",
       "    }\n",
       "</style>\n",
       "<table border=\"1\" class=\"dataframe\">\n",
       "  <thead>\n",
       "    <tr style=\"text-align: right;\">\n",
       "      <th></th>\n",
       "      <th>listing_url</th>\n",
       "      <th>scrape_id</th>\n",
       "      <th>last_scraped</th>\n",
       "      <th>name</th>\n",
       "      <th>summary</th>\n",
       "      <th>space</th>\n",
       "      <th>description</th>\n",
       "      <th>experiences_offered</th>\n",
       "      <th>neighborhood_overview</th>\n",
       "      <th>notes</th>\n",
       "      <th>transit</th>\n",
       "      <th>access</th>\n",
       "      <th>interaction</th>\n",
       "      <th>house_rules</th>\n",
       "      <th>thumbnail_url</th>\n",
       "      <th>medium_url</th>\n",
       "      <th>picture_url</th>\n",
       "      <th>xl_picture_url</th>\n",
       "      <th>host_id</th>\n",
       "      <th>host_url</th>\n",
       "      <th>host_name</th>\n",
       "      <th>host_since</th>\n",
       "      <th>host_location</th>\n",
       "      <th>host_about</th>\n",
       "      <th>host_response_time</th>\n",
       "      <th>...</th>\n",
       "      <th>calendar_last_scraped</th>\n",
       "      <th>number_of_reviews</th>\n",
       "      <th>number_of_reviews_ltm</th>\n",
       "      <th>first_review</th>\n",
       "      <th>last_review</th>\n",
       "      <th>review_scores_rating</th>\n",
       "      <th>review_scores_accuracy</th>\n",
       "      <th>review_scores_cleanliness</th>\n",
       "      <th>review_scores_checkin</th>\n",
       "      <th>review_scores_communication</th>\n",
       "      <th>review_scores_location</th>\n",
       "      <th>review_scores_value</th>\n",
       "      <th>requires_license</th>\n",
       "      <th>license</th>\n",
       "      <th>jurisdiction_names</th>\n",
       "      <th>instant_bookable</th>\n",
       "      <th>is_business_travel_ready</th>\n",
       "      <th>cancellation_policy</th>\n",
       "      <th>require_guest_profile_picture</th>\n",
       "      <th>require_guest_phone_verification</th>\n",
       "      <th>calculated_host_listings_count</th>\n",
       "      <th>calculated_host_listings_count_entire_homes</th>\n",
       "      <th>calculated_host_listings_count_private_rooms</th>\n",
       "      <th>calculated_host_listings_count_shared_rooms</th>\n",
       "      <th>reviews_per_month</th>\n",
       "    </tr>\n",
       "    <tr>\n",
       "      <th>id</th>\n",
       "      <th></th>\n",
       "      <th></th>\n",
       "      <th></th>\n",
       "      <th></th>\n",
       "      <th></th>\n",
       "      <th></th>\n",
       "      <th></th>\n",
       "      <th></th>\n",
       "      <th></th>\n",
       "      <th></th>\n",
       "      <th></th>\n",
       "      <th></th>\n",
       "      <th></th>\n",
       "      <th></th>\n",
       "      <th></th>\n",
       "      <th></th>\n",
       "      <th></th>\n",
       "      <th></th>\n",
       "      <th></th>\n",
       "      <th></th>\n",
       "      <th></th>\n",
       "      <th></th>\n",
       "      <th></th>\n",
       "      <th></th>\n",
       "      <th></th>\n",
       "      <th></th>\n",
       "      <th></th>\n",
       "      <th></th>\n",
       "      <th></th>\n",
       "      <th></th>\n",
       "      <th></th>\n",
       "      <th></th>\n",
       "      <th></th>\n",
       "      <th></th>\n",
       "      <th></th>\n",
       "      <th></th>\n",
       "      <th></th>\n",
       "      <th></th>\n",
       "      <th></th>\n",
       "      <th></th>\n",
       "      <th></th>\n",
       "      <th></th>\n",
       "      <th></th>\n",
       "      <th></th>\n",
       "      <th></th>\n",
       "      <th></th>\n",
       "      <th></th>\n",
       "      <th></th>\n",
       "      <th></th>\n",
       "      <th></th>\n",
       "      <th></th>\n",
       "    </tr>\n",
       "  </thead>\n",
       "  <tbody>\n",
       "    <tr>\n",
       "      <td>109</td>\n",
       "      <td>https://www.airbnb.com/rooms/109</td>\n",
       "      <td>20190708161040</td>\n",
       "      <td>2019-07-09</td>\n",
       "      <td>Amazing bright elegant condo park front *UPGRA...</td>\n",
       "      <td>*** Unit upgraded with new bamboo flooring, br...</td>\n",
       "      <td>*** Unit upgraded with new bamboo flooring, br...</td>\n",
       "      <td>*** Unit upgraded with new bamboo flooring, br...</td>\n",
       "      <td>none</td>\n",
       "      <td>NaN</td>\n",
       "      <td>NaN</td>\n",
       "      <td>NaN</td>\n",
       "      <td>NaN</td>\n",
       "      <td>NaN</td>\n",
       "      <td>Camelot NEW RESIDENTS’ GENERAL INFORMATION   F...</td>\n",
       "      <td>NaN</td>\n",
       "      <td>NaN</td>\n",
       "      <td>https://a0.muscache.com/im/pictures/4321499/1d...</td>\n",
       "      <td>NaN</td>\n",
       "      <td>521</td>\n",
       "      <td>https://www.airbnb.com/users/show/521</td>\n",
       "      <td>Paolo</td>\n",
       "      <td>2008-06-27</td>\n",
       "      <td>San Francisco, California, United States</td>\n",
       "      <td>Search for me on the Internet with the keyword...</td>\n",
       "      <td>NaN</td>\n",
       "      <td>...</td>\n",
       "      <td>2019-07-09</td>\n",
       "      <td>2</td>\n",
       "      <td>0</td>\n",
       "      <td>2011-08-15</td>\n",
       "      <td>2016-05-15</td>\n",
       "      <td>80.0</td>\n",
       "      <td>10.0</td>\n",
       "      <td>10.0</td>\n",
       "      <td>6.0</td>\n",
       "      <td>8.0</td>\n",
       "      <td>10.0</td>\n",
       "      <td>8.0</td>\n",
       "      <td>f</td>\n",
       "      <td>NaN</td>\n",
       "      <td>{\"Culver City\",\" CA\"}</td>\n",
       "      <td>f</td>\n",
       "      <td>f</td>\n",
       "      <td>strict_14_with_grace_period</td>\n",
       "      <td>t</td>\n",
       "      <td>f</td>\n",
       "      <td>1</td>\n",
       "      <td>1</td>\n",
       "      <td>0</td>\n",
       "      <td>0</td>\n",
       "      <td>0.02</td>\n",
       "    </tr>\n",
       "  </tbody>\n",
       "</table>\n",
       "<p>1 rows × 105 columns</p>\n",
       "</div>"
      ],
      "text/plain": [
       "                          listing_url       scrape_id last_scraped  \\\n",
       "id                                                                   \n",
       "109  https://www.airbnb.com/rooms/109  20190708161040   2019-07-09   \n",
       "\n",
       "                                                  name  \\\n",
       "id                                                       \n",
       "109  Amazing bright elegant condo park front *UPGRA...   \n",
       "\n",
       "                                               summary  \\\n",
       "id                                                       \n",
       "109  *** Unit upgraded with new bamboo flooring, br...   \n",
       "\n",
       "                                                 space  \\\n",
       "id                                                       \n",
       "109  *** Unit upgraded with new bamboo flooring, br...   \n",
       "\n",
       "                                           description experiences_offered  \\\n",
       "id                                                                           \n",
       "109  *** Unit upgraded with new bamboo flooring, br...                none   \n",
       "\n",
       "    neighborhood_overview notes transit access interaction  \\\n",
       "id                                                           \n",
       "109                   NaN   NaN     NaN    NaN         NaN   \n",
       "\n",
       "                                           house_rules  thumbnail_url  \\\n",
       "id                                                                      \n",
       "109  Camelot NEW RESIDENTS’ GENERAL INFORMATION   F...            NaN   \n",
       "\n",
       "     medium_url                                        picture_url  \\\n",
       "id                                                                   \n",
       "109         NaN  https://a0.muscache.com/im/pictures/4321499/1d...   \n",
       "\n",
       "     xl_picture_url  host_id                               host_url host_name  \\\n",
       "id                                                                              \n",
       "109             NaN      521  https://www.airbnb.com/users/show/521     Paolo   \n",
       "\n",
       "     host_since                             host_location  \\\n",
       "id                                                          \n",
       "109  2008-06-27  San Francisco, California, United States   \n",
       "\n",
       "                                            host_about host_response_time  \\\n",
       "id                                                                          \n",
       "109  Search for me on the Internet with the keyword...                NaN   \n",
       "\n",
       "     ... calendar_last_scraped  number_of_reviews number_of_reviews_ltm  \\\n",
       "id   ...                                                                  \n",
       "109  ...            2019-07-09                  2                     0   \n",
       "\n",
       "    first_review last_review review_scores_rating  review_scores_accuracy  \\\n",
       "id                                                                          \n",
       "109   2011-08-15  2016-05-15                 80.0                    10.0   \n",
       "\n",
       "     review_scores_cleanliness review_scores_checkin  \\\n",
       "id                                                     \n",
       "109                       10.0                   6.0   \n",
       "\n",
       "    review_scores_communication review_scores_location review_scores_value  \\\n",
       "id                                                                           \n",
       "109                         8.0                   10.0                 8.0   \n",
       "\n",
       "    requires_license license     jurisdiction_names instant_bookable  \\\n",
       "id                                                                     \n",
       "109                f     NaN  {\"Culver City\",\" CA\"}                f   \n",
       "\n",
       "    is_business_travel_ready          cancellation_policy  \\\n",
       "id                                                          \n",
       "109                        f  strict_14_with_grace_period   \n",
       "\n",
       "    require_guest_profile_picture require_guest_phone_verification  \\\n",
       "id                                                                   \n",
       "109                             t                                f   \n",
       "\n",
       "    calculated_host_listings_count  \\\n",
       "id                                   \n",
       "109                              1   \n",
       "\n",
       "    calculated_host_listings_count_entire_homes  \\\n",
       "id                                                \n",
       "109                                           1   \n",
       "\n",
       "     calculated_host_listings_count_private_rooms  \\\n",
       "id                                                  \n",
       "109                                             0   \n",
       "\n",
       "     calculated_host_listings_count_shared_rooms reviews_per_month  \n",
       "id                                                                  \n",
       "109                                            0              0.02  \n",
       "\n",
       "[1 rows x 105 columns]"
      ]
     },
     "execution_count": 2,
     "metadata": {},
     "output_type": "execute_result"
    }
   ],
   "source": [
    "initFile = pd.read_csv('listings.csv',index_col= 'id',low_memory=False)\n",
    "initFile.head(1)"
   ]
  },
  {
   "cell_type": "code",
   "execution_count": 3,
   "metadata": {},
   "outputs": [],
   "source": [
    "lst = ['listing_url','scrape_id','last_scraped','summary',\\\n",
    "       'space','description','experiences_offered','neighborhood_overview','interaction','access','house_rules',\\\n",
    "       'notes','thumbnail_url','medium_url','picture_url','host_url',\\\n",
    "      'host_about','host_response_rate','host_acceptance_rate','host_thumbnail_url','host_picture_url',\\\n",
    "       'host_listings_count','host_has_profile_pic','host_verifications',\\\n",
    "       'neighbourhood','neighbourhood_group_cleansed','market','country_code',\\\n",
    "      'country','is_location_exact','square_feet','weekly_price','monthly_price','minimum_minimum_nights',\\\n",
    "      'minimum_minimum_nights','maximum_minimum_nights','minimum_maximum_nights','maximum_maximum_nights',\\\n",
    "      'minimum_nights_avg_ntm','maximum_nights_avg_ntm','calendar_updated','has_availability','calendar_last_scraped',\\\n",
    "      'availability_30','availability_60','availability_90','availability_365','number_of_reviews_ltm',\\\n",
    "       'requires_license','license','jurisdiction_names','is_business_travel_ready','require_guest_profile_picture',\\\n",
    "      'require_guest_phone_verification','calculated_host_listings_count','calculated_host_listings_count_entire_homes',\\\n",
    "      'calculated_host_listings_count_private_rooms','calculated_host_listings_count_shared_rooms','xl_picture_url',\\\n",
    "      ]\n",
    "initFile.drop(columns=lst,inplace=True)"
   ]
  },
  {
   "cell_type": "code",
   "execution_count": 4,
   "metadata": {},
   "outputs": [
    {
     "data": {
      "text/html": [
       "<div>\n",
       "<style scoped>\n",
       "    .dataframe tbody tr th:only-of-type {\n",
       "        vertical-align: middle;\n",
       "    }\n",
       "\n",
       "    .dataframe tbody tr th {\n",
       "        vertical-align: top;\n",
       "    }\n",
       "\n",
       "    .dataframe thead th {\n",
       "        text-align: right;\n",
       "    }\n",
       "</style>\n",
       "<table border=\"1\" class=\"dataframe\">\n",
       "  <thead>\n",
       "    <tr style=\"text-align: right;\">\n",
       "      <th></th>\n",
       "      <th>name</th>\n",
       "      <th>transit</th>\n",
       "      <th>host_id</th>\n",
       "      <th>host_name</th>\n",
       "      <th>host_since</th>\n",
       "      <th>host_location</th>\n",
       "      <th>host_response_time</th>\n",
       "      <th>host_is_superhost</th>\n",
       "      <th>host_neighbourhood</th>\n",
       "      <th>host_total_listings_count</th>\n",
       "      <th>host_identity_verified</th>\n",
       "      <th>street</th>\n",
       "      <th>neighbourhood_cleansed</th>\n",
       "      <th>city</th>\n",
       "      <th>state</th>\n",
       "      <th>zipcode</th>\n",
       "      <th>smart_location</th>\n",
       "      <th>latitude</th>\n",
       "      <th>longitude</th>\n",
       "      <th>property_type</th>\n",
       "      <th>room_type</th>\n",
       "      <th>accommodates</th>\n",
       "      <th>bathrooms</th>\n",
       "      <th>bedrooms</th>\n",
       "      <th>beds</th>\n",
       "      <th>bed_type</th>\n",
       "      <th>amenities</th>\n",
       "      <th>price</th>\n",
       "      <th>security_deposit</th>\n",
       "      <th>cleaning_fee</th>\n",
       "      <th>guests_included</th>\n",
       "      <th>extra_people</th>\n",
       "      <th>minimum_nights</th>\n",
       "      <th>maximum_nights</th>\n",
       "      <th>number_of_reviews</th>\n",
       "      <th>first_review</th>\n",
       "      <th>last_review</th>\n",
       "      <th>review_scores_rating</th>\n",
       "      <th>review_scores_accuracy</th>\n",
       "      <th>review_scores_cleanliness</th>\n",
       "      <th>review_scores_checkin</th>\n",
       "      <th>review_scores_communication</th>\n",
       "      <th>review_scores_location</th>\n",
       "      <th>review_scores_value</th>\n",
       "      <th>instant_bookable</th>\n",
       "      <th>cancellation_policy</th>\n",
       "      <th>reviews_per_month</th>\n",
       "    </tr>\n",
       "    <tr>\n",
       "      <th>id</th>\n",
       "      <th></th>\n",
       "      <th></th>\n",
       "      <th></th>\n",
       "      <th></th>\n",
       "      <th></th>\n",
       "      <th></th>\n",
       "      <th></th>\n",
       "      <th></th>\n",
       "      <th></th>\n",
       "      <th></th>\n",
       "      <th></th>\n",
       "      <th></th>\n",
       "      <th></th>\n",
       "      <th></th>\n",
       "      <th></th>\n",
       "      <th></th>\n",
       "      <th></th>\n",
       "      <th></th>\n",
       "      <th></th>\n",
       "      <th></th>\n",
       "      <th></th>\n",
       "      <th></th>\n",
       "      <th></th>\n",
       "      <th></th>\n",
       "      <th></th>\n",
       "      <th></th>\n",
       "      <th></th>\n",
       "      <th></th>\n",
       "      <th></th>\n",
       "      <th></th>\n",
       "      <th></th>\n",
       "      <th></th>\n",
       "      <th></th>\n",
       "      <th></th>\n",
       "      <th></th>\n",
       "      <th></th>\n",
       "      <th></th>\n",
       "      <th></th>\n",
       "      <th></th>\n",
       "      <th></th>\n",
       "      <th></th>\n",
       "      <th></th>\n",
       "      <th></th>\n",
       "      <th></th>\n",
       "      <th></th>\n",
       "      <th></th>\n",
       "      <th></th>\n",
       "    </tr>\n",
       "  </thead>\n",
       "  <tbody>\n",
       "    <tr>\n",
       "      <td>109</td>\n",
       "      <td>Amazing bright elegant condo park front *UPGRA...</td>\n",
       "      <td>NaN</td>\n",
       "      <td>521</td>\n",
       "      <td>Paolo</td>\n",
       "      <td>2008-06-27</td>\n",
       "      <td>San Francisco, California, United States</td>\n",
       "      <td>NaN</td>\n",
       "      <td>f</td>\n",
       "      <td>Culver City</td>\n",
       "      <td>1.0</td>\n",
       "      <td>t</td>\n",
       "      <td>Culver City, CA, United States</td>\n",
       "      <td>Culver City</td>\n",
       "      <td>Culver City</td>\n",
       "      <td>CA</td>\n",
       "      <td>90230</td>\n",
       "      <td>Culver City, CA</td>\n",
       "      <td>33.98209</td>\n",
       "      <td>-118.38494</td>\n",
       "      <td>Condominium</td>\n",
       "      <td>Entire home/apt</td>\n",
       "      <td>6</td>\n",
       "      <td>2.0</td>\n",
       "      <td>2.0</td>\n",
       "      <td>3.0</td>\n",
       "      <td>Real Bed</td>\n",
       "      <td>{TV,\"Cable TV\",Internet,Wifi,\"Air conditioning...</td>\n",
       "      <td>$122.00</td>\n",
       "      <td>$500.00</td>\n",
       "      <td>$240.00</td>\n",
       "      <td>3</td>\n",
       "      <td>$25.00</td>\n",
       "      <td>30</td>\n",
       "      <td>730</td>\n",
       "      <td>2</td>\n",
       "      <td>2011-08-15</td>\n",
       "      <td>2016-05-15</td>\n",
       "      <td>80.0</td>\n",
       "      <td>10.0</td>\n",
       "      <td>10.0</td>\n",
       "      <td>6.0</td>\n",
       "      <td>8.0</td>\n",
       "      <td>10.0</td>\n",
       "      <td>8.0</td>\n",
       "      <td>f</td>\n",
       "      <td>strict_14_with_grace_period</td>\n",
       "      <td>0.02</td>\n",
       "    </tr>\n",
       "    <tr>\n",
       "      <td>344</td>\n",
       "      <td>Family perfect;Pool;Near Studios!</td>\n",
       "      <td>Short drive to subway and elevated trains runn...</td>\n",
       "      <td>767</td>\n",
       "      <td>Melissa</td>\n",
       "      <td>2008-07-11</td>\n",
       "      <td>Burbank, California, United States</td>\n",
       "      <td>within a day</td>\n",
       "      <td>f</td>\n",
       "      <td>Burbank</td>\n",
       "      <td>1.0</td>\n",
       "      <td>t</td>\n",
       "      <td>Burbank, CA, United States</td>\n",
       "      <td>Burbank</td>\n",
       "      <td>Burbank</td>\n",
       "      <td>CA</td>\n",
       "      <td>91505</td>\n",
       "      <td>Burbank, CA</td>\n",
       "      <td>34.16562</td>\n",
       "      <td>-118.33458</td>\n",
       "      <td>House</td>\n",
       "      <td>Entire home/apt</td>\n",
       "      <td>6</td>\n",
       "      <td>1.0</td>\n",
       "      <td>3.0</td>\n",
       "      <td>3.0</td>\n",
       "      <td>Real Bed</td>\n",
       "      <td>{TV,\"Cable TV\",Internet,Wifi,\"Air conditioning...</td>\n",
       "      <td>$168.00</td>\n",
       "      <td>$0.00</td>\n",
       "      <td>$100.00</td>\n",
       "      <td>6</td>\n",
       "      <td>$0.00</td>\n",
       "      <td>2</td>\n",
       "      <td>14</td>\n",
       "      <td>6</td>\n",
       "      <td>2016-06-14</td>\n",
       "      <td>2018-10-21</td>\n",
       "      <td>93.0</td>\n",
       "      <td>10.0</td>\n",
       "      <td>10.0</td>\n",
       "      <td>10.0</td>\n",
       "      <td>10.0</td>\n",
       "      <td>10.0</td>\n",
       "      <td>9.0</td>\n",
       "      <td>t</td>\n",
       "      <td>flexible</td>\n",
       "      <td>0.16</td>\n",
       "    </tr>\n",
       "    <tr>\n",
       "      <td>2708</td>\n",
       "      <td>Fireplace Mirrored Mini Suit (Website hidden b...</td>\n",
       "      <td>There are many buses; bus stops going in every...</td>\n",
       "      <td>3008</td>\n",
       "      <td>Chas.</td>\n",
       "      <td>2008-09-16</td>\n",
       "      <td>Los Angeles, California, United States</td>\n",
       "      <td>within an hour</td>\n",
       "      <td>t</td>\n",
       "      <td>Hollywood</td>\n",
       "      <td>2.0</td>\n",
       "      <td>t</td>\n",
       "      <td>Los Angeles, CA, United States</td>\n",
       "      <td>Hollywood</td>\n",
       "      <td>Los Angeles</td>\n",
       "      <td>CA</td>\n",
       "      <td>90046</td>\n",
       "      <td>Los Angeles, CA</td>\n",
       "      <td>34.09768</td>\n",
       "      <td>-118.34602</td>\n",
       "      <td>Apartment</td>\n",
       "      <td>Private room</td>\n",
       "      <td>1</td>\n",
       "      <td>1.5</td>\n",
       "      <td>1.0</td>\n",
       "      <td>1.0</td>\n",
       "      <td>Real Bed</td>\n",
       "      <td>{Internet,Wifi,\"Air conditioning\",\"Wheelchair ...</td>\n",
       "      <td>$79.00</td>\n",
       "      <td>$480.00</td>\n",
       "      <td>$89.00</td>\n",
       "      <td>1</td>\n",
       "      <td>$0.00</td>\n",
       "      <td>28</td>\n",
       "      <td>366</td>\n",
       "      <td>20</td>\n",
       "      <td>2014-06-09</td>\n",
       "      <td>2019-05-20</td>\n",
       "      <td>98.0</td>\n",
       "      <td>10.0</td>\n",
       "      <td>10.0</td>\n",
       "      <td>10.0</td>\n",
       "      <td>10.0</td>\n",
       "      <td>10.0</td>\n",
       "      <td>10.0</td>\n",
       "      <td>t</td>\n",
       "      <td>strict_14_with_grace_period</td>\n",
       "      <td>0.32</td>\n",
       "    </tr>\n",
       "    <tr>\n",
       "      <td>2732</td>\n",
       "      <td>Zen Life at the Beach</td>\n",
       "      <td>NaN</td>\n",
       "      <td>3041</td>\n",
       "      <td>Yoga Priestess</td>\n",
       "      <td>2008-09-17</td>\n",
       "      <td>Santa Monica, California, United States</td>\n",
       "      <td>within an hour</td>\n",
       "      <td>t</td>\n",
       "      <td>Santa Monica</td>\n",
       "      <td>2.0</td>\n",
       "      <td>t</td>\n",
       "      <td>Santa Monica, CA, United States</td>\n",
       "      <td>Santa Monica</td>\n",
       "      <td>Santa Monica</td>\n",
       "      <td>CA</td>\n",
       "      <td>90405</td>\n",
       "      <td>Santa Monica, CA</td>\n",
       "      <td>34.00475</td>\n",
       "      <td>-118.48127</td>\n",
       "      <td>Apartment</td>\n",
       "      <td>Private room</td>\n",
       "      <td>1</td>\n",
       "      <td>1.0</td>\n",
       "      <td>1.0</td>\n",
       "      <td>1.0</td>\n",
       "      <td>Pull-out Sofa</td>\n",
       "      <td>{Internet,Wifi,Kitchen,Heating,Washer,Dryer,\"S...</td>\n",
       "      <td>$140.00</td>\n",
       "      <td>NaN</td>\n",
       "      <td>$100.00</td>\n",
       "      <td>1</td>\n",
       "      <td>$0.00</td>\n",
       "      <td>1</td>\n",
       "      <td>180</td>\n",
       "      <td>18</td>\n",
       "      <td>2011-06-06</td>\n",
       "      <td>2018-11-15</td>\n",
       "      <td>96.0</td>\n",
       "      <td>9.0</td>\n",
       "      <td>9.0</td>\n",
       "      <td>10.0</td>\n",
       "      <td>10.0</td>\n",
       "      <td>10.0</td>\n",
       "      <td>9.0</td>\n",
       "      <td>f</td>\n",
       "      <td>strict_14_with_grace_period</td>\n",
       "      <td>0.18</td>\n",
       "    </tr>\n",
       "    <tr>\n",
       "      <td>2864</td>\n",
       "      <td>*Upscale Professional Home with Beautiful Studio*</td>\n",
       "      <td>Public transportation is a 3 minutes walk to t...</td>\n",
       "      <td>3207</td>\n",
       "      <td>Bernadine</td>\n",
       "      <td>2008-09-25</td>\n",
       "      <td>Long Beach, California, United States</td>\n",
       "      <td>NaN</td>\n",
       "      <td>f</td>\n",
       "      <td>Bellflower</td>\n",
       "      <td>1.0</td>\n",
       "      <td>t</td>\n",
       "      <td>Bellflower, CA, United States</td>\n",
       "      <td>Bellflower</td>\n",
       "      <td>Bellflower</td>\n",
       "      <td>CA</td>\n",
       "      <td>90706</td>\n",
       "      <td>Bellflower, CA</td>\n",
       "      <td>33.87619</td>\n",
       "      <td>-118.11397</td>\n",
       "      <td>Apartment</td>\n",
       "      <td>Entire home/apt</td>\n",
       "      <td>2</td>\n",
       "      <td>1.0</td>\n",
       "      <td>1.0</td>\n",
       "      <td>1.0</td>\n",
       "      <td>Real Bed</td>\n",
       "      <td>{TV,\"Cable TV\",Internet,Wifi,\"Air conditioning...</td>\n",
       "      <td>$80.00</td>\n",
       "      <td>$100.00</td>\n",
       "      <td>$75.00</td>\n",
       "      <td>1</td>\n",
       "      <td>$25.00</td>\n",
       "      <td>2</td>\n",
       "      <td>730</td>\n",
       "      <td>0</td>\n",
       "      <td>NaN</td>\n",
       "      <td>NaN</td>\n",
       "      <td>NaN</td>\n",
       "      <td>NaN</td>\n",
       "      <td>NaN</td>\n",
       "      <td>NaN</td>\n",
       "      <td>NaN</td>\n",
       "      <td>NaN</td>\n",
       "      <td>NaN</td>\n",
       "      <td>f</td>\n",
       "      <td>strict_14_with_grace_period</td>\n",
       "      <td>NaN</td>\n",
       "    </tr>\n",
       "  </tbody>\n",
       "</table>\n",
       "</div>"
      ],
      "text/plain": [
       "                                                   name  \\\n",
       "id                                                        \n",
       "109   Amazing bright elegant condo park front *UPGRA...   \n",
       "344                   Family perfect;Pool;Near Studios!   \n",
       "2708  Fireplace Mirrored Mini Suit (Website hidden b...   \n",
       "2732                              Zen Life at the Beach   \n",
       "2864  *Upscale Professional Home with Beautiful Studio*   \n",
       "\n",
       "                                                transit  host_id  \\\n",
       "id                                                                 \n",
       "109                                                 NaN      521   \n",
       "344   Short drive to subway and elevated trains runn...      767   \n",
       "2708  There are many buses; bus stops going in every...     3008   \n",
       "2732                                                NaN     3041   \n",
       "2864  Public transportation is a 3 minutes walk to t...     3207   \n",
       "\n",
       "           host_name  host_since                             host_location  \\\n",
       "id                                                                           \n",
       "109            Paolo  2008-06-27  San Francisco, California, United States   \n",
       "344          Melissa  2008-07-11        Burbank, California, United States   \n",
       "2708           Chas.  2008-09-16    Los Angeles, California, United States   \n",
       "2732  Yoga Priestess  2008-09-17   Santa Monica, California, United States   \n",
       "2864       Bernadine  2008-09-25     Long Beach, California, United States   \n",
       "\n",
       "     host_response_time host_is_superhost host_neighbourhood  \\\n",
       "id                                                             \n",
       "109                 NaN                 f        Culver City   \n",
       "344        within a day                 f            Burbank   \n",
       "2708     within an hour                 t          Hollywood   \n",
       "2732     within an hour                 t       Santa Monica   \n",
       "2864                NaN                 f         Bellflower   \n",
       "\n",
       "      host_total_listings_count host_identity_verified  \\\n",
       "id                                                       \n",
       "109                         1.0                      t   \n",
       "344                         1.0                      t   \n",
       "2708                        2.0                      t   \n",
       "2732                        2.0                      t   \n",
       "2864                        1.0                      t   \n",
       "\n",
       "                               street neighbourhood_cleansed          city  \\\n",
       "id                                                                           \n",
       "109    Culver City, CA, United States            Culver City   Culver City   \n",
       "344        Burbank, CA, United States                Burbank       Burbank   \n",
       "2708   Los Angeles, CA, United States              Hollywood   Los Angeles   \n",
       "2732  Santa Monica, CA, United States           Santa Monica  Santa Monica   \n",
       "2864    Bellflower, CA, United States             Bellflower    Bellflower   \n",
       "\n",
       "     state zipcode    smart_location  latitude  longitude property_type  \\\n",
       "id                                                                        \n",
       "109     CA   90230   Culver City, CA  33.98209 -118.38494   Condominium   \n",
       "344     CA   91505       Burbank, CA  34.16562 -118.33458         House   \n",
       "2708    CA   90046   Los Angeles, CA  34.09768 -118.34602     Apartment   \n",
       "2732    CA   90405  Santa Monica, CA  34.00475 -118.48127     Apartment   \n",
       "2864    CA   90706    Bellflower, CA  33.87619 -118.11397     Apartment   \n",
       "\n",
       "            room_type  accommodates  bathrooms  bedrooms  beds       bed_type  \\\n",
       "id                                                                              \n",
       "109   Entire home/apt             6        2.0       2.0   3.0       Real Bed   \n",
       "344   Entire home/apt             6        1.0       3.0   3.0       Real Bed   \n",
       "2708     Private room             1        1.5       1.0   1.0       Real Bed   \n",
       "2732     Private room             1        1.0       1.0   1.0  Pull-out Sofa   \n",
       "2864  Entire home/apt             2        1.0       1.0   1.0       Real Bed   \n",
       "\n",
       "                                              amenities    price  \\\n",
       "id                                                                 \n",
       "109   {TV,\"Cable TV\",Internet,Wifi,\"Air conditioning...  $122.00   \n",
       "344   {TV,\"Cable TV\",Internet,Wifi,\"Air conditioning...  $168.00   \n",
       "2708  {Internet,Wifi,\"Air conditioning\",\"Wheelchair ...   $79.00   \n",
       "2732  {Internet,Wifi,Kitchen,Heating,Washer,Dryer,\"S...  $140.00   \n",
       "2864  {TV,\"Cable TV\",Internet,Wifi,\"Air conditioning...   $80.00   \n",
       "\n",
       "     security_deposit cleaning_fee  guests_included extra_people  \\\n",
       "id                                                                 \n",
       "109           $500.00      $240.00                3       $25.00   \n",
       "344             $0.00      $100.00                6        $0.00   \n",
       "2708          $480.00       $89.00                1        $0.00   \n",
       "2732              NaN      $100.00                1        $0.00   \n",
       "2864          $100.00       $75.00                1       $25.00   \n",
       "\n",
       "      minimum_nights  maximum_nights  number_of_reviews first_review  \\\n",
       "id                                                                     \n",
       "109               30             730                  2   2011-08-15   \n",
       "344                2              14                  6   2016-06-14   \n",
       "2708              28             366                 20   2014-06-09   \n",
       "2732               1             180                 18   2011-06-06   \n",
       "2864               2             730                  0          NaN   \n",
       "\n",
       "     last_review  review_scores_rating  review_scores_accuracy  \\\n",
       "id                                                               \n",
       "109   2016-05-15                  80.0                    10.0   \n",
       "344   2018-10-21                  93.0                    10.0   \n",
       "2708  2019-05-20                  98.0                    10.0   \n",
       "2732  2018-11-15                  96.0                     9.0   \n",
       "2864         NaN                   NaN                     NaN   \n",
       "\n",
       "      review_scores_cleanliness  review_scores_checkin  \\\n",
       "id                                                       \n",
       "109                        10.0                    6.0   \n",
       "344                        10.0                   10.0   \n",
       "2708                       10.0                   10.0   \n",
       "2732                        9.0                   10.0   \n",
       "2864                        NaN                    NaN   \n",
       "\n",
       "      review_scores_communication  review_scores_location  \\\n",
       "id                                                          \n",
       "109                           8.0                    10.0   \n",
       "344                          10.0                    10.0   \n",
       "2708                         10.0                    10.0   \n",
       "2732                         10.0                    10.0   \n",
       "2864                          NaN                     NaN   \n",
       "\n",
       "      review_scores_value instant_bookable          cancellation_policy  \\\n",
       "id                                                                        \n",
       "109                   8.0                f  strict_14_with_grace_period   \n",
       "344                   9.0                t                     flexible   \n",
       "2708                 10.0                t  strict_14_with_grace_period   \n",
       "2732                  9.0                f  strict_14_with_grace_period   \n",
       "2864                  NaN                f  strict_14_with_grace_period   \n",
       "\n",
       "      reviews_per_month  \n",
       "id                       \n",
       "109                0.02  \n",
       "344                0.16  \n",
       "2708               0.32  \n",
       "2732               0.18  \n",
       "2864                NaN  "
      ]
     },
     "execution_count": 4,
     "metadata": {},
     "output_type": "execute_result"
    }
   ],
   "source": [
    "initFile.head()"
   ]
  },
  {
   "cell_type": "code",
   "execution_count": 5,
   "metadata": {},
   "outputs": [],
   "source": [
    "initFile.reset_index(inplace=True)"
   ]
  },
  {
   "cell_type": "code",
   "execution_count": 6,
   "metadata": {},
   "outputs": [],
   "source": [
    "initFile['colid'] = initFile.index "
   ]
  },
  {
   "cell_type": "code",
   "execution_count": 7,
   "metadata": {},
   "outputs": [],
   "source": [
    "initFile.drop('id',axis=1,inplace=True)"
   ]
  },
  {
   "cell_type": "code",
   "execution_count": 8,
   "metadata": {},
   "outputs": [],
   "source": [
    "initFile.rename(columns={'colid':'id'},inplace=True)\n",
    "initFile.id +=1"
   ]
  },
  {
   "cell_type": "code",
   "execution_count": 9,
   "metadata": {},
   "outputs": [
    {
     "data": {
      "text/html": [
       "<div>\n",
       "<style scoped>\n",
       "    .dataframe tbody tr th:only-of-type {\n",
       "        vertical-align: middle;\n",
       "    }\n",
       "\n",
       "    .dataframe tbody tr th {\n",
       "        vertical-align: top;\n",
       "    }\n",
       "\n",
       "    .dataframe thead th {\n",
       "        text-align: right;\n",
       "    }\n",
       "</style>\n",
       "<table border=\"1\" class=\"dataframe\">\n",
       "  <thead>\n",
       "    <tr style=\"text-align: right;\">\n",
       "      <th></th>\n",
       "      <th>name</th>\n",
       "      <th>transit</th>\n",
       "      <th>host_id</th>\n",
       "      <th>host_name</th>\n",
       "      <th>host_since</th>\n",
       "      <th>host_location</th>\n",
       "      <th>host_response_time</th>\n",
       "      <th>host_is_superhost</th>\n",
       "      <th>host_neighbourhood</th>\n",
       "      <th>host_total_listings_count</th>\n",
       "      <th>host_identity_verified</th>\n",
       "      <th>street</th>\n",
       "      <th>neighbourhood_cleansed</th>\n",
       "      <th>city</th>\n",
       "      <th>state</th>\n",
       "      <th>zipcode</th>\n",
       "      <th>smart_location</th>\n",
       "      <th>latitude</th>\n",
       "      <th>longitude</th>\n",
       "      <th>property_type</th>\n",
       "      <th>room_type</th>\n",
       "      <th>accommodates</th>\n",
       "      <th>bathrooms</th>\n",
       "      <th>bedrooms</th>\n",
       "      <th>beds</th>\n",
       "      <th>bed_type</th>\n",
       "      <th>amenities</th>\n",
       "      <th>price</th>\n",
       "      <th>security_deposit</th>\n",
       "      <th>cleaning_fee</th>\n",
       "      <th>guests_included</th>\n",
       "      <th>extra_people</th>\n",
       "      <th>minimum_nights</th>\n",
       "      <th>maximum_nights</th>\n",
       "      <th>number_of_reviews</th>\n",
       "      <th>first_review</th>\n",
       "      <th>last_review</th>\n",
       "      <th>review_scores_rating</th>\n",
       "      <th>review_scores_accuracy</th>\n",
       "      <th>review_scores_cleanliness</th>\n",
       "      <th>review_scores_checkin</th>\n",
       "      <th>review_scores_communication</th>\n",
       "      <th>review_scores_location</th>\n",
       "      <th>review_scores_value</th>\n",
       "      <th>instant_bookable</th>\n",
       "      <th>cancellation_policy</th>\n",
       "      <th>reviews_per_month</th>\n",
       "    </tr>\n",
       "    <tr>\n",
       "      <th>id</th>\n",
       "      <th></th>\n",
       "      <th></th>\n",
       "      <th></th>\n",
       "      <th></th>\n",
       "      <th></th>\n",
       "      <th></th>\n",
       "      <th></th>\n",
       "      <th></th>\n",
       "      <th></th>\n",
       "      <th></th>\n",
       "      <th></th>\n",
       "      <th></th>\n",
       "      <th></th>\n",
       "      <th></th>\n",
       "      <th></th>\n",
       "      <th></th>\n",
       "      <th></th>\n",
       "      <th></th>\n",
       "      <th></th>\n",
       "      <th></th>\n",
       "      <th></th>\n",
       "      <th></th>\n",
       "      <th></th>\n",
       "      <th></th>\n",
       "      <th></th>\n",
       "      <th></th>\n",
       "      <th></th>\n",
       "      <th></th>\n",
       "      <th></th>\n",
       "      <th></th>\n",
       "      <th></th>\n",
       "      <th></th>\n",
       "      <th></th>\n",
       "      <th></th>\n",
       "      <th></th>\n",
       "      <th></th>\n",
       "      <th></th>\n",
       "      <th></th>\n",
       "      <th></th>\n",
       "      <th></th>\n",
       "      <th></th>\n",
       "      <th></th>\n",
       "      <th></th>\n",
       "      <th></th>\n",
       "      <th></th>\n",
       "      <th></th>\n",
       "      <th></th>\n",
       "    </tr>\n",
       "  </thead>\n",
       "  <tbody>\n",
       "    <tr>\n",
       "      <td>1</td>\n",
       "      <td>Amazing bright elegant condo park front *UPGRA...</td>\n",
       "      <td>NaN</td>\n",
       "      <td>521</td>\n",
       "      <td>Paolo</td>\n",
       "      <td>2008-06-27</td>\n",
       "      <td>San Francisco, California, United States</td>\n",
       "      <td>NaN</td>\n",
       "      <td>f</td>\n",
       "      <td>Culver City</td>\n",
       "      <td>1.0</td>\n",
       "      <td>t</td>\n",
       "      <td>Culver City, CA, United States</td>\n",
       "      <td>Culver City</td>\n",
       "      <td>Culver City</td>\n",
       "      <td>CA</td>\n",
       "      <td>90230</td>\n",
       "      <td>Culver City, CA</td>\n",
       "      <td>33.98209</td>\n",
       "      <td>-118.38494</td>\n",
       "      <td>Condominium</td>\n",
       "      <td>Entire home/apt</td>\n",
       "      <td>6</td>\n",
       "      <td>2.0</td>\n",
       "      <td>2.0</td>\n",
       "      <td>3.0</td>\n",
       "      <td>Real Bed</td>\n",
       "      <td>{TV,\"Cable TV\",Internet,Wifi,\"Air conditioning...</td>\n",
       "      <td>$122.00</td>\n",
       "      <td>$500.00</td>\n",
       "      <td>$240.00</td>\n",
       "      <td>3</td>\n",
       "      <td>$25.00</td>\n",
       "      <td>30</td>\n",
       "      <td>730</td>\n",
       "      <td>2</td>\n",
       "      <td>2011-08-15</td>\n",
       "      <td>2016-05-15</td>\n",
       "      <td>80.0</td>\n",
       "      <td>10.0</td>\n",
       "      <td>10.0</td>\n",
       "      <td>6.0</td>\n",
       "      <td>8.0</td>\n",
       "      <td>10.0</td>\n",
       "      <td>8.0</td>\n",
       "      <td>f</td>\n",
       "      <td>strict_14_with_grace_period</td>\n",
       "      <td>0.02</td>\n",
       "    </tr>\n",
       "  </tbody>\n",
       "</table>\n",
       "</div>"
      ],
      "text/plain": [
       "                                                 name transit  host_id  \\\n",
       "id                                                                       \n",
       "1   Amazing bright elegant condo park front *UPGRA...     NaN      521   \n",
       "\n",
       "   host_name  host_since                             host_location  \\\n",
       "id                                                                   \n",
       "1      Paolo  2008-06-27  San Francisco, California, United States   \n",
       "\n",
       "   host_response_time host_is_superhost host_neighbourhood  \\\n",
       "id                                                           \n",
       "1                 NaN                 f        Culver City   \n",
       "\n",
       "    host_total_listings_count host_identity_verified  \\\n",
       "id                                                     \n",
       "1                         1.0                      t   \n",
       "\n",
       "                            street neighbourhood_cleansed         city state  \\\n",
       "id                                                                             \n",
       "1   Culver City, CA, United States            Culver City  Culver City    CA   \n",
       "\n",
       "   zipcode   smart_location  latitude  longitude property_type  \\\n",
       "id                                                               \n",
       "1    90230  Culver City, CA  33.98209 -118.38494   Condominium   \n",
       "\n",
       "          room_type  accommodates  bathrooms  bedrooms  beds  bed_type  \\\n",
       "id                                                                       \n",
       "1   Entire home/apt             6        2.0       2.0   3.0  Real Bed   \n",
       "\n",
       "                                            amenities    price  \\\n",
       "id                                                               \n",
       "1   {TV,\"Cable TV\",Internet,Wifi,\"Air conditioning...  $122.00   \n",
       "\n",
       "   security_deposit cleaning_fee  guests_included extra_people  \\\n",
       "id                                                               \n",
       "1           $500.00      $240.00                3       $25.00   \n",
       "\n",
       "    minimum_nights  maximum_nights  number_of_reviews first_review  \\\n",
       "id                                                                   \n",
       "1               30             730                  2   2011-08-15   \n",
       "\n",
       "   last_review  review_scores_rating  review_scores_accuracy  \\\n",
       "id                                                             \n",
       "1   2016-05-15                  80.0                    10.0   \n",
       "\n",
       "    review_scores_cleanliness  review_scores_checkin  \\\n",
       "id                                                     \n",
       "1                        10.0                    6.0   \n",
       "\n",
       "    review_scores_communication  review_scores_location  review_scores_value  \\\n",
       "id                                                                             \n",
       "1                           8.0                    10.0                  8.0   \n",
       "\n",
       "   instant_bookable          cancellation_policy  reviews_per_month  \n",
       "id                                                                   \n",
       "1                 f  strict_14_with_grace_period               0.02  "
      ]
     },
     "execution_count": 9,
     "metadata": {},
     "output_type": "execute_result"
    }
   ],
   "source": [
    "initFile.set_index('id',inplace=True)\n",
    "initFile.head(1)"
   ]
  },
  {
   "cell_type": "markdown",
   "metadata": {},
   "source": [
    "## Cleaning the dataset to make sure we have only CA related values"
   ]
  },
  {
   "cell_type": "code",
   "execution_count": 10,
   "metadata": {},
   "outputs": [],
   "source": [
    "df = initFile.copy()"
   ]
  },
  {
   "cell_type": "code",
   "execution_count": 11,
   "metadata": {},
   "outputs": [
    {
     "name": "stderr",
     "output_type": "stream",
     "text": [
      "C:\\ProgramData\\Anaconda3\\lib\\site-packages\\pandas\\core\\indexing.py:205: SettingWithCopyWarning: \n",
      "A value is trying to be set on a copy of a slice from a DataFrame\n",
      "\n",
      "See the caveats in the documentation: http://pandas.pydata.org/pandas-docs/stable/user_guide/indexing.html#returning-a-view-versus-a-copy\n",
      "  self._setitem_with_indexer(indexer, value)\n"
     ]
    }
   ],
   "source": [
    "df.state.loc[df.state=='California'] = 'CA'\n",
    "df.state.unique()\n",
    "df.state = df['state'].str.upper()"
   ]
  },
  {
   "cell_type": "code",
   "execution_count": 12,
   "metadata": {},
   "outputs": [
    {
     "data": {
      "text/plain": [
       "CA    44611\n",
       "NY        2\n",
       "加州        2\n",
       "IL        1\n",
       "加洲        1\n",
       "FL        1\n",
       "Name: state, dtype: int64"
      ]
     },
     "execution_count": 12,
     "metadata": {},
     "output_type": "execute_result"
    }
   ],
   "source": [
    "df.state.value_counts()"
   ]
  },
  {
   "cell_type": "markdown",
   "metadata": {},
   "source": [
    "## We need to remove the non-CA values from the dataset"
   ]
  },
  {
   "cell_type": "code",
   "execution_count": 13,
   "metadata": {},
   "outputs": [],
   "source": [
    "df.drop(df[~(df.state.values=='CA')].index,axis=0,inplace=True)"
   ]
  },
  {
   "cell_type": "code",
   "execution_count": 14,
   "metadata": {},
   "outputs": [
    {
     "data": {
      "text/plain": [
       "Index(['name', 'transit', 'host_id', 'host_name', 'host_since',\n",
       "       'host_location', 'host_response_time', 'host_is_superhost',\n",
       "       'host_neighbourhood', 'host_total_listings_count',\n",
       "       'host_identity_verified', 'street', 'neighbourhood_cleansed', 'city',\n",
       "       'state', 'zipcode', 'smart_location', 'latitude', 'longitude',\n",
       "       'property_type', 'room_type', 'accommodates', 'bathrooms', 'bedrooms',\n",
       "       'beds', 'bed_type', 'amenities', 'price', 'security_deposit',\n",
       "       'cleaning_fee', 'guests_included', 'extra_people', 'minimum_nights',\n",
       "       'maximum_nights', 'number_of_reviews', 'first_review', 'last_review',\n",
       "       'review_scores_rating', 'review_scores_accuracy',\n",
       "       'review_scores_cleanliness', 'review_scores_checkin',\n",
       "       'review_scores_communication', 'review_scores_location',\n",
       "       'review_scores_value', 'instant_bookable', 'cancellation_policy',\n",
       "       'reviews_per_month'],\n",
       "      dtype='object')"
      ]
     },
     "execution_count": 14,
     "metadata": {},
     "output_type": "execute_result"
    }
   ],
   "source": [
    "df.columns"
   ]
  },
  {
   "cell_type": "code",
   "execution_count": 15,
   "metadata": {},
   "outputs": [],
   "source": [
    "df.city = df.city.str.lower()\n",
    "df.city.unique()\n",
    "df.city.dropna(inplace=True)"
   ]
  },
  {
   "cell_type": "code",
   "execution_count": 16,
   "metadata": {},
   "outputs": [
    {
     "data": {
      "text/plain": [
       "los angeles                       27933\n",
       "long beach                         1612\n",
       "santa monica                       1059\n",
       "west hollywood                      973\n",
       "beverly hills                       767\n",
       "                                  ...  \n",
       "el segundo, california, us            1\n",
       "los angeles                           1\n",
       "toluca lake (los angeles area)        1\n",
       "bixby knolls                          1\n",
       "upland                                1\n",
       "Name: city, Length: 334, dtype: int64"
      ]
     },
     "execution_count": 16,
     "metadata": {},
     "output_type": "execute_result"
    }
   ],
   "source": [
    "df['city'] = df['city'].str.replace(r'[^\\x00-\\x7F]+', '')\n",
    "df.city.dropna(inplace=True)\n",
    "df.city.value_counts()"
   ]
  },
  {
   "cell_type": "code",
   "execution_count": 17,
   "metadata": {},
   "outputs": [
    {
     "data": {
      "text/plain": [
       "city                         neighbourhood_cleansed   \n",
       "                             Rowland Heights              5\n",
       "                             Monterey Park                2\n",
       "                             El Monte                     1\n",
       "                             Hacienda Heights             1\n",
       "                             Rosemead                     1\n",
       "                                                         ..\n",
       "woodland hills, los angeles  Woodland Hills               1\n",
       "woodland hills/los angeles   Woodland Hills               1\n",
       "woodland hls                 Woodland Hills               1\n",
       "wrightwood                   Angeles Crest                2\n",
       "                             Southeast Antelope Valley    1\n",
       "Name: neighbourhood_cleansed, Length: 857, dtype: int64"
      ]
     },
     "execution_count": 17,
     "metadata": {},
     "output_type": "execute_result"
    }
   ],
   "source": [
    "df.groupby('city')['neighbourhood_cleansed'].value_counts()"
   ]
  },
  {
   "cell_type": "code",
   "execution_count": 18,
   "metadata": {},
   "outputs": [
    {
     "data": {
      "text/plain": [
       "(44611,)"
      ]
     },
     "execution_count": 18,
     "metadata": {},
     "output_type": "execute_result"
    }
   ],
   "source": [
    "df.smart_location.shape"
   ]
  },
  {
   "cell_type": "code",
   "execution_count": 19,
   "metadata": {},
   "outputs": [],
   "source": [
    "df.smart_location = df.smart_location.str.lower()"
   ]
  },
  {
   "cell_type": "code",
   "execution_count": 20,
   "metadata": {},
   "outputs": [
    {
     "data": {
      "text/plain": [
       "array(['culver city, ca', 'burbank, ca', 'los angeles, ca',\n",
       "       'santa monica, ca', 'bellflower, ca', 'woodland hills, ca',\n",
       "       'beverly hills, ca', 'venice, ca', 'long beach, ca',\n",
       "       'redondo beach, ca', 'torrance, ca', 'n hollywood, ca',\n",
       "       'studio city, ca', 'glendale, ca', 'malibu, ca',\n",
       "       'san fernando valley, ca', 'lynwood, ca', 'hollywood, ca',\n",
       "       'granada hills, (los angeles), ca', 'west hollywood, ca',\n",
       "       'encino, ca', 'north hills, ca', 'carson, ca',\n",
       "       'north hollywood, ca', 'altadena, ca', 'calabasas, ca',\n",
       "       'hollywood hills, ca', 'agoura hills-malibu, ca',\n",
       "       'manhattan beach, ca', 'sherman oaks, ca', 'topanga, ca',\n",
       "       'rancho palos verdes, ca', 'san gabriel, ca', 'marina del rey, ca',\n",
       "       'lakewood, ca', 'topanga canyon, ca', 'sierra madre, ca',\n",
       "       'pasadena, ca', 'agua dulce, ca', 'hermosa beach, ca',\n",
       "       'compton, ca', 'pacific palisades, ca', 'el segundo, ca',\n",
       "       'los angeles county, ca', 'inglewood, ca', 'covina, ca',\n",
       "       'rowland heights, ca', 'south pasadena, ca',\n",
       "       'la cañada flintridge, ca', 'montrose, ca', 'walnut, ca',\n",
       "       'playa del rey, ca', 'whittier, ca', 'littlerock, ca',\n",
       "       'alhambra, ca', 'baldwin park, ca', 'agoura hills, ca',\n",
       "       'venice , ca', 'monrovia, ca', 'montebello, ca',\n",
       "       'valley village, ca', 'rolling hills estates, ca', 'winnetka, ca',\n",
       "       'venice beach, ca', 'tarzana, ca', 'lomita, ca',\n",
       "       'sherman oaks, los angeles, ca', 'san fernando, ca', 'reseda, ca',\n",
       "       'valley glen, ca', 'san pedro, ca', 'burbank, los angeles, ca',\n",
       "       'palmdale, ca', 'north hollywood , ca', 'san dimas, ca',\n",
       "       ' los angeles, ca', 'hawthorne, ca',\n",
       "       'hollywood, hollywood hills, los angeles, ca', 'northridge, ca',\n",
       "       'canoga park, ca', 'woodland hls, ca', 'west covina, ca',\n",
       "       'santa clarita, ca', 'monterey hill. los angeles, ca',\n",
       "       'san pedro los angeles , ca', 'toluca lake, ca', 'playa vista, ca',\n",
       "       'arcadia, ca', 'la habra heights, ca',\n",
       "       'rowland heights / hacienda heights, ca', 'malibu , ca',\n",
       "       'pasadena, los angeles, ca', 'san marino, ca', 'silver lake, ca',\n",
       "       'claremont, ca', 'valencia, ca', 'west los angeles, ca',\n",
       "       'harbor city, ca', 'gardena, ca', 'lawndale, ca', 'west hills, ca',\n",
       "       'lancaster, ca', 'downey, ca', 'van nuys, ca',\n",
       "       'east los angeles, ca', 'pico rivera, ca', 'avalon, ca',\n",
       "       'monterey park, ca', 'hollywood  , ca', ' venice los angeles, ca',\n",
       "       'no hollywood, ca', 'el monte, ca',\n",
       "       'north hollywood (toluca lake), ca',\n",
       "       'marina del rey, venice, los angeles, ca', 'la mirada, ca',\n",
       "       'diamond bar, ca', 'silver lake, los angeles, ca',\n",
       "       'hacienda heights, ca', 'bell, ca', 'val verde, ca', 'azusa, ca',\n",
       "       'echo park, ca', 'woodland hills, los angeles, ca',\n",
       "       'huntington park, ca', 'glendora, ca', 'palos verdes estates, ca',\n",
       "       'лос-анджелес, ca', 'temple city, ca',\n",
       "       'los feliz, los angeles, ca', 'la crescenta-montrose, ca',\n",
       "       'la, ca', 'cerritos, ca', 'pacific palisades, los angeles, ca',\n",
       "       'windsor hills, ca', 'venice, los angeles, ca', 'norwalk, ca',\n",
       "       'bel air, ca', 'stevenson ranch, ca', 'sherman oaks, , ca',\n",
       "       'granada hills, ca', 'toluca lake (los angeles area), ca',\n",
       "       'lake balboa, ca', 'studio city , ca', 'castaic, ca',\n",
       "       'los angeles, noho art district, ca', 'los angeles , ca',\n",
       "       'signal hill, ca', 'duarte, ca', 'westchester, ca',\n",
       "       'beverly grove, ca', 'west hollywood , ca', 'pomona, ca',\n",
       "       'hollywood , ca', 'san pedro, los angeles, ca', 'artesia, ca',\n",
       "       'malibu canyon/monte nido, ca', 'sherwood forest, ca',\n",
       "       'venice (los angeles), ca', 'oak park, ca',\n",
       "       'west hollywood hills, ca', 'la verne, ca', '蒙特利帕克, ca',\n",
       "       'south gate, ca', 'hollywood hills, los angeles, ca', 'upland, ca',\n",
       "       'north hollywood los angeles studio city, ca', 'venice beach , ca',\n",
       "       'rowland helghts, ca', 'woodland hills (los angeles), ca',\n",
       "       'wrightwood, ca', 'valencia , ca', 'rosemead, ca',\n",
       "       'lake los angeles, ca', 'los angeles / beverly hills, ca',\n",
       "       'woodland hills , ca', 'venice , los angeles, ca',\n",
       "       'sherman oaks , ca', 'chatsworth, ca',\n",
       "       'echo park, los angeles, ca', 'san pedro los angeles, ca',\n",
       "       'south el monte, ca', 'del aire, ca', 'la puente, ca',\n",
       "       'mar vista, ca', 'bell gardens, ca', 'paramount, ca',\n",
       "       'lake hughes, ca', ' encino, ca', 'view park-windsor hills, ca',\n",
       "       'los angeles (montecito heights), ca', 'encino, los angeles, ca',\n",
       "       'pasadena , ca', '因達斯特里, ca', 'los angeles ca, ca', '艾尔蒙地, ca',\n",
       "       'sun valley, ca', 'ca', 'los angeles    , ca', 'valyermo, ca',\n",
       "       'rowland height , ca', 'beverly hills ( post office) zip code, ca',\n",
       "       'los angeles, hollywood hills, ca', 'hollywood heights, ca',\n",
       "       'lennox, ca', 'p, ca',\n",
       "       'los angeles, studio city, tujunga village, ca',\n",
       "       'playa del rey , ca', 'thousand oaks, ca',\n",
       "       'reseda , los angeles, ca', 'canoga park , ca', '沃尔纳特, ca',\n",
       "       'northridge , ca', 'redo do beach, ca', 'westlake village, ca',\n",
       "       'rowland heights , ca', 'west hills,los angeles, ca',\n",
       "       'van nuys , ca', 'west hills ,los angeles, ca', 'acton, ca',\n",
       "       'lost angeles, ca', ' venice, ca', 'palos verdes peninsula, ca',\n",
       "       'van nuys, los angeles, ca', 'marina del rey , ca',\n",
       "       'quartz hill, ca', 'san gabriel/rosemead, ca',\n",
       "       'monterey park , ca', 'maywood, ca', 'select cities, ca',\n",
       "       'malibu beach, ca', 'view park, ca', 'westminster, ca',\n",
       "       'downtown los angeles, ca', 'torrance , ca', 'canyon country , ca',\n",
       "       'pacific palisades , ca', 'windsor hills , ca',\n",
       "       'glendale, california, us, ca', 'phillips ranch , ca',\n",
       "       'mount baldy, ca', 'long beach , ca', '哈仙达岗, ca', '罗兰高地, ca',\n",
       "       'arcadia , ca', 'los angeles/ hollywood , ca',\n",
       "       'phillips ranch, ca', 'city of industry, ca', 'playa vista , ca',\n",
       "       'chatsworth , ca', 'tarzana , ca', 'granada hills , ca',\n",
       "       'sylmar, ca', 'playa, ca', 'green valley, ca', 'reseda , ca',\n",
       "       'el camino village, ca', 'bradbury, ca', 'covina hills, ca',\n",
       "       'beverly hills , ca', 'rowland hghts, ca', 'llano, ca',\n",
       "       'valley village , ca', 'universal city, ca', 'cudahy, ca',\n",
       "       'san pedro , ca', 'west carson, ca', 'encino , ca', 'sunland , ca',\n",
       "       'rolling hills, ca', 'la habra, ca', 'simi valley, ca',\n",
       "       'tujunga, ca', 'el segundo, california, us, ca',\n",
       "       'lincoln heights , ca', 'beverly hills/ los angeles, ca',\n",
       "       'tempcity, ca', 'los angeles/burbank/toluca lake, ca',\n",
       "       'venice beach, los angeles, ca', 'bixby knolls , ca',\n",
       "       'historic highland park zoning montecito heights, ca',\n",
       "       'gardena , ca', '罗兰岗, ca', 'los angeles (elysian valley), ca',\n",
       "       'rowland heigh, ca', 'mission hills , ca', 'wilmington, ca',\n",
       "       'woodland hills/los angeles, ca', 'commerce, ca', 'south bay, ca',\n",
       "       'westwood , ca', 'wilmington , ca', '天普市, ca',\n",
       "       'silverlake, los angeles , ca', 'el monte , ca', 'encino ca, ca',\n",
       "       'pacoima, ca', 'west covina , ca', 'leona valley, ca',\n",
       "       'south san gabriel, ca', 'westchester , ca', 'rosemead , ca',\n",
       "       'east edna pi.covina, ca', 'los angeles ca , ca',\n",
       "       'montebello , ca', 'los angeles, woodland hills , ca',\n",
       "       'toluca , ca', 'oakland, ca', 'los angeles, tarzana , ca',\n",
       "       'los angeles city, ca', 'santa monica , ca',\n",
       "       'west puente valley, ca', 'century city, ca', 'canola park, ca',\n",
       "       'winnetka , ca', 'mission hills, ca', 'pacoima , ca', '洛杉矶, ca',\n",
       "       'elizabeth lake, ca', ' hollywood, ca', 'latuna canyon, ca',\n",
       "       'palm springs, ca', ' los angeles , ca', 'avocado heights, ca',\n",
       "       'temple city , ca', 'study city, ca', 'glendora , ca',\n",
       "       'porter ranch , ca', 'roesmead, ca', 'san gabriel , ca',\n",
       "       'koreatown los angeles, ca', 'arleta, ca', 'west hills , ca',\n",
       "       'los angeles / hollywood , ca', 'sun valley , ca',\n",
       "       'hacienda heights , ca',\n",
       "       'los angeles / valley village / north hollywood , ca',\n",
       "       'los angeles/la crescenta, ca', 'seal beach, ca', 'west la, ca',\n",
       "       'industry, ca', 'los angels , ca', 'east san gabriel, ca',\n",
       "       'north hollywood, los angeles, ca'], dtype=object)"
      ]
     },
     "execution_count": 20,
     "metadata": {},
     "output_type": "execute_result"
    }
   ],
   "source": [
    "df.smart_location.unique()"
   ]
  },
  {
   "cell_type": "code",
   "execution_count": 21,
   "metadata": {},
   "outputs": [
    {
     "data": {
      "text/plain": [
       "name                               6\n",
       "transit                        16942\n",
       "host_id                            0\n",
       "host_name                         14\n",
       "host_since                        14\n",
       "host_location                    136\n",
       "host_response_time              7979\n",
       "host_is_superhost                 14\n",
       "host_neighbourhood              7679\n",
       "host_total_listings_count         14\n",
       "host_identity_verified            14\n",
       "street                             0\n",
       "neighbourhood_cleansed             0\n",
       "city                              20\n",
       "state                              0\n",
       "zipcode                          541\n",
       "smart_location                     0\n",
       "latitude                           0\n",
       "longitude                          0\n",
       "property_type                      0\n",
       "room_type                          0\n",
       "accommodates                       0\n",
       "bathrooms                         22\n",
       "bedrooms                          18\n",
       "beds                              63\n",
       "bed_type                           0\n",
       "amenities                          0\n",
       "price                              0\n",
       "security_deposit               10786\n",
       "cleaning_fee                    5924\n",
       "guests_included                    0\n",
       "extra_people                       0\n",
       "minimum_nights                     0\n",
       "maximum_nights                     0\n",
       "number_of_reviews                  0\n",
       "first_review                    8658\n",
       "last_review                     8658\n",
       "review_scores_rating            9231\n",
       "review_scores_accuracy          9248\n",
       "review_scores_cleanliness       9247\n",
       "review_scores_checkin           9278\n",
       "review_scores_communication     9253\n",
       "review_scores_location          9282\n",
       "review_scores_value             9290\n",
       "instant_bookable                   0\n",
       "cancellation_policy                0\n",
       "reviews_per_month               8658\n",
       "dtype: int64"
      ]
     },
     "execution_count": 21,
     "metadata": {},
     "output_type": "execute_result"
    }
   ],
   "source": [
    "df.isnull().sum()"
   ]
  },
  {
   "cell_type": "code",
   "execution_count": 22,
   "metadata": {},
   "outputs": [],
   "source": [
    "df.drop(df[(df['smart_location'] == '蒙特利帕克, ca') | \\\n",
    "                       (df['smart_location'] == '因達斯特里, ca') | \\\n",
    "                       (df['smart_location'] == '艾尔蒙地, ca') | \\\n",
    "                       (df['smart_location'] == '沃尔纳特, ca') | \\\n",
    "                       (df['smart_location'] == '哈仙达岗, ca') | \\\n",
    "                       (df['smart_location'] == '罗兰高地, ca') | \\\n",
    "                       (df['smart_location'] == '罗兰岗, ca') | \\\n",
    "                       (df['smart_location'] == '天普市, ca') | \\\n",
    "                       (df['smart_location'] == '洛杉矶, ca')  \\\n",
    "                      ].index, inplace = True)"
   ]
  },
  {
   "cell_type": "code",
   "execution_count": 23,
   "metadata": {},
   "outputs": [],
   "source": [
    "df.smart_location = df.smart_location.str.replace(', ca',' ', regex=True)\n",
    "df.smart_location = df.smart_location.str.strip()\n",
    "df.neighbourhood_cleansed = df.neighbourhood_cleansed.str.strip()"
   ]
  },
  {
   "cell_type": "code",
   "execution_count": 24,
   "metadata": {},
   "outputs": [
    {
     "ename": "AttributeError",
     "evalue": "'DataFrame' object has no attribute 'location'",
     "output_type": "error",
     "traceback": [
      "\u001b[1;31m---------------------------------------------------------------------------\u001b[0m",
      "\u001b[1;31mAttributeError\u001b[0m                            Traceback (most recent call last)",
      "\u001b[1;32m<ipython-input-24-1b2379c6fa16>\u001b[0m in \u001b[0;36m<module>\u001b[1;34m\u001b[0m\n\u001b[0;32m      1\u001b[0m \u001b[0mdf\u001b[0m\u001b[1;33m.\u001b[0m\u001b[0msmart_location\u001b[0m \u001b[1;33m=\u001b[0m \u001b[0mdf\u001b[0m\u001b[1;33m.\u001b[0m\u001b[0msmart_location\u001b[0m\u001b[1;33m.\u001b[0m\u001b[0mstr\u001b[0m\u001b[1;33m.\u001b[0m\u001b[0mlower\u001b[0m\u001b[1;33m(\u001b[0m\u001b[1;33m)\u001b[0m\u001b[1;33m\u001b[0m\u001b[1;33m\u001b[0m\u001b[0m\n\u001b[0;32m      2\u001b[0m \u001b[0mdf\u001b[0m\u001b[1;33m.\u001b[0m\u001b[0mneighbourhood_cleansed\u001b[0m \u001b[1;33m=\u001b[0m \u001b[0mdf\u001b[0m\u001b[1;33m.\u001b[0m\u001b[0mneighbourhood_cleansed\u001b[0m\u001b[1;33m.\u001b[0m\u001b[0mstr\u001b[0m\u001b[1;33m.\u001b[0m\u001b[0mlower\u001b[0m\u001b[1;33m(\u001b[0m\u001b[1;33m)\u001b[0m\u001b[1;33m\u001b[0m\u001b[1;33m\u001b[0m\u001b[0m\n\u001b[1;32m----> 3\u001b[1;33m \u001b[0mdf\u001b[0m\u001b[1;33m.\u001b[0m\u001b[0mlocation\u001b[0m \u001b[1;33m=\u001b[0m \u001b[0mdf\u001b[0m\u001b[1;33m.\u001b[0m\u001b[0mlocation\u001b[0m\u001b[1;33m.\u001b[0m\u001b[0mstr\u001b[0m\u001b[1;33m.\u001b[0m\u001b[0mlower\u001b[0m\u001b[1;33m(\u001b[0m\u001b[1;33m)\u001b[0m\u001b[1;33m\u001b[0m\u001b[1;33m\u001b[0m\u001b[0m\n\u001b[0m\u001b[0;32m      4\u001b[0m \u001b[0mdf\u001b[0m\u001b[1;33m.\u001b[0m\u001b[0mhead\u001b[0m\u001b[1;33m(\u001b[0m\u001b[1;33m)\u001b[0m\u001b[1;33m\u001b[0m\u001b[1;33m\u001b[0m\u001b[0m\n",
      "\u001b[1;32mC:\\ProgramData\\Anaconda3\\lib\\site-packages\\pandas\\core\\generic.py\u001b[0m in \u001b[0;36m__getattr__\u001b[1;34m(self, name)\u001b[0m\n\u001b[0;32m   5177\u001b[0m             \u001b[1;32mif\u001b[0m \u001b[0mself\u001b[0m\u001b[1;33m.\u001b[0m\u001b[0m_info_axis\u001b[0m\u001b[1;33m.\u001b[0m\u001b[0m_can_hold_identifiers_and_holds_name\u001b[0m\u001b[1;33m(\u001b[0m\u001b[0mname\u001b[0m\u001b[1;33m)\u001b[0m\u001b[1;33m:\u001b[0m\u001b[1;33m\u001b[0m\u001b[1;33m\u001b[0m\u001b[0m\n\u001b[0;32m   5178\u001b[0m                 \u001b[1;32mreturn\u001b[0m \u001b[0mself\u001b[0m\u001b[1;33m[\u001b[0m\u001b[0mname\u001b[0m\u001b[1;33m]\u001b[0m\u001b[1;33m\u001b[0m\u001b[1;33m\u001b[0m\u001b[0m\n\u001b[1;32m-> 5179\u001b[1;33m             \u001b[1;32mreturn\u001b[0m \u001b[0mobject\u001b[0m\u001b[1;33m.\u001b[0m\u001b[0m__getattribute__\u001b[0m\u001b[1;33m(\u001b[0m\u001b[0mself\u001b[0m\u001b[1;33m,\u001b[0m \u001b[0mname\u001b[0m\u001b[1;33m)\u001b[0m\u001b[1;33m\u001b[0m\u001b[1;33m\u001b[0m\u001b[0m\n\u001b[0m\u001b[0;32m   5180\u001b[0m \u001b[1;33m\u001b[0m\u001b[0m\n\u001b[0;32m   5181\u001b[0m     \u001b[1;32mdef\u001b[0m \u001b[0m__setattr__\u001b[0m\u001b[1;33m(\u001b[0m\u001b[0mself\u001b[0m\u001b[1;33m,\u001b[0m \u001b[0mname\u001b[0m\u001b[1;33m,\u001b[0m \u001b[0mvalue\u001b[0m\u001b[1;33m)\u001b[0m\u001b[1;33m:\u001b[0m\u001b[1;33m\u001b[0m\u001b[1;33m\u001b[0m\u001b[0m\n",
      "\u001b[1;31mAttributeError\u001b[0m: 'DataFrame' object has no attribute 'location'"
     ]
    }
   ],
   "source": [
    "df.smart_location = df.smart_location.str.lower()\n",
    "df.neighbourhood_cleansed = df.neighbourhood_cleansed.str.lower() \n",
    "df.location = df.location.str.lower()\n",
    "df.head()"
   ]
  },
  {
   "cell_type": "code",
   "execution_count": null,
   "metadata": {},
   "outputs": [],
   "source": [
    "df.columns"
   ]
  },
  {
   "cell_type": "markdown",
   "metadata": {},
   "source": [
    "## Make a dataset copy for Interesting Fact 1 which is focused on finding out the most affordable places in CA \n"
   ]
  },
  {
   "cell_type": "markdown",
   "metadata": {},
   "source": [
    "#### More adept for indetails about the location : 'host_name','host_location','host_response_time','host_is_superhost', 'property_type','room_type','accommodates','bathrooms','bedrooms','beds','bed_type'"
   ]
  },
  {
   "cell_type": "code",
   "execution_count": 25,
   "metadata": {},
   "outputs": [],
   "source": [
    "df1 = df[['price','security_deposit','cleaning_fee','guests_included','extra_people','minimum_nights',\\\n",
    "          'maximum_nights','amenities','neighbourhood_cleansed',\\\n",
    "       'state','zipcode','latitude','longitude']].copy()\n",
    "df1.rename(columns={'neighbourhood_cleansed':'location'},inplace=True)"
   ]
  },
  {
   "cell_type": "code",
   "execution_count": 26,
   "metadata": {},
   "outputs": [
    {
     "name": "stdout",
     "output_type": "stream",
     "text": [
      "<class 'pandas.core.frame.DataFrame'>\n",
      "Int64Index: 44599 entries, 1 to 44620\n",
      "Data columns (total 13 columns):\n",
      "price               44599 non-null object\n",
      "security_deposit    33821 non-null object\n",
      "cleaning_fee        38680 non-null object\n",
      "guests_included     44599 non-null int64\n",
      "extra_people        44599 non-null object\n",
      "minimum_nights      44599 non-null int64\n",
      "maximum_nights      44599 non-null int64\n",
      "amenities           44599 non-null object\n",
      "location            44599 non-null object\n",
      "state               44599 non-null object\n",
      "zipcode             44058 non-null object\n",
      "latitude            44599 non-null float64\n",
      "longitude           44599 non-null float64\n",
      "dtypes: float64(2), int64(3), object(8)\n",
      "memory usage: 4.8+ MB\n"
     ]
    }
   ],
   "source": [
    "df1.info()"
   ]
  },
  {
   "cell_type": "code",
   "execution_count": 27,
   "metadata": {},
   "outputs": [
    {
     "data": {
      "text/plain": [
       "price                   0\n",
       "security_deposit    10778\n",
       "cleaning_fee         5919\n",
       "guests_included         0\n",
       "extra_people            0\n",
       "minimum_nights          0\n",
       "maximum_nights          0\n",
       "amenities               0\n",
       "location                0\n",
       "state                   0\n",
       "zipcode               541\n",
       "latitude                0\n",
       "longitude               0\n",
       "dtype: int64"
      ]
     },
     "execution_count": 27,
     "metadata": {},
     "output_type": "execute_result"
    }
   ],
   "source": [
    "df1.isna().sum()"
   ]
  },
  {
   "cell_type": "code",
   "execution_count": 28,
   "metadata": {},
   "outputs": [
    {
     "data": {
      "text/plain": [
       "amenities                                                                                                                                                                                                                                                                          price \n",
       "{Wifi,\"Air conditioning\",Kitchen,Heating,Washer,Dryer,\"Smoke detector\",\"Carbon monoxide detector\",\"First aid kit\",\"Fire extinguisher\",Essentials,Shampoo,\"Hair dryer\"}                                                                                                             $15.00    22\n",
       "{Wifi,Kitchen,Heating,\"Smoke detector\",\"First aid kit\",\"Fire extinguisher\",Essentials,\"Hair dryer\",\"Laptop friendly workspace\",\"Hot water\",\"Bed linens\",Microwave,\"Dishes and silverware\",Oven,Stove,\"Long term stays allowed\"}                                                    $23.00    21\n",
       "{Internet,Wifi,\"Air conditioning\",Kitchen,\"Free parking on premises\",Breakfast,\"Free street parking\",Heating,Washer,Dryer,\"Smoke detector\",\"First aid kit\",\"Fire extinguisher\",Essentials,Shampoo,Hangers,\"Hair dryer\",\"Laptop friendly workspace\",\"Hot water\",\"Host greets you\"}  $30.00    20\n",
       "Name: price, dtype: int64"
      ]
     },
     "execution_count": 28,
     "metadata": {},
     "output_type": "execute_result"
    }
   ],
   "source": [
    "df1.groupby('amenities')['price'].value_counts().nlargest(3)"
   ]
  },
  {
   "cell_type": "code",
   "execution_count": 29,
   "metadata": {},
   "outputs": [
    {
     "data": {
      "text/html": [
       "<div>\n",
       "<style scoped>\n",
       "    .dataframe tbody tr th:only-of-type {\n",
       "        vertical-align: middle;\n",
       "    }\n",
       "\n",
       "    .dataframe tbody tr th {\n",
       "        vertical-align: top;\n",
       "    }\n",
       "\n",
       "    .dataframe thead th {\n",
       "        text-align: right;\n",
       "    }\n",
       "</style>\n",
       "<table border=\"1\" class=\"dataframe\">\n",
       "  <thead>\n",
       "    <tr style=\"text-align: right;\">\n",
       "      <th></th>\n",
       "      <th>price</th>\n",
       "      <th>security_deposit</th>\n",
       "      <th>cleaning_fee</th>\n",
       "      <th>guests_included</th>\n",
       "      <th>extra_people</th>\n",
       "      <th>minimum_nights</th>\n",
       "      <th>maximum_nights</th>\n",
       "      <th>amenities</th>\n",
       "      <th>location</th>\n",
       "      <th>state</th>\n",
       "      <th>zipcode</th>\n",
       "      <th>latitude</th>\n",
       "      <th>longitude</th>\n",
       "    </tr>\n",
       "    <tr>\n",
       "      <th>id</th>\n",
       "      <th></th>\n",
       "      <th></th>\n",
       "      <th></th>\n",
       "      <th></th>\n",
       "      <th></th>\n",
       "      <th></th>\n",
       "      <th></th>\n",
       "      <th></th>\n",
       "      <th></th>\n",
       "      <th></th>\n",
       "      <th></th>\n",
       "      <th></th>\n",
       "      <th></th>\n",
       "    </tr>\n",
       "  </thead>\n",
       "  <tbody>\n",
       "    <tr>\n",
       "      <td>1</td>\n",
       "      <td>$122.00</td>\n",
       "      <td>$500.00</td>\n",
       "      <td>$240.00</td>\n",
       "      <td>3</td>\n",
       "      <td>$25.00</td>\n",
       "      <td>30</td>\n",
       "      <td>730</td>\n",
       "      <td>{TV,\"Cable TV\",Internet,Wifi,\"Air conditioning...</td>\n",
       "      <td>culver city</td>\n",
       "      <td>CA</td>\n",
       "      <td>90230</td>\n",
       "      <td>33.98209</td>\n",
       "      <td>-118.38494</td>\n",
       "    </tr>\n",
       "    <tr>\n",
       "      <td>2</td>\n",
       "      <td>$168.00</td>\n",
       "      <td>$0.00</td>\n",
       "      <td>$100.00</td>\n",
       "      <td>6</td>\n",
       "      <td>$0.00</td>\n",
       "      <td>2</td>\n",
       "      <td>14</td>\n",
       "      <td>{TV,\"Cable TV\",Internet,Wifi,\"Air conditioning...</td>\n",
       "      <td>burbank</td>\n",
       "      <td>CA</td>\n",
       "      <td>91505</td>\n",
       "      <td>34.16562</td>\n",
       "      <td>-118.33458</td>\n",
       "    </tr>\n",
       "    <tr>\n",
       "      <td>3</td>\n",
       "      <td>$79.00</td>\n",
       "      <td>$480.00</td>\n",
       "      <td>$89.00</td>\n",
       "      <td>1</td>\n",
       "      <td>$0.00</td>\n",
       "      <td>28</td>\n",
       "      <td>366</td>\n",
       "      <td>{Internet,Wifi,\"Air conditioning\",\"Wheelchair ...</td>\n",
       "      <td>hollywood</td>\n",
       "      <td>CA</td>\n",
       "      <td>90046</td>\n",
       "      <td>34.09768</td>\n",
       "      <td>-118.34602</td>\n",
       "    </tr>\n",
       "    <tr>\n",
       "      <td>4</td>\n",
       "      <td>$140.00</td>\n",
       "      <td>NaN</td>\n",
       "      <td>$100.00</td>\n",
       "      <td>1</td>\n",
       "      <td>$0.00</td>\n",
       "      <td>1</td>\n",
       "      <td>180</td>\n",
       "      <td>{Internet,Wifi,Kitchen,Heating,Washer,Dryer,\"S...</td>\n",
       "      <td>santa monica</td>\n",
       "      <td>CA</td>\n",
       "      <td>90405</td>\n",
       "      <td>34.00475</td>\n",
       "      <td>-118.48127</td>\n",
       "    </tr>\n",
       "    <tr>\n",
       "      <td>5</td>\n",
       "      <td>$80.00</td>\n",
       "      <td>$100.00</td>\n",
       "      <td>$75.00</td>\n",
       "      <td>1</td>\n",
       "      <td>$25.00</td>\n",
       "      <td>2</td>\n",
       "      <td>730</td>\n",
       "      <td>{TV,\"Cable TV\",Internet,Wifi,\"Air conditioning...</td>\n",
       "      <td>bellflower</td>\n",
       "      <td>CA</td>\n",
       "      <td>90706</td>\n",
       "      <td>33.87619</td>\n",
       "      <td>-118.11397</td>\n",
       "    </tr>\n",
       "  </tbody>\n",
       "</table>\n",
       "</div>"
      ],
      "text/plain": [
       "      price security_deposit cleaning_fee  guests_included extra_people  \\\n",
       "id                                                                        \n",
       "1   $122.00          $500.00      $240.00                3       $25.00   \n",
       "2   $168.00            $0.00      $100.00                6        $0.00   \n",
       "3    $79.00          $480.00       $89.00                1        $0.00   \n",
       "4   $140.00              NaN      $100.00                1        $0.00   \n",
       "5    $80.00          $100.00       $75.00                1       $25.00   \n",
       "\n",
       "    minimum_nights  maximum_nights  \\\n",
       "id                                   \n",
       "1               30             730   \n",
       "2                2              14   \n",
       "3               28             366   \n",
       "4                1             180   \n",
       "5                2             730   \n",
       "\n",
       "                                            amenities      location state  \\\n",
       "id                                                                          \n",
       "1   {TV,\"Cable TV\",Internet,Wifi,\"Air conditioning...   culver city    CA   \n",
       "2   {TV,\"Cable TV\",Internet,Wifi,\"Air conditioning...       burbank    CA   \n",
       "3   {Internet,Wifi,\"Air conditioning\",\"Wheelchair ...     hollywood    CA   \n",
       "4   {Internet,Wifi,Kitchen,Heating,Washer,Dryer,\"S...  santa monica    CA   \n",
       "5   {TV,\"Cable TV\",Internet,Wifi,\"Air conditioning...    bellflower    CA   \n",
       "\n",
       "   zipcode  latitude  longitude  \n",
       "id                               \n",
       "1    90230  33.98209 -118.38494  \n",
       "2    91505  34.16562 -118.33458  \n",
       "3    90046  34.09768 -118.34602  \n",
       "4    90405  34.00475 -118.48127  \n",
       "5    90706  33.87619 -118.11397  "
      ]
     },
     "execution_count": 29,
     "metadata": {},
     "output_type": "execute_result"
    }
   ],
   "source": [
    "df1.head()"
   ]
  },
  {
   "cell_type": "code",
   "execution_count": 30,
   "metadata": {},
   "outputs": [],
   "source": [
    "df1.amenities = df1.amenities.str.strip('{}')\n",
    "df1.amenities = df1.amenities.str.replace('\"','')\n",
    "df1.amenities = df1.amenities.str.lower()"
   ]
  },
  {
   "cell_type": "code",
   "execution_count": 31,
   "metadata": {},
   "outputs": [
    {
     "data": {
      "text/plain": [
       "essentials                  41874\n",
       "smoke detector              41056\n",
       "kitchen                     39511\n",
       "heating                     39426\n",
       "hangers                     37406\n",
       "wifi                        37090\n",
       "shampoo                     35286\n",
       "carbon monoxide detector    34568\n",
       "air conditioning            33841\n",
       "washer                      33837\n",
       "hair dryer                  33685\n",
       "dryer                       33251\n",
       "dtype: int64"
      ]
     },
     "execution_count": 31,
     "metadata": {},
     "output_type": "execute_result"
    }
   ],
   "source": [
    "#from collections import Counter\n",
    "pd.Series(' '.join(df1['amenities']).lower().split(',')).value_counts().nlargest(12)"
   ]
  },
  {
   "cell_type": "code",
   "execution_count": 32,
   "metadata": {},
   "outputs": [
    {
     "data": {
      "text/plain": [
       "'tv,cable tv,internet,wifi,air conditioning,pool,kitchen,pets live on this property,dog(s),free street parking,heating,family/kid friendly,washer,dryer,smoke detector,carbon monoxide detector,first aid kit,essentials,shampoo,24-hour check-in,hangers,hair dryer,iron,laptop friendly workspace,children’s books and toys,fireplace guards,children’s dinnerware,hot water,microwave,coffee maker,refrigerator,dishwasher,dishes and silverware,cooking basics,oven,stove,single level home,bbq grill,patio or balcony,luggage dropoff allowed,other'"
      ]
     },
     "execution_count": 32,
     "metadata": {},
     "output_type": "execute_result"
    }
   ],
   "source": [
    "df1.amenities[df1.amenities.str.contains('washer')].values[1]"
   ]
  },
  {
   "cell_type": "code",
   "execution_count": 33,
   "metadata": {},
   "outputs": [],
   "source": [
    "df1['wifi'] = ''\n",
    "df1['ac'] = ''\n",
    "df1['pet'] = ''\n",
    "df1['park'] = ''\n",
    "df1['htub'] = ''\n",
    "df1['dishwasher'] = ''\n",
    "df1['bbq'] = ''\n",
    "df1['pool'] = ''\n",
    "df1['hr'] = ''\n",
    "df1['coffee'] = ''\n",
    "df1['heating'] = ''\n",
    "df1['iron'] = ''\n",
    "df1['washer'] = ''\n",
    "df1['dryer'] = ''\n",
    "df1['parking'] = ''"
   ]
  },
  {
   "cell_type": "code",
   "execution_count": 34,
   "metadata": {},
   "outputs": [],
   "source": [
    "df1.wifi = df1.amenities.str.contains(\"wifi\").apply(lambda x: 'wifi' if x==True else '')\n",
    "df1.ac = df1.amenities.str.contains(\"air conditioning\").apply(lambda x: 'air conditioning' if x==True else '')\n",
    "df1.pet = df1.amenities.str.contains(\"pet\").apply(lambda x: 'pet' if x==True else '')\n",
    "df1.park = df1.amenities.str.contains(\"park\").apply(lambda x: 'park' if x==True else '')\n",
    "df1.htub = df1.amenities.str.contains(\"hot tub\").apply(lambda x: 'hot tub' if x==True else '')\n",
    "df1.dishwasher = df1.amenities.str.contains(\"dishwasher\").apply(lambda x: 'dishwasher' if x==True else '')\n",
    "df1.bbq = df1.amenities.str.contains(\"bbq\").apply(lambda x: 'BBQ' if x==True else '')\n",
    "df1.pool = df1.amenities.str.contains(\"pool\").apply(lambda x: 'pool' if x==True else '')\n",
    "df1.hr = df1.amenities.str.contains(\"24-hour check-in\").apply(lambda x: '24-hour check-in' if x==True else '')\n",
    "df1.coffee = df1.amenities.str.contains(\"coffee\").apply(lambda x: 'coffee' if x==True else '')\n",
    "df1.heating = df1.amenities.str.contains(\"heating\").apply(lambda x: 'heating' if x==True else '')\n",
    "df1.iron = df1.amenities.str.contains(\"iron\").apply(lambda x: 'iron' if x==True else '')"
   ]
  },
  {
   "cell_type": "code",
   "execution_count": 35,
   "metadata": {},
   "outputs": [],
   "source": [
    "df1.washer = df1.amenities.str.contains(\"washer\").apply(lambda x: 'washer' if x==True else '')\n",
    "df1.dryer = df1.amenities.str.contains(\"dryer\").apply(lambda x: 'dryer' if x==True else '')\n",
    "df1.parking = df1.amenities.str.contains(\"parking\").apply(lambda x: 'parking' if x==True else '')"
   ]
  },
  {
   "cell_type": "code",
   "execution_count": 36,
   "metadata": {},
   "outputs": [],
   "source": [
    "df1.drop('amenities',axis=1,inplace=True)"
   ]
  },
  {
   "cell_type": "code",
   "execution_count": 37,
   "metadata": {},
   "outputs": [],
   "source": [
    "df1['amenities'] = df1.wifi+' '+df1.ac+' '+df1.pet+' '+df1.park+' '+\\\n",
    "df1.htub+' '+df1.dishwasher+' '+df1.bbq+' '+df1.pool+' '+df1.hr+' '+df1.coffee+' '+\\\n",
    "df1.heating+' '+df1.iron+' '+df1.washer+' '+df1.dryer+' '+df1.parking\n"
   ]
  },
  {
   "cell_type": "code",
   "execution_count": 38,
   "metadata": {},
   "outputs": [],
   "source": [
    "df1.wifi = df1.wifi.apply(lambda x: 1 if x=='wifi' else 0)\n",
    "df1.ac = df1.ac.apply(lambda x: 1 if x=='air conditioning' else 0)\n",
    "df1.pet = df1.pet.apply(lambda x: 1 if x=='pet' else 0)\n",
    "df1.park = df1.park.apply(lambda x:1 if x=='park' else 0)\n",
    "df1.htub = df1.htub.apply(lambda x:1 if x=='hot tub' else 0)\n",
    "df1.dishwasher = df1.dishwasher.apply(lambda x:1 if x=='dishwasher' else 0)\n",
    "df1.bbq = df1.bbq.apply(lambda x:1 if x=='BBQ' else 0)\n",
    "df1.pool = df1.pool.apply(lambda x:1 if x=='pool' else 0)\n",
    "df1.hr = df1.hr.apply(lambda x:1 if x=='24-hour check-in' else 0)\n",
    "df1.coffee = df1.coffee.apply(lambda x:1 if x=='coffee' else 0)\n",
    "df1.heating = df1.heating.apply(lambda x:1 if x=='heating' else 0)\n",
    "df1.iron = df1.iron.apply(lambda x:1 if x=='iron' else 0)\n",
    "df1.washer = df1.washer.apply(lambda x:1 if x=='washer' else 0)\n",
    "df1.dryer = df1.dryer.apply(lambda x:1 if x=='dryer' else 0)\n",
    "df1.parking = df1.parking.apply(lambda x:1 if x=='parking' else 0)\n"
   ]
  },
  {
   "cell_type": "code",
   "execution_count": 39,
   "metadata": {},
   "outputs": [
    {
     "data": {
      "text/plain": [
       "price                   0\n",
       "security_deposit    10778\n",
       "cleaning_fee         5919\n",
       "guests_included         0\n",
       "extra_people            0\n",
       "minimum_nights          0\n",
       "maximum_nights          0\n",
       "location                0\n",
       "state                   0\n",
       "zipcode               541\n",
       "latitude                0\n",
       "longitude               0\n",
       "wifi                    0\n",
       "ac                      0\n",
       "pet                     0\n",
       "park                    0\n",
       "htub                    0\n",
       "dishwasher              0\n",
       "bbq                     0\n",
       "pool                    0\n",
       "hr                      0\n",
       "coffee                  0\n",
       "heating                 0\n",
       "iron                    0\n",
       "washer                  0\n",
       "dryer                   0\n",
       "parking                 0\n",
       "amenities               0\n",
       "dtype: int64"
      ]
     },
     "execution_count": 39,
     "metadata": {},
     "output_type": "execute_result"
    }
   ],
   "source": [
    "df1.isna().sum()"
   ]
  },
  {
   "cell_type": "code",
   "execution_count": 40,
   "metadata": {},
   "outputs": [],
   "source": [
    "df1.security_deposit = df1.security_deposit.str.strip('$')\n",
    "df1.security_deposit = df1.security_deposit.str.replace(',','')"
   ]
  },
  {
   "cell_type": "code",
   "execution_count": 41,
   "metadata": {},
   "outputs": [],
   "source": [
    "df1.security_deposit = df1.security_deposit.astype('float64')"
   ]
  },
  {
   "cell_type": "code",
   "execution_count": 42,
   "metadata": {},
   "outputs": [
    {
     "data": {
      "text/plain": [
       "count     33821.000000\n",
       "mean        435.482008\n",
       "std        2283.420823\n",
       "min           0.000000\n",
       "25%           0.000000\n",
       "50%         200.000000\n",
       "75%         450.000000\n",
       "max      250000.000000\n",
       "Name: security_deposit, dtype: float64"
      ]
     },
     "execution_count": 42,
     "metadata": {},
     "output_type": "execute_result"
    }
   ],
   "source": [
    "df1.security_deposit.describe()"
   ]
  },
  {
   "cell_type": "code",
   "execution_count": 43,
   "metadata": {},
   "outputs": [],
   "source": [
    "df1.security_deposit.fillna(round(df1.security_deposit.mean(),2),inplace=True)"
   ]
  },
  {
   "cell_type": "code",
   "execution_count": 44,
   "metadata": {},
   "outputs": [
    {
     "data": {
      "text/plain": [
       "count      38680\n",
       "unique       301\n",
       "top       $50.00\n",
       "freq        2977\n",
       "Name: cleaning_fee, dtype: object"
      ]
     },
     "execution_count": 44,
     "metadata": {},
     "output_type": "execute_result"
    }
   ],
   "source": [
    "df1.cleaning_fee.describe()"
   ]
  },
  {
   "cell_type": "code",
   "execution_count": 45,
   "metadata": {},
   "outputs": [
    {
     "data": {
      "text/plain": [
       "5919"
      ]
     },
     "execution_count": 45,
     "metadata": {},
     "output_type": "execute_result"
    }
   ],
   "source": [
    "df1.cleaning_fee.isna().sum()"
   ]
  },
  {
   "cell_type": "code",
   "execution_count": 46,
   "metadata": {},
   "outputs": [],
   "source": [
    "df1.cleaning_fee = df1.cleaning_fee.str.strip('$')\n",
    "df1.cleaning_fee = df1.cleaning_fee.str.replace(',','')"
   ]
  },
  {
   "cell_type": "code",
   "execution_count": 47,
   "metadata": {},
   "outputs": [],
   "source": [
    "df1.cleaning_fee = df1.cleaning_fee.astype('float64')"
   ]
  },
  {
   "cell_type": "code",
   "execution_count": 48,
   "metadata": {},
   "outputs": [
    {
     "data": {
      "text/plain": [
       "count    38680.000000\n",
       "mean        87.038573\n",
       "std         93.339460\n",
       "min          0.000000\n",
       "25%         30.000000\n",
       "50%         65.000000\n",
       "75%        100.000000\n",
       "max       2500.000000\n",
       "Name: cleaning_fee, dtype: float64"
      ]
     },
     "execution_count": 48,
     "metadata": {},
     "output_type": "execute_result"
    }
   ],
   "source": [
    "df1.cleaning_fee.describe()"
   ]
  },
  {
   "cell_type": "code",
   "execution_count": 49,
   "metadata": {},
   "outputs": [],
   "source": [
    "df1.cleaning_fee.fillna(round(df1.cleaning_fee.mean(),2),inplace=True)"
   ]
  },
  {
   "cell_type": "code",
   "execution_count": 50,
   "metadata": {},
   "outputs": [
    {
     "data": {
      "text/plain": [
       "count    44599.000000\n",
       "mean        87.038762\n",
       "std         86.925103\n",
       "min          0.000000\n",
       "25%         35.000000\n",
       "50%         75.000000\n",
       "75%        100.000000\n",
       "max       2500.000000\n",
       "Name: cleaning_fee, dtype: float64"
      ]
     },
     "execution_count": 50,
     "metadata": {},
     "output_type": "execute_result"
    }
   ],
   "source": [
    "df1.cleaning_fee.describe()"
   ]
  },
  {
   "cell_type": "code",
   "execution_count": 51,
   "metadata": {},
   "outputs": [
    {
     "data": {
      "text/plain": [
       "price                 0\n",
       "security_deposit      0\n",
       "cleaning_fee          0\n",
       "guests_included       0\n",
       "extra_people          0\n",
       "minimum_nights        0\n",
       "maximum_nights        0\n",
       "location              0\n",
       "state                 0\n",
       "zipcode             541\n",
       "latitude              0\n",
       "longitude             0\n",
       "wifi                  0\n",
       "ac                    0\n",
       "pet                   0\n",
       "park                  0\n",
       "htub                  0\n",
       "dishwasher            0\n",
       "bbq                   0\n",
       "pool                  0\n",
       "hr                    0\n",
       "coffee                0\n",
       "heating               0\n",
       "iron                  0\n",
       "washer                0\n",
       "dryer                 0\n",
       "parking               0\n",
       "amenities             0\n",
       "dtype: int64"
      ]
     },
     "execution_count": 51,
     "metadata": {},
     "output_type": "execute_result"
    }
   ],
   "source": [
    "df1.isna().sum()"
   ]
  },
  {
   "cell_type": "code",
   "execution_count": 52,
   "metadata": {},
   "outputs": [
    {
     "data": {
      "text/plain": [
       "id\n",
       "635                malibu\n",
       "647         playa del rey\n",
       "657            long beach\n",
       "664                venice\n",
       "674             calabasas\n",
       "               ...       \n",
       "42975              walnut\n",
       "43022         toluca lake\n",
       "43505     rowland heights\n",
       "44502    westlake village\n",
       "44573              malibu\n",
       "Name: location, Length: 541, dtype: object"
      ]
     },
     "execution_count": 52,
     "metadata": {},
     "output_type": "execute_result"
    }
   ],
   "source": [
    "df1.location[df1.zipcode.isna()==True]"
   ]
  },
  {
   "cell_type": "code",
   "execution_count": 53,
   "metadata": {},
   "outputs": [
    {
     "data": {
      "text/plain": [
       "price      location       \n",
       "$0.00      culver city        1\n",
       "           harbor gateway     1\n",
       "           long beach         1\n",
       "           north hollywood    1\n",
       "           rowland heights    1\n",
       "           van nuys           1\n",
       "$1,000.00  beverly crest      1\n",
       "           beverlywood        1\n",
       "           bradbury           1\n",
       "           burbank            1\n",
       "           calabasas          1\n",
       "           carthay            1\n",
       "           chinatown          1\n",
       "           culver city        1\n",
       "           del rey            1\n",
       "           echo park          1\n",
       "           el segundo         1\n",
       "           fairfax            1\n",
       "           glassell park      1\n",
       "           hancock park       1\n",
       "Name: location, dtype: int64"
      ]
     },
     "execution_count": 53,
     "metadata": {},
     "output_type": "execute_result"
    }
   ],
   "source": [
    "df1.groupby('price')['location'].value_counts().nsmallest(20)"
   ]
  },
  {
   "cell_type": "code",
   "execution_count": 54,
   "metadata": {},
   "outputs": [
    {
     "data": {
      "text/plain": [
       "count       44599\n",
       "unique        928\n",
       "top       $100.00\n",
       "freq         1395\n",
       "Name: price, dtype: object"
      ]
     },
     "execution_count": 54,
     "metadata": {},
     "output_type": "execute_result"
    }
   ],
   "source": [
    "df1.price.describe()"
   ]
  },
  {
   "cell_type": "code",
   "execution_count": 55,
   "metadata": {},
   "outputs": [],
   "source": [
    "df1.price = df1.price.str.strip('$')\n",
    "df1.price = df1.price.str.replace(',','')"
   ]
  },
  {
   "cell_type": "code",
   "execution_count": 56,
   "metadata": {},
   "outputs": [],
   "source": [
    "df1.price = df1.price.astype('float64')"
   ]
  },
  {
   "cell_type": "code",
   "execution_count": 57,
   "metadata": {},
   "outputs": [
    {
     "data": {
      "text/plain": [
       "count    44599.000000\n",
       "mean       211.903249\n",
       "std        579.067382\n",
       "min          0.000000\n",
       "25%         70.000000\n",
       "50%        110.000000\n",
       "75%        186.000000\n",
       "max      25000.000000\n",
       "Name: price, dtype: float64"
      ]
     },
     "execution_count": 57,
     "metadata": {},
     "output_type": "execute_result"
    }
   ],
   "source": [
    "df1.price.describe()"
   ]
  },
  {
   "cell_type": "code",
   "execution_count": 58,
   "metadata": {},
   "outputs": [],
   "source": [
    "df1.drop(df1[df1.price==0].index,axis=0,inplace=True)"
   ]
  },
  {
   "cell_type": "code",
   "execution_count": 59,
   "metadata": {},
   "outputs": [
    {
     "data": {
      "text/plain": [
       "44590"
      ]
     },
     "execution_count": 59,
     "metadata": {},
     "output_type": "execute_result"
    }
   ],
   "source": [
    "df1.price.count()"
   ]
  },
  {
   "cell_type": "code",
   "execution_count": 60,
   "metadata": {},
   "outputs": [],
   "source": [
    "df1.to_csv('AffordabilityDataset.csv',index=False)"
   ]
  },
  {
   "cell_type": "code",
   "execution_count": 61,
   "metadata": {
    "scrolled": true
   },
   "outputs": [
    {
     "data": {
      "text/plain": [
       "count    44590.000000\n",
       "mean       211.946019\n",
       "std        579.117992\n",
       "min         10.000000\n",
       "25%         70.000000\n",
       "50%        110.000000\n",
       "75%        186.000000\n",
       "max      25000.000000\n",
       "Name: price, dtype: float64"
      ]
     },
     "execution_count": 61,
     "metadata": {},
     "output_type": "execute_result"
    }
   ],
   "source": [
    "df1.price.describe()"
   ]
  },
  {
   "cell_type": "code",
   "execution_count": 62,
   "metadata": {},
   "outputs": [
    {
     "data": {
      "text/plain": [
       "id\n",
       "1          (110.0, 130.0]\n",
       "2          (160.0, 209.0]\n",
       "3            (62.0, 79.0]\n",
       "4          (130.0, 160.0]\n",
       "5            (79.0, 95.0]\n",
       "               ...       \n",
       "44616        (46.0, 62.0]\n",
       "44617        (46.0, 62.0]\n",
       "44618    (349.0, 25000.0]\n",
       "44619       (95.0, 110.0]\n",
       "44620        (62.0, 79.0]\n",
       "Name: price, Length: 44590, dtype: category\n",
       "Categories (10, interval[float64]): [(9.999, 46.0] < (46.0, 62.0] < (62.0, 79.0] < (79.0, 95.0] ... (130.0, 160.0] < (160.0, 209.0] < (209.0, 349.0] < (349.0, 25000.0]]"
      ]
     },
     "execution_count": 62,
     "metadata": {},
     "output_type": "execute_result"
    }
   ],
   "source": [
    "pd.qcut(df1.price,10)"
   ]
  },
  {
   "cell_type": "code",
   "execution_count": 63,
   "metadata": {},
   "outputs": [
    {
     "data": {
      "text/plain": [
       "price  location  \n",
       "150.0  venice        117\n",
       "99.0   hollywood     107\n",
       "100.0  hollywood      98\n",
       "250.0  venice         93\n",
       "15.0   pico-union     79\n",
       "200.0  venice         76\n",
       "125.0  venice         74\n",
       "150.0  downtown       71\n",
       "90.0   hollywood      68\n",
       "150.0  hollywood      68\n",
       "Name: location, dtype: int64"
      ]
     },
     "execution_count": 63,
     "metadata": {},
     "output_type": "execute_result"
    }
   ],
   "source": [
    "df1.groupby('price')['location'].value_counts().nlargest(10)"
   ]
  },
  {
   "cell_type": "code",
   "execution_count": 64,
   "metadata": {},
   "outputs": [],
   "source": [
    "df1['priceType'] = ''"
   ]
  },
  {
   "cell_type": "markdown",
   "metadata": {},
   "source": [
    "Dividing the price column into categories. "
   ]
  },
  {
   "cell_type": "code",
   "execution_count": 65,
   "metadata": {},
   "outputs": [],
   "source": [
    "df1.priceType.loc[(df1['price']<= 9.999) & (df1['price'] <= 110.0)] = 'Low'#Low\n",
    "df1.priceType.loc[(df1['price'] > 110.0) & (df1['price'] <= 500.0)] = 'Mid'#Mid\n",
    "df1.priceType.loc[(df1['price'] > 500.0) & (df1['price'] <= 25000.0)] = 'High'#High"
   ]
  },
  {
   "cell_type": "code",
   "execution_count": 66,
   "metadata": {},
   "outputs": [
    {
     "data": {
      "text/html": [
       "<div>\n",
       "<style scoped>\n",
       "    .dataframe tbody tr th:only-of-type {\n",
       "        vertical-align: middle;\n",
       "    }\n",
       "\n",
       "    .dataframe tbody tr th {\n",
       "        vertical-align: top;\n",
       "    }\n",
       "\n",
       "    .dataframe thead th {\n",
       "        text-align: right;\n",
       "    }\n",
       "</style>\n",
       "<table border=\"1\" class=\"dataframe\">\n",
       "  <thead>\n",
       "    <tr style=\"text-align: right;\">\n",
       "      <th></th>\n",
       "      <th>price</th>\n",
       "      <th>security_deposit</th>\n",
       "      <th>cleaning_fee</th>\n",
       "      <th>guests_included</th>\n",
       "      <th>extra_people</th>\n",
       "      <th>minimum_nights</th>\n",
       "      <th>maximum_nights</th>\n",
       "      <th>location</th>\n",
       "      <th>state</th>\n",
       "      <th>zipcode</th>\n",
       "      <th>latitude</th>\n",
       "      <th>longitude</th>\n",
       "      <th>wifi</th>\n",
       "      <th>ac</th>\n",
       "      <th>pet</th>\n",
       "      <th>park</th>\n",
       "      <th>htub</th>\n",
       "      <th>dishwasher</th>\n",
       "      <th>bbq</th>\n",
       "      <th>pool</th>\n",
       "      <th>hr</th>\n",
       "      <th>coffee</th>\n",
       "      <th>heating</th>\n",
       "      <th>iron</th>\n",
       "      <th>washer</th>\n",
       "      <th>dryer</th>\n",
       "      <th>parking</th>\n",
       "      <th>amenities</th>\n",
       "      <th>priceType</th>\n",
       "    </tr>\n",
       "    <tr>\n",
       "      <th>id</th>\n",
       "      <th></th>\n",
       "      <th></th>\n",
       "      <th></th>\n",
       "      <th></th>\n",
       "      <th></th>\n",
       "      <th></th>\n",
       "      <th></th>\n",
       "      <th></th>\n",
       "      <th></th>\n",
       "      <th></th>\n",
       "      <th></th>\n",
       "      <th></th>\n",
       "      <th></th>\n",
       "      <th></th>\n",
       "      <th></th>\n",
       "      <th></th>\n",
       "      <th></th>\n",
       "      <th></th>\n",
       "      <th></th>\n",
       "      <th></th>\n",
       "      <th></th>\n",
       "      <th></th>\n",
       "      <th></th>\n",
       "      <th></th>\n",
       "      <th></th>\n",
       "      <th></th>\n",
       "      <th></th>\n",
       "      <th></th>\n",
       "      <th></th>\n",
       "    </tr>\n",
       "  </thead>\n",
       "  <tbody>\n",
       "    <tr>\n",
       "      <td>1</td>\n",
       "      <td>122.0</td>\n",
       "      <td>500.00</td>\n",
       "      <td>240.0</td>\n",
       "      <td>3</td>\n",
       "      <td>$25.00</td>\n",
       "      <td>30</td>\n",
       "      <td>730</td>\n",
       "      <td>culver city</td>\n",
       "      <td>CA</td>\n",
       "      <td>90230</td>\n",
       "      <td>33.98209</td>\n",
       "      <td>-118.38494</td>\n",
       "      <td>1</td>\n",
       "      <td>1</td>\n",
       "      <td>1</td>\n",
       "      <td>1</td>\n",
       "      <td>1</td>\n",
       "      <td>0</td>\n",
       "      <td>0</td>\n",
       "      <td>1</td>\n",
       "      <td>1</td>\n",
       "      <td>0</td>\n",
       "      <td>1</td>\n",
       "      <td>1</td>\n",
       "      <td>1</td>\n",
       "      <td>1</td>\n",
       "      <td>1</td>\n",
       "      <td>wifi air conditioning pet park hot tub   pool ...</td>\n",
       "      <td>Mid</td>\n",
       "    </tr>\n",
       "    <tr>\n",
       "      <td>2</td>\n",
       "      <td>168.0</td>\n",
       "      <td>0.00</td>\n",
       "      <td>100.0</td>\n",
       "      <td>6</td>\n",
       "      <td>$0.00</td>\n",
       "      <td>2</td>\n",
       "      <td>14</td>\n",
       "      <td>burbank</td>\n",
       "      <td>CA</td>\n",
       "      <td>91505</td>\n",
       "      <td>34.16562</td>\n",
       "      <td>-118.33458</td>\n",
       "      <td>1</td>\n",
       "      <td>1</td>\n",
       "      <td>1</td>\n",
       "      <td>1</td>\n",
       "      <td>0</td>\n",
       "      <td>1</td>\n",
       "      <td>1</td>\n",
       "      <td>1</td>\n",
       "      <td>1</td>\n",
       "      <td>1</td>\n",
       "      <td>1</td>\n",
       "      <td>1</td>\n",
       "      <td>1</td>\n",
       "      <td>1</td>\n",
       "      <td>1</td>\n",
       "      <td>wifi air conditioning pet park  dishwasher BBQ...</td>\n",
       "      <td>Mid</td>\n",
       "    </tr>\n",
       "    <tr>\n",
       "      <td>3</td>\n",
       "      <td>79.0</td>\n",
       "      <td>480.00</td>\n",
       "      <td>89.0</td>\n",
       "      <td>1</td>\n",
       "      <td>$0.00</td>\n",
       "      <td>28</td>\n",
       "      <td>366</td>\n",
       "      <td>hollywood</td>\n",
       "      <td>CA</td>\n",
       "      <td>90046</td>\n",
       "      <td>34.09768</td>\n",
       "      <td>-118.34602</td>\n",
       "      <td>1</td>\n",
       "      <td>1</td>\n",
       "      <td>0</td>\n",
       "      <td>1</td>\n",
       "      <td>1</td>\n",
       "      <td>1</td>\n",
       "      <td>0</td>\n",
       "      <td>0</td>\n",
       "      <td>1</td>\n",
       "      <td>1</td>\n",
       "      <td>1</td>\n",
       "      <td>1</td>\n",
       "      <td>1</td>\n",
       "      <td>1</td>\n",
       "      <td>1</td>\n",
       "      <td>wifi air conditioning  park hot tub dishwasher...</td>\n",
       "      <td></td>\n",
       "    </tr>\n",
       "    <tr>\n",
       "      <td>4</td>\n",
       "      <td>140.0</td>\n",
       "      <td>435.48</td>\n",
       "      <td>100.0</td>\n",
       "      <td>1</td>\n",
       "      <td>$0.00</td>\n",
       "      <td>1</td>\n",
       "      <td>180</td>\n",
       "      <td>santa monica</td>\n",
       "      <td>CA</td>\n",
       "      <td>90405</td>\n",
       "      <td>34.00475</td>\n",
       "      <td>-118.48127</td>\n",
       "      <td>1</td>\n",
       "      <td>0</td>\n",
       "      <td>0</td>\n",
       "      <td>0</td>\n",
       "      <td>0</td>\n",
       "      <td>0</td>\n",
       "      <td>0</td>\n",
       "      <td>0</td>\n",
       "      <td>0</td>\n",
       "      <td>0</td>\n",
       "      <td>1</td>\n",
       "      <td>0</td>\n",
       "      <td>1</td>\n",
       "      <td>1</td>\n",
       "      <td>0</td>\n",
       "      <td>wifi          heating  washer dryer</td>\n",
       "      <td>Mid</td>\n",
       "    </tr>\n",
       "    <tr>\n",
       "      <td>5</td>\n",
       "      <td>80.0</td>\n",
       "      <td>100.00</td>\n",
       "      <td>75.0</td>\n",
       "      <td>1</td>\n",
       "      <td>$25.00</td>\n",
       "      <td>2</td>\n",
       "      <td>730</td>\n",
       "      <td>bellflower</td>\n",
       "      <td>CA</td>\n",
       "      <td>90706</td>\n",
       "      <td>33.87619</td>\n",
       "      <td>-118.11397</td>\n",
       "      <td>1</td>\n",
       "      <td>1</td>\n",
       "      <td>0</td>\n",
       "      <td>1</td>\n",
       "      <td>1</td>\n",
       "      <td>0</td>\n",
       "      <td>0</td>\n",
       "      <td>0</td>\n",
       "      <td>0</td>\n",
       "      <td>0</td>\n",
       "      <td>1</td>\n",
       "      <td>0</td>\n",
       "      <td>1</td>\n",
       "      <td>1</td>\n",
       "      <td>1</td>\n",
       "      <td>wifi air conditioning  park hot tub      heati...</td>\n",
       "      <td></td>\n",
       "    </tr>\n",
       "  </tbody>\n",
       "</table>\n",
       "</div>"
      ],
      "text/plain": [
       "    price  security_deposit  cleaning_fee  guests_included extra_people  \\\n",
       "id                                                                        \n",
       "1   122.0            500.00         240.0                3       $25.00   \n",
       "2   168.0              0.00         100.0                6        $0.00   \n",
       "3    79.0            480.00          89.0                1        $0.00   \n",
       "4   140.0            435.48         100.0                1        $0.00   \n",
       "5    80.0            100.00          75.0                1       $25.00   \n",
       "\n",
       "    minimum_nights  maximum_nights      location state zipcode  latitude  \\\n",
       "id                                                                         \n",
       "1               30             730   culver city    CA   90230  33.98209   \n",
       "2                2              14       burbank    CA   91505  34.16562   \n",
       "3               28             366     hollywood    CA   90046  34.09768   \n",
       "4                1             180  santa monica    CA   90405  34.00475   \n",
       "5                2             730    bellflower    CA   90706  33.87619   \n",
       "\n",
       "    longitude  wifi  ac  pet  park  htub  dishwasher  bbq  pool  hr  coffee  \\\n",
       "id                                                                            \n",
       "1  -118.38494     1   1    1     1     1           0    0     1   1       0   \n",
       "2  -118.33458     1   1    1     1     0           1    1     1   1       1   \n",
       "3  -118.34602     1   1    0     1     1           1    0     0   1       1   \n",
       "4  -118.48127     1   0    0     0     0           0    0     0   0       0   \n",
       "5  -118.11397     1   1    0     1     1           0    0     0   0       0   \n",
       "\n",
       "    heating  iron  washer  dryer  parking  \\\n",
       "id                                          \n",
       "1         1     1       1      1        1   \n",
       "2         1     1       1      1        1   \n",
       "3         1     1       1      1        1   \n",
       "4         1     0       1      1        0   \n",
       "5         1     0       1      1        1   \n",
       "\n",
       "                                            amenities priceType  \n",
       "id                                                               \n",
       "1   wifi air conditioning pet park hot tub   pool ...       Mid  \n",
       "2   wifi air conditioning pet park  dishwasher BBQ...       Mid  \n",
       "3   wifi air conditioning  park hot tub dishwasher...            \n",
       "4                wifi          heating  washer dryer        Mid  \n",
       "5   wifi air conditioning  park hot tub      heati...            "
      ]
     },
     "execution_count": 66,
     "metadata": {},
     "output_type": "execute_result"
    }
   ],
   "source": [
    "df1.head()"
   ]
  },
  {
   "cell_type": "code",
   "execution_count": 67,
   "metadata": {},
   "outputs": [
    {
     "data": {
      "text/plain": [
       "location        priceType\n",
       "venice          Mid          1917\n",
       "hollywood       Mid          1335\n",
       "                             1317\n",
       "downtown        Mid          1148\n",
       "long beach                    900\n",
       "                             ... \n",
       "lancaster       High            1\n",
       "leona valley    Mid             1\n",
       "montebello      High            1\n",
       "val verde       Mid             1\n",
       "jefferson park  High            1\n",
       "Name: priceType, Length: 642, dtype: int64"
      ]
     },
     "execution_count": 67,
     "metadata": {},
     "output_type": "execute_result"
    }
   ],
   "source": [
    "df1.groupby('location')['priceType'].value_counts().nlargest(1000)"
   ]
  },
  {
   "cell_type": "code",
   "execution_count": 68,
   "metadata": {},
   "outputs": [
    {
     "data": {
      "text/plain": [
       "Index(['hollywood hills west', 'malibu', 'venice', 'beverly crest',\n",
       "       'beverly hills', 'hollywood hills', 'beverly grove', 'avalon',\n",
       "       'bel-air', 'hollywood'],\n",
       "      dtype='object')"
      ]
     },
     "execution_count": 68,
     "metadata": {},
     "output_type": "execute_result"
    }
   ],
   "source": [
    "df1.location[df1.priceType=='High'].value_counts().nlargest(10).index"
   ]
  },
  {
   "cell_type": "code",
   "execution_count": 69,
   "metadata": {},
   "outputs": [
    {
     "data": {
      "text/plain": [
       "Index([], dtype='object')"
      ]
     },
     "execution_count": 69,
     "metadata": {},
     "output_type": "execute_result"
    }
   ],
   "source": [
    "df1.location[df1.priceType=='Low'].value_counts().nlargest(10).index"
   ]
  },
  {
   "cell_type": "code",
   "execution_count": 107,
   "metadata": {},
   "outputs": [
    {
     "data": {
      "text/plain": [
       "location         priceType\n",
       "acton            Mid            3\n",
       "                                2\n",
       "adams-normandie                59\n",
       "                 Mid            8\n",
       "agoura hills                   27\n",
       "                             ... \n",
       "winnetka                       73\n",
       "                 Mid           21\n",
       "woodland hills                244\n",
       "                 Mid          153\n",
       "                 High          18\n",
       "Name: priceType, Length: 642, dtype: int64"
      ]
     },
     "execution_count": 107,
     "metadata": {},
     "output_type": "execute_result"
    }
   ],
   "source": [
    "df1.groupby('location')['priceType'].value_counts()"
   ]
  },
  {
   "cell_type": "code",
   "execution_count": 106,
   "metadata": {},
   "outputs": [
    {
     "data": {
      "image/png": "[encoded data removed]",
      "text/plain": [
       "<Figure size 432x288 with 1 Axes>"
      ]
     },
     "metadata": {
      "needs_background": "light"
     },
     "output_type": "display_data"
    }
   ],
   "source": [
    "df1.groupby('location')['priceType'].value_counts().unstack().plot(kind='bar',\\\n",
    "                                                                                stacked=True);"
   ]
  },
  {
   "cell_type": "code",
   "execution_count": 114,
   "metadata": {},
   "outputs": [
    {
     "data": {
      "image/png": "[encoded data removed]",
      "text/plain": [
       "<Figure size 432x288 with 1 Axes>"
      ]
     },
     "metadata": {
      "needs_background": "light"
     },
     "output_type": "display_data"
    }
   ],
   "source": [
    "mid = df1[df1.priceType=='Mid'].groupby(['location'])['price'].\\\n",
    "value_counts().nlargest(10).unstack().plot(kind='bar',stacked=True);\n",
    "\n",
    "\n",
    "\n",
    "\n"
   ]
  },
  {
   "cell_type": "code",
   "execution_count": 95,
   "metadata": {},
   "outputs": [
    {
     "ename": "AttributeError",
     "evalue": "'DataFrameGroupBy' object has no attribute 'value_counts'",
     "output_type": "error",
     "traceback": [
      "\u001b[1;31m---------------------------------------------------------------------------\u001b[0m",
      "\u001b[1;31mAttributeError\u001b[0m                            Traceback (most recent call last)",
      "\u001b[1;32m<ipython-input-95-60b5b1efbf82>\u001b[0m in \u001b[0;36m<module>\u001b[1;34m\u001b[0m\n\u001b[0;32m      1\u001b[0m \u001b[0mplt\u001b[0m\u001b[1;33m.\u001b[0m\u001b[0mfigure\u001b[0m\u001b[1;33m(\u001b[0m\u001b[0mfigsize\u001b[0m\u001b[1;33m=\u001b[0m\u001b[1;33m(\u001b[0m\u001b[1;36m20\u001b[0m\u001b[1;33m,\u001b[0m\u001b[1;36m30\u001b[0m\u001b[1;33m)\u001b[0m\u001b[1;33m)\u001b[0m\u001b[1;33m\u001b[0m\u001b[1;33m\u001b[0m\u001b[0m\n\u001b[0;32m      2\u001b[0m \u001b[0mplt\u001b[0m\u001b[1;33m.\u001b[0m\u001b[0mxticks\u001b[0m\u001b[1;33m(\u001b[0m\u001b[0mrotation\u001b[0m\u001b[1;33m=\u001b[0m\u001b[1;36m90\u001b[0m\u001b[1;33m)\u001b[0m\u001b[1;33m\u001b[0m\u001b[1;33m\u001b[0m\u001b[0m\n\u001b[1;32m----> 3\u001b[1;33m sns.scatterplot(y=df1[df1.priceType=='Mid'].groupby('location').value_counts().unstack(),\\\n\u001b[0m\u001b[0;32m      4\u001b[0m                 x='price',hue='price',palette='rainbow',data=df1)\n",
      "\u001b[1;32mC:\\ProgramData\\Anaconda3\\lib\\site-packages\\pandas\\core\\groupby\\groupby.py\u001b[0m in \u001b[0;36m__getattr__\u001b[1;34m(self, attr)\u001b[0m\n\u001b[0;32m    564\u001b[0m \u001b[1;33m\u001b[0m\u001b[0m\n\u001b[0;32m    565\u001b[0m         raise AttributeError(\n\u001b[1;32m--> 566\u001b[1;33m             \u001b[1;34m\"%r object has no attribute %r\"\u001b[0m \u001b[1;33m%\u001b[0m \u001b[1;33m(\u001b[0m\u001b[0mtype\u001b[0m\u001b[1;33m(\u001b[0m\u001b[0mself\u001b[0m\u001b[1;33m)\u001b[0m\u001b[1;33m.\u001b[0m\u001b[0m__name__\u001b[0m\u001b[1;33m,\u001b[0m \u001b[0mattr\u001b[0m\u001b[1;33m)\u001b[0m\u001b[1;33m\u001b[0m\u001b[1;33m\u001b[0m\u001b[0m\n\u001b[0m\u001b[0;32m    567\u001b[0m         )\n\u001b[0;32m    568\u001b[0m \u001b[1;33m\u001b[0m\u001b[0m\n",
      "\u001b[1;31mAttributeError\u001b[0m: 'DataFrameGroupBy' object has no attribute 'value_counts'"
     ]
    },
    {
     "data": {
      "image/png": "[encoded data removed]",
      "text/plain": [
       "<Figure size 1440x2160 with 1 Axes>"
      ]
     },
     "metadata": {
      "needs_background": "light"
     },
     "output_type": "display_data"
    }
   ],
   "source": [
    "plt.figure(figsize=(20,30))\n",
    "plt.xticks(rotation=90)\n",
    "sns.scatterplot(y=df1[df1.priceType=='Mid'].groupby('location').value_counts().unstack(),\\\n",
    "                x='price',hue='price',palette='rainbow',data=df1)"
   ]
  },
  {
   "cell_type": "code",
   "execution_count": 71,
   "metadata": {},
   "outputs": [],
   "source": [
    "import folium\n",
    "from IPython.display import display\n",
    "from folium.plugins import FastMarkerCluster\n",
    "from folium.plugins import FastMarkerCluster\n",
    "#LDN_COORDINATES = (51.5074, 0.1278)\n",
    "#m = folium.Map(location=LDN_COORDINATES, zoom_start=12)\n",
    "#display(m)"
   ]
  },
  {
   "cell_type": "code",
   "execution_count": 89,
   "metadata": {},
   "outputs": [],
   "source": [
    "from IPython.display import display\n",
    "\n",
    "m1 = folium.Map(\n",
    "    location=[np.mean(df1.latitude), np.mean(df1.longitude)],\n",
    "    #tiles='Cartodb Positron',\n",
    "    zoom_start=10\n",
    ")\n",
    "\n",
    "callback1 = ('function (row) {' \n",
    "                'var circle = L.circle(new L.LatLng(row[0], row[1]), {icon color: \"green\", radius:20});'\n",
    "                'return circle};')\n",
    "\n",
    "callback2 = ('function (row) {' \n",
    "                'var circle = L.circle(new L.LatLng(row[0], row[1]), {icon color: \"blue\", radius:20});'\n",
    "                'return circle};')\n",
    "\n",
    "callback3 = ('function (row) {' \n",
    "                'var circle = L.circle(new L.LatLng(row[0], row[1]), {icon color: \"red\", radius:20});'\n",
    "                'return circle};')\n",
    "\n",
    "\n",
    "m1.add_child(FastMarkerCluster(data=list(zip(df1.latitude[df1.priceType=='Low'].values,\\\n",
    "                                            df1.longitude[df1.priceType=='Low'].values)),\\\n",
    "                  callback=callback1))\n",
    "\n",
    "\n",
    "m1.add_child(FastMarkerCluster(data=list(zip(df1.latitude[df1.priceType =='Mid'].values,\\\n",
    "                                            df1.longitude[df1.priceType =='Mid'].values)),\\\n",
    "                  callback=callback2))\n",
    "\n",
    "m1.add_child(FastMarkerCluster(data=list(zip(df1.latitude[df1.priceType =='High'].values, \\\n",
    "                                            df1.longitude[df1.priceType =='High'].values)),\\\n",
    "                  callback=callback3))\n",
    "\n",
    "\n",
    "\n",
    "\n",
    "folium.LayerControl().add_to(m1)\n",
    "            \n",
    "m1.save('map1.html')\n"
   ]
  },
  {
   "cell_type": "code",
   "execution_count": null,
   "metadata": {},
   "outputs": [],
   "source": []
  },
  {
   "cell_type": "markdown",
   "metadata": {},
   "source": [
    "from folium.features import GeoJson, GeoJsonTooltip, GeoJsonPopup\n",
    "\n",
    "popup=GeoJsonPopup(fields=['price','location'], aliases=['per night $',\"Location\"], localize=True, labels=True, style=\"background-color: yellow;\")\n",
    "\n",
    "tooltip=GeoJsonTooltip(\n",
    "    fields=[\"priceType\"],\n",
    "    aliases=[\"Range:\"],\n",
    "    localize=True,\n",
    "    sticky=False,\n",
    "    labels=True,\n",
    "    style=\"\"\"\n",
    "        background-color: #F0EFEF;\n",
    "        border: 2px solid black;\n",
    "        border-radius: 3px;\n",
    "        box-shadow: 3px;\n",
    "    \"\"\",\n",
    "    max_width=800,\n",
    ")\n",
    "\n",
    "\n",
    "g = folium.GeoJson(\n",
    "    df1,\n",
    "    style_function=lambda x: {\n",
    "        \"fillColor\": colormap(x[\"properties\"][\"change\"])\n",
    "        if x[\"properties\"][\"change\"] is not None\n",
    "        else \"transparent\",\n",
    "        \"color\": \"black\",\n",
    "        \"fillOpacity\": 0.4,\n",
    "    },\n",
    "    tooltip=tooltip,\n",
    "    popup=popup\n",
    ").add_to(m)\n",
    "\n",
    "\n",
    "m\n"
   ]
  },
  {
   "cell_type": "code",
   "execution_count": 111,
   "metadata": {
    "scrolled": true
   },
   "outputs": [],
   "source": [
    "# Setting a base map\n",
    "lat = 34.1000\n",
    "long = -118.4662\n",
    "\n",
    "base = folium.Map(location=[lat,long], zoom_start=10)"
   ]
  },
  {
   "cell_type": "code",
   "execution_count": 112,
   "metadata": {},
   "outputs": [],
   "source": [
    "neighbourhoods = folium.map.FeatureGroup()"
   ]
  },
  {
   "cell_type": "code",
   "execution_count": 113,
   "metadata": {},
   "outputs": [],
   "source": [
    "for inc_lat,inc_long in zip(df1.longitude,df1.latitude):\n",
    "    neighbourhoods.add_child(\n",
    "    folium.CircleMarker(\n",
    "    [inc_long,inc_lat],\n",
    "    radius = 5,\n",
    "    color='white',\n",
    "    fill=True,\n",
    "    fill_color='blue',\n",
    "    fill_opacity=0.6\n",
    "    )\n",
    ")\n",
    "base.add_child(neighbourhoods)\n",
    "m.save('map.html')"
   ]
  },
  {
   "cell_type": "code",
   "execution_count": null,
   "metadata": {},
   "outputs": [],
   "source": [
    "mc.add_child(folium.Marker(location=[row.INTPTLAT,  row.INTPTLONG],\n",
    "                 popup=row.GEOID))"
   ]
  },
  {
   "cell_type": "code",
   "execution_count": null,
   "metadata": {},
   "outputs": [],
   "source": []
  }
 ],
 "metadata": {
  "kernelspec": {
   "display_name": "Python 3",
   "language": "python",
   "name": "python3"
  },
  "language_info": {
   "codemirror_mode": {
    "name": "ipython",
    "version": 3
   },
   "file_extension": ".py",
   "mimetype": "text/x-python",
   "name": "python",
   "nbconvert_exporter": "python",
   "pygments_lexer": "ipython3",
   "version": "3.7.4"
  }
 },
 "nbformat": 4,
 "nbformat_minor": 2
}
