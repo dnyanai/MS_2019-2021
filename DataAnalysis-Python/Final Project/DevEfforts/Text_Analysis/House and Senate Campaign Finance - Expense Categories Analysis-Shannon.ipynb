{
 "cells": [
  {
   "cell_type": "markdown",
   "metadata": {},
   "source": [
    "# <div class=\"alert alert-block alert-info\">An Analysis of the House and Senate Campaign Finance"
   ]
  },
  {
   "cell_type": "code",
   "execution_count": 1,
   "metadata": {
    "scrolled": true
   },
   "outputs": [],
   "source": [
    "from IPython.core.interactiveshell import InteractiveShell\n",
    "InteractiveShell.ast_node_interactivity = \"all\"\n",
    "import pandas as pd\n",
    "import numpy as np\n",
    "import seaborn as sns\n",
    "import sklearn as sk\n",
    "import sklearn.tree as tree\n",
    "import pydotplus\n",
    "from IPython.display import Image\n",
    "from collections import OrderedDict\n",
    "pd.set_option('precision', 1) \n",
    "import warnings\n",
    "warnings.filterwarnings('ignore')"
   ]
  },
  {
   "cell_type": "markdown",
   "metadata": {},
   "source": [
    "**Install SpaCy** \n",
    "<br>(import when use)\n",
    "<br>conda config --add channels conda-forge\n",
    "<br>conda install spacy\n",
    "<br>python -m spacy.en.download\n",
    "<br>python -m spacy download en \n",
    "<br><br>**Install Gensim** \n",
    "<br>(import when use)\n",
    "<br>pip install gensim\n",
    "<br><br>**Install pyLDAvis** \n",
    "<br>(import when use)\n",
    "<br>pip install pyldavis "
   ]
  },
  {
   "cell_type": "markdown",
   "metadata": {},
   "source": [
    "## <li>The main dataset and columns we will use here"
   ]
  },
  {
   "cell_type": "code",
   "execution_count": 2,
   "metadata": {
    "scrolled": false
   },
   "outputs": [
    {
     "data": {
      "text/html": [
       "<div>\n",
       "<style scoped>\n",
       "    .dataframe tbody tr th:only-of-type {\n",
       "        vertical-align: middle;\n",
       "    }\n",
       "\n",
       "    .dataframe tbody tr th {\n",
       "        vertical-align: top;\n",
       "    }\n",
       "\n",
       "    .dataframe thead th {\n",
       "        text-align: right;\n",
       "    }\n",
       "</style>\n",
       "<table border=\"1\" class=\"dataframe\">\n",
       "  <thead>\n",
       "    <tr style=\"text-align: right;\">\n",
       "      <th></th>\n",
       "      <th>com_id</th>\n",
       "      <th>com_nam</th>\n",
       "      <th>can_id</th>\n",
       "      <th>can_nam</th>\n",
       "      <th>ele_yea</th>\n",
       "      <th>can_off</th>\n",
       "      <th>can_off_sta</th>\n",
       "      <th>can_off_dis</th>\n",
       "      <th>lin_num</th>\n",
       "      <th>lin_ima</th>\n",
       "      <th>...</th>\n",
       "      <th>rec_zip</th>\n",
       "      <th>dis_dat</th>\n",
       "      <th>dis_amo</th>\n",
       "      <th>dis_pur_des</th>\n",
       "      <th>mem_cod</th>\n",
       "      <th>mem_tex</th>\n",
       "      <th>cat_cod</th>\n",
       "      <th>cat_des</th>\n",
       "      <th>tra_id</th>\n",
       "      <th>bac_ref_id</th>\n",
       "    </tr>\n",
       "  </thead>\n",
       "  <tbody>\n",
       "    <tr>\n",
       "      <th>0</th>\n",
       "      <td>C00012229</td>\n",
       "      <td>ALASKANS FOR DON YOUNG</td>\n",
       "      <td>H6AK00045</td>\n",
       "      <td>YOUNG, DONALD E</td>\n",
       "      <td>2018</td>\n",
       "      <td>H</td>\n",
       "      <td>AK</td>\n",
       "      <td>1</td>\n",
       "      <td>17</td>\n",
       "      <td>http://docquery.fec.gov/cgi-bin/fecimg/?201901...</td>\n",
       "      <td>...</td>\n",
       "      <td>995230112</td>\n",
       "      <td>2018-12-14</td>\n",
       "      <td>$300.00</td>\n",
       "      <td>OFFICE JANITORIAL SERVICES</td>\n",
       "      <td>NaN</td>\n",
       "      <td>NaN</td>\n",
       "      <td>NaN</td>\n",
       "      <td>NaN</td>\n",
       "      <td>B959AC6567D984383B59</td>\n",
       "      <td>NaN</td>\n",
       "    </tr>\n",
       "    <tr>\n",
       "      <th>1</th>\n",
       "      <td>C00012229</td>\n",
       "      <td>ALASKANS FOR DON YOUNG</td>\n",
       "      <td>H6AK00045</td>\n",
       "      <td>YOUNG, DONALD E</td>\n",
       "      <td>2018</td>\n",
       "      <td>H</td>\n",
       "      <td>AK</td>\n",
       "      <td>1</td>\n",
       "      <td>17</td>\n",
       "      <td>http://docquery.fec.gov/cgi-bin/fecimg/?201901...</td>\n",
       "      <td>...</td>\n",
       "      <td>995196127</td>\n",
       "      <td>2018-12-05</td>\n",
       "      <td>$3,414.98</td>\n",
       "      <td>PAYROLL TAXES</td>\n",
       "      <td>NaN</td>\n",
       "      <td>NaN</td>\n",
       "      <td>NaN</td>\n",
       "      <td>NaN</td>\n",
       "      <td>BBA8F0FB3D7014797B77</td>\n",
       "      <td>NaN</td>\n",
       "    </tr>\n",
       "    <tr>\n",
       "      <th>2</th>\n",
       "      <td>C00012229</td>\n",
       "      <td>ALASKANS FOR DON YOUNG</td>\n",
       "      <td>H6AK00045</td>\n",
       "      <td>YOUNG, DONALD E</td>\n",
       "      <td>2018</td>\n",
       "      <td>H</td>\n",
       "      <td>AK</td>\n",
       "      <td>1</td>\n",
       "      <td>17</td>\n",
       "      <td>http://docquery.fec.gov/cgi-bin/fecimg/?201901...</td>\n",
       "      <td>...</td>\n",
       "      <td>995196127</td>\n",
       "      <td>2018-12-31</td>\n",
       "      <td>$2.00</td>\n",
       "      <td>BANK CHARGE</td>\n",
       "      <td>NaN</td>\n",
       "      <td>NaN</td>\n",
       "      <td>NaN</td>\n",
       "      <td>NaN</td>\n",
       "      <td>B8F94D71D2D524A189E0</td>\n",
       "      <td>NaN</td>\n",
       "    </tr>\n",
       "    <tr>\n",
       "      <th>3</th>\n",
       "      <td>C00012229</td>\n",
       "      <td>ALASKANS FOR DON YOUNG</td>\n",
       "      <td>H6AK00045</td>\n",
       "      <td>YOUNG, DONALD E</td>\n",
       "      <td>2018</td>\n",
       "      <td>H</td>\n",
       "      <td>AK</td>\n",
       "      <td>1</td>\n",
       "      <td>17</td>\n",
       "      <td>http://docquery.fec.gov/cgi-bin/fecimg/?201812...</td>\n",
       "      <td>...</td>\n",
       "      <td>995012214</td>\n",
       "      <td>2018-11-16</td>\n",
       "      <td>$7,000.00</td>\n",
       "      <td>SIGN INSTALLATION</td>\n",
       "      <td>NaN</td>\n",
       "      <td>NaN</td>\n",
       "      <td>NaN</td>\n",
       "      <td>NaN</td>\n",
       "      <td>B1CA02617CFF74D0BB21</td>\n",
       "      <td>NaN</td>\n",
       "    </tr>\n",
       "    <tr>\n",
       "      <th>4</th>\n",
       "      <td>C00012229</td>\n",
       "      <td>ALASKANS FOR DON YOUNG</td>\n",
       "      <td>H6AK00045</td>\n",
       "      <td>YOUNG, DONALD E</td>\n",
       "      <td>2018</td>\n",
       "      <td>H</td>\n",
       "      <td>AK</td>\n",
       "      <td>1</td>\n",
       "      <td>17</td>\n",
       "      <td>http://docquery.fec.gov/cgi-bin/fecimg/?201812...</td>\n",
       "      <td>...</td>\n",
       "      <td>995181217</td>\n",
       "      <td>2018-10-25</td>\n",
       "      <td>$1,394.47</td>\n",
       "      <td>MAILING POSTAGE</td>\n",
       "      <td>NaN</td>\n",
       "      <td>NaN</td>\n",
       "      <td>NaN</td>\n",
       "      <td>NaN</td>\n",
       "      <td>BA304892E27A6466BA76</td>\n",
       "      <td>NaN</td>\n",
       "    </tr>\n",
       "  </tbody>\n",
       "</table>\n",
       "<p>5 rows × 26 columns</p>\n",
       "</div>"
      ],
      "text/plain": [
       "      com_id                 com_nam     can_id          can_nam  ele_yea  \\\n",
       "0  C00012229  ALASKANS FOR DON YOUNG  H6AK00045  YOUNG, DONALD E     2018   \n",
       "1  C00012229  ALASKANS FOR DON YOUNG  H6AK00045  YOUNG, DONALD E     2018   \n",
       "2  C00012229  ALASKANS FOR DON YOUNG  H6AK00045  YOUNG, DONALD E     2018   \n",
       "3  C00012229  ALASKANS FOR DON YOUNG  H6AK00045  YOUNG, DONALD E     2018   \n",
       "4  C00012229  ALASKANS FOR DON YOUNG  H6AK00045  YOUNG, DONALD E     2018   \n",
       "\n",
       "  can_off can_off_sta  can_off_dis lin_num  \\\n",
       "0       H          AK            1      17   \n",
       "1       H          AK            1      17   \n",
       "2       H          AK            1      17   \n",
       "3       H          AK            1      17   \n",
       "4       H          AK            1      17   \n",
       "\n",
       "                                             lin_ima  ...    rec_zip  \\\n",
       "0  http://docquery.fec.gov/cgi-bin/fecimg/?201901...  ...  995230112   \n",
       "1  http://docquery.fec.gov/cgi-bin/fecimg/?201901...  ...  995196127   \n",
       "2  http://docquery.fec.gov/cgi-bin/fecimg/?201901...  ...  995196127   \n",
       "3  http://docquery.fec.gov/cgi-bin/fecimg/?201812...  ...  995012214   \n",
       "4  http://docquery.fec.gov/cgi-bin/fecimg/?201812...  ...  995181217   \n",
       "\n",
       "      dis_dat    dis_amo                 dis_pur_des mem_cod mem_tex cat_cod  \\\n",
       "0  2018-12-14    $300.00  OFFICE JANITORIAL SERVICES     NaN     NaN     NaN   \n",
       "1  2018-12-05  $3,414.98               PAYROLL TAXES     NaN     NaN     NaN   \n",
       "2  2018-12-31      $2.00                 BANK CHARGE     NaN     NaN     NaN   \n",
       "3  2018-11-16  $7,000.00           SIGN INSTALLATION     NaN     NaN     NaN   \n",
       "4  2018-10-25  $1,394.47             MAILING POSTAGE     NaN     NaN     NaN   \n",
       "\n",
       "  cat_des                tra_id bac_ref_id  \n",
       "0     NaN  B959AC6567D984383B59        NaN  \n",
       "1     NaN  BBA8F0FB3D7014797B77        NaN  \n",
       "2     NaN  B8F94D71D2D524A189E0        NaN  \n",
       "3     NaN  B1CA02617CFF74D0BB21        NaN  \n",
       "4     NaN  BA304892E27A6466BA76        NaN  \n",
       "\n",
       "[5 rows x 26 columns]"
      ]
     },
     "execution_count": 2,
     "metadata": {},
     "output_type": "execute_result"
    },
    {
     "data": {
      "text/html": [
       "<div>\n",
       "<style scoped>\n",
       "    .dataframe tbody tr th:only-of-type {\n",
       "        vertical-align: middle;\n",
       "    }\n",
       "\n",
       "    .dataframe tbody tr th {\n",
       "        vertical-align: top;\n",
       "    }\n",
       "\n",
       "    .dataframe thead th {\n",
       "        text-align: right;\n",
       "    }\n",
       "</style>\n",
       "<table border=\"1\" class=\"dataframe\">\n",
       "  <thead>\n",
       "    <tr style=\"text-align: right;\">\n",
       "      <th></th>\n",
       "      <th>can_id</th>\n",
       "      <th>can_nam</th>\n",
       "      <th>can_off</th>\n",
       "      <th>can_off_sta</th>\n",
       "      <th>dis_pur_des</th>\n",
       "      <th>cat_des</th>\n",
       "      <th>dis_amo</th>\n",
       "    </tr>\n",
       "  </thead>\n",
       "  <tbody>\n",
       "    <tr>\n",
       "      <th>1063905</th>\n",
       "      <td>S8MO00327</td>\n",
       "      <td>CRAIN, JO</td>\n",
       "      <td>S</td>\n",
       "      <td>MO</td>\n",
       "      <td>DINNER - CAMPAIGN APPEARANCE IN HALLSVILLE</td>\n",
       "      <td>Campaign Event Expenses</td>\n",
       "      <td>$9.76</td>\n",
       "    </tr>\n",
       "    <tr>\n",
       "      <th>1063906</th>\n",
       "      <td>S8MO00327</td>\n",
       "      <td>CRAIN, JO</td>\n",
       "      <td>S</td>\n",
       "      <td>MO</td>\n",
       "      <td>MILEAGE - CAMPAIGN APPEARANCE IN HALLSVILLE</td>\n",
       "      <td>Campaign Event Expenses</td>\n",
       "      <td>$150.42</td>\n",
       "    </tr>\n",
       "    <tr>\n",
       "      <th>1063907</th>\n",
       "      <td>S8MO00327</td>\n",
       "      <td>CRAIN, JO</td>\n",
       "      <td>S</td>\n",
       "      <td>MO</td>\n",
       "      <td>BUSINESS CARDS</td>\n",
       "      <td>Campaign Materials</td>\n",
       "      <td>$54.30</td>\n",
       "    </tr>\n",
       "    <tr>\n",
       "      <th>1063908</th>\n",
       "      <td>S8MO00327</td>\n",
       "      <td>CRAIN, JO</td>\n",
       "      <td>S</td>\n",
       "      <td>MO</td>\n",
       "      <td>LUNCH FOR CAMPAIGN VOLUNTEERS</td>\n",
       "      <td>Campaign Event Expenses</td>\n",
       "      <td>$90.41</td>\n",
       "    </tr>\n",
       "    <tr>\n",
       "      <th>1063909</th>\n",
       "      <td>H8ND00138</td>\n",
       "      <td>TUTTLE, CHARLES</td>\n",
       "      <td>H</td>\n",
       "      <td>ND</td>\n",
       "      <td>LOAN REPAYMENT</td>\n",
       "      <td>NaN</td>\n",
       "      <td>$750.00</td>\n",
       "    </tr>\n",
       "  </tbody>\n",
       "</table>\n",
       "</div>"
      ],
      "text/plain": [
       "            can_id          can_nam can_off can_off_sta  \\\n",
       "1063905  S8MO00327        CRAIN, JO       S          MO   \n",
       "1063906  S8MO00327        CRAIN, JO       S          MO   \n",
       "1063907  S8MO00327        CRAIN, JO       S          MO   \n",
       "1063908  S8MO00327        CRAIN, JO       S          MO   \n",
       "1063909  H8ND00138  TUTTLE, CHARLES       H          ND   \n",
       "\n",
       "                                         dis_pur_des                  cat_des  \\\n",
       "1063905   DINNER - CAMPAIGN APPEARANCE IN HALLSVILLE  Campaign Event Expenses   \n",
       "1063906  MILEAGE - CAMPAIGN APPEARANCE IN HALLSVILLE  Campaign Event Expenses   \n",
       "1063907                               BUSINESS CARDS       Campaign Materials   \n",
       "1063908                LUNCH FOR CAMPAIGN VOLUNTEERS  Campaign Event Expenses   \n",
       "1063909                               LOAN REPAYMENT                      NaN   \n",
       "\n",
       "         dis_amo  \n",
       "1063905    $9.76  \n",
       "1063906  $150.42  \n",
       "1063907   $54.30  \n",
       "1063908   $90.41  \n",
       "1063909  $750.00  "
      ]
     },
     "execution_count": 2,
     "metadata": {},
     "output_type": "execute_result"
    },
    {
     "data": {
      "text/plain": [
       "1063910"
      ]
     },
     "execution_count": 2,
     "metadata": {},
     "output_type": "execute_result"
    }
   ],
   "source": [
    "df_2018=pd.read_csv('all_house_senate_2018.csv')\n",
    "df_2018.head()\n",
    "df_2018[['can_id','can_nam','can_off','can_off_sta','dis_pur_des','cat_des','dis_amo']].tail()\n",
    "df_2018_main=df_2018[['can_id','can_nam','can_off','can_off_sta','dis_pur_des','cat_des','dis_amo']]\n",
    "len(df_2018_main)"
   ]
  },
  {
   "cell_type": "markdown",
   "metadata": {},
   "source": [
    "# <div class=\"alert alert-block alert-info\">Data Cleaning "
   ]
  },
  {
   "cell_type": "markdown",
   "metadata": {},
   "source": [
    "## <li>Change disbursement amount datatype first for comming calculation"
   ]
  },
  {
   "cell_type": "code",
   "execution_count": 3,
   "metadata": {
    "scrolled": true
   },
   "outputs": [
    {
     "data": {
      "text/plain": [
       "2865981216.3499994"
      ]
     },
     "execution_count": 3,
     "metadata": {},
     "output_type": "execute_result"
    }
   ],
   "source": [
    "df_2018_main.dis_amo.replace({'\\$':''},regex=True,inplace=True)\n",
    "df_2018_main.dis_amo.replace({'\\,':''},regex=True,inplace=True)\n",
    "df_2018_main.dis_amo.replace({'\\(':'-'},regex=True,inplace=True)\n",
    "df_2018_main.dis_amo.replace({'\\)':''},regex=True,inplace=True)\n",
    "df_2018_main['dis_amo'] = pd.to_numeric(df_2018_main.dis_amo)\n",
    "df_2018_main.dis_amo.sum() # 2.9billion$"
   ]
  },
  {
   "cell_type": "code",
   "execution_count": 4,
   "metadata": {
    "scrolled": true
   },
   "outputs": [],
   "source": [
    "df_2018_main['can_nam'] = df_2018_main.can_nam.str.lstrip()\n",
    "df_2018_main.can_nam.replace({'\\, ':'-'},regex=True,inplace=True)\n",
    "df_2018_main.can_nam.replace({'\\ ':'-'},regex=True,inplace=True)"
   ]
  },
  {
   "cell_type": "markdown",
   "metadata": {},
   "source": [
    "## <li> Nan value check"
   ]
  },
  {
   "cell_type": "code",
   "execution_count": 5,
   "metadata": {
    "scrolled": true
   },
   "outputs": [
    {
     "data": {
      "text/plain": [
       "can_id              0\n",
       "can_nam             0\n",
       "can_off             0\n",
       "can_off_sta         0\n",
       "dis_pur_des      8013\n",
       "cat_des        722868\n",
       "dis_amo             0\n",
       "dtype: int64"
      ]
     },
     "execution_count": 5,
     "metadata": {},
     "output_type": "execute_result"
    }
   ],
   "source": [
    "df_2018_main.isna().sum()"
   ]
  },
  {
   "cell_type": "code",
   "execution_count": 6,
   "metadata": {
    "scrolled": false
   },
   "outputs": [
    {
     "data": {
      "text/plain": [
       "8013"
      ]
     },
     "execution_count": 6,
     "metadata": {},
     "output_type": "execute_result"
    },
    {
     "data": {
      "text/plain": [
       "TRAVEL                        54217\n",
       "PAYROLL                       40601\n",
       "SALARY                        38439\n",
       "OFFICE SUPPLIES               28971\n",
       "CREDIT CARD PROCESSING FEE    28333\n",
       "Name: dis_pur_des, dtype: int64"
      ]
     },
     "execution_count": 6,
     "metadata": {},
     "output_type": "execute_result"
    },
    {
     "data": {
      "text/plain": [
       "74471"
      ]
     },
     "execution_count": 6,
     "metadata": {},
     "output_type": "execute_result"
    }
   ],
   "source": [
    "# Delete the 8013 nan items in 'dis_pur_des'column and form new df_2018_main, because we can never find out what they are. \n",
    "# Luckily, the portion is small.\n",
    "df_2018_main.dropna(how='any', subset=['dis_pur_des'],inplace=True) \n",
    "1063910-len(df_2018_main)\n",
    "\n",
    "# check the dis_pur_des column, there're a LOT of items to categorize!\n",
    "df_2018_main.dis_pur_des.value_counts().head()\n",
    "df_2018_main.dis_pur_des.nunique()"
   ]
  },
  {
   "cell_type": "markdown",
   "metadata": {},
   "source": [
    "# <div class=\"alert alert-block alert-danger\">cat_des: expense categories;<br>dis_pur_des: expense detailed purpose. <br>Different dis_pur_des are grouped under certain cat_des. <br>EG: \"lodging fee at Hilton\" is a dis_pur_des record, it's cat_des category is \"travel expense\". <br><br>There are 722,868 out of 1,06,3910 ( 68%) records without category tag (the cat_des column). So my first thought was to use current labels in cat_des to label the untagged items. But when I looked into these current labels, I found they are invalid for machine learning becasuse the accounting entries are very messy and losts of transaction purpose don't match the category labels.(see the next red block for code.) <br> <br>Besides, there are two many of cat_des labels. Some of them have overlapping concepts: \"Campaign materials\" can be \"advertising material\" or \"event expense\" or \"administrative expense\". So I prefer to set up new labels based on my research interest to do further analysis."
   ]
  },
  {
   "cell_type": "markdown",
   "metadata": {},
   "source": [
    "## <li>Data credibility check"
   ]
  },
  {
   "cell_type": "code",
   "execution_count": 7,
   "metadata": {},
   "outputs": [
    {
     "data": {
      "text/html": [
       "<div>\n",
       "<style scoped>\n",
       "    .dataframe tbody tr th:only-of-type {\n",
       "        vertical-align: middle;\n",
       "    }\n",
       "\n",
       "    .dataframe tbody tr th {\n",
       "        vertical-align: top;\n",
       "    }\n",
       "\n",
       "    .dataframe thead th {\n",
       "        text-align: right;\n",
       "    }\n",
       "</style>\n",
       "<table border=\"1\" class=\"dataframe\">\n",
       "  <thead>\n",
       "    <tr style=\"text-align: right;\">\n",
       "      <th></th>\n",
       "      <th>dis_pur_des</th>\n",
       "      <th>dis_amo</th>\n",
       "    </tr>\n",
       "    <tr>\n",
       "      <th>cat_des</th>\n",
       "      <th></th>\n",
       "      <th></th>\n",
       "    </tr>\n",
       "  </thead>\n",
       "  <tbody>\n",
       "    <tr>\n",
       "      <th>Administrative/Salary/Overhead Expenses</th>\n",
       "      <td>193220</td>\n",
       "      <td>3.1e+08</td>\n",
       "    </tr>\n",
       "    <tr>\n",
       "      <th>Advertising Expenses</th>\n",
       "      <td>25016</td>\n",
       "      <td>2.5e+08</td>\n",
       "    </tr>\n",
       "    <tr>\n",
       "      <th>Campaign Event Expenses</th>\n",
       "      <td>10829</td>\n",
       "      <td>9.5e+06</td>\n",
       "    </tr>\n",
       "    <tr>\n",
       "      <th>Campaign Materials</th>\n",
       "      <td>9723</td>\n",
       "      <td>2.3e+07</td>\n",
       "    </tr>\n",
       "    <tr>\n",
       "      <th>Donations</th>\n",
       "      <td>3236</td>\n",
       "      <td>5.3e+06</td>\n",
       "    </tr>\n",
       "    <tr>\n",
       "      <th>Loan Repayments</th>\n",
       "      <td>769</td>\n",
       "      <td>1.3e+07</td>\n",
       "    </tr>\n",
       "    <tr>\n",
       "      <th>Political Contributions</th>\n",
       "      <td>6344</td>\n",
       "      <td>3.5e+07</td>\n",
       "    </tr>\n",
       "    <tr>\n",
       "      <th>Polling Expenses</th>\n",
       "      <td>1343</td>\n",
       "      <td>1.4e+07</td>\n",
       "    </tr>\n",
       "    <tr>\n",
       "      <th>Refunds of Contributions</th>\n",
       "      <td>9527</td>\n",
       "      <td>1.1e+07</td>\n",
       "    </tr>\n",
       "    <tr>\n",
       "      <th>Solicitation and Fundraising Expenses</th>\n",
       "      <td>39780</td>\n",
       "      <td>7.9e+07</td>\n",
       "    </tr>\n",
       "    <tr>\n",
       "      <th>Transfers</th>\n",
       "      <td>353</td>\n",
       "      <td>4.9e+06</td>\n",
       "    </tr>\n",
       "    <tr>\n",
       "      <th>Travel Expenses</th>\n",
       "      <td>36807</td>\n",
       "      <td>1.8e+07</td>\n",
       "    </tr>\n",
       "    <tr>\n",
       "      <th>Unknown</th>\n",
       "      <td>718950</td>\n",
       "      <td>2.1e+09</td>\n",
       "    </tr>\n",
       "  </tbody>\n",
       "</table>\n",
       "</div>"
      ],
      "text/plain": [
       "                                          dis_pur_des  dis_amo\n",
       "cat_des                                                       \n",
       "Administrative/Salary/Overhead Expenses        193220  3.1e+08\n",
       "Advertising Expenses                            25016  2.5e+08\n",
       "Campaign Event Expenses                         10829  9.5e+06\n",
       "Campaign Materials                               9723  2.3e+07\n",
       "Donations                                        3236  5.3e+06\n",
       "Loan Repayments                                   769  1.3e+07\n",
       "Political Contributions                          6344  3.5e+07\n",
       "Polling Expenses                                 1343  1.4e+07\n",
       "Refunds of Contributions                         9527  1.1e+07\n",
       "Solicitation and Fundraising Expenses           39780  7.9e+07\n",
       "Transfers                                         353  4.9e+06\n",
       "Travel Expenses                                 36807  1.8e+07\n",
       "Unknown                                        718950  2.1e+09"
      ]
     },
     "execution_count": 7,
     "metadata": {},
     "output_type": "execute_result"
    }
   ],
   "source": [
    "# Check if the classification of the cat_des column is countable\n",
    "df_2018_main.cat_des.fillna('Unknown',inplace=True)\n",
    "df_2018_main.groupby('cat_des').agg({'dis_pur_des':'count','dis_amo':'sum'})"
   ]
  },
  {
   "cell_type": "markdown",
   "metadata": {},
   "source": [
    "<div class=\"alert alert-block alert-warning\">Clearly, there's a large part of classification missing. But first let's check if the rest of the column are accountable.\n",
    "<br>In the cat_des column above, we can detect some overlaping concepts. For example, campaign materials could include advertising materials.Transfers could be donations.\n",
    "<br>If we take a closer look into each categories using the codes below, we can find that acually the accountants did very sloppy job and \n",
    "the cat_des classification cannot be used for drawing meaningful conclusions.\n",
    "<br>Besides, there's a category \"refunds of contribution\" that should be brought to attention. It's not the money candidates spent but returned. About 11 millions in total."
   ]
  },
  {
   "cell_type": "markdown",
   "metadata": {},
   "source": [
    "# <div class=\"alert alert-block alert-danger\">I check the rows under each cat_des using the codes below and found out we cannot use the cat_des labels offered. For example, some advertising expenses are kept under other catogories instead of \"Advertising expense\". In that case, the total sum of each expense category cannot be right. <br><br>We also used the original labels to do machine learning, the outcome was completely absurd, which also showed that the dataset is too dirty. That' why the text clustering is brought in to explore possible classification."
   ]
  },
  {
   "cell_type": "markdown",
   "metadata": {},
   "source": [
    "df_2018_ASO=df_2018_main[df_2018_main.cat_des.str.contains('Administrative/Salary/Overhead Expenses')].groupby('dis_pur_des').\\\n",
    " agg({'dis_pur_des':'count','dis_amo':'sum'}).rename(columns={'dis_pur_des':'count','dis_amo':'$amount'}).\\\n",
    " sort_values(by=['count'],ascending=False)\n",
    "#df_2018_ASO.head(20)\n",
    "\n",
    "df_2018_AE=df_2018_main[df_2018_main.cat_des.str.contains('Advertising Expenses')].groupby('dis_pur_des').\\\n",
    " agg({'dis_pur_des':'count','dis_amo':'sum'}).rename(columns={'dis_pur_des':'count','dis_amo':'$amount'}).\\\n",
    " sort_values(by=['count'],ascending=False)\n",
    "#df_2018_AE.head(20)\n",
    "\n",
    "df_2018_CEE=df_2018_main[df_2018_main.cat_des=='Campaign Event Expenses'].groupby('dis_pur_des').\\\n",
    " agg({'dis_pur_des':'count','dis_amo':'sum'}).rename(columns={'dis_pur_des':'count','dis_amo':'$amount'}).\\\n",
    " sort_values(by=['count'],ascending=False)\n",
    "#df_2018_CEE.head(20)\n",
    "\n",
    "df_2018_CM=df_2018_main[df_2018_main.cat_des=='Campaign Materials'].groupby('dis_pur_des').\\\n",
    " agg({'dis_pur_des':'count','dis_amo':'sum'}).rename(columns={'dis_pur_des':'count','dis_amo':'$amount'}).\\\n",
    " sort_values(by=['count'],ascending=False)\n",
    "#df_2018_CM.head(20)\n",
    "\n",
    "df_2018_D=df_2018_main[df_2018_main.cat_des=='Donations'].groupby('dis_pur_des').\\\n",
    " agg({'dis_pur_des':'count','dis_amo':'sum'}).rename(columns={'dis_pur_des':'count','dis_amo':'$amount'}).\\\n",
    " sort_values(by=['count'],ascending=False)\n",
    "#df_2018_D.head(20)\n",
    "\n",
    "df_2018_LR=df_2018_main[df_2018_main.cat_des=='Loan Repayments'].groupby('dis_pur_des').\\\n",
    " agg({'dis_pur_des':'count','dis_amo':'sum'}).rename(columns={'dis_pur_des':'count','dis_amo':'$amount'}).\\\n",
    " sort_values(by=['count'],ascending=False)\n",
    "#df_2018_LR.head(20)\n",
    "\n",
    "df_2018_PC=df_2018_main[df_2018_main.cat_des=='Political Contributions'].groupby('dis_pur_des').\\\n",
    " agg({'dis_pur_des':'count','dis_amo':'sum'}).rename(columns={'dis_pur_des':'count','dis_amo':'$amount'}).\\\n",
    " sort_values(by=['count'],ascending=False)\n",
    "#df_2018_PC.head(20)\n",
    "\n",
    "df_2018_PE=df_2018_main[df_2018_main.cat_des=='Polling Expenses'].groupby('dis_pur_des').\\\n",
    " agg({'dis_pur_des':'count','dis_amo':'sum'}).rename(columns={'dis_pur_des':'count','dis_amo':'$amount'}).\\\n",
    " sort_values(by=['count'],ascending=False)\n",
    "#df_2018_PE.head(20)\n",
    "\n",
    "df_2018_RoC=df_2018_main[df_2018_main.cat_des=='Refunds of Contributions'].groupby('dis_pur_des').\\\n",
    " agg({'dis_pur_des':'count','dis_amo':'sum'}).rename(columns={'dis_pur_des':'count','dis_amo':'$amount'}).\\\n",
    " sort_values(by=['count'],ascending=False)\n",
    "#df_2018_RoC.head(20)\n",
    "\n",
    "df_2018_SFE=df_2018_main[df_2018_main.cat_des=='Solicitation and Fundraising Expenses'].groupby('dis_pur_des').\\\n",
    " agg({'dis_pur_des':'count','dis_amo':'sum'}).rename(columns={'dis_pur_des':'count','dis_amo':'$amount'}).\\\n",
    " sort_values(by=['count'],ascending=False)\n",
    "#df_2018_SFE.head(20)\n",
    "\n",
    "df_2018_T=df_2018_main[df_2018_main.cat_des=='Transfers'].groupby('dis_pur_des').\\\n",
    " agg({'dis_pur_des':'count','dis_amo':'sum'}).rename(columns={'dis_pur_des':'count','dis_amo':'$amount'}).\\\n",
    " sort_values(by=['count'],ascending=False)\n",
    "#df_2018_T.head(20)\n",
    "\n",
    "df_2018_TE=df_2018_main[df_2018_main.cat_des=='Travel Expenses'].groupby('dis_pur_des').\\\n",
    " agg({'dis_pur_des':'count','dis_amo':'sum'}).rename(columns={'dis_pur_des':'count','dis_amo':'$amount'}).\\\n",
    " sort_values(by=['count'],ascending=False)\n",
    "#df_2018_TE.head(20)"
   ]
  },
  {
   "cell_type": "markdown",
   "metadata": {},
   "source": [
    "# <div class=\"alert alert-block alert-info\"> Unsupervised Topic Clustering"
   ]
  },
  {
   "cell_type": "markdown",
   "metadata": {},
   "source": [
    "## <li>Throw out refund money"
   ]
  },
  {
   "cell_type": "code",
   "execution_count": 8,
   "metadata": {
    "scrolled": true
   },
   "outputs": [
    {
     "data": {
      "text/plain": [
       "973158"
      ]
     },
     "execution_count": 8,
     "metadata": {},
     "output_type": "execute_result"
    }
   ],
   "source": [
    "#the cat_des \"refunds of contributions\"\n",
    "df_2018_main_RoC=df_2018_main[df_2018_main.cat_des=='Refunds of Contributions']\n",
    "throwout = list(df_2018_main_RoC.dis_pur_des)\n",
    "wholedata = list(df_2018_main.dis_pur_des)\n",
    "rest = list(set(wholedata)^set(throwout))\n",
    "df_2018_main = df_2018_main[df_2018_main.dis_pur_des.isin(rest)]\n",
    "\n",
    "# dis_pur_des have \"refund|return|memo|void\"\n",
    "df_2018_main['dis_purpose']=df_2018_main.dis_pur_des.str.lower()\n",
    "df_2018_main_RoC2 = df_2018_main[df_2018_main.dis_purpose.str.contains('refund|return|memo|void')]\n",
    "throwout2 = list(df_2018_main_RoC2.dis_purpose)\n",
    "wholedata2 = list(df_2018_main.dis_purpose)\n",
    "rest2 = list(set(wholedata2)^set(throwout2))\n",
    "df_2018_main = df_2018_main[df_2018_main.dis_purpose.isin(rest2)]\n",
    "\n",
    "#delete negative amount in the dataset\n",
    "df_2018_main_neg = df_2018_main[df_2018_main.dis_amo < 0]\n",
    "throwout3 = list(df_2018_main_neg.dis_amo)\n",
    "wholedata3 = list(df_2018_main.dis_amo)\n",
    "rest3 = list(set(wholedata3)^set(throwout3))\n",
    "df_2018_main = df_2018_main[df_2018_main.dis_amo.isin(rest3)]\n",
    "\n",
    "len(df_2018_main)"
   ]
  },
  {
   "cell_type": "markdown",
   "metadata": {},
   "source": [
    "## <li>Get text tokens\n",
    "reference https://towardsdatascience.com/topic-modelling-in-python-with-nltk-and-gensim-4ef03213cd21"
   ]
  },
  {
   "cell_type": "code",
   "execution_count": 9,
   "metadata": {
    "scrolled": false
   },
   "outputs": [
    {
     "data": {
      "text/plain": [
       "<spacy.lang.en.English at 0x1a32d38eb8>"
      ]
     },
     "execution_count": 9,
     "metadata": {},
     "output_type": "execute_result"
    },
    {
     "name": "stderr",
     "output_type": "stream",
     "text": [
      "[nltk_data] Downloading package stopwords to\n",
      "[nltk_data]     /Users/zhanghuishan/nltk_data...\n",
      "[nltk_data]   Package stopwords is already up-to-date!\n"
     ]
    },
    {
     "data": {
      "text/plain": [
       "True"
      ]
     },
     "execution_count": 9,
     "metadata": {},
     "output_type": "execute_result"
    },
    {
     "name": "stderr",
     "output_type": "stream",
     "text": [
      "[nltk_data] Downloading package wordnet to\n",
      "[nltk_data]     /Users/zhanghuishan/nltk_data...\n",
      "[nltk_data]   Package wordnet is already up-to-date!\n"
     ]
    },
    {
     "data": {
      "text/plain": [
       "True"
      ]
     },
     "execution_count": 9,
     "metadata": {},
     "output_type": "execute_result"
    }
   ],
   "source": [
    "# Get token list \"lda_tokens\"\n",
    "import spacy\n",
    "spacy.load('en')\n",
    "from spacy.lang.en import English\n",
    "parser = English()\n",
    "\n",
    "def tokenize(text): \n",
    "    lda_tokens = []\n",
    "    tokens = parser(text)\n",
    "    for token in tokens:\n",
    "        if token.orth_.isspace(): #skip space\n",
    "            continue\n",
    "        elif token.like_num: # delete numbers\n",
    "            continue\n",
    "        else:\n",
    "            lda_tokens.append(token.lower_)\n",
    "    return lda_tokens\n",
    "\n",
    "# Get the puntuations set\n",
    "import string\n",
    "en_punct = set(string.punctuation)\n",
    "\n",
    "# Get the stop words set\n",
    "import nltk\n",
    "nltk.download('stopwords')\n",
    "en_stop = set(nltk.corpus.stopwords.words('english'))\n",
    "\n",
    "# Get the tokens for LDA analysis (function)\n",
    "import nltk\n",
    "nltk.download('wordnet')\n",
    "from nltk.corpus import wordnet as wn\n",
    "from nltk.stem.wordnet import WordNetLemmatizer\n",
    "\n",
    "def get_lemma(word):\n",
    "    return WordNetLemmatizer().lemmatize(word) \n",
    "\n",
    "def prepare_text_for_lda(text):\n",
    "    tokens = tokenize(text)\n",
    "    tokens = [token for token in tokens if token not in en_punct] # delete punctuations\n",
    "    tokens = [token for token in tokens if len(token) > 1] # at least 2 letters consist a word\n",
    "    tokens = [token for token in tokens if token not in en_stop] # delete stop words\n",
    "    tokens = [get_lemma(token) for token in tokens] # delete word variants for accurate result\n",
    "    return tokens\n",
    "\n",
    "# Import data for LDA analysis and return text_data\n",
    "import random\n",
    "text_data = []\n",
    "for line in df_2018_main['dis_pur_des']:\n",
    "    tokens = prepare_text_for_lda(line)\n",
    "    if random.random() > .99:\n",
    "        #print(tokens)\n",
    "        text_data.append(tokens)"
   ]
  },
  {
   "cell_type": "markdown",
   "metadata": {},
   "source": [
    "## <li>Cluster topics"
   ]
  },
  {
   "cell_type": "code",
   "execution_count": 10,
   "metadata": {},
   "outputs": [
    {
     "name": "stdout",
     "output_type": "stream",
     "text": [
      "(0, '0.123*\"expense\" + 0.093*\"event\" + 0.072*\"food\" + 0.060*\"travel\"')\n",
      "(1, '0.188*\"service\" + 0.064*\"campaign\" + 0.048*\"fundraising\" + 0.039*\"consultant\"')\n",
      "(2, '0.227*\"fee\" + 0.114*\"card\" + 0.110*\"credit\" + 0.108*\"processing\"')\n",
      "(3, '0.132*\"payroll\" + 0.102*\"consulting\" + 0.088*\"salary\" + 0.064*\"advertising\"')\n",
      "(4, '0.135*\"supply\" + 0.132*\"office\" + 0.069*\"tax\" + 0.062*\"payroll\"')\n"
     ]
    }
   ],
   "source": [
    "from gensim import corpora \n",
    "dictionary = corpora.Dictionary(text_data)\n",
    "corpus = [dictionary.doc2bow(text) for text in text_data]\n",
    "\n",
    "import pickle\n",
    "pickle.dump(corpus, open('corpus.pkl', 'wb'))\n",
    "dictionary.save('dictionary.gensim')\n",
    "\n",
    "import gensim # package for topic modeling\n",
    "NUM_TOPICS = 5 # trial number based on understanding of the data file & research aims, we can lock down this number before presentation\n",
    "ldamodel = gensim.models.ldamodel.LdaModel(corpus, num_topics = NUM_TOPICS, id2word=dictionary, passes=20)\n",
    "ldamodel.save('model.gensim')\n",
    "topics = ldamodel.print_topics(num_words=4)\n",
    "for topic in topics:\n",
    "    print(topic)"
   ]
  },
  {
   "cell_type": "markdown",
   "metadata": {},
   "source": [
    "<div class=\"alert alert-block alert-warning\">From the result above, we could see the model returned us 5 topics with different focuses.\n",
    "<br>We could have a rough ideas about the topic classification of all the disbursement items:\n",
    "<br>To validate the result, we bring in pyLDAvis tool to analyze the model outcome."
   ]
  },
  {
   "cell_type": "markdown",
   "metadata": {},
   "source": [
    "## <li>Topic visualization"
   ]
  },
  {
   "cell_type": "code",
   "execution_count": 11,
   "metadata": {},
   "outputs": [
    {
     "data": {
      "text/html": [
       "\n",
       "<link rel=\"stylesheet\" type=\"text/css\" href=\"https://cdn.rawgit.com/bmabey/pyLDAvis/files/ldavis.v1.0.0.css\">\n",
       "\n",
       "\n",
       "<div id=\"ldavis_el77891131509861842371392722\"></div>\n",
       "<script type=\"text/javascript\">\n",
       "\n",
       "var ldavis_el77891131509861842371392722_data = {\"mdsDat\": {\"x\": [0.19779798836366505, -0.1352250475890051, 0.3220768697313217, -0.21923594642255015, -0.1654138640834314], \"y\": [0.2969085440539452, 0.06485876868434841, -0.24057516391051664, -0.13896622182222795, 0.017774072994451006], \"topics\": [1, 2, 3, 4, 5], \"cluster\": [1, 1, 1, 1, 1], \"Freq\": [17.78136444091797, 17.17629051208496, 28.02783203125, 19.936744689941406, 17.077775955200195]}, \"tinfo\": {\"Category\": [\"Default\", \"Default\", \"Default\", \"Default\", \"Default\", \"Default\", \"Default\", \"Default\", \"Default\", \"Default\", \"Default\", \"Default\", \"Default\", \"Default\", \"Default\", \"Default\", \"Default\", \"Default\", \"Default\", \"Default\", \"Default\", \"Default\", \"Default\", \"Default\", \"Default\", \"Default\", \"Default\", \"Default\", \"Default\", \"Default\", \"Topic1\", \"Topic1\", \"Topic1\", \"Topic1\", \"Topic1\", \"Topic1\", \"Topic1\", \"Topic1\", \"Topic1\", \"Topic1\", \"Topic1\", \"Topic1\", \"Topic1\", \"Topic1\", \"Topic1\", \"Topic1\", \"Topic1\", \"Topic1\", \"Topic1\", \"Topic1\", \"Topic1\", \"Topic1\", \"Topic1\", \"Topic1\", \"Topic1\", \"Topic1\", \"Topic1\", \"Topic1\", \"Topic1\", \"Topic1\", \"Topic1\", \"Topic1\", \"Topic1\", \"Topic1\", \"Topic2\", \"Topic2\", \"Topic2\", \"Topic2\", \"Topic2\", \"Topic2\", \"Topic2\", \"Topic2\", \"Topic2\", \"Topic2\", \"Topic2\", \"Topic2\", \"Topic2\", \"Topic2\", \"Topic2\", \"Topic2\", \"Topic2\", \"Topic2\", \"Topic2\", \"Topic2\", \"Topic2\", \"Topic2\", \"Topic2\", \"Topic2\", \"Topic2\", \"Topic2\", \"Topic2\", \"Topic2\", \"Topic2\", \"Topic2\", \"Topic2\", \"Topic2\", \"Topic2\", \"Topic3\", \"Topic3\", \"Topic3\", \"Topic3\", \"Topic3\", \"Topic3\", \"Topic3\", \"Topic3\", \"Topic3\", \"Topic3\", \"Topic3\", \"Topic3\", \"Topic3\", \"Topic3\", \"Topic3\", \"Topic3\", \"Topic3\", \"Topic3\", \"Topic3\", \"Topic3\", \"Topic3\", \"Topic3\", \"Topic3\", \"Topic3\", \"Topic3\", \"Topic3\", \"Topic3\", \"Topic3\", \"Topic3\", \"Topic3\", \"Topic3\", \"Topic3\", \"Topic3\", \"Topic3\", \"Topic3\", \"Topic3\", \"Topic3\", \"Topic4\", \"Topic4\", \"Topic4\", \"Topic4\", \"Topic4\", \"Topic4\", \"Topic4\", \"Topic4\", \"Topic4\", \"Topic4\", \"Topic4\", \"Topic4\", \"Topic4\", \"Topic4\", \"Topic4\", \"Topic4\", \"Topic4\", \"Topic4\", \"Topic4\", \"Topic4\", \"Topic4\", \"Topic4\", \"Topic4\", \"Topic4\", \"Topic4\", \"Topic4\", \"Topic4\", \"Topic4\", \"Topic4\", \"Topic4\", \"Topic4\", \"Topic4\", \"Topic4\", \"Topic4\", \"Topic4\", \"Topic4\", \"Topic5\", \"Topic5\", \"Topic5\", \"Topic5\", \"Topic5\", \"Topic5\", \"Topic5\", \"Topic5\", \"Topic5\", \"Topic5\", \"Topic5\", \"Topic5\", \"Topic5\", \"Topic5\", \"Topic5\", \"Topic5\", \"Topic5\", \"Topic5\", \"Topic5\", \"Topic5\", \"Topic5\", \"Topic5\", \"Topic5\", \"Topic5\", \"Topic5\", \"Topic5\", \"Topic5\", \"Topic5\", \"Topic5\", \"Topic5\", \"Topic5\", \"Topic5\", \"Topic5\", \"Topic5\", \"Topic5\"], \"Freq\": [1331.0, 676.0, 482.0, 669.0, 472.0, 645.0, 772.0, 632.0, 458.0, 426.0, 822.0, 344.0, 369.0, 267.0, 247.0, 265.0, 376.0, 212.0, 284.0, 195.0, 188.0, 197.0, 274.0, 202.0, 147.0, 225.0, 154.0, 140.0, 127.0, 139.0, 457.544189453125, 344.0811767578125, 266.4771423339844, 194.84429931640625, 187.33201599121094, 146.3042449951172, 128.07647705078125, 121.09795379638672, 114.51023864746094, 98.47904968261719, 94.01506805419922, 87.27819061279297, 68.86341857910156, 58.141841888427734, 53.38126754760742, 51.3729248046875, 33.33747100830078, 27.11690330505371, 18.257274627685547, 17.295551300048828, 16.556379318237305, 16.525117874145508, 14.585244178771973, 14.055359840393066, 13.899697303771973, 13.556405067443848, 13.346575736999512, 12.624628067016602, 11.153121948242188, 10.76866340637207, 23.765106201171875, 29.472505569458008, 221.85321044921875, 26.511449813842773, 676.016357421875, 139.573486328125, 79.6626205444336, 74.35741424560547, 68.39053344726562, 56.91558074951172, 56.515052795410156, 53.959434509277344, 50.20576095581055, 47.333492279052734, 43.6008186340332, 40.122440338134766, 37.23381042480469, 36.4385871887207, 33.49961471557617, 32.76715850830078, 30.66278076171875, 29.170305252075195, 26.55628776550293, 25.411869049072266, 23.797077178955078, 21.785715103149414, 21.39626121520996, 20.8953914642334, 20.392070770263672, 19.4246883392334, 18.71904754638672, 17.621984481811523, 17.329174041748047, 15.945211410522461, 230.94972229003906, 171.21575927734375, 134.82188415527344, 1330.6177978515625, 668.8934326171875, 644.968017578125, 631.7691040039062, 283.7061462402344, 201.49510192871094, 162.1334991455078, 143.9753875732422, 73.20663452148438, 51.74232482910156, 50.82402801513672, 46.24849319458008, 44.03631591796875, 43.1572380065918, 30.988924026489258, 28.351673126220703, 25.062305450439453, 18.28053855895996, 17.7811222076416, 17.68238639831543, 16.237680435180664, 15.802713394165039, 13.284582138061523, 12.191553115844727, 11.624767303466797, 11.232287406921387, 10.628551483154297, 10.113226890563965, 9.078410148620605, 9.131752967834473, 600.40087890625, 35.39177703857422, 32.945743560791016, 19.6695556640625, 25.12453842163086, 18.143234252929688, 22.62627410888672, 425.6410827636719, 368.487060546875, 264.9140930175781, 196.38299560546875, 153.22824096679688, 138.49832153320312, 107.01583099365234, 104.50983428955078, 99.80361938476562, 93.77135467529297, 91.70357513427734, 85.52205657958984, 83.93486785888672, 45.43427658081055, 44.11532211303711, 39.6069450378418, 38.478843688964844, 35.8625373840332, 35.33152389526367, 32.778175354003906, 32.397216796875, 31.112030029296875, 28.09377670288086, 28.018569946289062, 25.662010192871094, 23.79010581970215, 22.82102394104004, 17.486251831054688, 13.63345718383789, 12.630383491516113, 550.3360595703125, 22.50655746459961, 144.47805786132812, 102.89169311523438, 33.29486846923828, 27.937925338745117, 481.8244934082031, 471.9195556640625, 246.27960205078125, 211.5658416748047, 126.36966705322266, 111.50914001464844, 99.05470275878906, 89.08226776123047, 46.6016960144043, 45.12853240966797, 41.719242095947266, 41.22191619873047, 37.79141616821289, 32.33895492553711, 31.531251907348633, 31.499006271362305, 23.29997444152832, 23.170080184936523, 19.331361770629883, 18.74991798400879, 17.802127838134766, 17.535533905029297, 17.220783233642578, 16.125247955322266, 15.985790252685547, 14.798555374145508, 14.35560131072998, 14.127187728881836, 13.727599143981934, 13.383447647094727, 60.51775360107422, 222.05990600585938, 90.51982116699219, 24.294017791748047, 17.53904914855957], \"Term\": [\"fee\", \"service\", \"supply\", \"card\", \"office\", \"credit\", \"payroll\", \"processing\", \"expense\", \"consulting\", \"travel\", \"event\", \"salary\", \"food\", \"tax\", \"advertising\", \"campaign\", \"kind\", \"postage\", \"meal\", \"beverage\", \"printing\", \"fundraising\", \"merchant\", \"catering\", \"reimbursement\", \"medium\", \"consultant\", \"mileage\", \"software\", \"expense\", \"event\", \"food\", \"meal\", \"beverage\", \"catering\", \"airfare\", \"see\", \"payment\", \"meeting\", \"pmt\", \"amex\", \"itemized\", \"canvassing\", \"database\", \"ticket\", \"fundraiser\", \"volunteer\", \"svc\", \"polling\", \"due\", \"membership\", \"support\", \"venue\", \"inkind\", \"monthly\", \"withholding\", \"time\", \"site\", \"mobile\", \"parking\", \"cost\", \"travel\", \"rental\", \"service\", \"consultant\", \"internet\", \"fuel\", \"website\", \"accounting\", \"email\", \"insurance\", \"web\", \"donation\", \"design\", \"mailing\", \"advertisement\", \"charge\", \"sponsorship\", \"delivery\", \"hosting\", \"reimburse\", \"worker\", \"radio\", \"administrative\", \"gift\", \"dinner\", \"data\", \"call\", \"gasoline\", \"room\", \"compensation\", \"ride\", \"space\", \"campaign\", \"fundraising\", \"reimbursement\", \"fee\", \"card\", \"credit\", \"processing\", \"postage\", \"merchant\", \"bank\", \"contribution\", \"transaction\", \"production\", \"direct\", \"wage\", \"cc\", \"gas\", \"print\", \"marketing\", \"federal\", \"registration\", \"transfer\", \"video\", \"non\", \"photography\", \"outreach\", \"strategic\", \"committee\", \"flower\", \"wire\", \"stamp\", \"file\", \"director\", \"travel\", \"legal\", \"mail\", \"storage\", \"candidate\", \"voter\", \"political\", \"consulting\", \"salary\", \"advertising\", \"printing\", \"medium\", \"software\", \"digital\", \"online\", \"transportation\", \"compliance\", \"lodging\", \"ad\", \"shipping\", \"staff\", \"sign\", \"utility\", \"management\", \"buy\", \"ground\", \"facebook\", \"material\", \"communication\", \"social\", \"loan\", \"invoice\", \"repayment\", \"yard\", \"computer\", \"maintenance\", \"health\", \"payroll\", \"general\", \"campaign\", \"fundraising\", \"political\", \"strategy\", \"supply\", \"office\", \"tax\", \"kind\", \"mileage\", \"phone\", \"rent\", \"telephone\", \"field\", \"subscription\", \"equipment\", \"car\", \"auto\", \"research\", \"cell\", \"air\", \"taxi\", \"facility\", \"vendor\", \"net\", \"party\", \"listed\", \"aggregate\", \"election\", \"graphic\", \"list\", \"refreshment\", \"fund\", \"airline\", \"actblue\", \"rental\", \"payroll\", \"reimbursement\", \"candidate\", \"fare\"], \"Total\": [1331.0, 676.0, 482.0, 669.0, 472.0, 645.0, 772.0, 632.0, 458.0, 426.0, 822.0, 344.0, 369.0, 267.0, 247.0, 265.0, 376.0, 212.0, 284.0, 195.0, 188.0, 197.0, 274.0, 202.0, 147.0, 225.0, 154.0, 140.0, 127.0, 139.0, 458.2915344238281, 344.82843017578125, 267.22259521484375, 195.58963012695312, 188.07672119140625, 147.0505828857422, 128.8213653564453, 121.8465347290039, 115.25997924804688, 99.22406005859375, 94.76509857177734, 88.0274658203125, 69.61091613769531, 58.888484954833984, 54.13035202026367, 52.119747161865234, 34.08409118652344, 27.86652946472168, 19.005765914916992, 18.042325973510742, 17.301904678344727, 17.272043228149414, 15.335399627685547, 14.800745010375977, 14.646219253540039, 14.309757232666016, 14.104896545410156, 13.380759239196777, 11.90052318572998, 11.5200834274292, 31.629501342773438, 43.302494049072266, 822.8276977539062, 105.2252426147461, 676.7687377929688, 140.3255615234375, 80.41365051269531, 75.1123275756836, 69.14107513427734, 57.66599655151367, 57.26534652709961, 54.70992660522461, 50.95720291137695, 48.085235595703125, 44.35247039794922, 40.8753547668457, 37.983951568603516, 37.19068908691406, 34.253990173339844, 33.518314361572266, 31.41318130493164, 29.92682456970215, 27.30605125427246, 26.167558670043945, 24.550495147705078, 22.53641128540039, 22.14984130859375, 21.647310256958008, 21.1442928314209, 20.175968170166016, 19.474353790283203, 18.371294021606445, 18.07900619506836, 16.700119018554688, 376.0145568847656, 274.6936950683594, 225.90072631835938, 1331.39892578125, 669.6735229492188, 645.7477416992188, 632.5485229492188, 284.488525390625, 202.27450561523438, 162.9145050048828, 144.75694274902344, 73.98767852783203, 52.52876663208008, 51.611785888671875, 47.030311584472656, 44.81719970703125, 43.94105911254883, 31.78223991394043, 29.142446517944336, 25.844432830810547, 19.072980880737305, 18.56348991394043, 18.474821090698242, 17.017370223999023, 16.594566345214844, 14.072324752807617, 12.983696937561035, 12.404476165771484, 12.01421070098877, 11.407442092895508, 10.903303146362305, 9.86154556274414, 9.948612213134766, 822.8276977539062, 46.70804977416992, 49.04733657836914, 25.659875869750977, 50.01139831542969, 30.548385620117188, 56.5363655090332, 426.42950439453125, 369.2734069824219, 265.7018127441406, 197.17214965820312, 154.01641845703125, 139.28750610351562, 107.80445861816406, 105.3000259399414, 100.59138488769531, 94.56362915039062, 92.49307250976562, 86.3121337890625, 84.7243423461914, 46.227752685546875, 44.90472412109375, 40.39523696899414, 39.270877838134766, 36.64873504638672, 36.1202392578125, 33.566585540771484, 33.183780670166016, 31.900671005249023, 28.881086349487305, 28.808433532714844, 26.450044631958008, 24.578943252563477, 23.60831069946289, 18.274372100830078, 14.428428649902344, 13.426575660705566, 772.9866943359375, 28.446611404418945, 376.0145568847656, 274.6936950683594, 56.5363655090332, 41.885929107666016, 482.5823059082031, 472.6769714355469, 247.0366973876953, 212.33128356933594, 127.12770080566406, 112.27147674560547, 99.81195068359375, 89.84195709228516, 47.36275863647461, 45.88802719116211, 42.47887420654297, 41.981788635253906, 38.55158615112305, 33.09968948364258, 32.2891731262207, 32.26262283325195, 24.057390213012695, 23.930992126464844, 20.09210968017578, 19.507726669311523, 18.563495635986328, 18.293479919433594, 17.978534698486328, 16.88427734375, 16.75796890258789, 15.55731201171875, 15.11754322052002, 14.887946128845215, 14.48750114440918, 14.145076751708984, 105.2252426147461, 772.9866943359375, 225.90072631835938, 50.01139831542969, 29.052776336669922], \"loglift\": [30.0, 29.0, 28.0, 27.0, 26.0, 25.0, 24.0, 23.0, 22.0, 21.0, 20.0, 19.0, 18.0, 17.0, 16.0, 15.0, 14.0, 13.0, 12.0, 11.0, 10.0, 9.0, 8.0, 7.0, 6.0, 5.0, 4.0, 3.0, 2.0, 1.0, 1.7253999710083008, 1.7247999906539917, 1.7242000102996826, 1.7231999635696411, 1.723099946975708, 1.7218999862670898, 1.7211999893188477, 1.720900058746338, 1.7204999923706055, 1.719499945640564, 1.719099998474121, 1.718500018119812, 1.7161999940872192, 1.7143000364303589, 1.7130999565124512, 1.7125999927520752, 1.7049000263214111, 1.6998000144958496, 1.6868000030517578, 1.6847000122070312, 1.6829999685287476, 1.682800054550171, 1.676900029182434, 1.6753000020980835, 1.6747000217437744, 1.6728999614715576, 1.6718000173568726, 1.6689000129699707, 1.6621999740600586, 1.659600019454956, 1.441100001335144, 1.3423000574111938, 0.4162999987602234, 0.34850001335144043, 1.7604999542236328, 1.7562999725341797, 1.7523000240325928, 1.7515000104904175, 1.7506999969482422, 1.7484999895095825, 1.7484999895095825, 1.7477999925613403, 1.7467999458312988, 1.74590003490448, 1.7445000410079956, 1.7430000305175781, 1.7417000532150269, 1.7411999702453613, 1.739400029182434, 1.7389999628067017, 1.7374999523162842, 1.7359999418258667, 1.7338000535964966, 1.732300043106079, 1.7304999828338623, 1.7278000116348267, 1.7269999980926514, 1.7263000011444092, 1.7253999710083008, 1.7237000465393066, 1.722100019454956, 1.7200000286102295, 1.7193000316619873, 1.715399980545044, 1.2741999626159668, 1.2889000177383423, 1.2454999685287476, 1.271399974822998, 1.270799994468689, 1.270799994468689, 1.2706999778747559, 1.2691999673843384, 1.2681000232696533, 1.267199993133545, 1.2666000127792358, 1.2613999843597412, 1.2568999528884888, 1.256600022315979, 1.2552000284194946, 1.2544000148773193, 1.253999948501587, 1.2467000484466553, 1.2445000410079956, 1.2411999702453613, 1.2295000553131104, 1.2288999557495117, 1.2280999422073364, 1.225100040435791, 1.223099946975708, 1.214400053024292, 1.2089999914169312, 1.2071000337600708, 1.204699993133545, 1.201300024986267, 1.1967999935150146, 1.1892000436782837, 1.1863000392913818, 0.9567999839782715, 0.9944999814033508, 0.8740000128746033, 1.006100058555603, 0.5835999846458435, 0.7509999871253967, 0.3562000095844269, 1.61080002784729, 1.6104999780654907, 1.6095999479293823, 1.6086000204086304, 1.6074999570846558, 1.6068999767303467, 1.605299949645996, 1.6051000356674194, 1.604699969291687, 1.604200005531311, 1.6039999723434448, 1.6033999919891357, 1.6031999588012695, 1.5952999591827393, 1.5949000120162964, 1.592900037765503, 1.5922000408172607, 1.59089994430542, 1.590499997138977, 1.5887999534606934, 1.5886000394821167, 1.5875999927520752, 1.5850000381469727, 1.5848000049591064, 1.5823999643325806, 1.5800000429153442, 1.5786999464035034, 1.56850004196167, 1.555899977684021, 1.5514999628067017, 1.2728999853134155, 1.3783999681472778, 0.6560999751091003, 0.6305999755859375, 1.0830999612808228, 1.2075999975204468, 1.7657999992370605, 1.7657999992370605, 1.764299988746643, 1.763800024986267, 1.7613999843597412, 1.760599970817566, 1.7597999572753906, 1.7589000463485718, 1.7511999607086182, 1.7506999969482422, 1.7493000030517578, 1.7490999698638916, 1.747499942779541, 1.7440999746322632, 1.7436000108718872, 1.743399977684021, 1.7353999614715576, 1.7351000308990479, 1.7288000583648682, 1.7278000116348267, 1.7254999876022339, 1.725100040435791, 1.7243000268936157, 1.7214000225067139, 1.7201999425888062, 1.7173999547958374, 1.7157000303268433, 1.714900016784668, 1.7135000228881836, 1.7120000123977661, 1.2142000198364258, 0.5200999975204468, 0.8529000282287598, 1.0454000234603882, 1.2626999616622925], \"logprob\": [30.0, 29.0, 28.0, 27.0, 26.0, 25.0, 24.0, 23.0, 22.0, 21.0, 20.0, 19.0, 18.0, 17.0, 16.0, 15.0, 14.0, 13.0, 12.0, 11.0, 10.0, 9.0, 8.0, 7.0, 6.0, 5.0, 4.0, 3.0, 2.0, 1.0, -2.094599962234497, -2.3796000480651855, -2.635200023651123, -2.9482998847961426, -2.987600088119507, -3.234800100326538, -3.367799997329712, -3.4238998889923096, -3.47979998588562, -3.6305999755859375, -3.677000045776367, -3.7513999938964844, -3.9883999824523926, -4.157599925994873, -4.243000030517578, -4.281400203704834, -4.713799953460693, -4.920300006866455, -5.315899848937988, -5.369999885559082, -5.413700103759766, -5.415599822998047, -5.540500164031982, -5.577499866485596, -5.588600158691406, -5.61359977722168, -5.629199981689453, -5.684800148010254, -5.808800220489502, -5.843800067901611, -5.052299976348877, -4.836999893188477, -2.81850004196167, -4.94290018081665, -1.669600009918213, -3.247299909591675, -3.8080999851226807, -3.877000093460083, -3.960599899291992, -4.1442999839782715, -4.151299953460693, -4.1975998878479, -4.269700050354004, -4.32859992980957, -4.410799980163574, -4.493899822235107, -4.568600177764893, -4.590199947357178, -4.674300193786621, -4.696400165557861, -4.762800216674805, -4.812699794769287, -4.906599998474121, -4.9506001472473145, -5.016300201416016, -5.104599952697754, -5.122600078582764, -5.146299839019775, -5.1707000732421875, -5.219299793243408, -5.25629997253418, -5.316699981689453, -5.333499908447266, -5.4166998863220215, -2.7437000274658203, -3.0429000854492188, -3.281899929046631, -1.482100009918213, -2.1698999404907227, -2.2063000202178955, -2.2269999980926514, -3.027600049972534, -3.369800090789795, -3.587100028991699, -3.705899953842163, -4.382199764251709, -4.7291998863220215, -4.747200012207031, -4.8414998054504395, -4.890500068664551, -4.910699844360352, -5.2418999671936035, -5.3308000564575195, -5.45419979095459, -5.769700050354004, -5.797399997711182, -5.802999973297119, -5.888199806213379, -5.915299892425537, -6.088900089263916, -6.174799919128418, -6.222400188446045, -6.256700038909912, -6.311999797821045, -6.361700057983398, -6.469600200653076, -6.463799953460693, -2.277899980545044, -5.109000205993652, -5.180699825286865, -5.696499824523926, -5.451700210571289, -5.777200222015381, -5.556399822235107, -2.2813000679016113, -2.42549991607666, -2.755500078201294, -3.054800033569336, -3.302999973297119, -3.4040000438690186, -3.661900043487549, -3.6856000423431396, -3.7316999435424805, -3.7939999103546143, -3.8162999153137207, -3.8861000537872314, -3.9047999382019043, -4.518599987030029, -4.548099994659424, -4.655900001525879, -4.684800148010254, -4.755199909210205, -4.770100116729736, -4.845099925994873, -4.856800079345703, -4.897299766540527, -4.999300003051758, -5.001999855041504, -5.089900016784668, -5.165599822998047, -5.207200050354004, -5.473499774932861, -5.722400188446045, -5.798799991607666, -2.024399995803833, -5.221099853515625, -3.361799955368042, -3.701200008392334, -4.829500198364258, -5.004899978637695, -2.002500057220459, -2.0232999324798584, -2.6735999584198, -2.8255999088287354, -3.34089994430542, -3.4660000801086426, -3.584399938583374, -3.690500020980835, -4.338500022888184, -4.37060022354126, -4.449100017547607, -4.461100101470947, -4.547999858856201, -4.703800201416016, -4.729100227355957, -4.730100154876709, -5.031700134277344, -5.037199974060059, -5.218400001525879, -5.248899936676025, -5.30079984664917, -5.315899848937988, -5.334000110626221, -5.399700164794922, -5.408400058746338, -5.485599994659424, -5.515999794006348, -5.5320000648498535, -5.560699939727783, -5.586100101470947, -4.077199935913086, -2.7771999835968018, -3.674499988555908, -4.9899001121521, -5.315700054168701]}, \"token.table\": {\"Topic\": [2, 5, 4, 2, 2, 4, 5, 5, 1, 5, 1, 5, 3, 1, 4, 2, 2, 4, 3, 5, 1, 5, 3, 1, 3, 5, 2, 3, 4, 2, 4, 4, 2, 4, 3, 1, 4, 3, 2, 1, 2, 2, 4, 2, 3, 3, 2, 1, 5, 2, 5, 1, 1, 4, 5, 2, 5, 3, 3, 5, 3, 3, 1, 2, 5, 1, 2, 4, 3, 2, 4, 5, 2, 5, 4, 4, 2, 1, 2, 2, 4, 1, 5, 3, 4, 5, 5, 4, 4, 2, 3, 2, 4, 4, 3, 4, 1, 4, 1, 1, 3, 5, 1, 1, 5, 3, 5, 4, 3, 1, 2, 5, 1, 4, 5, 5, 3, 1, 3, 4, 1, 3, 3, 4, 3, 3, 2, 5, 3, 2, 2, 5, 5, 1, 2, 5, 4, 5, 2, 2, 4, 1, 2, 4, 4, 1, 4, 4, 2, 2, 4, 3, 2, 3, 3, 2, 4, 5, 5, 1, 1, 5, 5, 5, 1, 1, 3, 3, 4, 1, 3, 4, 5, 1, 3, 1, 1, 3, 3, 2, 2, 3, 1, 2, 4], \"Freq\": [0.9884507656097412, 0.9190476536750793, 0.9963836669921875, 0.9775770306587219, 0.9740955829620361, 0.9973586201667786, 0.9455720782279968, 0.960864245891571, 0.9936239719390869, 0.9663501977920532, 0.9883279204368591, 0.9856922626495361, 0.994386613368988, 0.9942750930786133, 0.9822985529899597, 0.945881724357605, 0.6143379211425781, 0.3829638957977295, 0.49988603591918945, 0.4798906147480011, 0.9849123954772949, 0.9766139388084412, 0.9989942312240601, 0.9928556084632874, 0.9817659258842468, 0.991044282913208, 0.9679841995239258, 0.9673927426338196, 0.9717664122581482, 0.9797894358634949, 0.9940396547317505, 0.9302645325660706, 0.9976799488067627, 0.9989928007125854, 0.9947709441184998, 0.6697073578834534, 0.30021366477012634, 0.9988420605659485, 0.9700974225997925, 0.9791179895401001, 0.9845364093780518, 0.9920529723167419, 0.992537796497345, 0.9480880498886108, 0.9881463646888733, 0.9046487808227539, 0.9774309992790222, 0.9825507998466492, 0.9476271867752075, 0.9953663945198059, 0.988726794719696, 0.9975975751876831, 0.9993638396263123, 0.9831205606460571, 0.9610968232154846, 0.37862130999565125, 0.6195621490478516, 0.9673263430595398, 0.9997003674507141, 0.9923408627510071, 0.912635862827301, 0.9155824184417725, 0.9954248070716858, 0.9851911664009094, 0.94035804271698, 0.9681936502456665, 0.6225115656852722, 0.37496310472488403, 0.9785836338996887, 0.9417144060134888, 0.808532178401947, 0.17576785385608673, 0.9761980175971985, 0.9547696709632874, 0.9689858555793762, 0.9682289958000183, 0.9868468642234802, 0.9558780789375305, 0.9870238304138184, 0.9948559403419495, 0.9829850792884827, 0.9912238717079163, 0.9984397888183594, 0.749335527420044, 0.23550544679164886, 0.9641768336296082, 0.9839571118354797, 0.9719375967979431, 0.9946690797805786, 0.3262154757976532, 0.6728194355964661, 0.9785847663879395, 0.9703066349029541, 0.9676381349563599, 0.9607978463172913, 0.9643265008926392, 0.9969853758811951, 0.9934005737304688, 0.9876636862754822, 0.9842495322227478, 0.9936991333961487, 0.9911293983459473, 0.9548541903495789, 0.9783534407615662, 0.9739730358123779, 0.9402157664299011, 0.9985678195953369, 0.9971507787704468, 0.9237990379333496, 0.7587853074073792, 0.22131237387657166, 0.9696449637413025, 0.9977443814277649, 0.7115258574485779, 0.28719770908355713, 0.997581958770752, 0.9641710519790649, 0.991926372051239, 0.40681779384613037, 0.583695113658905, 0.9422288537025452, 0.998282790184021, 0.9753875136375427, 0.9940552115440369, 0.9991328120231628, 0.9899337887763977, 0.955381453037262, 0.9260764122009277, 0.9437434077262878, 0.9690303206443787, 0.5976076126098633, 0.4028318226337433, 0.9918652176856995, 0.25659242272377014, 0.17106162011623383, 0.5797088146209717, 0.9764455556869507, 0.966776430606842, 0.9403171539306641, 0.9756421446800232, 0.9965515732765198, 0.9930524230003357, 0.9988641142845154, 0.9914506077766418, 0.9798523783683777, 0.9243291020393372, 0.9694926142692566, 0.9907565116882324, 0.9580770134925842, 0.9633914232254028, 0.9734412431716919, 0.9171532392501831, 0.19485674798488617, 0.7794269919395447, 0.924235999584198, 0.31036674976348877, 0.66848224401474, 0.9806479811668396, 0.998793363571167, 0.9781290292739868, 0.9470810294151306, 0.9958034753799438, 0.9560471773147583, 0.9906284809112549, 0.9785158634185791, 0.9715442657470703, 0.9866507649421692, 0.9696452617645264, 0.9941208958625793, 0.2698013186454773, 0.7291927337646484, 0.9902157783508301, 0.9456448554992676, 0.9458983540534973, 0.9742990136146545, 0.9689043164253235, 0.39281943440437317, 0.589229166507721, 0.978092610836029, 0.9812155365943909, 0.9834964275360107, 0.9642828106880188, 0.9216657280921936, 0.988791823387146, 0.9742332100868225], \"Term\": [\"accounting\", \"actblue\", \"ad\", \"administrative\", \"advertisement\", \"advertising\", \"aggregate\", \"air\", \"airfare\", \"airline\", \"amex\", \"auto\", \"bank\", \"beverage\", \"buy\", \"call\", \"campaign\", \"campaign\", \"candidate\", \"candidate\", \"canvassing\", \"car\", \"card\", \"catering\", \"cc\", \"cell\", \"charge\", \"committee\", \"communication\", \"compensation\", \"compliance\", \"computer\", \"consultant\", \"consulting\", \"contribution\", \"cost\", \"cost\", \"credit\", \"data\", \"database\", \"delivery\", \"design\", \"digital\", \"dinner\", \"direct\", \"director\", \"donation\", \"due\", \"election\", \"email\", \"equipment\", \"event\", \"expense\", \"facebook\", \"facility\", \"fare\", \"fare\", \"federal\", \"fee\", \"field\", \"file\", \"flower\", \"food\", \"fuel\", \"fund\", \"fundraiser\", \"fundraising\", \"fundraising\", \"gas\", \"gasoline\", \"general\", \"general\", \"gift\", \"graphic\", \"ground\", \"health\", \"hosting\", \"inkind\", \"insurance\", \"internet\", \"invoice\", \"itemized\", \"kind\", \"legal\", \"legal\", \"list\", \"listed\", \"loan\", \"lodging\", \"mail\", \"mail\", \"mailing\", \"maintenance\", \"management\", \"marketing\", \"material\", \"meal\", \"medium\", \"meeting\", \"membership\", \"merchant\", \"mileage\", \"mobile\", \"monthly\", \"net\", \"non\", \"office\", \"online\", \"outreach\", \"parking\", \"parking\", \"party\", \"payment\", \"payroll\", \"payroll\", \"phone\", \"photography\", \"pmt\", \"political\", \"political\", \"polling\", \"postage\", \"print\", \"printing\", \"processing\", \"production\", \"radio\", \"refreshment\", \"registration\", \"reimburse\", \"reimbursement\", \"reimbursement\", \"rent\", \"rental\", \"rental\", \"rental\", \"repayment\", \"research\", \"ride\", \"room\", \"salary\", \"see\", \"service\", \"shipping\", \"sign\", \"site\", \"social\", \"software\", \"space\", \"sponsorship\", \"staff\", \"stamp\", \"storage\", \"storage\", \"strategic\", \"strategy\", \"strategy\", \"subscription\", \"supply\", \"support\", \"svc\", \"tax\", \"taxi\", \"telephone\", \"ticket\", \"time\", \"transaction\", \"transfer\", \"transportation\", \"travel\", \"travel\", \"utility\", \"vendor\", \"venue\", \"video\", \"volunteer\", \"voter\", \"voter\", \"wage\", \"web\", \"website\", \"wire\", \"withholding\", \"worker\", \"yard\"]}, \"R\": 30, \"lambda.step\": 0.01, \"plot.opts\": {\"xlab\": \"PC1\", \"ylab\": \"PC2\"}, \"topic.order\": [1, 2, 3, 4, 5]};\n",
       "\n",
       "function LDAvis_load_lib(url, callback){\n",
       "  var s = document.createElement('script');\n",
       "  s.src = url;\n",
       "  s.async = true;\n",
       "  s.onreadystatechange = s.onload = callback;\n",
       "  s.onerror = function(){console.warn(\"failed to load library \" + url);};\n",
       "  document.getElementsByTagName(\"head\")[0].appendChild(s);\n",
       "}\n",
       "\n",
       "if(typeof(LDAvis) !== \"undefined\"){\n",
       "   // already loaded: just create the visualization\n",
       "   !function(LDAvis){\n",
       "       new LDAvis(\"#\" + \"ldavis_el77891131509861842371392722\", ldavis_el77891131509861842371392722_data);\n",
       "   }(LDAvis);\n",
       "}else if(typeof define === \"function\" && define.amd){\n",
       "   // require.js is available: use it to load d3/LDAvis\n",
       "   require.config({paths: {d3: \"https://cdnjs.cloudflare.com/ajax/libs/d3/3.5.5/d3.min\"}});\n",
       "   require([\"d3\"], function(d3){\n",
       "      window.d3 = d3;\n",
       "      LDAvis_load_lib(\"https://cdn.rawgit.com/bmabey/pyLDAvis/files/ldavis.v1.0.0.js\", function(){\n",
       "        new LDAvis(\"#\" + \"ldavis_el77891131509861842371392722\", ldavis_el77891131509861842371392722_data);\n",
       "      });\n",
       "    });\n",
       "}else{\n",
       "    // require.js not available: dynamically load d3 & LDAvis\n",
       "    LDAvis_load_lib(\"https://cdnjs.cloudflare.com/ajax/libs/d3/3.5.5/d3.min.js\", function(){\n",
       "         LDAvis_load_lib(\"https://cdn.rawgit.com/bmabey/pyLDAvis/files/ldavis.v1.0.0.js\", function(){\n",
       "                 new LDAvis(\"#\" + \"ldavis_el77891131509861842371392722\", ldavis_el77891131509861842371392722_data);\n",
       "            })\n",
       "         });\n",
       "}\n",
       "</script>"
      ],
      "text/plain": [
       "<IPython.core.display.HTML object>"
      ]
     },
     "execution_count": 11,
     "metadata": {},
     "output_type": "execute_result"
    }
   ],
   "source": [
    "#if you see the circles are overlaping, run the codes below several times untill you get a perfect, unoverlapping map to present.\n",
    "#if you can't see the map, type in this command below in jupiter environment terminal:\n",
    "# pip install jupyter_contrib_nbextensions && jupyter contrib nbextension install --user\n",
    "\n",
    "dictionary = gensim.corpora.Dictionary.load('dictionary.gensim')\n",
    "corpus = pickle.load(open('corpus.pkl', 'rb'))\n",
    "lda = gensim.models.ldamodel.LdaModel.load('model.gensim')\n",
    "import pyLDAvis.gensim \n",
    "lda_display = pyLDAvis.gensim.prepare(lda, corpus, dictionary, sort_topics=False)\n",
    "pyLDAvis.display(lda_display) "
   ]
  },
  {
   "cell_type": "markdown",
   "metadata": {},
   "source": [
    "<div class=\"alert alert-block alert-warning\">From the intertopic distance map above, we could see the model separated the disbursement items quite well.\n",
    "<br> The classification above has less overlaping now than the classification in the original dataset.\n",
    "<br> But we need to notice that if we run the codes several times, each time we get different clustering results.\n",
    "<br> To make the classification more accurate for further prediction research and analysis, I will bring in the rule-based classification method to tag all the items."
   ]
  },
  {
   "cell_type": "markdown",
   "metadata": {},
   "source": [
    "# <div class=\"alert alert-block alert-danger\">Even though the model above could give us a rough idea of the  expense purposes (dis_pur_des) text group, the outcome is unstable and not accurate enought. <br><br>I read some blogs about how to decide number of groups in the gensim. Turns out that even there are quatitative method to test the rationality, many people are still manually setting up a random group number. <br><br>Of course it's a less rigorous approach, but I believe going too far on the Gensim for this project at the moment is not a very wise strategy. <br><br>So a rule-based classification method came into my mind, we could use code to tag all dis_pur_des rows. But to give a correct tag to each row based on it's meanning and significance is not an easy task for a rookie like me. <br><br>I wrote a long paragraph of codes to do the tagging, deleted really messy entries(several purpose for one sum of money), ambiguous records(no one knows what the record means...), and some long-tail records with occurance under 10 and amount under 100k. <br><br>Finally I got a clean data set of more than 800k rows for machine learning.<br><br> However, I got to admit that this is not an ideal approach to do the tagging. Could you please give me some advice on how to do the work in a smarter way? Thank you very much!"
   ]
  },
  {
   "cell_type": "markdown",
   "metadata": {},
   "source": [
    "# <div class=\"alert alert-block alert-info\"> Rule-Based Topic Classification"
   ]
  },
  {
   "cell_type": "markdown",
   "metadata": {},
   "source": [
    "### Based on my personal understanding of the dataset and political campaign activites, I want to categorize the disbursement items by the following elements to reveal the actions taken by the candidates and campaign teams. I want to find out which elements contribute more to winning the election.\n",
    "### **\"People Business\"**\n",
    "**Networking**:  the effort to find supporters; \n",
    "<br>**Paycheck**:  how much they pay their staff;\n",
    "<br>**Eat**:  as in a bestseller book title, \"don't eat alone\"- does dinning together matter? \n",
    "<br>**Brain**: how much think tank(consultants, researchers, data analysts, polling analysts) matters?   \n",
    "\n",
    "###  **\"Service and Expense\"**\n",
    "**Advertising**: this might be the largest expense during a campaign, can we dig deeper into different types of ads? media/digita/...    \n",
    "**Operation cost**: the daily cost of running a campaign team;\n",
    "<br>**Travel**:  how much visits matters? \n",
    "    \n",
    "###  **\"Capital Game\"** \n",
    "**Finance**: this reveals all the financial resources candidates leveraged  "
   ]
  },
  {
   "cell_type": "markdown",
   "metadata": {},
   "source": [
    "## <li>Tag rows based on keywords"
   ]
  },
  {
   "cell_type": "code",
   "execution_count": 12,
   "metadata": {
    "scrolled": true
   },
   "outputs": [],
   "source": [
    "df_2018_main['networking']=df_2018_main.dis_purpose.str.contains\\\n",
    "                    ('event|catering|gift|gifts|donation|contribution|canvassing|petition|ticket|tickets|sponsorship|membership|vote')*1\n",
    "df_2018_main['paycheck']=df_2018_main.dis_purpose.str.contains\\\n",
    "                    ('payroll|payrolls|salary|salaries|wage|wages|intern|per diem|stipend|staff|worker|manager|analyst|fundraiser|\\\n",
    "                    |labor|representative')*1\n",
    "df_2018_main['eat']=df_2018_main.dis_purpose.str.contains\\\n",
    "                    ('food|beverage|drink|drinks|dinner|breakfast|meal|meals|lunch|refreshment')*1\n",
    "df_2018_main['brain']=df_2018_main.dis_purpose.str.contains\\\n",
    "                    ('polling|poll|survey|consultant|consulting|consult|research|data|legal services|compliance services|\\\n",
    "                    |campaign management|strategy')*1\n",
    "#cannot believe they pay 336 millions for these shits.\n",
    "df_2018_main['advertising']=df_2018_main.dis_purpose.str.contains\\\n",
    "                    ('media|advertising|ad|advertisement|ads|online|digital|facebook|face book|direct mail|sign|signs|marketing|\\\n",
    "                    |video production|photography|internet advertising')*1\n",
    "df_2018_main['operationcost']=df_2018_main.dis_purpose.str.contains\\\n",
    "                    ('office|telephone|phone|cellphone|call|calls|rent|rental|printing|print|\\\n",
    "                    |shipping|postage|software|fee|fees|t-shirt|t-shirts|supplies|credit card processing fee|credit card processing fees|\\\n",
    "                    |stickers|design|brochures|flowers|expense|expenses|utilities|subscription|bank charge|internet service|\\\n",
    "                    |email service|delivery|storage|website|internet|web|materials|tax|telecommunication|service charge|stamps|\\\n",
    "                    |cc processing|bank charges|mailing|email hosting|computer|wireless|telecom|security|equipment|processing|\\\n",
    "                    |credit card processing fee|credit card fee|insurance|accounting services|accounting')*1\n",
    "df_2018_main['travel']=df_2018_main.dis_purpose.str.contains\\\n",
    "                    ('travel|hotel|airfare|gas|gasoline|fuel|car|transportation|cab|taxi|parking|mileage|lodging|ride|train|toll')*1\n",
    "df_2018_main['finance']=df_2018_main.dis_purpose.str.contains\\\n",
    "                    ('fundraising|fundraiser|loan|debt|repayment|repay|transfer|transfers')*1                 \n",
    "df_2018_main['sum']=df_2018_main.networking+df_2018_main.paycheck+df_2018_main.eat+df_2018_main.brain\\\n",
    "                    +df_2018_main.advertising+df_2018_main.operationcost+df_2018_main.travel+df_2018_main.finance"
   ]
  },
  {
   "cell_type": "code",
   "execution_count": 13,
   "metadata": {
    "scrolled": false
   },
   "outputs": [
    {
     "data": {
      "text/plain": [
       "1    703639\n",
       "2    208284\n",
       "0     45194\n",
       "3     14546\n",
       "4      1380\n",
       "5       104\n",
       "6        11\n",
       "Name: sum, dtype: int64"
      ]
     },
     "execution_count": 13,
     "metadata": {},
     "output_type": "execute_result"
    }
   ],
   "source": [
    "df_2018_main['sum'].value_counts()"
   ]
  },
  {
   "cell_type": "markdown",
   "metadata": {},
   "source": [
    "## <li>Make adjustments to make sure each row only have one tag"
   ]
  },
  {
   "cell_type": "code",
   "execution_count": 14,
   "metadata": {
    "scrolled": false
   },
   "outputs": [
    {
     "data": {
      "text/html": [
       "<div>\n",
       "<style scoped>\n",
       "    .dataframe tbody tr th:only-of-type {\n",
       "        vertical-align: middle;\n",
       "    }\n",
       "\n",
       "    .dataframe tbody tr th {\n",
       "        vertical-align: top;\n",
       "    }\n",
       "\n",
       "    .dataframe thead th {\n",
       "        text-align: right;\n",
       "    }\n",
       "</style>\n",
       "<table border=\"1\" class=\"dataframe\">\n",
       "  <thead>\n",
       "    <tr style=\"text-align: right;\">\n",
       "      <th></th>\n",
       "      <th>count</th>\n",
       "      <th>$amount</th>\n",
       "    </tr>\n",
       "    <tr>\n",
       "      <th>dis_purpose</th>\n",
       "      <th></th>\n",
       "      <th></th>\n",
       "    </tr>\n",
       "  </thead>\n",
       "  <tbody>\n",
       "    <tr>\n",
       "      <th>reimbursement (vendors that aggregate over $200 listed below)</th>\n",
       "      <td>800</td>\n",
       "      <td>6.8e+05</td>\n",
       "    </tr>\n",
       "    <tr>\n",
       "      <th>see below</th>\n",
       "      <td>690</td>\n",
       "      <td>5.1e+06</td>\n",
       "    </tr>\n",
       "    <tr>\n",
       "      <th>reimbursement(vendors that aggregate over $200 listed below)</th>\n",
       "      <td>506</td>\n",
       "      <td>3.9e+05</td>\n",
       "    </tr>\n",
       "    <tr>\n",
       "      <th>reimbursement - see below if itemized</th>\n",
       "      <td>398</td>\n",
       "      <td>2.6e+05</td>\n",
       "    </tr>\n",
       "    <tr>\n",
       "      <th>dues</th>\n",
       "      <td>386</td>\n",
       "      <td>2.4e+06</td>\n",
       "    </tr>\n",
       "  </tbody>\n",
       "</table>\n",
       "</div>"
      ],
      "text/plain": [
       "                                                    count  $amount\n",
       "dis_purpose                                                       \n",
       "reimbursement (vendors that aggregate over $200...    800  6.8e+05\n",
       "see below                                             690  5.1e+06\n",
       "reimbursement(vendors that aggregate over $200 ...    506  3.9e+05\n",
       "reimbursement - see below if itemized                 398  2.6e+05\n",
       "dues                                                  386  2.4e+06"
      ]
     },
     "execution_count": 14,
     "metadata": {},
     "output_type": "execute_result"
    },
    {
     "data": {
      "text/html": [
       "<div>\n",
       "<style scoped>\n",
       "    .dataframe tbody tr th:only-of-type {\n",
       "        vertical-align: middle;\n",
       "    }\n",
       "\n",
       "    .dataframe tbody tr th {\n",
       "        vertical-align: top;\n",
       "    }\n",
       "\n",
       "    .dataframe thead th {\n",
       "        text-align: right;\n",
       "    }\n",
       "</style>\n",
       "<table border=\"1\" class=\"dataframe\">\n",
       "  <thead>\n",
       "    <tr style=\"text-align: right;\">\n",
       "      <th></th>\n",
       "      <th>count</th>\n",
       "      <th>$amount</th>\n",
       "    </tr>\n",
       "    <tr>\n",
       "      <th>dis_purpose</th>\n",
       "      <th></th>\n",
       "      <th></th>\n",
       "    </tr>\n",
       "  </thead>\n",
       "  <tbody>\n",
       "    <tr>\n",
       "      <th>fundraiser catering expense</th>\n",
       "      <td>254</td>\n",
       "      <td>194184.3</td>\n",
       "    </tr>\n",
       "    <tr>\n",
       "      <th>fundraiser event meals</th>\n",
       "      <td>82</td>\n",
       "      <td>80220.4</td>\n",
       "    </tr>\n",
       "    <tr>\n",
       "      <th>fundraising event exp-signage, printing</th>\n",
       "      <td>68</td>\n",
       "      <td>70707.3</td>\n",
       "    </tr>\n",
       "    <tr>\n",
       "      <th>fundraising event expense - food &amp; beverage</th>\n",
       "      <td>63</td>\n",
       "      <td>103573.7</td>\n",
       "    </tr>\n",
       "    <tr>\n",
       "      <th>fundraiser meal expense</th>\n",
       "      <td>51</td>\n",
       "      <td>66435.6</td>\n",
       "    </tr>\n",
       "  </tbody>\n",
       "</table>\n",
       "</div>"
      ],
      "text/plain": [
       "                                             count   $amount\n",
       "dis_purpose                                                 \n",
       "fundraiser catering expense                    254  194184.3\n",
       "fundraiser event meals                          82   80220.4\n",
       "fundraising event exp-signage, printing         68   70707.3\n",
       "fundraising event expense - food & beverage     63  103573.7\n",
       "fundraiser meal expense                         51   66435.6"
      ]
     },
     "execution_count": 14,
     "metadata": {},
     "output_type": "execute_result"
    },
    {
     "data": {
      "text/html": [
       "<div>\n",
       "<style scoped>\n",
       "    .dataframe tbody tr th:only-of-type {\n",
       "        vertical-align: middle;\n",
       "    }\n",
       "\n",
       "    .dataframe tbody tr th {\n",
       "        vertical-align: top;\n",
       "    }\n",
       "\n",
       "    .dataframe thead th {\n",
       "        text-align: right;\n",
       "    }\n",
       "</style>\n",
       "<table border=\"1\" class=\"dataframe\">\n",
       "  <thead>\n",
       "    <tr style=\"text-align: right;\">\n",
       "      <th></th>\n",
       "      <th>count</th>\n",
       "      <th>$amount</th>\n",
       "    </tr>\n",
       "    <tr>\n",
       "      <th>dis_purpose</th>\n",
       "      <th></th>\n",
       "      <th></th>\n",
       "    </tr>\n",
       "  </thead>\n",
       "  <tbody>\n",
       "    <tr>\n",
       "      <th>fundraising expenses, travel, catering &amp; meals</th>\n",
       "      <td>5</td>\n",
       "      <td>45309.4</td>\n",
       "    </tr>\n",
       "    <tr>\n",
       "      <th>chase card: fundraiser event - food and beverage</th>\n",
       "      <td>4</td>\n",
       "      <td>2242.8</td>\n",
       "    </tr>\n",
       "    <tr>\n",
       "      <th>fundraising consulting/catering/facility rental/travel</th>\n",
       "      <td>4</td>\n",
       "      <td>45491.1</td>\n",
       "    </tr>\n",
       "    <tr>\n",
       "      <th>fundraising consulting catering shipping transportation</th>\n",
       "      <td>3</td>\n",
       "      <td>31900.7</td>\n",
       "    </tr>\n",
       "    <tr>\n",
       "      <th>fundraising consulting/event catering/travel/shipping</th>\n",
       "      <td>3</td>\n",
       "      <td>44644.4</td>\n",
       "    </tr>\n",
       "  </tbody>\n",
       "</table>\n",
       "</div>"
      ],
      "text/plain": [
       "                                                    count  $amount\n",
       "dis_purpose                                                       \n",
       "fundraising expenses, travel, catering & meals          5  45309.4\n",
       "chase card: fundraiser event - food and beverage        4   2242.8\n",
       "fundraising consulting/catering/facility rental...      4  45491.1\n",
       "fundraising consulting catering shipping transp...      3  31900.7\n",
       "fundraising consulting/event catering/travel/sh...      3  44644.4"
      ]
     },
     "execution_count": 14,
     "metadata": {},
     "output_type": "execute_result"
    },
    {
     "data": {
      "text/html": [
       "<div>\n",
       "<style scoped>\n",
       "    .dataframe tbody tr th:only-of-type {\n",
       "        vertical-align: middle;\n",
       "    }\n",
       "\n",
       "    .dataframe tbody tr th {\n",
       "        vertical-align: top;\n",
       "    }\n",
       "\n",
       "    .dataframe thead th {\n",
       "        text-align: right;\n",
       "    }\n",
       "</style>\n",
       "<table border=\"1\" class=\"dataframe\">\n",
       "  <thead>\n",
       "    <tr style=\"text-align: right;\">\n",
       "      <th></th>\n",
       "      <th>count</th>\n",
       "      <th>$amount</th>\n",
       "    </tr>\n",
       "    <tr>\n",
       "      <th>dis_purpose</th>\n",
       "      <th></th>\n",
       "      <th></th>\n",
       "    </tr>\n",
       "  </thead>\n",
       "  <tbody>\n",
       "    <tr>\n",
       "      <th>fundraising consulting/catering/facility rental/travel/office supplies/delivery service/food/beverag</th>\n",
       "      <td>2</td>\n",
       "      <td>56448.5</td>\n",
       "    </tr>\n",
       "    <tr>\n",
       "      <th>airfare, data service, meals with constituents, payroll software, online software and maintenance</th>\n",
       "      <td>1</td>\n",
       "      <td>4045.1</td>\n",
       "    </tr>\n",
       "    <tr>\n",
       "      <th>fundraising consulting / catering / food/beverage / travel / postage</th>\n",
       "      <td>1</td>\n",
       "      <td>23926.2</td>\n",
       "    </tr>\n",
       "    <tr>\n",
       "      <th>fundraising consulting food/beverage shipping transportation event gift</th>\n",
       "      <td>1</td>\n",
       "      <td>23940.6</td>\n",
       "    </tr>\n",
       "    <tr>\n",
       "      <th>fundraising consulting, event meal, postage &amp; travel reimbursements</th>\n",
       "      <td>1</td>\n",
       "      <td>9878.7</td>\n",
       "    </tr>\n",
       "  </tbody>\n",
       "</table>\n",
       "</div>"
      ],
      "text/plain": [
       "                                                    count  $amount\n",
       "dis_purpose                                                       \n",
       "fundraising consulting/catering/facility rental...      2  56448.5\n",
       "airfare, data service, meals with constituents,...      1   4045.1\n",
       "fundraising consulting / catering / food/bevera...      1  23926.2\n",
       "fundraising consulting food/beverage shipping t...      1  23940.6\n",
       "fundraising consulting, event meal, postage & t...      1   9878.7"
      ]
     },
     "execution_count": 14,
     "metadata": {},
     "output_type": "execute_result"
    }
   ],
   "source": [
    "# sum-0 type: add more key words to the tagging codes above (already added)\n",
    "df_2018_main_0 = df_2018_main[df_2018_main['sum'] == 0]\n",
    "df_2018_main_0.groupby('dis_purpose').agg({'dis_purpose':'count','dis_amo':'sum'}).\\\n",
    "     rename(columns={'dis_purpose':'count','dis_amo':'$amount'}).sort_values(by=['count'],ascending=False).head()\n",
    "\n",
    "# sum-4/5/6 type: delete them, they put two many disbursement categories under one items, we cannot allocate the $amount to specific uses\n",
    "df_2018_main_4 = df_2018_main[df_2018_main['sum'] == 4]\n",
    "df_2018_main_4.groupby('dis_purpose').agg({'dis_purpose':'count','dis_amo':'sum'}).\\\n",
    "     rename(columns={'dis_purpose':'count','dis_amo':'$amount'}).sort_values(by=['count'],ascending=False).head()\n",
    "\n",
    "df_2018_main_5 = df_2018_main[df_2018_main['sum'] == 5]\n",
    "df_2018_main_5.groupby('dis_purpose').agg({'dis_purpose':'count','dis_amo':'sum'}).\\\n",
    "     rename(columns={'dis_purpose':'count','dis_amo':'$amount'}).sort_values(by=['count'],ascending=False).head()\n",
    "\n",
    "df_2018_main_6 = df_2018_main[df_2018_main['sum'] == 6]\n",
    "df_2018_main_6.groupby('dis_purpose').agg({'dis_purpose':'count','dis_amo':'sum'}).\\\n",
    "     rename(columns={'dis_purpose':'count','dis_amo':'$amount'}).sort_values(by=['count'],ascending=False).head()"
   ]
  },
  {
   "cell_type": "code",
   "execution_count": 15,
   "metadata": {
    "scrolled": true
   },
   "outputs": [],
   "source": [
    "throwout0 = list(df_2018_main_0.dis_purpose)\n",
    "wholedata0 = list(df_2018_main.dis_purpose)\n",
    "rest0 = list(set(wholedata0)^set(throwout0))\n",
    "df_2018_main = df_2018_main[df_2018_main.dis_purpose.isin(rest0)]\n",
    "\n",
    "throwout4 = list(df_2018_main_4.dis_purpose)\n",
    "wholedata4 = list(df_2018_main.dis_purpose)\n",
    "rest4 = list(set(wholedata4)^set(throwout4))\n",
    "df_2018_main = df_2018_main[df_2018_main.dis_purpose.isin(rest4)]\n",
    "\n",
    "throwout5 = list(df_2018_main_5.dis_purpose)\n",
    "wholedata5 = list(df_2018_main.dis_purpose)\n",
    "rest5 = list(set(wholedata5)^set(throwout5))\n",
    "df_2018_main = df_2018_main[df_2018_main.dis_purpose.isin(rest5)]\n",
    "\n",
    "throwout6 = list(df_2018_main_6.dis_purpose)\n",
    "wholedata6 = list(df_2018_main.dis_purpose)\n",
    "rest6 = list(set(wholedata6)^set(throwout6))\n",
    "df_2018_main = df_2018_main[df_2018_main.dis_purpose.isin(rest6)]"
   ]
  },
  {
   "cell_type": "code",
   "execution_count": 16,
   "metadata": {
    "scrolled": true
   },
   "outputs": [
    {
     "data": {
      "text/html": [
       "<div>\n",
       "<style scoped>\n",
       "    .dataframe tbody tr th:only-of-type {\n",
       "        vertical-align: middle;\n",
       "    }\n",
       "\n",
       "    .dataframe tbody tr th {\n",
       "        vertical-align: top;\n",
       "    }\n",
       "\n",
       "    .dataframe thead th {\n",
       "        text-align: right;\n",
       "    }\n",
       "</style>\n",
       "<table border=\"1\" class=\"dataframe\">\n",
       "  <thead>\n",
       "    <tr style=\"text-align: right;\">\n",
       "      <th></th>\n",
       "      <th>count</th>\n",
       "      <th>$amount</th>\n",
       "    </tr>\n",
       "    <tr>\n",
       "      <th>sum</th>\n",
       "      <th></th>\n",
       "      <th></th>\n",
       "    </tr>\n",
       "  </thead>\n",
       "  <tbody>\n",
       "    <tr>\n",
       "      <th>1</th>\n",
       "      <td>703639</td>\n",
       "      <td>2.2e+09</td>\n",
       "    </tr>\n",
       "    <tr>\n",
       "      <th>2</th>\n",
       "      <td>208284</td>\n",
       "      <td>4.4e+08</td>\n",
       "    </tr>\n",
       "    <tr>\n",
       "      <th>3</th>\n",
       "      <td>14546</td>\n",
       "      <td>5.3e+07</td>\n",
       "    </tr>\n",
       "  </tbody>\n",
       "</table>\n",
       "</div>"
      ],
      "text/plain": [
       "      count  $amount\n",
       "sum                 \n",
       "1    703639  2.2e+09\n",
       "2    208284  4.4e+08\n",
       "3     14546  5.3e+07"
      ]
     },
     "execution_count": 16,
     "metadata": {},
     "output_type": "execute_result"
    }
   ],
   "source": [
    "df_2018_main.groupby('sum').agg({'sum':'count','dis_amo':'sum'}).\\\n",
    "     rename(columns={'sum':'count','dis_amo':'$amount'}).sort_values(by=['count'],ascending=False)"
   ]
  },
  {
   "cell_type": "code",
   "execution_count": 17,
   "metadata": {
    "scrolled": false
   },
   "outputs": [],
   "source": [
    "# sum-3 type: manually retag the significant part and \n",
    "# delete the items with more than one purposes/insignificant $amount(less than 100k)/occurrance (less than 10)\n",
    "\n",
    "df_2018_main.loc[df_2018_main['dis_purpose'] == 'internet marketing', 'paycheck'] = 0\n",
    "df_2018_main.loc[df_2018_main['dis_purpose'] == 'internet marketing', 'operationcost'] = 0\n",
    "df_2018_main.loc[df_2018_main['dis_purpose'] == 'internet ads', 'paycheck'] = 0\n",
    "df_2018_main.loc[df_2018_main['dis_purpose'] == 'internet ads', 'operationcost'] = 0\n",
    "\n",
    "df_2018_main.loc[df_2018_main.dis_purpose.str.contains('internet advertising and services'), 'paycheck'] = 0\n",
    "df_2018_main.loc[df_2018_main.dis_purpose.str.contains('internet advertising and services'), 'operationcost'] = 0\n",
    "\n",
    "df_2018_main.loc[df_2018_main.dis_purpose.str.contains('consult'), 'networking'] = 0\n",
    "df_2018_main.loc[df_2018_main.dis_purpose.str.contains('consult'), 'paycheck'] = 0\n",
    "df_2018_main.loc[df_2018_main.dis_purpose.str.contains('consult'), 'eat'] = 0\n",
    "df_2018_main.loc[df_2018_main.dis_purpose.str.contains('consult'), 'finance'] = 0\n",
    "df_2018_main.loc[df_2018_main.dis_purpose.str.contains('consult'), 'advertising'] = 0\n",
    "df_2018_main.loc[df_2018_main.dis_purpose.str.contains('consult'), 'operationcost'] = 0\n",
    "df_2018_main.loc[df_2018_main.dis_purpose.str.contains('consult'), 'travel'] = 0\n",
    "\n",
    "df_2018_main.loc[df_2018_main.dis_purpose.str.contains('fundrais'), 'networking'] = 0\n",
    "df_2018_main.loc[df_2018_main.dis_purpose.str.contains('fundrais'), 'paycheck'] = 0\n",
    "df_2018_main.loc[df_2018_main.dis_purpose.str.contains('fundrais'), 'eat'] = 0\n",
    "df_2018_main.loc[df_2018_main.dis_purpose.str.contains('fundrais'), 'brain'] = 0\n",
    "df_2018_main.loc[df_2018_main.dis_purpose.str.contains('fundrais'), 'advertising'] = 0\n",
    "df_2018_main.loc[df_2018_main.dis_purpose.str.contains('fundrais'), 'operationcost'] = 0\n",
    "df_2018_main.loc[df_2018_main.dis_purpose.str.contains('fundrais'), 'travel'] = 0\n",
    "\n",
    "df_2018_main.loc[df_2018_main.dis_purpose.str.contains('processing'), 'networking'] = 0\n",
    "df_2018_main.loc[df_2018_main.dis_purpose.str.contains('processing'), 'paycheck'] = 0\n",
    "df_2018_main.loc[df_2018_main.dis_purpose.str.contains('processing'), 'eat'] = 0\n",
    "df_2018_main.loc[df_2018_main.dis_purpose.str.contains('processing'), 'brain'] = 0\n",
    "df_2018_main.loc[df_2018_main.dis_purpose.str.contains('processing'), 'advertising'] = 0\n",
    "df_2018_main.loc[df_2018_main.dis_purpose.str.contains('processing'), 'finance'] = 0\n",
    "df_2018_main.loc[df_2018_main.dis_purpose.str.contains('processing'), 'travel'] = 0\n",
    "\n",
    "df_2018_main.loc[df_2018_main.dis_purpose.str.contains('advertis'), 'networking'] = 0\n",
    "df_2018_main.loc[df_2018_main.dis_purpose.str.contains('advertis'), 'paycheck'] = 0\n",
    "df_2018_main.loc[df_2018_main.dis_purpose.str.contains('advertis'), 'eat'] = 0\n",
    "df_2018_main.loc[df_2018_main.dis_purpose.str.contains('advertis'), 'brain'] = 0\n",
    "df_2018_main.loc[df_2018_main.dis_purpose.str.contains('advertis'), 'operationcost'] = 0\n",
    "df_2018_main.loc[df_2018_main.dis_purpose.str.contains('advertis'), 'finance'] = 0\n",
    "df_2018_main.loc[df_2018_main.dis_purpose.str.contains('advertis'), 'travel'] = 0\n",
    "\n",
    "df_2018_main.loc[df_2018_main.dis_purpose.str.contains('internet consulting'), 'paycheck'] = 0\n",
    "df_2018_main.loc[df_2018_main.dis_purpose.str.contains('internet consulting'), 'brain'] = 0\n",
    "\n",
    "df_2018_main.loc[df_2018_main.dis_purpose.str.contains('per diem petition carrier'), 'paycheck'] = 0\n",
    "df_2018_main.loc[df_2018_main.dis_purpose.str.contains('per diem petition carrier'), 'travel'] = 0\n",
    "\n",
    "df_2018_main.loc[df_2018_main.dis_purpose.str.contains('administrative/salary/overhead expenses'), 'paycheck'] = 0\n",
    "df_2018_main.loc[df_2018_main.dis_purpose.str.contains('administrative/salary/overhead expenses'), 'advertising'] = 0\n",
    "\n",
    "df_2018_main.loc[df_2018_main.dis_purpose.str.contains('online contribution fees'), 'networking'] = 0\n",
    "df_2018_main.loc[df_2018_main.dis_purpose.str.contains('online contribution fees'), 'advertising'] = 0\n",
    "\n",
    "df_2018_main.loc[df_2018_main.dis_purpose.str.contains('digital consulting/web service'), 'brain'] = 0\n",
    "df_2018_main.loc[df_2018_main.dis_purpose.str.contains('digital consulting/web service'), 'advertising'] = 0\n",
    "\n",
    "df_2018_main.loc[df_2018_main.dis_purpose.str.contains('food for fundraiser'), 'paycheck'] = 0 ##\n",
    "\n",
    "df_2018_main.loc[df_2018_main.dis_purpose.str.contains('food & beverage'), 'networking'] = 0 ##\n",
    "df_2018_main.loc[df_2018_main.dis_purpose.str.contains('food & beverage'), 'operationcost'] = 0\n",
    "\n",
    "df_2018_main.loc[df_2018_main.dis_purpose.str.contains('event meal expense'), 'networking'] = 0\n",
    "df_2018_main.loc[df_2018_main.dis_purpose.str.contains('event meal expense'), 'operationcost'] = 0\n",
    "\n",
    "df_2018_main.loc[df_2018_main.dis_purpose.str.contains('cable/internet'), 'paycheck'] = 0\n",
    "df_2018_main.loc[df_2018_main.dis_purpose.str.contains('cable/internet'), 'travel'] = 0\n",
    "df_2018_main.loc[df_2018_main.dis_purpose.str.contains('internet/cable'), 'paycheck'] = 0\n",
    "df_2018_main.loc[df_2018_main.dis_purpose.str.contains('internet/cable'), 'travel'] = 0\n",
    "\n",
    "df_2018_main.loc[df_2018_main.dis_purpose.str.contains('online /credit card payment fees'), 'travel'] = 0\n",
    "df_2018_main.loc[df_2018_main.dis_purpose.str.contains('online /credit card payment fees'), 'advertising'] = 0\n",
    "\n",
    "df_2018_main.loc[df_2018_main.dis_purpose.str.contains('payroll administration fees'), 'operationcost'] = 0\n",
    "df_2018_main.loc[df_2018_main.dis_purpose.str.contains('payroll administration fees'), 'advertising'] = 0\n",
    "\n",
    "df_2018_main.loc[df_2018_main.dis_purpose.str.contains('salary/fee - administrative support'), 'operationcost'] = 0\n",
    "df_2018_main.loc[df_2018_main.dis_purpose.str.contains('salary/fee - administrative support'), 'advertising'] = 0\n",
    "\n",
    "df_2018_main.loc[df_2018_main.dis_purpose.str.contains('staff expenses: campaign management'), 'operationcost'] = 0\n",
    "df_2018_main.loc[df_2018_main.dis_purpose.str.contains('staff expenses: campaign management'), 'paycheck'] = 0\n",
    "\n",
    "df_2018_main.loc[df_2018_main.dis_purpose.str.contains('travel expenses - airline tickets'), 'networking'] = 0\n",
    "df_2018_main.loc[df_2018_main.dis_purpose.str.contains('travel expenses - airline tickets'), 'operationcost'] = 0\n",
    "\n",
    "df_2018_main.loc[df_2018_main.dis_purpose.str.contains('voter database software'), 'networking'] = 0\n",
    "df_2018_main.loc[df_2018_main.dis_purpose.str.contains('voter database software'), 'brain'] = 0\n",
    "\n",
    "df_2018_main['sum']=df_2018_main.networking+df_2018_main.paycheck+df_2018_main.eat+df_2018_main.brain\\\n",
    "                    +df_2018_main.advertising+df_2018_main.operationcost+df_2018_main.travel+df_2018_main.finance"
   ]
  },
  {
   "cell_type": "code",
   "execution_count": 18,
   "metadata": {
    "scrolled": true
   },
   "outputs": [
    {
     "data": {
      "text/html": [
       "<div>\n",
       "<style scoped>\n",
       "    .dataframe tbody tr th:only-of-type {\n",
       "        vertical-align: middle;\n",
       "    }\n",
       "\n",
       "    .dataframe tbody tr th {\n",
       "        vertical-align: top;\n",
       "    }\n",
       "\n",
       "    .dataframe thead th {\n",
       "        text-align: right;\n",
       "    }\n",
       "</style>\n",
       "<table border=\"1\" class=\"dataframe\">\n",
       "  <thead>\n",
       "    <tr style=\"text-align: right;\">\n",
       "      <th></th>\n",
       "      <th>count</th>\n",
       "      <th>$amount</th>\n",
       "    </tr>\n",
       "    <tr>\n",
       "      <th>dis_purpose</th>\n",
       "      <th></th>\n",
       "      <th></th>\n",
       "    </tr>\n",
       "  </thead>\n",
       "  <tbody>\n",
       "  </tbody>\n",
       "</table>\n",
       "</div>"
      ],
      "text/plain": [
       "Empty DataFrame\n",
       "Columns: [count, $amount]\n",
       "Index: []"
      ]
     },
     "execution_count": 18,
     "metadata": {},
     "output_type": "execute_result"
    }
   ],
   "source": [
    "df_2018_main_3 = df_2018_main[df_2018_main['sum'] == 3]\n",
    "df_2018_main_3_filter=df_2018_main_3.groupby('dis_purpose').agg({'dis_purpose':'count','dis_amo':'sum'}).\\\n",
    "     rename(columns={'dis_purpose':'count','dis_amo':'$amount'})\n",
    "df_2018_main_3_filter[(df_2018_main_3_filter['$amount']>100000)&(df_2018_main_3_filter['count']>10)]"
   ]
  },
  {
   "cell_type": "code",
   "execution_count": 19,
   "metadata": {
    "scrolled": true
   },
   "outputs": [],
   "source": [
    "throwout3 = list(df_2018_main_3.dis_purpose)\n",
    "wholedata3 = list(df_2018_main.dis_purpose)\n",
    "rest3 = list(set(wholedata3)^set(throwout3))\n",
    "df_2018_main = df_2018_main[df_2018_main.dis_purpose.isin(rest3)]"
   ]
  },
  {
   "cell_type": "code",
   "execution_count": 20,
   "metadata": {
    "scrolled": true
   },
   "outputs": [
    {
     "data": {
      "text/plain": [
       "923417"
      ]
     },
     "execution_count": 20,
     "metadata": {},
     "output_type": "execute_result"
    }
   ],
   "source": [
    "len(df_2018_main)"
   ]
  },
  {
   "cell_type": "code",
   "execution_count": 21,
   "metadata": {
    "scrolled": true
   },
   "outputs": [],
   "source": [
    "# sum-2 type: manually retag the significant part and \n",
    "# delete the items with more than one purposes/insignificant $amount(less than 100k)/occurrance (less than 10)\n",
    "\n",
    "df_2018_main.loc[df_2018_main.dis_purpose.str.contains('accounting'), 'advertising'] = 0\n",
    "df_2018_main.loc[df_2018_main.dis_purpose.str.contains('accounting'), 'brain'] = 0\n",
    "df_2018_main.loc[df_2018_main.dis_purpose.str.contains('accounting'), 'networking'] = 0\n",
    "df_2018_main.loc[df_2018_main.dis_purpose.str.contains('accounting'), 'paycheck'] = 0\n",
    "df_2018_main.loc[df_2018_main.dis_purpose.str.contains('accounting'), 'eat'] = 0\n",
    "df_2018_main.loc[df_2018_main.dis_purpose.str.contains('accounting'), 'finance'] = 0\n",
    "df_2018_main.loc[df_2018_main.dis_purpose.str.contains('accounting'), 'travel'] = 0\n",
    "df_2018_main.loc[df_2018_main.dis_purpose.str.contains('ad expense'), 'operationcost'] = 0\n",
    "df_2018_main.loc[df_2018_main.dis_purpose.str.contains('001 administrative/salary/overhead'), 'paycheck'] = 0\n",
    "df_2018_main.loc[df_2018_main.dis_purpose.str.contains('admin/office expense reimbursement'), 'advertising'] = 0\n",
    "df_2018_main.loc[df_2018_main.dis_purpose.str.contains('payroll'), 'operationcost'] = 0\n",
    "df_2018_main.loc[df_2018_main.dis_purpose.str.contains('credit card fee'), 'operationcost'] = 0\n",
    "df_2018_main.loc[df_2018_main.dis_purpose.str.contains('direct mail'), 'operationcost'] = 0\n",
    "df_2018_main.loc[df_2018_main.dis_purpose.str.contains('travel expense'), 'operationcost'] = 0\n",
    "df_2018_main.loc[df_2018_main.dis_purpose.str.contains('travel'), 'paycheck'] = 0\n",
    "df_2018_main.loc[df_2018_main.dis_purpose.str.contains('event'), 'operationcost'] = 0\n",
    "df_2018_main.loc[df_2018_main.dis_purpose.str.contains('event'), 'eat'] = 0\n",
    "df_2018_main.loc[df_2018_main.dis_purpose.str.contains('credit card merchant fee'), 'travel'] = 0\n",
    "df_2018_main.loc[df_2018_main.dis_purpose.str.contains('media expense'), 'operationcost'] = 0\n",
    "df_2018_main.loc[df_2018_main.dis_purpose.str.contains('polling expense'), 'operationcost'] = 0\n",
    "df_2018_main.loc[df_2018_main.dis_purpose.str.contains('printing & design services'), 'advertising'] = 0\n",
    "df_2018_main.loc[df_2018_main.dis_purpose.str.contains('cable tv ad'), 'travel'] = 0\n",
    "df_2018_main.loc[df_2018_main.dis_purpose.str.contains('catering/meals'), 'networking'] = 0\n",
    "df_2018_main.loc[df_2018_main.dis_purpose.str.contains('catering'), 'operationcost'] = 0\n",
    "df_2018_main.loc[df_2018_main.dis_purpose.str.contains('voter survey'), 'networking'] = 0\n",
    "df_2018_main.loc[df_2018_main.dis_purpose.str.contains('web ads'), 'operationcost'] = 0\n",
    "df_2018_main.loc[df_2018_main.dis_purpose.str.contains('web design'), 'advertising'] = 0\n",
    "df_2018_main.loc[df_2018_main.dis_purpose.str.contains('graphic design'), 'advertising'] = 0\n",
    "df_2018_main.loc[df_2018_main.dis_purpose.str.contains('design services'), 'advertising'] = 0\n",
    "df_2018_main.loc[df_2018_main.dis_purpose.str.contains('car rental'), 'operationcost'] = 0\n",
    "df_2018_main.loc[df_2018_main.dis_purpose.str.contains('rental car'), 'operationcost'] = 0\n",
    "df_2018_main.loc[df_2018_main.dis_purpose.str.contains('media production'), 'operationcost'] = 0\n",
    "df_2018_main.loc[df_2018_main.dis_purpose.str.contains('campaign management fee'), 'operationcost'] = 0\n",
    "df_2018_main.loc[df_2018_main.dis_purpose.str.contains('media strategy'), 'brain'] = 0\n",
    "df_2018_main.loc[df_2018_main.dis_purpose.str.contains('campaign marketing strategy services'), 'brain'] = 0\n",
    "df_2018_main.loc[df_2018_main.dis_purpose.str.contains('voter data'), 'networking'] = 0\n",
    "df_2018_main.loc[df_2018_main.dis_purpose.str.contains('print ad'), 'operationcost'] = 0\n",
    "df_2018_main.loc[df_2018_main.dis_purpose.str.contains('office - net salary'), 'operationcost'] = 0\n",
    "df_2018_main.loc[df_2018_main.dis_purpose.str.contains('contribution made'), 'advertising'] = 0\n",
    "df_2018_main.loc[df_2018_main.dis_purpose.str.contains('design & printing services'), 'advertising'] = 0\n",
    "df_2018_main.loc[df_2018_main.dis_purpose.str.contains('digital media fee'), 'operationcost'] = 0\n",
    "df_2018_main.loc[df_2018_main.dis_purpose.str.contains('internet service'), 'paycheck'] = 0\n",
    "df_2018_main.loc[df_2018_main.dis_purpose.str.contains('candidate and staff travel'), 'paycheck'] = 0\n",
    "df_2018_main.loc[df_2018_main.dis_purpose.str.contains('data subscription'), 'operationcost'] = 0\n",
    "df_2018_main.loc[df_2018_main.dis_purpose.str.contains('meal expense'), 'operationcost'] = 0\n",
    "df_2018_main.loc[df_2018_main.dis_purpose.str.contains('campaign food and beverage expense'), 'operationcost'] = 0\n",
    "df_2018_main.loc[df_2018_main.dis_purpose.str.contains('internet'), 'paycheck'] = 0\n",
    "df_2018_main.loc[df_2018_main.dis_purpose.str.contains('petition signature collection'), 'advertising'] = 0\n",
    "df_2018_main.loc[df_2018_main.dis_purpose.str.contains('website hosting - digital images'), 'advertising'] = 0\n",
    "df_2018_main.loc[df_2018_main.dis_purpose.str.contains('adp wage pay'), 'advertising'] = 0\n",
    "df_2018_main.loc[df_2018_main.dis_purpose.str.contains('database'), 'brain'] = 0\n",
    "df_2018_main.loc[df_2018_main.dis_purpose.str.contains('credit card debt'), 'travel'] = 0\n",
    "df_2018_main.loc[df_2018_main.dis_purpose.str.contains('workers compensation insurance'), 'operationcost'] = 0\n",
    "df_2018_main.loc[df_2018_main.dis_purpose.str.contains('lodging expense'), 'operationcost'] = 0\n",
    "df_2018_main.loc[df_2018_main.dis_purpose.str.contains('gross wages. payment made through idm payroll solutions, 1910 olympic blvd, suite 235, walnut creek,'), 'advertising'] = 0\n",
    "df_2018_main.loc[df_2018_main.dis_purpose.str.contains('office - net wages'), 'operationcost'] = 0\n",
    "df_2018_main.loc[df_2018_main.dis_purpose.str.contains('cartridges'), 'travel'] = 0\n",
    "df_2018_main.loc[df_2018_main.dis_purpose.str.contains('cartridges'), 'operationcost'] = 1\n",
    "df_2018_main.loc[df_2018_main.dis_purpose.str.contains('credit card payment'), 'travel'] = 0\n",
    "df_2018_main.loc[df_2018_main.dis_purpose.str.contains('credit card payment'), 'finance'] = 1\n",
    "df_2018_main.loc[df_2018_main.dis_purpose.str.contains('card print'), 'travel'] = 0\n",
    "df_2018_main.loc[df_2018_main.dis_purpose.str.contains('print card'), 'travel'] = 0\n",
    "df_2018_main.loc[df_2018_main.dis_purpose.str.contains('card print'), 'advertising'] = 0\n",
    "df_2018_main.loc[df_2018_main.dis_purpose.str.contains('website design'), 'advertising'] = 0\n",
    "df_2018_main.loc[df_2018_main.dis_purpose.str.contains('salary'), 'operationcost'] = 0\n",
    "df_2018_main.loc[df_2018_main.dis_purpose.str.contains('web service/media'), 'operationcost'] = 0\n",
    "df_2018_main.loc[df_2018_main.dis_purpose.str.contains('collateral materials- signs'), 'operationcost'] = 0\n",
    "df_2018_main.loc[df_2018_main.dis_purpose.str.contains('staff lodging'), 'paycheck'] = 0\n",
    "df_2018_main['sum']=df_2018_main.networking+df_2018_main.paycheck+df_2018_main.eat+df_2018_main.brain\\\n",
    "                    +df_2018_main.advertising+df_2018_main.operationcost+df_2018_main.travel+df_2018_main.finance"
   ]
  },
  {
   "cell_type": "code",
   "execution_count": 22,
   "metadata": {
    "scrolled": true
   },
   "outputs": [
    {
     "data": {
      "text/html": [
       "<div>\n",
       "<style scoped>\n",
       "    .dataframe tbody tr th:only-of-type {\n",
       "        vertical-align: middle;\n",
       "    }\n",
       "\n",
       "    .dataframe tbody tr th {\n",
       "        vertical-align: top;\n",
       "    }\n",
       "\n",
       "    .dataframe thead th {\n",
       "        text-align: right;\n",
       "    }\n",
       "</style>\n",
       "<table border=\"1\" class=\"dataframe\">\n",
       "  <thead>\n",
       "    <tr style=\"text-align: right;\">\n",
       "      <th></th>\n",
       "      <th>count</th>\n",
       "      <th>$amount</th>\n",
       "    </tr>\n",
       "    <tr>\n",
       "      <th>dis_purpose</th>\n",
       "      <th></th>\n",
       "      <th></th>\n",
       "    </tr>\n",
       "  </thead>\n",
       "  <tbody>\n",
       "    <tr>\n",
       "      <th>federal contribution - 30114(a)(4) transfer</th>\n",
       "      <td>17</td>\n",
       "      <td>557500.0</td>\n",
       "    </tr>\n",
       "  </tbody>\n",
       "</table>\n",
       "</div>"
      ],
      "text/plain": [
       "                                             count   $amount\n",
       "dis_purpose                                                 \n",
       "federal contribution - 30114(a)(4) transfer     17  557500.0"
      ]
     },
     "execution_count": 22,
     "metadata": {},
     "output_type": "execute_result"
    }
   ],
   "source": [
    "df_2018_main_2 = df_2018_main[df_2018_main['sum'] == 2]\n",
    "df_2018_main_2_filter = df_2018_main_2.groupby('dis_purpose').agg({'dis_purpose':'count','dis_amo':'sum'}).\\\n",
    "     rename(columns={'dis_purpose':'count','dis_amo':'$amount'})\n",
    "df_2018_main_2_filter[(df_2018_main_2_filter['$amount']>100000) & (df_2018_main_2_filter['count']>10)].\\\n",
    "sort_values(by='$amount', ascending=False)"
   ]
  },
  {
   "cell_type": "code",
   "execution_count": 23,
   "metadata": {
    "scrolled": false
   },
   "outputs": [
    {
     "data": {
      "text/html": [
       "<div>\n",
       "<style scoped>\n",
       "    .dataframe tbody tr th:only-of-type {\n",
       "        vertical-align: middle;\n",
       "    }\n",
       "\n",
       "    .dataframe tbody tr th {\n",
       "        vertical-align: top;\n",
       "    }\n",
       "\n",
       "    .dataframe thead th {\n",
       "        text-align: right;\n",
       "    }\n",
       "</style>\n",
       "<table border=\"1\" class=\"dataframe\">\n",
       "  <thead>\n",
       "    <tr style=\"text-align: right;\">\n",
       "      <th></th>\n",
       "      <th>count</th>\n",
       "      <th>$amount</th>\n",
       "    </tr>\n",
       "    <tr>\n",
       "      <th>sum</th>\n",
       "      <th></th>\n",
       "      <th></th>\n",
       "    </tr>\n",
       "  </thead>\n",
       "  <tbody>\n",
       "    <tr>\n",
       "      <th>1</th>\n",
       "      <td>869580</td>\n",
       "      <td>2.5e+09</td>\n",
       "    </tr>\n",
       "    <tr>\n",
       "      <th>2</th>\n",
       "      <td>28695</td>\n",
       "      <td>7.6e+07</td>\n",
       "    </tr>\n",
       "    <tr>\n",
       "      <th>0</th>\n",
       "      <td>25142</td>\n",
       "      <td>1.1e+08</td>\n",
       "    </tr>\n",
       "  </tbody>\n",
       "</table>\n",
       "</div>"
      ],
      "text/plain": [
       "      count  $amount\n",
       "sum                 \n",
       "1    869580  2.5e+09\n",
       "2     28695  7.6e+07\n",
       "0     25142  1.1e+08"
      ]
     },
     "execution_count": 23,
     "metadata": {},
     "output_type": "execute_result"
    }
   ],
   "source": [
    "df_2018_main.groupby('sum').agg({'sum':'count','dis_amo':'sum'}).\\\n",
    "     rename(columns={'sum':'count','dis_amo':'$amount'}).sort_values(by=['count'],ascending=False)"
   ]
  },
  {
   "cell_type": "code",
   "execution_count": 24,
   "metadata": {
    "scrolled": true
   },
   "outputs": [],
   "source": [
    "df_2018_main.loc[df_2018_main.dis_purpose.str.contains('fundrais'),'finance'] = 1\n",
    "df_2018_main.loc[df_2018_main.dis_purpose.str.contains('processing'),'finance'] = 1\n",
    "df_2018_main.loc[df_2018_main.dis_purpose.str.contains('database software'),'brain'] = 0\n",
    "df_2018_main.loc[df_2018_main.dis_purpose.str.contains('database'),'operationcost'] = 1\n",
    "df_2018_main.loc[df_2018_main.dis_purpose.str.contains('database software'),'operationcost'] = 1\n",
    "df_2018_main.loc[df_2018_main.dis_purpose.str.contains('database services'),'operationcost'] = 1\n",
    "df_2018_main.loc[df_2018_main.dis_purpose.str.contains('consulting'),'brain'] = 1\n",
    "df_2018_main.loc[df_2018_main.dis_purpose.str.contains('advertising'),'advertising'] = 1\n",
    "df_2018_main.loc[df_2018_main.dis_purpose.str.contains('event expense'),'networking'] = 1\n",
    "\n",
    "df_2018_main['sum']=df_2018_main.networking+df_2018_main.paycheck+df_2018_main.eat+df_2018_main.brain\\\n",
    "                    +df_2018_main.advertising+df_2018_main.operationcost+df_2018_main.travel+df_2018_main.finance"
   ]
  },
  {
   "cell_type": "code",
   "execution_count": 25,
   "metadata": {
    "scrolled": true
   },
   "outputs": [
    {
     "data": {
      "text/html": [
       "<div>\n",
       "<style scoped>\n",
       "    .dataframe tbody tr th:only-of-type {\n",
       "        vertical-align: middle;\n",
       "    }\n",
       "\n",
       "    .dataframe tbody tr th {\n",
       "        vertical-align: top;\n",
       "    }\n",
       "\n",
       "    .dataframe thead th {\n",
       "        text-align: right;\n",
       "    }\n",
       "</style>\n",
       "<table border=\"1\" class=\"dataframe\">\n",
       "  <thead>\n",
       "    <tr style=\"text-align: right;\">\n",
       "      <th></th>\n",
       "      <th>count</th>\n",
       "      <th>$amount</th>\n",
       "    </tr>\n",
       "    <tr>\n",
       "      <th>dis_purpose</th>\n",
       "      <th></th>\n",
       "      <th></th>\n",
       "    </tr>\n",
       "  </thead>\n",
       "  <tbody>\n",
       "  </tbody>\n",
       "</table>\n",
       "</div>"
      ],
      "text/plain": [
       "Empty DataFrame\n",
       "Columns: [count, $amount]\n",
       "Index: []"
      ]
     },
     "execution_count": 25,
     "metadata": {},
     "output_type": "execute_result"
    }
   ],
   "source": [
    "df_2018_main_0 = df_2018_main[df_2018_main['sum'] == 0]\n",
    "df_2018_main_0_filter = df_2018_main_0.groupby('dis_purpose').agg({'dis_purpose':'count','dis_amo':'sum'}).\\\n",
    "     rename(columns={'dis_purpose':'count','dis_amo':'$amount'})\n",
    "df_2018_main_0_filter[(df_2018_main_0_filter['$amount']>100000) & (df_2018_main_0_filter['count']>10)].\\\n",
    "sort_values(by='$amount', ascending=False)"
   ]
  },
  {
   "cell_type": "code",
   "execution_count": 26,
   "metadata": {
    "scrolled": true
   },
   "outputs": [
    {
     "data": {
      "text/html": [
       "<div>\n",
       "<style scoped>\n",
       "    .dataframe tbody tr th:only-of-type {\n",
       "        vertical-align: middle;\n",
       "    }\n",
       "\n",
       "    .dataframe tbody tr th {\n",
       "        vertical-align: top;\n",
       "    }\n",
       "\n",
       "    .dataframe thead th {\n",
       "        text-align: right;\n",
       "    }\n",
       "</style>\n",
       "<table border=\"1\" class=\"dataframe\">\n",
       "  <thead>\n",
       "    <tr style=\"text-align: right;\">\n",
       "      <th></th>\n",
       "      <th>count</th>\n",
       "      <th>$amount</th>\n",
       "    </tr>\n",
       "    <tr>\n",
       "      <th>sum</th>\n",
       "      <th></th>\n",
       "      <th></th>\n",
       "    </tr>\n",
       "  </thead>\n",
       "  <tbody>\n",
       "    <tr>\n",
       "      <th>1</th>\n",
       "      <td>810443</td>\n",
       "      <td>2.5e+09</td>\n",
       "    </tr>\n",
       "    <tr>\n",
       "      <th>2</th>\n",
       "      <td>112509</td>\n",
       "      <td>1.9e+08</td>\n",
       "    </tr>\n",
       "    <tr>\n",
       "      <th>0</th>\n",
       "      <td>462</td>\n",
       "      <td>4.9e+05</td>\n",
       "    </tr>\n",
       "    <tr>\n",
       "      <th>3</th>\n",
       "      <td>3</td>\n",
       "      <td>7.4e+05</td>\n",
       "    </tr>\n",
       "  </tbody>\n",
       "</table>\n",
       "</div>"
      ],
      "text/plain": [
       "      count  $amount\n",
       "sum                 \n",
       "1    810443  2.5e+09\n",
       "2    112509  1.9e+08\n",
       "0       462  4.9e+05\n",
       "3         3  7.4e+05"
      ]
     },
     "execution_count": 26,
     "metadata": {},
     "output_type": "execute_result"
    }
   ],
   "source": [
    "df_2018_main.groupby('sum').agg({'sum':'count','dis_amo':'sum'}).\\\n",
    "     rename(columns={'sum':'count','dis_amo':'$amount'}).sort_values(by=['count'],ascending=False)"
   ]
  },
  {
   "cell_type": "code",
   "execution_count": 27,
   "metadata": {
    "scrolled": true
   },
   "outputs": [],
   "source": [
    "df_2018_main_7 = df_2018_main[df_2018_main['sum'] == 2]\n",
    "throwout7 = list(df_2018_main_7.dis_purpose)\n",
    "wholedata7 = list(df_2018_main.dis_purpose)\n",
    "rest7 = list(set(wholedata7)^set(throwout7))\n",
    "df_2018_main = df_2018_main[df_2018_main.dis_purpose.isin(rest7)]\n",
    "\n",
    "df_2018_main_8 = df_2018_main[df_2018_main['sum'] == 0]\n",
    "throwout8 = list(df_2018_main_8.dis_purpose)\n",
    "wholedata8 = list(df_2018_main.dis_purpose)\n",
    "rest8 = list(set(wholedata8)^set(throwout8))\n",
    "df_2018_main = df_2018_main[df_2018_main.dis_purpose.isin(rest8)]\n",
    "\n",
    "df_2018_main_9 = df_2018_main[df_2018_main['sum'] == 3]\n",
    "throwout9= list(df_2018_main_9.dis_purpose)\n",
    "wholedata9 = list(df_2018_main.dis_purpose)\n",
    "rest9 = list(set(wholedata9)^set(throwout9))\n",
    "df_2018_main = df_2018_main[df_2018_main.dis_purpose.isin(rest9)]"
   ]
  },
  {
   "cell_type": "code",
   "execution_count": 28,
   "metadata": {
    "scrolled": true
   },
   "outputs": [
    {
     "data": {
      "text/html": [
       "<div>\n",
       "<style scoped>\n",
       "    .dataframe tbody tr th:only-of-type {\n",
       "        vertical-align: middle;\n",
       "    }\n",
       "\n",
       "    .dataframe tbody tr th {\n",
       "        vertical-align: top;\n",
       "    }\n",
       "\n",
       "    .dataframe thead th {\n",
       "        text-align: right;\n",
       "    }\n",
       "</style>\n",
       "<table border=\"1\" class=\"dataframe\">\n",
       "  <thead>\n",
       "    <tr style=\"text-align: right;\">\n",
       "      <th></th>\n",
       "      <th>count</th>\n",
       "      <th>$amount</th>\n",
       "    </tr>\n",
       "    <tr>\n",
       "      <th>sum</th>\n",
       "      <th></th>\n",
       "      <th></th>\n",
       "    </tr>\n",
       "  </thead>\n",
       "  <tbody>\n",
       "    <tr>\n",
       "      <th>1</th>\n",
       "      <td>810443</td>\n",
       "      <td>2.5e+09</td>\n",
       "    </tr>\n",
       "  </tbody>\n",
       "</table>\n",
       "</div>"
      ],
      "text/plain": [
       "      count  $amount\n",
       "sum                 \n",
       "1    810443  2.5e+09"
      ]
     },
     "execution_count": 28,
     "metadata": {},
     "output_type": "execute_result"
    },
    {
     "data": {
      "text/html": [
       "<div>\n",
       "<style scoped>\n",
       "    .dataframe tbody tr th:only-of-type {\n",
       "        vertical-align: middle;\n",
       "    }\n",
       "\n",
       "    .dataframe tbody tr th {\n",
       "        vertical-align: top;\n",
       "    }\n",
       "\n",
       "    .dataframe thead th {\n",
       "        text-align: right;\n",
       "    }\n",
       "</style>\n",
       "<table border=\"1\" class=\"dataframe\">\n",
       "  <thead>\n",
       "    <tr style=\"text-align: right;\">\n",
       "      <th></th>\n",
       "      <th>can_id</th>\n",
       "      <th>can_nam</th>\n",
       "      <th>can_off</th>\n",
       "      <th>can_off_sta</th>\n",
       "      <th>dis_pur_des</th>\n",
       "      <th>cat_des</th>\n",
       "      <th>dis_amo</th>\n",
       "      <th>dis_purpose</th>\n",
       "      <th>networking</th>\n",
       "      <th>paycheck</th>\n",
       "      <th>eat</th>\n",
       "      <th>brain</th>\n",
       "      <th>advertising</th>\n",
       "      <th>operationcost</th>\n",
       "      <th>travel</th>\n",
       "      <th>finance</th>\n",
       "      <th>sum</th>\n",
       "    </tr>\n",
       "  </thead>\n",
       "  <tbody>\n",
       "    <tr>\n",
       "      <th>0</th>\n",
       "      <td>H6AK00045</td>\n",
       "      <td>YOUNG-DONALD-E</td>\n",
       "      <td>H</td>\n",
       "      <td>AK</td>\n",
       "      <td>OFFICE JANITORIAL SERVICES</td>\n",
       "      <td>Unknown</td>\n",
       "      <td>300.0</td>\n",
       "      <td>office janitorial services</td>\n",
       "      <td>0</td>\n",
       "      <td>0</td>\n",
       "      <td>0</td>\n",
       "      <td>0</td>\n",
       "      <td>0</td>\n",
       "      <td>1</td>\n",
       "      <td>0</td>\n",
       "      <td>0</td>\n",
       "      <td>1</td>\n",
       "    </tr>\n",
       "    <tr>\n",
       "      <th>1</th>\n",
       "      <td>H6AK00045</td>\n",
       "      <td>YOUNG-DONALD-E</td>\n",
       "      <td>H</td>\n",
       "      <td>AK</td>\n",
       "      <td>PAYROLL TAXES</td>\n",
       "      <td>Unknown</td>\n",
       "      <td>3415.0</td>\n",
       "      <td>payroll taxes</td>\n",
       "      <td>0</td>\n",
       "      <td>1</td>\n",
       "      <td>0</td>\n",
       "      <td>0</td>\n",
       "      <td>0</td>\n",
       "      <td>0</td>\n",
       "      <td>0</td>\n",
       "      <td>0</td>\n",
       "      <td>1</td>\n",
       "    </tr>\n",
       "    <tr>\n",
       "      <th>2</th>\n",
       "      <td>H6AK00045</td>\n",
       "      <td>YOUNG-DONALD-E</td>\n",
       "      <td>H</td>\n",
       "      <td>AK</td>\n",
       "      <td>BANK CHARGE</td>\n",
       "      <td>Unknown</td>\n",
       "      <td>2.0</td>\n",
       "      <td>bank charge</td>\n",
       "      <td>0</td>\n",
       "      <td>0</td>\n",
       "      <td>0</td>\n",
       "      <td>0</td>\n",
       "      <td>0</td>\n",
       "      <td>1</td>\n",
       "      <td>0</td>\n",
       "      <td>0</td>\n",
       "      <td>1</td>\n",
       "    </tr>\n",
       "    <tr>\n",
       "      <th>3</th>\n",
       "      <td>H6AK00045</td>\n",
       "      <td>YOUNG-DONALD-E</td>\n",
       "      <td>H</td>\n",
       "      <td>AK</td>\n",
       "      <td>SIGN INSTALLATION</td>\n",
       "      <td>Unknown</td>\n",
       "      <td>7000.0</td>\n",
       "      <td>sign installation</td>\n",
       "      <td>0</td>\n",
       "      <td>0</td>\n",
       "      <td>0</td>\n",
       "      <td>0</td>\n",
       "      <td>1</td>\n",
       "      <td>0</td>\n",
       "      <td>0</td>\n",
       "      <td>0</td>\n",
       "      <td>1</td>\n",
       "    </tr>\n",
       "    <tr>\n",
       "      <th>4</th>\n",
       "      <td>H6AK00045</td>\n",
       "      <td>YOUNG-DONALD-E</td>\n",
       "      <td>H</td>\n",
       "      <td>AK</td>\n",
       "      <td>MAILING POSTAGE</td>\n",
       "      <td>Unknown</td>\n",
       "      <td>1394.5</td>\n",
       "      <td>mailing postage</td>\n",
       "      <td>0</td>\n",
       "      <td>0</td>\n",
       "      <td>0</td>\n",
       "      <td>0</td>\n",
       "      <td>0</td>\n",
       "      <td>1</td>\n",
       "      <td>0</td>\n",
       "      <td>0</td>\n",
       "      <td>1</td>\n",
       "    </tr>\n",
       "  </tbody>\n",
       "</table>\n",
       "</div>"
      ],
      "text/plain": [
       "      can_id         can_nam can_off can_off_sta                 dis_pur_des  \\\n",
       "0  H6AK00045  YOUNG-DONALD-E       H          AK  OFFICE JANITORIAL SERVICES   \n",
       "1  H6AK00045  YOUNG-DONALD-E       H          AK               PAYROLL TAXES   \n",
       "2  H6AK00045  YOUNG-DONALD-E       H          AK                 BANK CHARGE   \n",
       "3  H6AK00045  YOUNG-DONALD-E       H          AK           SIGN INSTALLATION   \n",
       "4  H6AK00045  YOUNG-DONALD-E       H          AK             MAILING POSTAGE   \n",
       "\n",
       "   cat_des  dis_amo                 dis_purpose  networking  paycheck  eat  \\\n",
       "0  Unknown    300.0  office janitorial services           0         0    0   \n",
       "1  Unknown   3415.0               payroll taxes           0         1    0   \n",
       "2  Unknown      2.0                 bank charge           0         0    0   \n",
       "3  Unknown   7000.0           sign installation           0         0    0   \n",
       "4  Unknown   1394.5             mailing postage           0         0    0   \n",
       "\n",
       "   brain  advertising  operationcost  travel  finance  sum  \n",
       "0      0            0              1       0        0    1  \n",
       "1      0            0              0       0        0    1  \n",
       "2      0            0              1       0        0    1  \n",
       "3      0            1              0       0        0    1  \n",
       "4      0            0              1       0        0    1  "
      ]
     },
     "execution_count": 28,
     "metadata": {},
     "output_type": "execute_result"
    }
   ],
   "source": [
    "# Got the dataset ready! \n",
    "# 810443/973158=83.3%\n",
    "# $2.45billion/$2.87billion=85.4%\n",
    "df_2018_main.groupby('sum').agg({'sum':'count','dis_amo':'sum'}).\\\n",
    "     rename(columns={'sum':'count','dis_amo':'$amount'}).sort_values(by=['count'],ascending=False)\n",
    "df_2018_main.head()"
   ]
  },
  {
   "cell_type": "markdown",
   "metadata": {},
   "source": [
    "## <li>Add one more column of election result"
   ]
  },
  {
   "cell_type": "code",
   "execution_count": 29,
   "metadata": {
    "scrolled": true
   },
   "outputs": [],
   "source": [
    "df_legislator_current=pd.read_csv('legislators-current.csv')\n",
    "df_2018_candidate_summary=pd.read_csv('CandidateSummaryAction_2018.csv')\n",
    "fec_ids = list(df_legislator_current.fec_ids)\n",
    "df_2018['win'] = df_2018.apply(lambda x: (1 if x.can_id in fec_ids else 0),axis=1)\n",
    "result_2018_excel = pd.ExcelFile('Election_results_2018.xlsx')\n",
    "df_result_2018_senate = result_2018_excel.parse('2018 US Senate Results by State', usecols='E,I,V')\n",
    "df_result_2018_house = result_2018_excel.parse('2018 US House Results by State', usecols='E,I,V')\n",
    "df_result_2018 = df_result_2018_senate.append(df_result_2018_house)"
   ]
  },
  {
   "cell_type": "code",
   "execution_count": 30,
   "metadata": {},
   "outputs": [],
   "source": [
    "list_2018_winner=list(df_result_2018[df_result_2018['GE WINNER INDICATOR']=='W']['FEC ID#'].str.rstrip())"
   ]
  },
  {
   "cell_type": "code",
   "execution_count": 31,
   "metadata": {},
   "outputs": [],
   "source": [
    "df_2018_main['win'] = df_2018_main.apply(lambda x: (1 if x.can_id in list_2018_winner else 0),axis=1)"
   ]
  },
  {
   "cell_type": "code",
   "execution_count": 32,
   "metadata": {
    "scrolled": true
   },
   "outputs": [
    {
     "data": {
      "text/plain": [
       "433"
      ]
     },
     "execution_count": 32,
     "metadata": {},
     "output_type": "execute_result"
    }
   ],
   "source": [
    "len(df_2018_main.can_nam[(df_2018_main['win'] == 1) & (df_2018_main['can_off']=='H')].unique())"
   ]
  },
  {
   "cell_type": "code",
   "execution_count": 33,
   "metadata": {
    "scrolled": true
   },
   "outputs": [
    {
     "data": {
      "text/plain": [
       "2093"
      ]
     },
     "execution_count": 33,
     "metadata": {},
     "output_type": "execute_result"
    }
   ],
   "source": [
    "len(df_2018_main.can_nam[df_2018_main['can_off']=='H'].unique())"
   ]
  },
  {
   "cell_type": "code",
   "execution_count": 34,
   "metadata": {},
   "outputs": [
    {
     "data": {
      "text/plain": [
       "35"
      ]
     },
     "execution_count": 34,
     "metadata": {},
     "output_type": "execute_result"
    }
   ],
   "source": [
    "len(df_2018_main.can_nam[(df_2018_main['win'] == 1) & (df_2018_main['can_off']=='S')].unique())"
   ]
  },
  {
   "cell_type": "code",
   "execution_count": 35,
   "metadata": {},
   "outputs": [
    {
     "data": {
      "text/plain": [
       "225"
      ]
     },
     "execution_count": 35,
     "metadata": {},
     "output_type": "execute_result"
    }
   ],
   "source": [
    "len(df_2018_main.can_nam[df_2018_main['can_off']=='S'].unique())"
   ]
  },
  {
   "cell_type": "code",
   "execution_count": 36,
   "metadata": {
    "scrolled": false
   },
   "outputs": [
    {
     "data": {
      "text/html": [
       "<div>\n",
       "<style scoped>\n",
       "    .dataframe tbody tr th:only-of-type {\n",
       "        vertical-align: middle;\n",
       "    }\n",
       "\n",
       "    .dataframe tbody tr th {\n",
       "        vertical-align: top;\n",
       "    }\n",
       "\n",
       "    .dataframe thead th {\n",
       "        text-align: right;\n",
       "    }\n",
       "</style>\n",
       "<table border=\"1\" class=\"dataframe\">\n",
       "  <thead>\n",
       "    <tr style=\"text-align: right;\">\n",
       "      <th></th>\n",
       "      <th>can_id</th>\n",
       "      <th>can_nam</th>\n",
       "      <th>can_off</th>\n",
       "      <th>can_off_sta</th>\n",
       "      <th>dis_pur_des</th>\n",
       "      <th>cat_des</th>\n",
       "      <th>dis_amo</th>\n",
       "      <th>dis_purpose</th>\n",
       "      <th>networking</th>\n",
       "      <th>paycheck</th>\n",
       "      <th>eat</th>\n",
       "      <th>brain</th>\n",
       "      <th>advertising</th>\n",
       "      <th>operationcost</th>\n",
       "      <th>travel</th>\n",
       "      <th>finance</th>\n",
       "      <th>sum</th>\n",
       "      <th>win</th>\n",
       "    </tr>\n",
       "  </thead>\n",
       "  <tbody>\n",
       "    <tr>\n",
       "      <th>0</th>\n",
       "      <td>H6AK00045</td>\n",
       "      <td>YOUNG-DONALD-E</td>\n",
       "      <td>H</td>\n",
       "      <td>AK</td>\n",
       "      <td>OFFICE JANITORIAL SERVICES</td>\n",
       "      <td>Unknown</td>\n",
       "      <td>300.0</td>\n",
       "      <td>office janitorial services</td>\n",
       "      <td>0</td>\n",
       "      <td>0</td>\n",
       "      <td>0</td>\n",
       "      <td>0</td>\n",
       "      <td>0</td>\n",
       "      <td>1</td>\n",
       "      <td>0</td>\n",
       "      <td>0</td>\n",
       "      <td>1</td>\n",
       "      <td>1</td>\n",
       "    </tr>\n",
       "    <tr>\n",
       "      <th>1</th>\n",
       "      <td>H6AK00045</td>\n",
       "      <td>YOUNG-DONALD-E</td>\n",
       "      <td>H</td>\n",
       "      <td>AK</td>\n",
       "      <td>PAYROLL TAXES</td>\n",
       "      <td>Unknown</td>\n",
       "      <td>3415.0</td>\n",
       "      <td>payroll taxes</td>\n",
       "      <td>0</td>\n",
       "      <td>1</td>\n",
       "      <td>0</td>\n",
       "      <td>0</td>\n",
       "      <td>0</td>\n",
       "      <td>0</td>\n",
       "      <td>0</td>\n",
       "      <td>0</td>\n",
       "      <td>1</td>\n",
       "      <td>1</td>\n",
       "    </tr>\n",
       "    <tr>\n",
       "      <th>2</th>\n",
       "      <td>H6AK00045</td>\n",
       "      <td>YOUNG-DONALD-E</td>\n",
       "      <td>H</td>\n",
       "      <td>AK</td>\n",
       "      <td>BANK CHARGE</td>\n",
       "      <td>Unknown</td>\n",
       "      <td>2.0</td>\n",
       "      <td>bank charge</td>\n",
       "      <td>0</td>\n",
       "      <td>0</td>\n",
       "      <td>0</td>\n",
       "      <td>0</td>\n",
       "      <td>0</td>\n",
       "      <td>1</td>\n",
       "      <td>0</td>\n",
       "      <td>0</td>\n",
       "      <td>1</td>\n",
       "      <td>1</td>\n",
       "    </tr>\n",
       "    <tr>\n",
       "      <th>3</th>\n",
       "      <td>H6AK00045</td>\n",
       "      <td>YOUNG-DONALD-E</td>\n",
       "      <td>H</td>\n",
       "      <td>AK</td>\n",
       "      <td>SIGN INSTALLATION</td>\n",
       "      <td>Unknown</td>\n",
       "      <td>7000.0</td>\n",
       "      <td>sign installation</td>\n",
       "      <td>0</td>\n",
       "      <td>0</td>\n",
       "      <td>0</td>\n",
       "      <td>0</td>\n",
       "      <td>1</td>\n",
       "      <td>0</td>\n",
       "      <td>0</td>\n",
       "      <td>0</td>\n",
       "      <td>1</td>\n",
       "      <td>1</td>\n",
       "    </tr>\n",
       "    <tr>\n",
       "      <th>4</th>\n",
       "      <td>H6AK00045</td>\n",
       "      <td>YOUNG-DONALD-E</td>\n",
       "      <td>H</td>\n",
       "      <td>AK</td>\n",
       "      <td>MAILING POSTAGE</td>\n",
       "      <td>Unknown</td>\n",
       "      <td>1394.5</td>\n",
       "      <td>mailing postage</td>\n",
       "      <td>0</td>\n",
       "      <td>0</td>\n",
       "      <td>0</td>\n",
       "      <td>0</td>\n",
       "      <td>0</td>\n",
       "      <td>1</td>\n",
       "      <td>0</td>\n",
       "      <td>0</td>\n",
       "      <td>1</td>\n",
       "      <td>1</td>\n",
       "    </tr>\n",
       "  </tbody>\n",
       "</table>\n",
       "</div>"
      ],
      "text/plain": [
       "      can_id         can_nam can_off can_off_sta                 dis_pur_des  \\\n",
       "0  H6AK00045  YOUNG-DONALD-E       H          AK  OFFICE JANITORIAL SERVICES   \n",
       "1  H6AK00045  YOUNG-DONALD-E       H          AK               PAYROLL TAXES   \n",
       "2  H6AK00045  YOUNG-DONALD-E       H          AK                 BANK CHARGE   \n",
       "3  H6AK00045  YOUNG-DONALD-E       H          AK           SIGN INSTALLATION   \n",
       "4  H6AK00045  YOUNG-DONALD-E       H          AK             MAILING POSTAGE   \n",
       "\n",
       "   cat_des  dis_amo                 dis_purpose  networking  paycheck  eat  \\\n",
       "0  Unknown    300.0  office janitorial services           0         0    0   \n",
       "1  Unknown   3415.0               payroll taxes           0         1    0   \n",
       "2  Unknown      2.0                 bank charge           0         0    0   \n",
       "3  Unknown   7000.0           sign installation           0         0    0   \n",
       "4  Unknown   1394.5             mailing postage           0         0    0   \n",
       "\n",
       "   brain  advertising  operationcost  travel  finance  sum  win  \n",
       "0      0            0              1       0        0    1    1  \n",
       "1      0            0              0       0        0    1    1  \n",
       "2      0            0              1       0        0    1    1  \n",
       "3      0            1              0       0        0    1    1  \n",
       "4      0            0              1       0        0    1    1  "
      ]
     },
     "execution_count": 36,
     "metadata": {},
     "output_type": "execute_result"
    }
   ],
   "source": [
    "df_2018_main.head()"
   ]
  },
  {
   "cell_type": "markdown",
   "metadata": {},
   "source": [
    "# <div class=\"alert alert-block alert-info\">Data Analysis "
   ]
  },
  {
   "cell_type": "markdown",
   "metadata": {},
   "source": [
    "## <li>A glimpse of campaign cost"
   ]
  },
  {
   "cell_type": "code",
   "execution_count": 37,
   "metadata": {},
   "outputs": [
    {
     "data": {
      "text/plain": [
       "<matplotlib.axes._subplots.AxesSubplot at 0x1a5856a748>"
      ]
     },
     "execution_count": 37,
     "metadata": {},
     "output_type": "execute_result"
    },
    {
     "data": {
      "image/png": "[encoded data removed]",
      "text/plain": [
       "<Figure size 1800x720 with 1 Axes>"
      ]
     },
     "metadata": {
      "needs_background": "light"
     },
     "output_type": "display_data"
    }
   ],
   "source": [
    "df_2018_main_h_filter = df_2018_main[df_2018_main['can_off']=='H'].groupby('can_off_sta')[['dis_amo']].\\\n",
    "                 sum().rename(columns={'dis_amo':'house_can_exp'})\n",
    "df_2018_main_s_filter = df_2018_main[df_2018_main['can_off']=='S'].groupby('can_off_sta')[['dis_amo']].\\\n",
    "                 sum().rename(columns={'dis_amo':'senate_can_exp'})\n",
    "df_2018_main_hs = df_2018_main_s_filter.merge(df_2018_main_h_filter, \\\n",
    "                                              left_on='can_off_sta', right_on='can_off_sta', how='outer')\n",
    "\n",
    "import matplotlib.pyplot as plt\n",
    "plt.rcParams[\"figure.figsize\"] = (25,10)\n",
    "df_2018_main_hs.plot.bar(stacked=True) \n",
    "# unit of  y axis values: 100 million; orange-house; blue-senate"
   ]
  },
  {
   "cell_type": "code",
   "execution_count": 38,
   "metadata": {},
   "outputs": [
    {
     "data": {
      "text/plain": [
       "27335884.000363626"
      ]
     },
     "execution_count": 38,
     "metadata": {},
     "output_type": "execute_result"
    },
    {
     "data": {
      "text/plain": [
       "27114373.33771427"
      ]
     },
     "execution_count": 38,
     "metadata": {},
     "output_type": "execute_result"
    }
   ],
   "source": [
    "# 27 millions per state on average\n",
    "df_2018_main_hs.house_can_exp.mean()\n",
    "df_2018_main_hs.senate_can_exp.mean()"
   ]
  },
  {
   "cell_type": "code",
   "execution_count": 39,
   "metadata": {
    "scrolled": true
   },
   "outputs": [
    {
     "data": {
      "text/html": [
       "<div>\n",
       "<style scoped>\n",
       "    .dataframe tbody tr th:only-of-type {\n",
       "        vertical-align: middle;\n",
       "    }\n",
       "\n",
       "    .dataframe tbody tr th {\n",
       "        vertical-align: top;\n",
       "    }\n",
       "\n",
       "    .dataframe thead th {\n",
       "        text-align: right;\n",
       "    }\n",
       "</style>\n",
       "<table border=\"1\" class=\"dataframe\">\n",
       "  <thead>\n",
       "    <tr style=\"text-align: right;\">\n",
       "      <th></th>\n",
       "      <th>can_id</th>\n",
       "      <th>can_nam</th>\n",
       "      <th>can_off</th>\n",
       "      <th>can_off_sta</th>\n",
       "      <th>dis_pur_des</th>\n",
       "      <th>cat_des</th>\n",
       "      <th>dis_amo</th>\n",
       "      <th>dis_purpose</th>\n",
       "      <th>networking</th>\n",
       "      <th>paycheck</th>\n",
       "      <th>eat</th>\n",
       "      <th>brain</th>\n",
       "      <th>advertising</th>\n",
       "      <th>operationcost</th>\n",
       "      <th>travel</th>\n",
       "      <th>finance</th>\n",
       "      <th>sum</th>\n",
       "      <th>win</th>\n",
       "    </tr>\n",
       "  </thead>\n",
       "  <tbody>\n",
       "    <tr>\n",
       "      <th>0</th>\n",
       "      <td>H6AK00045</td>\n",
       "      <td>YOUNG-DONALD-E</td>\n",
       "      <td>H</td>\n",
       "      <td>AK</td>\n",
       "      <td>OFFICE JANITORIAL SERVICES</td>\n",
       "      <td>Unknown</td>\n",
       "      <td>300.0</td>\n",
       "      <td>office janitorial services</td>\n",
       "      <td>0</td>\n",
       "      <td>0</td>\n",
       "      <td>0</td>\n",
       "      <td>0</td>\n",
       "      <td>0</td>\n",
       "      <td>1</td>\n",
       "      <td>0</td>\n",
       "      <td>0</td>\n",
       "      <td>1</td>\n",
       "      <td>1</td>\n",
       "    </tr>\n",
       "    <tr>\n",
       "      <th>1</th>\n",
       "      <td>H6AK00045</td>\n",
       "      <td>YOUNG-DONALD-E</td>\n",
       "      <td>H</td>\n",
       "      <td>AK</td>\n",
       "      <td>PAYROLL TAXES</td>\n",
       "      <td>Unknown</td>\n",
       "      <td>3415.0</td>\n",
       "      <td>payroll taxes</td>\n",
       "      <td>0</td>\n",
       "      <td>1</td>\n",
       "      <td>0</td>\n",
       "      <td>0</td>\n",
       "      <td>0</td>\n",
       "      <td>0</td>\n",
       "      <td>0</td>\n",
       "      <td>0</td>\n",
       "      <td>1</td>\n",
       "      <td>1</td>\n",
       "    </tr>\n",
       "    <tr>\n",
       "      <th>2</th>\n",
       "      <td>H6AK00045</td>\n",
       "      <td>YOUNG-DONALD-E</td>\n",
       "      <td>H</td>\n",
       "      <td>AK</td>\n",
       "      <td>BANK CHARGE</td>\n",
       "      <td>Unknown</td>\n",
       "      <td>2.0</td>\n",
       "      <td>bank charge</td>\n",
       "      <td>0</td>\n",
       "      <td>0</td>\n",
       "      <td>0</td>\n",
       "      <td>0</td>\n",
       "      <td>0</td>\n",
       "      <td>1</td>\n",
       "      <td>0</td>\n",
       "      <td>0</td>\n",
       "      <td>1</td>\n",
       "      <td>1</td>\n",
       "    </tr>\n",
       "    <tr>\n",
       "      <th>3</th>\n",
       "      <td>H6AK00045</td>\n",
       "      <td>YOUNG-DONALD-E</td>\n",
       "      <td>H</td>\n",
       "      <td>AK</td>\n",
       "      <td>SIGN INSTALLATION</td>\n",
       "      <td>Unknown</td>\n",
       "      <td>7000.0</td>\n",
       "      <td>sign installation</td>\n",
       "      <td>0</td>\n",
       "      <td>0</td>\n",
       "      <td>0</td>\n",
       "      <td>0</td>\n",
       "      <td>1</td>\n",
       "      <td>0</td>\n",
       "      <td>0</td>\n",
       "      <td>0</td>\n",
       "      <td>1</td>\n",
       "      <td>1</td>\n",
       "    </tr>\n",
       "    <tr>\n",
       "      <th>4</th>\n",
       "      <td>H6AK00045</td>\n",
       "      <td>YOUNG-DONALD-E</td>\n",
       "      <td>H</td>\n",
       "      <td>AK</td>\n",
       "      <td>MAILING POSTAGE</td>\n",
       "      <td>Unknown</td>\n",
       "      <td>1394.5</td>\n",
       "      <td>mailing postage</td>\n",
       "      <td>0</td>\n",
       "      <td>0</td>\n",
       "      <td>0</td>\n",
       "      <td>0</td>\n",
       "      <td>0</td>\n",
       "      <td>1</td>\n",
       "      <td>0</td>\n",
       "      <td>0</td>\n",
       "      <td>1</td>\n",
       "      <td>1</td>\n",
       "    </tr>\n",
       "  </tbody>\n",
       "</table>\n",
       "</div>"
      ],
      "text/plain": [
       "      can_id         can_nam can_off can_off_sta                 dis_pur_des  \\\n",
       "0  H6AK00045  YOUNG-DONALD-E       H          AK  OFFICE JANITORIAL SERVICES   \n",
       "1  H6AK00045  YOUNG-DONALD-E       H          AK               PAYROLL TAXES   \n",
       "2  H6AK00045  YOUNG-DONALD-E       H          AK                 BANK CHARGE   \n",
       "3  H6AK00045  YOUNG-DONALD-E       H          AK           SIGN INSTALLATION   \n",
       "4  H6AK00045  YOUNG-DONALD-E       H          AK             MAILING POSTAGE   \n",
       "\n",
       "   cat_des  dis_amo                 dis_purpose  networking  paycheck  eat  \\\n",
       "0  Unknown    300.0  office janitorial services           0         0    0   \n",
       "1  Unknown   3415.0               payroll taxes           0         1    0   \n",
       "2  Unknown      2.0                 bank charge           0         0    0   \n",
       "3  Unknown   7000.0           sign installation           0         0    0   \n",
       "4  Unknown   1394.5             mailing postage           0         0    0   \n",
       "\n",
       "   brain  advertising  operationcost  travel  finance  sum  win  \n",
       "0      0            0              1       0        0    1    1  \n",
       "1      0            0              0       0        0    1    1  \n",
       "2      0            0              1       0        0    1    1  \n",
       "3      0            1              0       0        0    1    1  \n",
       "4      0            0              1       0        0    1    1  "
      ]
     },
     "execution_count": 39,
     "metadata": {},
     "output_type": "execute_result"
    }
   ],
   "source": [
    "df_2018_main.head()"
   ]
  },
  {
   "cell_type": "code",
   "execution_count": 40,
   "metadata": {
    "scrolled": true
   },
   "outputs": [
    {
     "data": {
      "text/html": [
       "<div>\n",
       "<style scoped>\n",
       "    .dataframe tbody tr th:only-of-type {\n",
       "        vertical-align: middle;\n",
       "    }\n",
       "\n",
       "    .dataframe tbody tr th {\n",
       "        vertical-align: top;\n",
       "    }\n",
       "\n",
       "    .dataframe thead th {\n",
       "        text-align: right;\n",
       "    }\n",
       "</style>\n",
       "<table border=\"1\" class=\"dataframe\">\n",
       "  <thead>\n",
       "    <tr style=\"text-align: right;\">\n",
       "      <th></th>\n",
       "      <th>can_id</th>\n",
       "      <th>can_nam</th>\n",
       "      <th>dis_amo</th>\n",
       "      <th>networking</th>\n",
       "      <th>paycheck</th>\n",
       "      <th>eat</th>\n",
       "      <th>brain</th>\n",
       "      <th>advertising</th>\n",
       "      <th>operationcost</th>\n",
       "      <th>travel</th>\n",
       "      <th>finance</th>\n",
       "      <th>win</th>\n",
       "    </tr>\n",
       "  </thead>\n",
       "  <tbody>\n",
       "    <tr>\n",
       "      <th>0</th>\n",
       "      <td>H6AK00045</td>\n",
       "      <td>YOUNG-DONALD-E</td>\n",
       "      <td>300.0</td>\n",
       "      <td>0</td>\n",
       "      <td>0</td>\n",
       "      <td>0</td>\n",
       "      <td>0</td>\n",
       "      <td>0</td>\n",
       "      <td>1</td>\n",
       "      <td>0</td>\n",
       "      <td>0</td>\n",
       "      <td>1</td>\n",
       "    </tr>\n",
       "    <tr>\n",
       "      <th>1</th>\n",
       "      <td>H6AK00045</td>\n",
       "      <td>YOUNG-DONALD-E</td>\n",
       "      <td>3415.0</td>\n",
       "      <td>0</td>\n",
       "      <td>1</td>\n",
       "      <td>0</td>\n",
       "      <td>0</td>\n",
       "      <td>0</td>\n",
       "      <td>0</td>\n",
       "      <td>0</td>\n",
       "      <td>0</td>\n",
       "      <td>1</td>\n",
       "    </tr>\n",
       "    <tr>\n",
       "      <th>2</th>\n",
       "      <td>H6AK00045</td>\n",
       "      <td>YOUNG-DONALD-E</td>\n",
       "      <td>2.0</td>\n",
       "      <td>0</td>\n",
       "      <td>0</td>\n",
       "      <td>0</td>\n",
       "      <td>0</td>\n",
       "      <td>0</td>\n",
       "      <td>1</td>\n",
       "      <td>0</td>\n",
       "      <td>0</td>\n",
       "      <td>1</td>\n",
       "    </tr>\n",
       "    <tr>\n",
       "      <th>3</th>\n",
       "      <td>H6AK00045</td>\n",
       "      <td>YOUNG-DONALD-E</td>\n",
       "      <td>7000.0</td>\n",
       "      <td>0</td>\n",
       "      <td>0</td>\n",
       "      <td>0</td>\n",
       "      <td>0</td>\n",
       "      <td>1</td>\n",
       "      <td>0</td>\n",
       "      <td>0</td>\n",
       "      <td>0</td>\n",
       "      <td>1</td>\n",
       "    </tr>\n",
       "    <tr>\n",
       "      <th>4</th>\n",
       "      <td>H6AK00045</td>\n",
       "      <td>YOUNG-DONALD-E</td>\n",
       "      <td>1394.5</td>\n",
       "      <td>0</td>\n",
       "      <td>0</td>\n",
       "      <td>0</td>\n",
       "      <td>0</td>\n",
       "      <td>0</td>\n",
       "      <td>1</td>\n",
       "      <td>0</td>\n",
       "      <td>0</td>\n",
       "      <td>1</td>\n",
       "    </tr>\n",
       "  </tbody>\n",
       "</table>\n",
       "</div>"
      ],
      "text/plain": [
       "      can_id         can_nam  dis_amo  networking  paycheck  eat  brain  \\\n",
       "0  H6AK00045  YOUNG-DONALD-E    300.0           0         0    0      0   \n",
       "1  H6AK00045  YOUNG-DONALD-E   3415.0           0         1    0      0   \n",
       "2  H6AK00045  YOUNG-DONALD-E      2.0           0         0    0      0   \n",
       "3  H6AK00045  YOUNG-DONALD-E   7000.0           0         0    0      0   \n",
       "4  H6AK00045  YOUNG-DONALD-E   1394.5           0         0    0      0   \n",
       "\n",
       "   advertising  operationcost  travel  finance  win  \n",
       "0            0              1       0        0    1  \n",
       "1            0              0       0        0    1  \n",
       "2            0              1       0        0    1  \n",
       "3            1              0       0        0    1  \n",
       "4            0              1       0        0    1  "
      ]
     },
     "execution_count": 40,
     "metadata": {},
     "output_type": "execute_result"
    },
    {
     "data": {
      "text/html": [
       "<div>\n",
       "<style scoped>\n",
       "    .dataframe tbody tr th:only-of-type {\n",
       "        vertical-align: middle;\n",
       "    }\n",
       "\n",
       "    .dataframe tbody tr th {\n",
       "        vertical-align: top;\n",
       "    }\n",
       "\n",
       "    .dataframe thead th {\n",
       "        text-align: right;\n",
       "    }\n",
       "</style>\n",
       "<table border=\"1\" class=\"dataframe\">\n",
       "  <thead>\n",
       "    <tr style=\"text-align: right;\">\n",
       "      <th></th>\n",
       "      <th>can_id</th>\n",
       "      <th>can_nam</th>\n",
       "      <th>dis_amo</th>\n",
       "      <th>networking</th>\n",
       "      <th>paycheck</th>\n",
       "      <th>eat</th>\n",
       "      <th>brain</th>\n",
       "      <th>advertising</th>\n",
       "      <th>operationcost</th>\n",
       "      <th>travel</th>\n",
       "      <th>finance</th>\n",
       "      <th>win</th>\n",
       "    </tr>\n",
       "  </thead>\n",
       "  <tbody>\n",
       "    <tr>\n",
       "      <th>33286</th>\n",
       "      <td>S6NJ00289</td>\n",
       "      <td>MENENDEZ-ROBERT</td>\n",
       "      <td>2373.8</td>\n",
       "      <td>0</td>\n",
       "      <td>1</td>\n",
       "      <td>0</td>\n",
       "      <td>0</td>\n",
       "      <td>0</td>\n",
       "      <td>0</td>\n",
       "      <td>0</td>\n",
       "      <td>0</td>\n",
       "      <td>1</td>\n",
       "    </tr>\n",
       "    <tr>\n",
       "      <th>33287</th>\n",
       "      <td>S6NJ00289</td>\n",
       "      <td>MENENDEZ-ROBERT</td>\n",
       "      <td>50.6</td>\n",
       "      <td>0</td>\n",
       "      <td>0</td>\n",
       "      <td>0</td>\n",
       "      <td>0</td>\n",
       "      <td>0</td>\n",
       "      <td>1</td>\n",
       "      <td>0</td>\n",
       "      <td>0</td>\n",
       "      <td>1</td>\n",
       "    </tr>\n",
       "    <tr>\n",
       "      <th>33288</th>\n",
       "      <td>S6NJ00289</td>\n",
       "      <td>MENENDEZ-ROBERT</td>\n",
       "      <td>3309.2</td>\n",
       "      <td>0</td>\n",
       "      <td>1</td>\n",
       "      <td>0</td>\n",
       "      <td>0</td>\n",
       "      <td>0</td>\n",
       "      <td>0</td>\n",
       "      <td>0</td>\n",
       "      <td>0</td>\n",
       "      <td>1</td>\n",
       "    </tr>\n",
       "    <tr>\n",
       "      <th>33291</th>\n",
       "      <td>S6NJ00289</td>\n",
       "      <td>MENENDEZ-ROBERT</td>\n",
       "      <td>15.0</td>\n",
       "      <td>0</td>\n",
       "      <td>0</td>\n",
       "      <td>0</td>\n",
       "      <td>0</td>\n",
       "      <td>0</td>\n",
       "      <td>1</td>\n",
       "      <td>0</td>\n",
       "      <td>0</td>\n",
       "      <td>1</td>\n",
       "    </tr>\n",
       "    <tr>\n",
       "      <th>33293</th>\n",
       "      <td>S6NJ00289</td>\n",
       "      <td>MENENDEZ-ROBERT</td>\n",
       "      <td>20.0</td>\n",
       "      <td>0</td>\n",
       "      <td>0</td>\n",
       "      <td>0</td>\n",
       "      <td>0</td>\n",
       "      <td>0</td>\n",
       "      <td>1</td>\n",
       "      <td>0</td>\n",
       "      <td>0</td>\n",
       "      <td>1</td>\n",
       "    </tr>\n",
       "  </tbody>\n",
       "</table>\n",
       "</div>"
      ],
      "text/plain": [
       "          can_id          can_nam  dis_amo  networking  paycheck  eat  brain  \\\n",
       "33286  S6NJ00289  MENENDEZ-ROBERT   2373.8           0         1    0      0   \n",
       "33287  S6NJ00289  MENENDEZ-ROBERT     50.6           0         0    0      0   \n",
       "33288  S6NJ00289  MENENDEZ-ROBERT   3309.2           0         1    0      0   \n",
       "33291  S6NJ00289  MENENDEZ-ROBERT     15.0           0         0    0      0   \n",
       "33293  S6NJ00289  MENENDEZ-ROBERT     20.0           0         0    0      0   \n",
       "\n",
       "       advertising  operationcost  travel  finance  win  \n",
       "33286            0              0       0        0    1  \n",
       "33287            0              1       0        0    1  \n",
       "33288            0              0       0        0    1  \n",
       "33291            0              1       0        0    1  \n",
       "33293            0              1       0        0    1  "
      ]
     },
     "execution_count": 40,
     "metadata": {},
     "output_type": "execute_result"
    }
   ],
   "source": [
    "df_2018_main_h = df_2018_main[df_2018_main['can_off'] == 'H'][['can_id', 'can_nam','dis_amo','networking', \\\n",
    "                                                               'paycheck', \\\n",
    "                'eat', 'brain', 'advertising', 'operationcost', 'travel', 'finance', 'win']]\n",
    "df_2018_main_s = df_2018_main[df_2018_main['can_off'] == 'S'][['can_id', 'can_nam','dis_amo','networking', 'paycheck', \\\n",
    "                'eat', 'brain', 'advertising', 'operationcost', 'travel', 'finance', 'win']]\n",
    "df_2018_main_h.head()\n",
    "df_2018_main_s.head()"
   ]
  },
  {
   "cell_type": "markdown",
   "metadata": {},
   "source": [
    "## <li>House representatives' expense pattern exploration"
   ]
  },
  {
   "cell_type": "code",
   "execution_count": 41,
   "metadata": {},
   "outputs": [
    {
     "data": {
      "text/plain": [
       "2095"
      ]
     },
     "execution_count": 41,
     "metadata": {},
     "output_type": "execute_result"
    },
    {
     "data": {
      "text/plain": [
       "2093"
      ]
     },
     "execution_count": 41,
     "metadata": {},
     "output_type": "execute_result"
    }
   ],
   "source": [
    "df_2018_main_h.can_id.nunique()\n",
    "df_2018_main_h.can_nam.nunique()"
   ]
  },
  {
   "cell_type": "code",
   "execution_count": 42,
   "metadata": {},
   "outputs": [
    {
     "data": {
      "text/plain": [
       "227"
      ]
     },
     "execution_count": 42,
     "metadata": {},
     "output_type": "execute_result"
    },
    {
     "data": {
      "text/plain": [
       "225"
      ]
     },
     "execution_count": 42,
     "metadata": {},
     "output_type": "execute_result"
    }
   ],
   "source": [
    "df_2018_main_s.can_id.nunique()\n",
    "df_2018_main_s.can_nam.nunique()"
   ]
  },
  {
   "cell_type": "code",
   "execution_count": 43,
   "metadata": {},
   "outputs": [
    {
     "data": {
      "text/html": [
       "<div>\n",
       "<style scoped>\n",
       "    .dataframe tbody tr th:only-of-type {\n",
       "        vertical-align: middle;\n",
       "    }\n",
       "\n",
       "    .dataframe tbody tr th {\n",
       "        vertical-align: top;\n",
       "    }\n",
       "\n",
       "    .dataframe thead th {\n",
       "        text-align: right;\n",
       "    }\n",
       "</style>\n",
       "<table border=\"1\" class=\"dataframe\">\n",
       "  <thead>\n",
       "    <tr style=\"text-align: right;\">\n",
       "      <th></th>\n",
       "      <th>can_id</th>\n",
       "      <th>can_nam</th>\n",
       "      <th>dis_amo</th>\n",
       "      <th>networking</th>\n",
       "      <th>paycheck</th>\n",
       "      <th>eat</th>\n",
       "      <th>brain</th>\n",
       "      <th>advertising</th>\n",
       "      <th>operationcost</th>\n",
       "      <th>travel</th>\n",
       "      <th>finance</th>\n",
       "      <th>win</th>\n",
       "    </tr>\n",
       "  </thead>\n",
       "  <tbody>\n",
       "    <tr>\n",
       "      <th>0</th>\n",
       "      <td>H6AK00045</td>\n",
       "      <td>YOUNG-DONALD-E</td>\n",
       "      <td>300.0</td>\n",
       "      <td>0</td>\n",
       "      <td>0</td>\n",
       "      <td>0</td>\n",
       "      <td>0</td>\n",
       "      <td>0</td>\n",
       "      <td>1</td>\n",
       "      <td>0</td>\n",
       "      <td>0</td>\n",
       "      <td>1</td>\n",
       "    </tr>\n",
       "    <tr>\n",
       "      <th>1</th>\n",
       "      <td>H6AK00045</td>\n",
       "      <td>YOUNG-DONALD-E</td>\n",
       "      <td>3415.0</td>\n",
       "      <td>0</td>\n",
       "      <td>1</td>\n",
       "      <td>0</td>\n",
       "      <td>0</td>\n",
       "      <td>0</td>\n",
       "      <td>0</td>\n",
       "      <td>0</td>\n",
       "      <td>0</td>\n",
       "      <td>1</td>\n",
       "    </tr>\n",
       "    <tr>\n",
       "      <th>2</th>\n",
       "      <td>H6AK00045</td>\n",
       "      <td>YOUNG-DONALD-E</td>\n",
       "      <td>2.0</td>\n",
       "      <td>0</td>\n",
       "      <td>0</td>\n",
       "      <td>0</td>\n",
       "      <td>0</td>\n",
       "      <td>0</td>\n",
       "      <td>1</td>\n",
       "      <td>0</td>\n",
       "      <td>0</td>\n",
       "      <td>1</td>\n",
       "    </tr>\n",
       "    <tr>\n",
       "      <th>3</th>\n",
       "      <td>H6AK00045</td>\n",
       "      <td>YOUNG-DONALD-E</td>\n",
       "      <td>7000.0</td>\n",
       "      <td>0</td>\n",
       "      <td>0</td>\n",
       "      <td>0</td>\n",
       "      <td>0</td>\n",
       "      <td>1</td>\n",
       "      <td>0</td>\n",
       "      <td>0</td>\n",
       "      <td>0</td>\n",
       "      <td>1</td>\n",
       "    </tr>\n",
       "    <tr>\n",
       "      <th>4</th>\n",
       "      <td>H6AK00045</td>\n",
       "      <td>YOUNG-DONALD-E</td>\n",
       "      <td>1394.5</td>\n",
       "      <td>0</td>\n",
       "      <td>0</td>\n",
       "      <td>0</td>\n",
       "      <td>0</td>\n",
       "      <td>0</td>\n",
       "      <td>1</td>\n",
       "      <td>0</td>\n",
       "      <td>0</td>\n",
       "      <td>1</td>\n",
       "    </tr>\n",
       "  </tbody>\n",
       "</table>\n",
       "</div>"
      ],
      "text/plain": [
       "      can_id         can_nam  dis_amo  networking  paycheck  eat  brain  \\\n",
       "0  H6AK00045  YOUNG-DONALD-E    300.0           0         0    0      0   \n",
       "1  H6AK00045  YOUNG-DONALD-E   3415.0           0         1    0      0   \n",
       "2  H6AK00045  YOUNG-DONALD-E      2.0           0         0    0      0   \n",
       "3  H6AK00045  YOUNG-DONALD-E   7000.0           0         0    0      0   \n",
       "4  H6AK00045  YOUNG-DONALD-E   1394.5           0         0    0      0   \n",
       "\n",
       "   advertising  operationcost  travel  finance  win  \n",
       "0            0              1       0        0    1  \n",
       "1            0              0       0        0    1  \n",
       "2            0              1       0        0    1  \n",
       "3            1              0       0        0    1  \n",
       "4            0              1       0        0    1  "
      ]
     },
     "execution_count": 43,
     "metadata": {},
     "output_type": "execute_result"
    },
    {
     "data": {
      "text/html": [
       "<div>\n",
       "<style scoped>\n",
       "    .dataframe tbody tr th:only-of-type {\n",
       "        vertical-align: middle;\n",
       "    }\n",
       "\n",
       "    .dataframe tbody tr th {\n",
       "        vertical-align: top;\n",
       "    }\n",
       "\n",
       "    .dataframe thead th {\n",
       "        text-align: right;\n",
       "    }\n",
       "</style>\n",
       "<table border=\"1\" class=\"dataframe\">\n",
       "  <thead>\n",
       "    <tr style=\"text-align: right;\">\n",
       "      <th></th>\n",
       "      <th>can_id</th>\n",
       "      <th>can_nam</th>\n",
       "      <th>dis_amo</th>\n",
       "      <th>networking</th>\n",
       "      <th>paycheck</th>\n",
       "      <th>eat</th>\n",
       "      <th>brain</th>\n",
       "      <th>advertising</th>\n",
       "      <th>operationcost</th>\n",
       "      <th>travel</th>\n",
       "      <th>finance</th>\n",
       "      <th>win</th>\n",
       "    </tr>\n",
       "  </thead>\n",
       "  <tbody>\n",
       "    <tr>\n",
       "      <th>33286</th>\n",
       "      <td>S6NJ00289</td>\n",
       "      <td>MENENDEZ-ROBERT</td>\n",
       "      <td>2373.8</td>\n",
       "      <td>0</td>\n",
       "      <td>1</td>\n",
       "      <td>0</td>\n",
       "      <td>0</td>\n",
       "      <td>0</td>\n",
       "      <td>0</td>\n",
       "      <td>0</td>\n",
       "      <td>0</td>\n",
       "      <td>1</td>\n",
       "    </tr>\n",
       "    <tr>\n",
       "      <th>33287</th>\n",
       "      <td>S6NJ00289</td>\n",
       "      <td>MENENDEZ-ROBERT</td>\n",
       "      <td>50.6</td>\n",
       "      <td>0</td>\n",
       "      <td>0</td>\n",
       "      <td>0</td>\n",
       "      <td>0</td>\n",
       "      <td>0</td>\n",
       "      <td>1</td>\n",
       "      <td>0</td>\n",
       "      <td>0</td>\n",
       "      <td>1</td>\n",
       "    </tr>\n",
       "    <tr>\n",
       "      <th>33288</th>\n",
       "      <td>S6NJ00289</td>\n",
       "      <td>MENENDEZ-ROBERT</td>\n",
       "      <td>3309.2</td>\n",
       "      <td>0</td>\n",
       "      <td>1</td>\n",
       "      <td>0</td>\n",
       "      <td>0</td>\n",
       "      <td>0</td>\n",
       "      <td>0</td>\n",
       "      <td>0</td>\n",
       "      <td>0</td>\n",
       "      <td>1</td>\n",
       "    </tr>\n",
       "    <tr>\n",
       "      <th>33291</th>\n",
       "      <td>S6NJ00289</td>\n",
       "      <td>MENENDEZ-ROBERT</td>\n",
       "      <td>15.0</td>\n",
       "      <td>0</td>\n",
       "      <td>0</td>\n",
       "      <td>0</td>\n",
       "      <td>0</td>\n",
       "      <td>0</td>\n",
       "      <td>1</td>\n",
       "      <td>0</td>\n",
       "      <td>0</td>\n",
       "      <td>1</td>\n",
       "    </tr>\n",
       "    <tr>\n",
       "      <th>33293</th>\n",
       "      <td>S6NJ00289</td>\n",
       "      <td>MENENDEZ-ROBERT</td>\n",
       "      <td>20.0</td>\n",
       "      <td>0</td>\n",
       "      <td>0</td>\n",
       "      <td>0</td>\n",
       "      <td>0</td>\n",
       "      <td>0</td>\n",
       "      <td>1</td>\n",
       "      <td>0</td>\n",
       "      <td>0</td>\n",
       "      <td>1</td>\n",
       "    </tr>\n",
       "  </tbody>\n",
       "</table>\n",
       "</div>"
      ],
      "text/plain": [
       "          can_id          can_nam  dis_amo  networking  paycheck  eat  brain  \\\n",
       "33286  S6NJ00289  MENENDEZ-ROBERT   2373.8           0         1    0      0   \n",
       "33287  S6NJ00289  MENENDEZ-ROBERT     50.6           0         0    0      0   \n",
       "33288  S6NJ00289  MENENDEZ-ROBERT   3309.2           0         1    0      0   \n",
       "33291  S6NJ00289  MENENDEZ-ROBERT     15.0           0         0    0      0   \n",
       "33293  S6NJ00289  MENENDEZ-ROBERT     20.0           0         0    0      0   \n",
       "\n",
       "       advertising  operationcost  travel  finance  win  \n",
       "33286            0              0       0        0    1  \n",
       "33287            0              1       0        0    1  \n",
       "33288            0              0       0        0    1  \n",
       "33291            0              1       0        0    1  \n",
       "33293            0              1       0        0    1  "
      ]
     },
     "execution_count": 43,
     "metadata": {},
     "output_type": "execute_result"
    }
   ],
   "source": [
    "df_2018_main_h.head()\n",
    "df_2018_main_s.head()"
   ]
  },
  {
   "cell_type": "code",
   "execution_count": 44,
   "metadata": {},
   "outputs": [],
   "source": [
    "df_2018_main_h_networking = df_2018_main_h[df_2018_main_h.networking==1].groupby('can_nam')\\\n",
    "[['dis_amo']].sum().rename(columns={'dis_amo':'h_networking_exp'})\n",
    "df_2018_main_h_paycheck = df_2018_main_h[df_2018_main_h.paycheck==1].groupby('can_nam')\\\n",
    "[['dis_amo']].sum().rename(columns={'dis_amo':'h_paycheck_exp'})\n",
    "df_2018_main_h_eat = df_2018_main_h[df_2018_main_h.eat==1].groupby('can_nam')\\\n",
    "[['dis_amo']].sum().rename(columns={'dis_amo':'h_eat_exp'})\n",
    "df_2018_main_h_brain = df_2018_main_h[df_2018_main_h.brain==1].groupby('can_nam')\\\n",
    "[['dis_amo']].sum().rename(columns={'dis_amo':'h_brain_exp'})\n",
    "df_2018_main_h_advertising = df_2018_main_h[df_2018_main_h.advertising==1].groupby('can_nam')\\\n",
    "[['dis_amo']].sum().rename(columns={'dis_amo':'h_advertising_exp'})\n",
    "df_2018_main_h_operationcost = df_2018_main_h[df_2018_main_h.operationcost==1].groupby('can_nam')\\\n",
    "[['dis_amo']].sum().rename(columns={'dis_amo':'h_operationcost_exp'})\n",
    "df_2018_main_h_travel = df_2018_main_h[df_2018_main_h.travel==1].groupby('can_nam')\\\n",
    "[['dis_amo']].sum().rename(columns={'dis_amo':'h_travel_exp'})\n",
    "df_2018_main_h_finance = df_2018_main_h[df_2018_main_h.finance==1].groupby('can_nam')\\\n",
    "[['dis_amo']].sum().rename(columns={'dis_amo':'h_finance_exp'})\n",
    "df_2018_main_h_win = df_2018_main_h[df_2018_main_h.win==1].groupby('can_nam')\\\n",
    "[['win']].sum().rename(columns={'win':'h_winnerentries'})\n",
    "df_2018_main_h_win['h_winner'] = df_2018_main_h_win.h_winnerentries.apply(lambda x: 1 if x>1 else 0)\n",
    "df_2018_main_h_win.drop(columns='h_winnerentries',inplace=True)"
   ]
  },
  {
   "cell_type": "code",
   "execution_count": 45,
   "metadata": {
    "scrolled": true
   },
   "outputs": [
    {
     "data": {
      "text/plain": [
       "2093"
      ]
     },
     "execution_count": 45,
     "metadata": {},
     "output_type": "execute_result"
    }
   ],
   "source": [
    "df_2018_main_h_m1 = df_2018_main_h_networking.merge(df_2018_main_h_paycheck, \\\n",
    "                                              left_on='can_nam', right_on='can_nam', how='outer')\n",
    "df_2018_main_h_m2 = df_2018_main_h_m1.merge(df_2018_main_h_eat, \\\n",
    "                                              left_on='can_nam', right_on='can_nam', how='outer')\n",
    "df_2018_main_h_m3 = df_2018_main_h_m2.merge(df_2018_main_h_brain, \\\n",
    "                                              left_on='can_nam', right_on='can_nam', how='outer')\n",
    "df_2018_main_h_m4 = df_2018_main_h_m3.merge(df_2018_main_h_advertising, \\\n",
    "                                              left_on='can_nam', right_on='can_nam', how='outer')\n",
    "df_2018_main_h_m5 = df_2018_main_h_m4.merge(df_2018_main_h_operationcost, \\\n",
    "                                              left_on='can_nam', right_on='can_nam', how='outer')\n",
    "df_2018_main_h_m6 = df_2018_main_h_m5.merge(df_2018_main_h_travel, \\\n",
    "                                              left_on='can_nam', right_on='can_nam', how='outer')\n",
    "df_2018_main_h_m7 = df_2018_main_h_m6.merge(df_2018_main_h_finance, \\\n",
    "                                              left_on='can_nam', right_on='can_nam', how='outer')\n",
    "df_2018_main_h_m8 = df_2018_main_h_m7.merge(df_2018_main_h_win, \\\n",
    "                                              left_on='can_nam', right_on='can_nam', how='outer')\n",
    "df_2018_main_h_m = df_2018_main_h_m8.fillna(0)\n",
    "len(df_2018_main_h_m)"
   ]
  },
  {
   "cell_type": "code",
   "execution_count": 46,
   "metadata": {},
   "outputs": [
    {
     "data": {
      "text/plain": [
       "DecisionTreeClassifier(class_weight=None, criterion='gini', max_depth=1,\n",
       "                       max_features=None, max_leaf_nodes=None,\n",
       "                       min_impurity_decrease=0.0, min_impurity_split=None,\n",
       "                       min_samples_leaf=1, min_samples_split=2,\n",
       "                       min_weight_fraction_leaf=0.0, presort=False,\n",
       "                       random_state=None, splitter='best')"
      ]
     },
     "execution_count": 46,
     "metadata": {},
     "output_type": "execute_result"
    }
   ],
   "source": [
    "Y = df_2018_main_h_m.h_winner\n",
    "X = df_2018_main_h_m.drop('h_winner', axis=1)\n",
    "dt=tree.DecisionTreeClassifier(max_depth=1)\n",
    "dt.fit(X,Y)"
   ]
  },
  {
   "cell_type": "code",
   "execution_count": 47,
   "metadata": {
    "scrolled": false
   },
   "outputs": [
    {
     "data": {
      "image/png": "[encoded data removed]",
      "text/plain": [
       "<IPython.core.display.Image object>"
      ]
     },
     "execution_count": 47,
     "metadata": {},
     "output_type": "execute_result"
    }
   ],
   "source": [
    "dt_feature_names = list(X.columns)\n",
    "dt_target_names = [str(s) for s in Y.unique()]\n",
    "tree.export_graphviz(dt, out_file='tree.dot', \n",
    "    feature_names=dt_feature_names, class_names=dt_target_names,\n",
    "    filled=True)  \n",
    "graph = pydotplus.graph_from_dot_file('tree.dot')\n",
    "Image(graph.create_png())"
   ]
  },
  {
   "cell_type": "code",
   "execution_count": 48,
   "metadata": {
    "scrolled": true
   },
   "outputs": [
    {
     "data": {
      "text/plain": [
       "count    2.1e+03\n",
       "mean     4.2e+04\n",
       "std      1.5e+05\n",
       "min      0.0e+00\n",
       "25%      0.0e+00\n",
       "50%      2.5e+03\n",
       "75%      2.0e+04\n",
       "max      3.9e+06\n",
       "Name: h_networking_exp, dtype: float64"
      ]
     },
     "execution_count": 48,
     "metadata": {},
     "output_type": "execute_result"
    }
   ],
   "source": [
    "df_2018_main_h_m.h_networking_exp.describe()"
   ]
  },
  {
   "cell_type": "code",
   "execution_count": 75,
   "metadata": {},
   "outputs": [
    {
     "data": {
      "text/plain": [
       "<seaborn.axisgrid.FacetGrid at 0x1a2eb84860>"
      ]
     },
     "execution_count": 75,
     "metadata": {},
     "output_type": "execute_result"
    },
    {
     "data": {
      "image/png": "[encoded data removed]",
      "text/plain": [
       "<Figure size 1080x360 with 1 Axes>"
      ]
     },
     "metadata": {
      "needs_background": "light"
     },
     "output_type": "display_data"
    }
   ],
   "source": [
    "df_2018_main_h_m['networkingmoney']=pd.cut(df_2018_main_h_m.h_networking_exp, \\\n",
    "                                           bins=(0,2500,20000,26143,100000, 500000,1000000, 2000000,4000000))\n",
    "sns.factorplot(x='networkingmoney', y='h_winner', kind = 'bar', data=df_2018_main_h_m, aspect=3)"
   ]
  },
  {
   "cell_type": "code",
   "execution_count": 50,
   "metadata": {
    "scrolled": false
   },
   "outputs": [
    {
     "data": {
      "text/html": [
       "<div>\n",
       "<style scoped>\n",
       "    .dataframe tbody tr th:only-of-type {\n",
       "        vertical-align: middle;\n",
       "    }\n",
       "\n",
       "    .dataframe tbody tr th {\n",
       "        vertical-align: top;\n",
       "    }\n",
       "\n",
       "    .dataframe thead th {\n",
       "        text-align: right;\n",
       "    }\n",
       "</style>\n",
       "<table border=\"1\" class=\"dataframe\">\n",
       "  <thead>\n",
       "    <tr style=\"text-align: right;\">\n",
       "      <th></th>\n",
       "      <th>h_networking_exp</th>\n",
       "      <th>h_paycheck_exp</th>\n",
       "      <th>h_eat_exp</th>\n",
       "      <th>h_brain_exp</th>\n",
       "      <th>h_advertising_exp</th>\n",
       "      <th>h_operationcost_exp</th>\n",
       "      <th>h_travel_exp</th>\n",
       "      <th>h_finance_exp</th>\n",
       "      <th>h_winner</th>\n",
       "      <th>networkingmoney</th>\n",
       "    </tr>\n",
       "    <tr>\n",
       "      <th>can_nam</th>\n",
       "      <th></th>\n",
       "      <th></th>\n",
       "      <th></th>\n",
       "      <th></th>\n",
       "      <th></th>\n",
       "      <th></th>\n",
       "      <th></th>\n",
       "      <th></th>\n",
       "      <th></th>\n",
       "      <th></th>\n",
       "    </tr>\n",
       "  </thead>\n",
       "  <tbody>\n",
       "    <tr>\n",
       "      <th>AARESTAD-DAVID</th>\n",
       "      <td>3000.0</td>\n",
       "      <td>113941.0</td>\n",
       "      <td>0.0</td>\n",
       "      <td>44245.6</td>\n",
       "      <td>6903.0</td>\n",
       "      <td>12937.6</td>\n",
       "      <td>660.2</td>\n",
       "      <td>0.0</td>\n",
       "      <td>0.0</td>\n",
       "      <td>(2500, 20000]</td>\n",
       "    </tr>\n",
       "    <tr>\n",
       "      <th>ABDULAHI-JAMAL-MR.</th>\n",
       "      <td>14305.4</td>\n",
       "      <td>0.0</td>\n",
       "      <td>887.8</td>\n",
       "      <td>5128.3</td>\n",
       "      <td>2600.0</td>\n",
       "      <td>50524.8</td>\n",
       "      <td>1760.1</td>\n",
       "      <td>0.0</td>\n",
       "      <td>0.0</td>\n",
       "      <td>(2500, 20000]</td>\n",
       "    </tr>\n",
       "    <tr>\n",
       "      <th>ABEL-KEVIN</th>\n",
       "      <td>3416.8</td>\n",
       "      <td>83290.8</td>\n",
       "      <td>5193.6</td>\n",
       "      <td>68858.8</td>\n",
       "      <td>565480.8</td>\n",
       "      <td>71593.7</td>\n",
       "      <td>1166.6</td>\n",
       "      <td>8899.5</td>\n",
       "      <td>0.0</td>\n",
       "      <td>(2500, 20000]</td>\n",
       "    </tr>\n",
       "    <tr>\n",
       "      <th>ABRAHAM-RALPH-LEE-DR.-JR.</th>\n",
       "      <td>104094.7</td>\n",
       "      <td>0.0</td>\n",
       "      <td>7363.8</td>\n",
       "      <td>373937.2</td>\n",
       "      <td>387936.0</td>\n",
       "      <td>37619.5</td>\n",
       "      <td>11799.1</td>\n",
       "      <td>94095.4</td>\n",
       "      <td>1.0</td>\n",
       "      <td>(100000, 500000]</td>\n",
       "    </tr>\n",
       "    <tr>\n",
       "      <th>ABROMS-DAVID</th>\n",
       "      <td>3963.8</td>\n",
       "      <td>0.0</td>\n",
       "      <td>0.0</td>\n",
       "      <td>167488.6</td>\n",
       "      <td>49256.2</td>\n",
       "      <td>33837.3</td>\n",
       "      <td>7728.0</td>\n",
       "      <td>0.0</td>\n",
       "      <td>0.0</td>\n",
       "      <td>(2500, 20000]</td>\n",
       "    </tr>\n",
       "  </tbody>\n",
       "</table>\n",
       "</div>"
      ],
      "text/plain": [
       "                           h_networking_exp  h_paycheck_exp  h_eat_exp  \\\n",
       "can_nam                                                                  \n",
       "AARESTAD-DAVID                       3000.0        113941.0        0.0   \n",
       "ABDULAHI-JAMAL-MR.                  14305.4             0.0      887.8   \n",
       "ABEL-KEVIN                           3416.8         83290.8     5193.6   \n",
       "ABRAHAM-RALPH-LEE-DR.-JR.          104094.7             0.0     7363.8   \n",
       "ABROMS-DAVID                         3963.8             0.0        0.0   \n",
       "\n",
       "                           h_brain_exp  h_advertising_exp  \\\n",
       "can_nam                                                     \n",
       "AARESTAD-DAVID                 44245.6             6903.0   \n",
       "ABDULAHI-JAMAL-MR.              5128.3             2600.0   \n",
       "ABEL-KEVIN                     68858.8           565480.8   \n",
       "ABRAHAM-RALPH-LEE-DR.-JR.     373937.2           387936.0   \n",
       "ABROMS-DAVID                  167488.6            49256.2   \n",
       "\n",
       "                           h_operationcost_exp  h_travel_exp  h_finance_exp  \\\n",
       "can_nam                                                                       \n",
       "AARESTAD-DAVID                         12937.6         660.2            0.0   \n",
       "ABDULAHI-JAMAL-MR.                     50524.8        1760.1            0.0   \n",
       "ABEL-KEVIN                             71593.7        1166.6         8899.5   \n",
       "ABRAHAM-RALPH-LEE-DR.-JR.              37619.5       11799.1        94095.4   \n",
       "ABROMS-DAVID                           33837.3        7728.0            0.0   \n",
       "\n",
       "                           h_winner   networkingmoney  \n",
       "can_nam                                                \n",
       "AARESTAD-DAVID                  0.0     (2500, 20000]  \n",
       "ABDULAHI-JAMAL-MR.              0.0     (2500, 20000]  \n",
       "ABEL-KEVIN                      0.0     (2500, 20000]  \n",
       "ABRAHAM-RALPH-LEE-DR.-JR.       1.0  (100000, 500000]  \n",
       "ABROMS-DAVID                    0.0     (2500, 20000]  "
      ]
     },
     "execution_count": 50,
     "metadata": {},
     "output_type": "execute_result"
    }
   ],
   "source": [
    "df_2018_main_h_m.head()"
   ]
  },
  {
   "cell_type": "code",
   "execution_count": 51,
   "metadata": {
    "scrolled": false
   },
   "outputs": [
    {
     "data": {
      "text/plain": [
       "88291281.65"
      ]
     },
     "execution_count": 51,
     "metadata": {},
     "output_type": "execute_result"
    }
   ],
   "source": [
    "df_2018_main_h_m.h_networking_exp.sum() # 88.3 millions$"
   ]
  },
  {
   "cell_type": "code",
   "execution_count": 52,
   "metadata": {},
   "outputs": [
    {
     "data": {
      "text/plain": [
       "151327111.22"
      ]
     },
     "execution_count": 52,
     "metadata": {},
     "output_type": "execute_result"
    }
   ],
   "source": [
    "df_2018_main_h_m.h_paycheck_exp.sum() # 151.3 millions$"
   ]
  },
  {
   "cell_type": "code",
   "execution_count": 53,
   "metadata": {
    "scrolled": true
   },
   "outputs": [
    {
     "data": {
      "text/plain": [
       "9017008.74"
      ]
     },
     "execution_count": 53,
     "metadata": {},
     "output_type": "execute_result"
    }
   ],
   "source": [
    "df_2018_main_h_m.h_eat_exp.sum() # 9 millions$"
   ]
  },
  {
   "cell_type": "code",
   "execution_count": 54,
   "metadata": {},
   "outputs": [
    {
     "data": {
      "text/plain": [
       "202143112.62"
      ]
     },
     "execution_count": 54,
     "metadata": {},
     "output_type": "execute_result"
    }
   ],
   "source": [
    "df_2018_main_h_m.h_brain_exp.sum() # 202.1 millions$"
   ]
  },
  {
   "cell_type": "code",
   "execution_count": 55,
   "metadata": {},
   "outputs": [
    {
     "data": {
      "text/plain": [
       "693478394.56"
      ]
     },
     "execution_count": 55,
     "metadata": {},
     "output_type": "execute_result"
    }
   ],
   "source": [
    "df_2018_main_h_m.h_advertising_exp.sum() # 693.5 millions$"
   ]
  },
  {
   "cell_type": "code",
   "execution_count": 56,
   "metadata": {
    "scrolled": false
   },
   "outputs": [
    {
     "data": {
      "text/plain": [
       "158355931.14"
      ]
     },
     "execution_count": 56,
     "metadata": {},
     "output_type": "execute_result"
    }
   ],
   "source": [
    "df_2018_main_h_m.h_operationcost_exp.sum() # 158.4 millions$"
   ]
  },
  {
   "cell_type": "code",
   "execution_count": 57,
   "metadata": {},
   "outputs": [
    {
     "data": {
      "text/plain": [
       "42058259.64"
      ]
     },
     "execution_count": 57,
     "metadata": {},
     "output_type": "execute_result"
    }
   ],
   "source": [
    "df_2018_main_h_m.h_travel_exp.sum() # 42.1 millions$"
   ]
  },
  {
   "cell_type": "code",
   "execution_count": 58,
   "metadata": {},
   "outputs": [
    {
     "data": {
      "text/plain": [
       "158802520.45"
      ]
     },
     "execution_count": 58,
     "metadata": {},
     "output_type": "execute_result"
    }
   ],
   "source": [
    "df_2018_main_h_m.h_finance_exp.sum() # 158.8 millions$"
   ]
  },
  {
   "cell_type": "markdown",
   "metadata": {},
   "source": [
    "### <div class=\"alert alert-block alert-warning\"><li>Conclusion and Managerial Insight<br><br>From the decision tree and chart above, we could see that networking is the most critical factor to winning the House election. To secure the election result, at least half a million should be spent on networking activities such as event, gift, donation etc.<br><br>When compared with the expense totals of each category, we find that even thought advertising costs the most in a campaign trial, it's not the critical factor of a candidats's winning!<br><br>For candidates running for an M.H.R. seat, the best strategy is to spend about 1 million dollars on networking and try to cut down advertising cost, think tank cost and operation cost."
   ]
  },
  {
   "cell_type": "markdown",
   "metadata": {},
   "source": [
    "## <li>Senate candidates' expense pattern exploration"
   ]
  },
  {
   "cell_type": "code",
   "execution_count": 59,
   "metadata": {},
   "outputs": [],
   "source": [
    "df_2018_main_s_networking = df_2018_main_s[df_2018_main_s.networking==1].groupby('can_nam')\\\n",
    "[['dis_amo']].sum().rename(columns={'dis_amo':'s_networking_exp'})\n",
    "df_2018_main_s_paycheck = df_2018_main_s[df_2018_main_s.paycheck==1].groupby('can_nam')\\\n",
    "[['dis_amo']].sum().rename(columns={'dis_amo':'s_paycheck_exp'})\n",
    "df_2018_main_s_eat = df_2018_main_s[df_2018_main_s.eat==1].groupby('can_nam')\\\n",
    "[['dis_amo']].sum().rename(columns={'dis_amo':'s_eat_exp'})\n",
    "df_2018_main_s_brain = df_2018_main_s[df_2018_main_s.brain==1].groupby('can_nam')\\\n",
    "[['dis_amo']].sum().rename(columns={'dis_amo':'s_brain_exp'})\n",
    "df_2018_main_s_advertising = df_2018_main_s[df_2018_main_s.advertising==1].groupby('can_nam')\\\n",
    "[['dis_amo']].sum().rename(columns={'dis_amo':'s_advertising_exp'})\n",
    "df_2018_main_s_operationcost = df_2018_main_s[df_2018_main_s.operationcost==1].groupby('can_nam')\\\n",
    "[['dis_amo']].sum().rename(columns={'dis_amo':'s_operationcost_exp'})\n",
    "df_2018_main_s_travel = df_2018_main_s[df_2018_main_s.travel==1].groupby('can_nam')\\\n",
    "[['dis_amo']].sum().rename(columns={'dis_amo':'s_travel_exp'})\n",
    "df_2018_main_s_finance = df_2018_main_s[df_2018_main_s.finance==1].groupby('can_nam')\\\n",
    "[['dis_amo']].sum().rename(columns={'dis_amo':'s_finance_exp'})\n",
    "df_2018_main_s_win = df_2018_main_s[df_2018_main_s.win==1].groupby('can_nam')\\\n",
    "[['win']].sum().rename(columns={'win':'s_winnerentries'})\n",
    "df_2018_main_s_win['s_winner'] = df_2018_main_s_win.s_winnerentries.apply(lambda x: 1 if x>1 else 0)\n",
    "df_2018_main_s_win.drop(columns='s_winnerentries',inplace=True)"
   ]
  },
  {
   "cell_type": "code",
   "execution_count": 60,
   "metadata": {
    "scrolled": true
   },
   "outputs": [
    {
     "data": {
      "text/plain": [
       "225"
      ]
     },
     "execution_count": 60,
     "metadata": {},
     "output_type": "execute_result"
    }
   ],
   "source": [
    "df_2018_main_s_m1 = df_2018_main_s_networking.merge(df_2018_main_s_paycheck, \\\n",
    "                                              left_on='can_nam', right_on='can_nam', how='outer')\n",
    "df_2018_main_s_m2 = df_2018_main_s_m1.merge(df_2018_main_s_eat, \\\n",
    "                                              left_on='can_nam', right_on='can_nam', how='outer')\n",
    "df_2018_main_s_m3 = df_2018_main_s_m2.merge(df_2018_main_s_brain, \\\n",
    "                                              left_on='can_nam', right_on='can_nam', how='outer')\n",
    "df_2018_main_s_m4 = df_2018_main_s_m3.merge(df_2018_main_s_advertising, \\\n",
    "                                              left_on='can_nam', right_on='can_nam', how='outer')\n",
    "df_2018_main_s_m5 = df_2018_main_s_m4.merge(df_2018_main_s_operationcost, \\\n",
    "                                              left_on='can_nam', right_on='can_nam', how='outer')\n",
    "df_2018_main_s_m6 = df_2018_main_s_m5.merge(df_2018_main_s_travel, \\\n",
    "                                              left_on='can_nam', right_on='can_nam', how='outer')\n",
    "df_2018_main_s_m7 = df_2018_main_s_m6.merge(df_2018_main_s_finance, \\\n",
    "                                              left_on='can_nam', right_on='can_nam', how='outer')\n",
    "df_2018_main_s_m8 = df_2018_main_s_m7.merge(df_2018_main_s_win, \\\n",
    "                                              left_on='can_nam', right_on='can_nam', how='outer')\n",
    "df_2018_main_s_m = df_2018_main_s_m8.fillna(0)\n",
    "len(df_2018_main_s_m)"
   ]
  },
  {
   "cell_type": "code",
   "execution_count": 61,
   "metadata": {},
   "outputs": [
    {
     "data": {
      "text/plain": [
       "DecisionTreeClassifier(class_weight=None, criterion='gini', max_depth=1,\n",
       "                       max_features=None, max_leaf_nodes=None,\n",
       "                       min_impurity_decrease=0.0, min_impurity_split=None,\n",
       "                       min_samples_leaf=1, min_samples_split=2,\n",
       "                       min_weight_fraction_leaf=0.0, presort=False,\n",
       "                       random_state=None, splitter='best')"
      ]
     },
     "execution_count": 61,
     "metadata": {},
     "output_type": "execute_result"
    }
   ],
   "source": [
    "Y = df_2018_main_s_m.s_winner\n",
    "X = df_2018_main_s_m.drop('s_winner', axis=1)\n",
    "dt=tree.DecisionTreeClassifier(max_depth=1)\n",
    "dt.fit(X,Y)"
   ]
  },
  {
   "cell_type": "code",
   "execution_count": 62,
   "metadata": {
    "scrolled": true
   },
   "outputs": [
    {
     "data": {
      "image/png": "[encoded data removed]",
      "text/plain": [
       "<IPython.core.display.Image object>"
      ]
     },
     "execution_count": 62,
     "metadata": {},
     "output_type": "execute_result"
    }
   ],
   "source": [
    "dt_feature_names = list(X.columns)\n",
    "dt_target_names = [str(s) for s in Y.unique()]\n",
    "tree.export_graphviz(dt, out_file='tree.dot', \n",
    "    feature_names=dt_feature_names, class_names=dt_target_names,\n",
    "    filled=True)  \n",
    "graph = pydotplus.graph_from_dot_file('tree.dot')\n",
    "Image(graph.create_png())"
   ]
  },
  {
   "cell_type": "code",
   "execution_count": 63,
   "metadata": {
    "scrolled": false
   },
   "outputs": [
    {
     "data": {
      "text/plain": [
       "count    2.2e+02\n",
       "mean     3.9e+05\n",
       "std      1.2e+06\n",
       "min      0.0e+00\n",
       "25%      0.0e+00\n",
       "50%      2.4e+02\n",
       "75%      2.1e+05\n",
       "max      1.4e+07\n",
       "Name: s_paycheck_exp, dtype: float64"
      ]
     },
     "execution_count": 63,
     "metadata": {},
     "output_type": "execute_result"
    }
   ],
   "source": [
    "df_2018_main_s_m.s_paycheck_exp.describe()"
   ]
  },
  {
   "cell_type": "code",
   "execution_count": 64,
   "metadata": {},
   "outputs": [
    {
     "data": {
      "text/plain": [
       "<matplotlib.axes._subplots.AxesSubplot at 0x1a2f074eb8>"
      ]
     },
     "execution_count": 64,
     "metadata": {},
     "output_type": "execute_result"
    },
    {
     "data": {
      "image/png": "[encoded data removed]",
      "text/plain": [
       "<Figure size 1800x720 with 1 Axes>"
      ]
     },
     "metadata": {
      "needs_background": "light"
     },
     "output_type": "display_data"
    }
   ],
   "source": [
    "sns.distplot(df_2018_main_s_m.s_paycheck_exp, bins=4)"
   ]
  },
  {
   "cell_type": "code",
   "execution_count": 65,
   "metadata": {},
   "outputs": [
    {
     "data": {
      "text/plain": [
       "<seaborn.axisgrid.FacetGrid at 0x1a2ef08240>"
      ]
     },
     "execution_count": 65,
     "metadata": {},
     "output_type": "execute_result"
    },
    {
     "data": {
      "image/png": "[encoded data removed]",
      "text/plain": [
       "<Figure size 1080x360 with 1 Axes>"
      ]
     },
     "metadata": {
      "needs_background": "light"
     },
     "output_type": "display_data"
    }
   ],
   "source": [
    "df_2018_main_s_m['paycheckmoney']=pd.cut(df_2018_main_s_m.s_paycheck_exp, \\\n",
    "                                           bins=(0,210000,414500,1000000,3000000,5000000,14000000))\n",
    "sns.factorplot(x='paycheckmoney', y='s_winner', kind = 'bar', data=df_2018_main_s_m, aspect=3)"
   ]
  },
  {
   "cell_type": "code",
   "execution_count": 66,
   "metadata": {},
   "outputs": [
    {
     "data": {
      "text/html": [
       "<div>\n",
       "<style scoped>\n",
       "    .dataframe tbody tr th:only-of-type {\n",
       "        vertical-align: middle;\n",
       "    }\n",
       "\n",
       "    .dataframe tbody tr th {\n",
       "        vertical-align: top;\n",
       "    }\n",
       "\n",
       "    .dataframe thead th {\n",
       "        text-align: right;\n",
       "    }\n",
       "</style>\n",
       "<table border=\"1\" class=\"dataframe\">\n",
       "  <thead>\n",
       "    <tr style=\"text-align: right;\">\n",
       "      <th></th>\n",
       "      <th>s_networking_exp</th>\n",
       "      <th>s_paycheck_exp</th>\n",
       "      <th>s_eat_exp</th>\n",
       "      <th>s_brain_exp</th>\n",
       "      <th>s_advertising_exp</th>\n",
       "      <th>s_operationcost_exp</th>\n",
       "      <th>s_travel_exp</th>\n",
       "      <th>s_finance_exp</th>\n",
       "      <th>s_winner</th>\n",
       "      <th>paycheckmoney</th>\n",
       "    </tr>\n",
       "    <tr>\n",
       "      <th>can_nam</th>\n",
       "      <th></th>\n",
       "      <th></th>\n",
       "      <th></th>\n",
       "      <th></th>\n",
       "      <th></th>\n",
       "      <th></th>\n",
       "      <th></th>\n",
       "      <th></th>\n",
       "      <th></th>\n",
       "      <th></th>\n",
       "    </tr>\n",
       "  </thead>\n",
       "  <tbody>\n",
       "    <tr>\n",
       "      <th>ABBOUD-DEEDRA</th>\n",
       "      <td>5.0e+03</td>\n",
       "      <td>0.0e+00</td>\n",
       "      <td>196.5</td>\n",
       "      <td>9.8e+03</td>\n",
       "      <td>3.5e+04</td>\n",
       "      <td>3.9e+04</td>\n",
       "      <td>1148.0</td>\n",
       "      <td>3.9e+03</td>\n",
       "      <td>0.0</td>\n",
       "      <td>NaN</td>\n",
       "    </tr>\n",
       "    <tr>\n",
       "      <th>ARPAIO-JOE</th>\n",
       "      <td>5.0e+02</td>\n",
       "      <td>0.0e+00</td>\n",
       "      <td>3246.3</td>\n",
       "      <td>1.6e+06</td>\n",
       "      <td>6.4e+04</td>\n",
       "      <td>6.7e+05</td>\n",
       "      <td>6962.7</td>\n",
       "      <td>4.2e+05</td>\n",
       "      <td>0.0</td>\n",
       "      <td>NaN</td>\n",
       "    </tr>\n",
       "    <tr>\n",
       "      <th>AYERS-CYNTHIA-ELLEN</th>\n",
       "      <td>1.2e+03</td>\n",
       "      <td>0.0e+00</td>\n",
       "      <td>264.0</td>\n",
       "      <td>0.0e+00</td>\n",
       "      <td>2.8e+03</td>\n",
       "      <td>9.0e+03</td>\n",
       "      <td>100.0</td>\n",
       "      <td>0.0e+00</td>\n",
       "      <td>0.0</td>\n",
       "      <td>NaN</td>\n",
       "    </tr>\n",
       "    <tr>\n",
       "      <th>AYYADURAI-SHIVA--DR</th>\n",
       "      <td>1.8e+06</td>\n",
       "      <td>8.0e+05</td>\n",
       "      <td>1352.8</td>\n",
       "      <td>4.5e+04</td>\n",
       "      <td>4.0e+04</td>\n",
       "      <td>1.1e+05</td>\n",
       "      <td>5297.1</td>\n",
       "      <td>0.0e+00</td>\n",
       "      <td>0.0</td>\n",
       "      <td>(414500.0, 1000000.0]</td>\n",
       "    </tr>\n",
       "    <tr>\n",
       "      <th>BALDWIN-TAMMY</th>\n",
       "      <td>1.4e+05</td>\n",
       "      <td>5.8e+06</td>\n",
       "      <td>2562.0</td>\n",
       "      <td>7.0e+05</td>\n",
       "      <td>1.8e+07</td>\n",
       "      <td>1.1e+06</td>\n",
       "      <td>95992.4</td>\n",
       "      <td>4.4e+06</td>\n",
       "      <td>1.0</td>\n",
       "      <td>(5000000.0, 14000000.0]</td>\n",
       "    </tr>\n",
       "  </tbody>\n",
       "</table>\n",
       "</div>"
      ],
      "text/plain": [
       "                     s_networking_exp  s_paycheck_exp  s_eat_exp  s_brain_exp  \\\n",
       "can_nam                                                                         \n",
       "ABBOUD-DEEDRA                 5.0e+03         0.0e+00      196.5      9.8e+03   \n",
       "ARPAIO-JOE                    5.0e+02         0.0e+00     3246.3      1.6e+06   \n",
       "AYERS-CYNTHIA-ELLEN           1.2e+03         0.0e+00      264.0      0.0e+00   \n",
       "AYYADURAI-SHIVA--DR           1.8e+06         8.0e+05     1352.8      4.5e+04   \n",
       "BALDWIN-TAMMY                 1.4e+05         5.8e+06     2562.0      7.0e+05   \n",
       "\n",
       "                     s_advertising_exp  s_operationcost_exp  s_travel_exp  \\\n",
       "can_nam                                                                     \n",
       "ABBOUD-DEEDRA                  3.5e+04              3.9e+04        1148.0   \n",
       "ARPAIO-JOE                     6.4e+04              6.7e+05        6962.7   \n",
       "AYERS-CYNTHIA-ELLEN            2.8e+03              9.0e+03         100.0   \n",
       "AYYADURAI-SHIVA--DR            4.0e+04              1.1e+05        5297.1   \n",
       "BALDWIN-TAMMY                  1.8e+07              1.1e+06       95992.4   \n",
       "\n",
       "                     s_finance_exp  s_winner            paycheckmoney  \n",
       "can_nam                                                                \n",
       "ABBOUD-DEEDRA              3.9e+03       0.0                      NaN  \n",
       "ARPAIO-JOE                 4.2e+05       0.0                      NaN  \n",
       "AYERS-CYNTHIA-ELLEN        0.0e+00       0.0                      NaN  \n",
       "AYYADURAI-SHIVA--DR        0.0e+00       0.0    (414500.0, 1000000.0]  \n",
       "BALDWIN-TAMMY              4.4e+06       1.0  (5000000.0, 14000000.0]  "
      ]
     },
     "execution_count": 66,
     "metadata": {},
     "output_type": "execute_result"
    }
   ],
   "source": [
    "df_2018_main_s_m.head()"
   ]
  },
  {
   "cell_type": "code",
   "execution_count": 67,
   "metadata": {
    "scrolled": true
   },
   "outputs": [
    {
     "data": {
      "text/plain": [
       "21408619.690000005"
      ]
     },
     "execution_count": 67,
     "metadata": {},
     "output_type": "execute_result"
    }
   ],
   "source": [
    "df_2018_main_s_m.s_networking_exp.sum() # 21.4 millions$"
   ]
  },
  {
   "cell_type": "code",
   "execution_count": 68,
   "metadata": {},
   "outputs": [
    {
     "data": {
      "text/plain": [
       "88087126.21000013"
      ]
     },
     "execution_count": 68,
     "metadata": {},
     "output_type": "execute_result"
    }
   ],
   "source": [
    "df_2018_main_s_m.s_paycheck_exp.sum() # 88.1 millions$"
   ]
  },
  {
   "cell_type": "code",
   "execution_count": 69,
   "metadata": {},
   "outputs": [
    {
     "data": {
      "text/plain": [
       "1871219.4999999998"
      ]
     },
     "execution_count": 69,
     "metadata": {},
     "output_type": "execute_result"
    }
   ],
   "source": [
    "df_2018_main_s_m.s_eat_exp.sum() # 1.9 millioins$"
   ]
  },
  {
   "cell_type": "code",
   "execution_count": 70,
   "metadata": {},
   "outputs": [
    {
     "data": {
      "text/plain": [
       "96204947.94999999"
      ]
     },
     "execution_count": 70,
     "metadata": {},
     "output_type": "execute_result"
    }
   ],
   "source": [
    "df_2018_main_s_m.s_brain_exp.sum() # 96.2 millions$"
   ]
  },
  {
   "cell_type": "code",
   "execution_count": 71,
   "metadata": {},
   "outputs": [
    {
     "data": {
      "text/plain": [
       "560920300.37"
      ]
     },
     "execution_count": 71,
     "metadata": {},
     "output_type": "execute_result"
    }
   ],
   "source": [
    "df_2018_main_s_m.s_advertising_exp.sum() # 561.0 millions$"
   ]
  },
  {
   "cell_type": "code",
   "execution_count": 72,
   "metadata": {},
   "outputs": [
    {
     "data": {
      "text/plain": [
       "78198938.74999999"
      ]
     },
     "execution_count": 72,
     "metadata": {},
     "output_type": "execute_result"
    }
   ],
   "source": [
    "df_2018_main_s_m.s_operationcost_exp.sum() #78.2 millions$"
   ]
  },
  {
   "cell_type": "code",
   "execution_count": 73,
   "metadata": {},
   "outputs": [
    {
     "data": {
      "text/plain": [
       "21901165.129999973"
      ]
     },
     "execution_count": 73,
     "metadata": {},
     "output_type": "execute_result"
    }
   ],
   "source": [
    "df_2018_main_s_m.s_travel_exp.sum() # 21.9 millions$"
   ]
  },
  {
   "cell_type": "code",
   "execution_count": 74,
   "metadata": {
    "scrolled": true
   },
   "outputs": [
    {
     "data": {
      "text/plain": [
       "80410749.22"
      ]
     },
     "execution_count": 74,
     "metadata": {},
     "output_type": "execute_result"
    }
   ],
   "source": [
    "df_2018_main_s_m.s_finance_exp.sum() # 80.4 millions$"
   ]
  },
  {
   "cell_type": "markdown",
   "metadata": {},
   "source": [
    "### <div class=\"alert alert-block alert-warning\"><li>Conclusion and Managerial Insight<br><br>From the decision tree and chart above, we could see that staff paycheck is the most critical factor to winning the Senate election. To secure the election result, at least 500 thousand dollars should be spent on campaign team paychecks; 3-5 millions could be the most suitable budget. And it's not that the more staff you hire, the better the election result gets. Clearly the campaign team should be kept at a reasonable size. Any candidate spends more than 5 million dollars on paycheck could think of downsizing his/her team."
   ]
  }
 ],
 "metadata": {
  "kernelspec": {
   "display_name": "Python 3",
   "language": "python",
   "name": "python3"
  },
  "language_info": {
   "codemirror_mode": {
    "name": "ipython",
    "version": 3
   },
   "file_extension": ".py",
   "mimetype": "text/x-python",
   "name": "python",
   "nbconvert_exporter": "python",
   "pygments_lexer": "ipython3",
   "version": "3.7.4"
  }
 },
 "nbformat": 4,
 "nbformat_minor": 2
}
