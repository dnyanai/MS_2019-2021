{
 "cells": [
  {
   "cell_type": "markdown",
   "metadata": {},
   "source": [
    "### <div class=\"alert alert-info\">Name: Dnyanai Surkutwar <br>Email: dsurkutwar@scu.edu  <br>Student ID: 00001586576 <br><center>Quiz#2<center></div>"
   ]
  },
  {
   "cell_type": "code",
   "execution_count": 192,
   "metadata": {},
   "outputs": [],
   "source": [
    "## Import libaries \n",
    "import pandas as pd\n",
    "import pickle\n",
    "# Import modules for Logistic regression\n",
    "from sklearn import metrics \n",
    "from sklearn.linear_model import LogisticRegression\n",
    "import statsmodels.api as sm\n",
    "## Import visualization libraries\n",
    "import seaborn as sns\n",
    "import matplotlib.pyplot as plt\n"
   ]
  },
  {
   "cell_type": "code",
   "execution_count": 63,
   "metadata": {},
   "outputs": [
    {
     "data": {
      "text/html": [
       "<div>\n",
       "<style scoped>\n",
       "    .dataframe tbody tr th:only-of-type {\n",
       "        vertical-align: middle;\n",
       "    }\n",
       "\n",
       "    .dataframe tbody tr th {\n",
       "        vertical-align: top;\n",
       "    }\n",
       "\n",
       "    .dataframe thead th {\n",
       "        text-align: right;\n",
       "    }\n",
       "</style>\n",
       "<table border=\"1\" class=\"dataframe\">\n",
       "  <thead>\n",
       "    <tr style=\"text-align: right;\">\n",
       "      <th></th>\n",
       "      <th>year</th>\n",
       "      <th>songtitle</th>\n",
       "      <th>artistname</th>\n",
       "      <th>songID</th>\n",
       "      <th>artistID</th>\n",
       "      <th>timesignature</th>\n",
       "      <th>timesignature_confidence</th>\n",
       "      <th>loudness</th>\n",
       "      <th>tempo</th>\n",
       "      <th>tempo_confidence</th>\n",
       "      <th>...</th>\n",
       "      <th>timbre_7_max</th>\n",
       "      <th>timbre_8_min</th>\n",
       "      <th>timbre_8_max</th>\n",
       "      <th>timbre_9_min</th>\n",
       "      <th>timbre_9_max</th>\n",
       "      <th>timbre_10_min</th>\n",
       "      <th>timbre_10_max</th>\n",
       "      <th>timbre_11_min</th>\n",
       "      <th>timbre_11_max</th>\n",
       "      <th>Top10</th>\n",
       "    </tr>\n",
       "  </thead>\n",
       "  <tbody>\n",
       "    <tr>\n",
       "      <td>0</td>\n",
       "      <td>2010</td>\n",
       "      <td>This Is the House That Doubt Built</td>\n",
       "      <td>A Day to Remember</td>\n",
       "      <td>SOBGGAB12C5664F054</td>\n",
       "      <td>AROBSHL1187B9AFB01</td>\n",
       "      <td>3</td>\n",
       "      <td>0.853</td>\n",
       "      <td>-4.262</td>\n",
       "      <td>91.525</td>\n",
       "      <td>0.953</td>\n",
       "      <td>...</td>\n",
       "      <td>82.475</td>\n",
       "      <td>-52.025</td>\n",
       "      <td>39.116</td>\n",
       "      <td>-35.368</td>\n",
       "      <td>71.642</td>\n",
       "      <td>-126.440</td>\n",
       "      <td>18.658</td>\n",
       "      <td>-44.770</td>\n",
       "      <td>25.989</td>\n",
       "      <td>0</td>\n",
       "    </tr>\n",
       "    <tr>\n",
       "      <td>1</td>\n",
       "      <td>2010</td>\n",
       "      <td>Sticks &amp; Bricks</td>\n",
       "      <td>A Day to Remember</td>\n",
       "      <td>SOPAQHU1315CD47F31</td>\n",
       "      <td>AROBSHL1187B9AFB01</td>\n",
       "      <td>4</td>\n",
       "      <td>1.000</td>\n",
       "      <td>-4.051</td>\n",
       "      <td>140.048</td>\n",
       "      <td>0.921</td>\n",
       "      <td>...</td>\n",
       "      <td>106.918</td>\n",
       "      <td>-61.320</td>\n",
       "      <td>35.378</td>\n",
       "      <td>-81.928</td>\n",
       "      <td>74.574</td>\n",
       "      <td>-103.808</td>\n",
       "      <td>121.935</td>\n",
       "      <td>-38.892</td>\n",
       "      <td>22.513</td>\n",
       "      <td>0</td>\n",
       "    </tr>\n",
       "    <tr>\n",
       "      <td>2</td>\n",
       "      <td>2010</td>\n",
       "      <td>All I Want</td>\n",
       "      <td>A Day to Remember</td>\n",
       "      <td>SOOIZOU1376E7C6386</td>\n",
       "      <td>AROBSHL1187B9AFB01</td>\n",
       "      <td>4</td>\n",
       "      <td>1.000</td>\n",
       "      <td>-3.571</td>\n",
       "      <td>160.512</td>\n",
       "      <td>0.489</td>\n",
       "      <td>...</td>\n",
       "      <td>80.621</td>\n",
       "      <td>-59.773</td>\n",
       "      <td>45.979</td>\n",
       "      <td>-46.293</td>\n",
       "      <td>59.904</td>\n",
       "      <td>-108.313</td>\n",
       "      <td>33.300</td>\n",
       "      <td>-43.733</td>\n",
       "      <td>25.744</td>\n",
       "      <td>0</td>\n",
       "    </tr>\n",
       "    <tr>\n",
       "      <td>3</td>\n",
       "      <td>2010</td>\n",
       "      <td>It's Complicated</td>\n",
       "      <td>A Day to Remember</td>\n",
       "      <td>SODRYWD1315CD49DBE</td>\n",
       "      <td>AROBSHL1187B9AFB01</td>\n",
       "      <td>4</td>\n",
       "      <td>1.000</td>\n",
       "      <td>-3.815</td>\n",
       "      <td>97.525</td>\n",
       "      <td>0.794</td>\n",
       "      <td>...</td>\n",
       "      <td>96.675</td>\n",
       "      <td>-78.660</td>\n",
       "      <td>41.088</td>\n",
       "      <td>-49.194</td>\n",
       "      <td>95.440</td>\n",
       "      <td>-102.676</td>\n",
       "      <td>46.422</td>\n",
       "      <td>-59.439</td>\n",
       "      <td>37.082</td>\n",
       "      <td>0</td>\n",
       "    </tr>\n",
       "    <tr>\n",
       "      <td>4</td>\n",
       "      <td>2010</td>\n",
       "      <td>2nd Sucks</td>\n",
       "      <td>A Day to Remember</td>\n",
       "      <td>SOICMQB1315CD46EE3</td>\n",
       "      <td>AROBSHL1187B9AFB01</td>\n",
       "      <td>4</td>\n",
       "      <td>0.788</td>\n",
       "      <td>-4.707</td>\n",
       "      <td>140.053</td>\n",
       "      <td>0.286</td>\n",
       "      <td>...</td>\n",
       "      <td>110.332</td>\n",
       "      <td>-56.450</td>\n",
       "      <td>37.555</td>\n",
       "      <td>-48.588</td>\n",
       "      <td>67.570</td>\n",
       "      <td>-52.796</td>\n",
       "      <td>22.888</td>\n",
       "      <td>-50.414</td>\n",
       "      <td>32.758</td>\n",
       "      <td>0</td>\n",
       "    </tr>\n",
       "  </tbody>\n",
       "</table>\n",
       "<p>5 rows × 39 columns</p>\n",
       "</div>"
      ],
      "text/plain": [
       "   year                           songtitle         artistname  \\\n",
       "0  2010  This Is the House That Doubt Built  A Day to Remember   \n",
       "1  2010                     Sticks & Bricks  A Day to Remember   \n",
       "2  2010                          All I Want  A Day to Remember   \n",
       "3  2010                    It's Complicated  A Day to Remember   \n",
       "4  2010                           2nd Sucks  A Day to Remember   \n",
       "\n",
       "               songID            artistID  timesignature  \\\n",
       "0  SOBGGAB12C5664F054  AROBSHL1187B9AFB01              3   \n",
       "1  SOPAQHU1315CD47F31  AROBSHL1187B9AFB01              4   \n",
       "2  SOOIZOU1376E7C6386  AROBSHL1187B9AFB01              4   \n",
       "3  SODRYWD1315CD49DBE  AROBSHL1187B9AFB01              4   \n",
       "4  SOICMQB1315CD46EE3  AROBSHL1187B9AFB01              4   \n",
       "\n",
       "   timesignature_confidence  loudness    tempo  tempo_confidence  ...  \\\n",
       "0                     0.853    -4.262   91.525             0.953  ...   \n",
       "1                     1.000    -4.051  140.048             0.921  ...   \n",
       "2                     1.000    -3.571  160.512             0.489  ...   \n",
       "3                     1.000    -3.815   97.525             0.794  ...   \n",
       "4                     0.788    -4.707  140.053             0.286  ...   \n",
       "\n",
       "   timbre_7_max  timbre_8_min  timbre_8_max  timbre_9_min  timbre_9_max  \\\n",
       "0        82.475       -52.025        39.116       -35.368        71.642   \n",
       "1       106.918       -61.320        35.378       -81.928        74.574   \n",
       "2        80.621       -59.773        45.979       -46.293        59.904   \n",
       "3        96.675       -78.660        41.088       -49.194        95.440   \n",
       "4       110.332       -56.450        37.555       -48.588        67.570   \n",
       "\n",
       "   timbre_10_min  timbre_10_max  timbre_11_min  timbre_11_max  Top10  \n",
       "0       -126.440         18.658        -44.770         25.989      0  \n",
       "1       -103.808        121.935        -38.892         22.513      0  \n",
       "2       -108.313         33.300        -43.733         25.744      0  \n",
       "3       -102.676         46.422        -59.439         37.082      0  \n",
       "4        -52.796         22.888        -50.414         32.758      0  \n",
       "\n",
       "[5 rows x 39 columns]"
      ]
     },
     "execution_count": 63,
     "metadata": {},
     "output_type": "execute_result"
    }
   ],
   "source": [
    "## Import the csv file into dataset\n",
    "d = pd.read_csv('songs.csv',encoding='latin-1') ## I had an issue reading the dataset in the right encoding, so decided to \n",
    "                                                ## convert it into utf-8 encoding. \n",
    "d.to_csv('songs.csv',index=False,encoding='utf-8') \n",
    "## Here, we know what our file encoding is and we are setting index and header as False as we do not want then in our dataFrame\n",
    "\n",
    "## Reading the csv file into a dataframe\n",
    "dataset = pd.read_csv('songs.csv',encoding='utf-8')\n",
    "dataset.head()"
   ]
  },
  {
   "cell_type": "markdown",
   "metadata": {},
   "source": [
    "### PEforming EDA on dataset:"
   ]
  },
  {
   "cell_type": "code",
   "execution_count": 64,
   "metadata": {},
   "outputs": [
    {
     "data": {
      "text/html": [
       "<div>\n",
       "<style scoped>\n",
       "    .dataframe tbody tr th:only-of-type {\n",
       "        vertical-align: middle;\n",
       "    }\n",
       "\n",
       "    .dataframe tbody tr th {\n",
       "        vertical-align: top;\n",
       "    }\n",
       "\n",
       "    .dataframe thead th {\n",
       "        text-align: right;\n",
       "    }\n",
       "</style>\n",
       "<table border=\"1\" class=\"dataframe\">\n",
       "  <thead>\n",
       "    <tr style=\"text-align: right;\">\n",
       "      <th></th>\n",
       "      <th>year</th>\n",
       "      <th>timesignature</th>\n",
       "      <th>timesignature_confidence</th>\n",
       "      <th>loudness</th>\n",
       "      <th>tempo</th>\n",
       "      <th>tempo_confidence</th>\n",
       "      <th>key</th>\n",
       "      <th>key_confidence</th>\n",
       "      <th>energy</th>\n",
       "      <th>pitch</th>\n",
       "      <th>...</th>\n",
       "      <th>timbre_7_max</th>\n",
       "      <th>timbre_8_min</th>\n",
       "      <th>timbre_8_max</th>\n",
       "      <th>timbre_9_min</th>\n",
       "      <th>timbre_9_max</th>\n",
       "      <th>timbre_10_min</th>\n",
       "      <th>timbre_10_max</th>\n",
       "      <th>timbre_11_min</th>\n",
       "      <th>timbre_11_max</th>\n",
       "      <th>Top10</th>\n",
       "    </tr>\n",
       "  </thead>\n",
       "  <tbody>\n",
       "    <tr>\n",
       "      <td>count</td>\n",
       "      <td>7574.000000</td>\n",
       "      <td>7574.000000</td>\n",
       "      <td>7574.000000</td>\n",
       "      <td>7574.000000</td>\n",
       "      <td>7574.000000</td>\n",
       "      <td>7574.000000</td>\n",
       "      <td>7574.000000</td>\n",
       "      <td>7574.000000</td>\n",
       "      <td>7574.000000</td>\n",
       "      <td>7574.000000</td>\n",
       "      <td>...</td>\n",
       "      <td>7574.000000</td>\n",
       "      <td>7574.000000</td>\n",
       "      <td>7574.000000</td>\n",
       "      <td>7574.000000</td>\n",
       "      <td>7574.000000</td>\n",
       "      <td>7574.000000</td>\n",
       "      <td>7574.000000</td>\n",
       "      <td>7574.000000</td>\n",
       "      <td>7574.000000</td>\n",
       "      <td>7574.000000</td>\n",
       "    </tr>\n",
       "    <tr>\n",
       "      <td>mean</td>\n",
       "      <td>2001.455902</td>\n",
       "      <td>3.893979</td>\n",
       "      <td>0.853307</td>\n",
       "      <td>-8.817262</td>\n",
       "      <td>107.348267</td>\n",
       "      <td>0.622866</td>\n",
       "      <td>5.384605</td>\n",
       "      <td>0.433843</td>\n",
       "      <td>0.675471</td>\n",
       "      <td>0.010817</td>\n",
       "      <td>...</td>\n",
       "      <td>95.653221</td>\n",
       "      <td>-63.703984</td>\n",
       "      <td>50.057489</td>\n",
       "      <td>-59.515016</td>\n",
       "      <td>68.028067</td>\n",
       "      <td>-87.340055</td>\n",
       "      <td>55.520722</td>\n",
       "      <td>-50.868457</td>\n",
       "      <td>47.490774</td>\n",
       "      <td>0.147742</td>\n",
       "    </tr>\n",
       "    <tr>\n",
       "      <td>std</td>\n",
       "      <td>5.815223</td>\n",
       "      <td>0.532561</td>\n",
       "      <td>0.243748</td>\n",
       "      <td>4.377079</td>\n",
       "      <td>24.665030</td>\n",
       "      <td>0.304656</td>\n",
       "      <td>3.572579</td>\n",
       "      <td>0.273826</td>\n",
       "      <td>0.243473</td>\n",
       "      <td>0.013671</td>\n",
       "      <td>...</td>\n",
       "      <td>26.859726</td>\n",
       "      <td>15.970244</td>\n",
       "      <td>14.463524</td>\n",
       "      <td>17.190527</td>\n",
       "      <td>20.381321</td>\n",
       "      <td>30.464274</td>\n",
       "      <td>23.549473</td>\n",
       "      <td>11.701530</td>\n",
       "      <td>12.463966</td>\n",
       "      <td>0.354868</td>\n",
       "    </tr>\n",
       "    <tr>\n",
       "      <td>min</td>\n",
       "      <td>1990.000000</td>\n",
       "      <td>0.000000</td>\n",
       "      <td>0.000000</td>\n",
       "      <td>-42.451000</td>\n",
       "      <td>0.000000</td>\n",
       "      <td>0.000000</td>\n",
       "      <td>0.000000</td>\n",
       "      <td>0.000000</td>\n",
       "      <td>0.000020</td>\n",
       "      <td>0.000000</td>\n",
       "      <td>...</td>\n",
       "      <td>15.699000</td>\n",
       "      <td>-158.756000</td>\n",
       "      <td>-25.955000</td>\n",
       "      <td>-149.507000</td>\n",
       "      <td>8.415000</td>\n",
       "      <td>-208.819000</td>\n",
       "      <td>-6.359000</td>\n",
       "      <td>-145.599000</td>\n",
       "      <td>7.200000</td>\n",
       "      <td>0.000000</td>\n",
       "    </tr>\n",
       "    <tr>\n",
       "      <td>25%</td>\n",
       "      <td>1997.000000</td>\n",
       "      <td>4.000000</td>\n",
       "      <td>0.819250</td>\n",
       "      <td>-10.847000</td>\n",
       "      <td>88.860250</td>\n",
       "      <td>0.372000</td>\n",
       "      <td>2.000000</td>\n",
       "      <td>0.204000</td>\n",
       "      <td>0.500138</td>\n",
       "      <td>0.003000</td>\n",
       "      <td>...</td>\n",
       "      <td>76.498000</td>\n",
       "      <td>-73.050750</td>\n",
       "      <td>40.584500</td>\n",
       "      <td>-70.282500</td>\n",
       "      <td>53.037250</td>\n",
       "      <td>-105.130250</td>\n",
       "      <td>39.196000</td>\n",
       "      <td>-58.058000</td>\n",
       "      <td>38.975250</td>\n",
       "      <td>0.000000</td>\n",
       "    </tr>\n",
       "    <tr>\n",
       "      <td>50%</td>\n",
       "      <td>2002.000000</td>\n",
       "      <td>4.000000</td>\n",
       "      <td>0.979000</td>\n",
       "      <td>-7.649000</td>\n",
       "      <td>103.268000</td>\n",
       "      <td>0.701500</td>\n",
       "      <td>6.000000</td>\n",
       "      <td>0.451500</td>\n",
       "      <td>0.718160</td>\n",
       "      <td>0.007000</td>\n",
       "      <td>...</td>\n",
       "      <td>94.632500</td>\n",
       "      <td>-62.661500</td>\n",
       "      <td>49.220000</td>\n",
       "      <td>-58.650000</td>\n",
       "      <td>65.935000</td>\n",
       "      <td>-83.074000</td>\n",
       "      <td>50.895000</td>\n",
       "      <td>-50.892500</td>\n",
       "      <td>46.437500</td>\n",
       "      <td>0.000000</td>\n",
       "    </tr>\n",
       "    <tr>\n",
       "      <td>75%</td>\n",
       "      <td>2006.000000</td>\n",
       "      <td>4.000000</td>\n",
       "      <td>1.000000</td>\n",
       "      <td>-5.640000</td>\n",
       "      <td>124.800500</td>\n",
       "      <td>0.892000</td>\n",
       "      <td>9.000000</td>\n",
       "      <td>0.646000</td>\n",
       "      <td>0.887396</td>\n",
       "      <td>0.014000</td>\n",
       "      <td>...</td>\n",
       "      <td>112.708250</td>\n",
       "      <td>-52.982750</td>\n",
       "      <td>58.462000</td>\n",
       "      <td>-47.699750</td>\n",
       "      <td>81.267000</td>\n",
       "      <td>-64.518000</td>\n",
       "      <td>66.593000</td>\n",
       "      <td>-43.292250</td>\n",
       "      <td>55.030250</td>\n",
       "      <td>0.000000</td>\n",
       "    </tr>\n",
       "    <tr>\n",
       "      <td>max</td>\n",
       "      <td>2010.000000</td>\n",
       "      <td>7.000000</td>\n",
       "      <td>1.000000</td>\n",
       "      <td>1.305000</td>\n",
       "      <td>244.307000</td>\n",
       "      <td>1.000000</td>\n",
       "      <td>11.000000</td>\n",
       "      <td>1.000000</td>\n",
       "      <td>0.998492</td>\n",
       "      <td>0.541000</td>\n",
       "      <td>...</td>\n",
       "      <td>214.819000</td>\n",
       "      <td>-2.382000</td>\n",
       "      <td>144.985000</td>\n",
       "      <td>1.140000</td>\n",
       "      <td>161.518000</td>\n",
       "      <td>-10.640000</td>\n",
       "      <td>192.417000</td>\n",
       "      <td>-6.497000</td>\n",
       "      <td>110.272000</td>\n",
       "      <td>1.000000</td>\n",
       "    </tr>\n",
       "  </tbody>\n",
       "</table>\n",
       "<p>8 rows × 35 columns</p>\n",
       "</div>"
      ],
      "text/plain": [
       "              year  timesignature  timesignature_confidence     loudness  \\\n",
       "count  7574.000000    7574.000000               7574.000000  7574.000000   \n",
       "mean   2001.455902       3.893979                  0.853307    -8.817262   \n",
       "std       5.815223       0.532561                  0.243748     4.377079   \n",
       "min    1990.000000       0.000000                  0.000000   -42.451000   \n",
       "25%    1997.000000       4.000000                  0.819250   -10.847000   \n",
       "50%    2002.000000       4.000000                  0.979000    -7.649000   \n",
       "75%    2006.000000       4.000000                  1.000000    -5.640000   \n",
       "max    2010.000000       7.000000                  1.000000     1.305000   \n",
       "\n",
       "             tempo  tempo_confidence          key  key_confidence  \\\n",
       "count  7574.000000       7574.000000  7574.000000     7574.000000   \n",
       "mean    107.348267          0.622866     5.384605        0.433843   \n",
       "std      24.665030          0.304656     3.572579        0.273826   \n",
       "min       0.000000          0.000000     0.000000        0.000000   \n",
       "25%      88.860250          0.372000     2.000000        0.204000   \n",
       "50%     103.268000          0.701500     6.000000        0.451500   \n",
       "75%     124.800500          0.892000     9.000000        0.646000   \n",
       "max     244.307000          1.000000    11.000000        1.000000   \n",
       "\n",
       "            energy        pitch  ...  timbre_7_max  timbre_8_min  \\\n",
       "count  7574.000000  7574.000000  ...   7574.000000   7574.000000   \n",
       "mean      0.675471     0.010817  ...     95.653221    -63.703984   \n",
       "std       0.243473     0.013671  ...     26.859726     15.970244   \n",
       "min       0.000020     0.000000  ...     15.699000   -158.756000   \n",
       "25%       0.500138     0.003000  ...     76.498000    -73.050750   \n",
       "50%       0.718160     0.007000  ...     94.632500    -62.661500   \n",
       "75%       0.887396     0.014000  ...    112.708250    -52.982750   \n",
       "max       0.998492     0.541000  ...    214.819000     -2.382000   \n",
       "\n",
       "       timbre_8_max  timbre_9_min  timbre_9_max  timbre_10_min  timbre_10_max  \\\n",
       "count   7574.000000   7574.000000   7574.000000    7574.000000    7574.000000   \n",
       "mean      50.057489    -59.515016     68.028067     -87.340055      55.520722   \n",
       "std       14.463524     17.190527     20.381321      30.464274      23.549473   \n",
       "min      -25.955000   -149.507000      8.415000    -208.819000      -6.359000   \n",
       "25%       40.584500    -70.282500     53.037250    -105.130250      39.196000   \n",
       "50%       49.220000    -58.650000     65.935000     -83.074000      50.895000   \n",
       "75%       58.462000    -47.699750     81.267000     -64.518000      66.593000   \n",
       "max      144.985000      1.140000    161.518000     -10.640000     192.417000   \n",
       "\n",
       "       timbre_11_min  timbre_11_max        Top10  \n",
       "count    7574.000000    7574.000000  7574.000000  \n",
       "mean      -50.868457      47.490774     0.147742  \n",
       "std        11.701530      12.463966     0.354868  \n",
       "min      -145.599000       7.200000     0.000000  \n",
       "25%       -58.058000      38.975250     0.000000  \n",
       "50%       -50.892500      46.437500     0.000000  \n",
       "75%       -43.292250      55.030250     0.000000  \n",
       "max        -6.497000     110.272000     1.000000  \n",
       "\n",
       "[8 rows x 35 columns]"
      ]
     },
     "execution_count": 64,
     "metadata": {},
     "output_type": "execute_result"
    }
   ],
   "source": [
    "dataset.describe()\n",
    "## The total number of songs are 7574.\n",
    "## 50% of the songs are from year 2002.\n",
    "## 75% of the songs are from year 2006."
   ]
  },
  {
   "cell_type": "code",
   "execution_count": 65,
   "metadata": {},
   "outputs": [
    {
     "name": "stdout",
     "output_type": "stream",
     "text": [
      "<class 'pandas.core.frame.DataFrame'>\n",
      "RangeIndex: 7574 entries, 0 to 7573\n",
      "Data columns (total 39 columns):\n",
      "year                        7574 non-null int64\n",
      "songtitle                   7574 non-null object\n",
      "artistname                  7574 non-null object\n",
      "songID                      7574 non-null object\n",
      "artistID                    7574 non-null object\n",
      "timesignature               7574 non-null int64\n",
      "timesignature_confidence    7574 non-null float64\n",
      "loudness                    7574 non-null float64\n",
      "tempo                       7574 non-null float64\n",
      "tempo_confidence            7574 non-null float64\n",
      "key                         7574 non-null int64\n",
      "key_confidence              7574 non-null float64\n",
      "energy                      7574 non-null float64\n",
      "pitch                       7574 non-null float64\n",
      "timbre_0_min                7574 non-null float64\n",
      "timbre_0_max                7574 non-null float64\n",
      "timbre_1_min                7574 non-null float64\n",
      "timbre_1_max                7574 non-null float64\n",
      "timbre_2_min                7574 non-null float64\n",
      "timbre_2_max                7574 non-null float64\n",
      "timbre_3_min                7574 non-null float64\n",
      "timbre_3_max                7574 non-null float64\n",
      "timbre_4_min                7574 non-null float64\n",
      "timbre_4_max                7574 non-null float64\n",
      "timbre_5_min                7574 non-null float64\n",
      "timbre_5_max                7574 non-null float64\n",
      "timbre_6_min                7574 non-null float64\n",
      "timbre_6_max                7574 non-null float64\n",
      "timbre_7_min                7574 non-null float64\n",
      "timbre_7_max                7574 non-null float64\n",
      "timbre_8_min                7574 non-null float64\n",
      "timbre_8_max                7574 non-null float64\n",
      "timbre_9_min                7574 non-null float64\n",
      "timbre_9_max                7574 non-null float64\n",
      "timbre_10_min               7574 non-null float64\n",
      "timbre_10_max               7574 non-null float64\n",
      "timbre_11_min               7574 non-null float64\n",
      "timbre_11_max               7574 non-null float64\n",
      "Top10                       7574 non-null int64\n",
      "dtypes: float64(31), int64(4), object(4)\n",
      "memory usage: 2.3+ MB\n"
     ]
    }
   ],
   "source": [
    "## Lets see the dataset info which shows use the non-null values in the dataframe columns \n",
    "dataset.info()"
   ]
  },
  {
   "cell_type": "code",
   "execution_count": 66,
   "metadata": {},
   "outputs": [
    {
     "data": {
      "text/plain": [
       "year                        0\n",
       "songtitle                   0\n",
       "artistname                  0\n",
       "songID                      0\n",
       "artistID                    0\n",
       "timesignature               0\n",
       "timesignature_confidence    0\n",
       "loudness                    0\n",
       "tempo                       0\n",
       "tempo_confidence            0\n",
       "key                         0\n",
       "key_confidence              0\n",
       "energy                      0\n",
       "pitch                       0\n",
       "timbre_0_min                0\n",
       "timbre_0_max                0\n",
       "timbre_1_min                0\n",
       "timbre_1_max                0\n",
       "timbre_2_min                0\n",
       "timbre_2_max                0\n",
       "timbre_3_min                0\n",
       "timbre_3_max                0\n",
       "timbre_4_min                0\n",
       "timbre_4_max                0\n",
       "timbre_5_min                0\n",
       "timbre_5_max                0\n",
       "timbre_6_min                0\n",
       "timbre_6_max                0\n",
       "timbre_7_min                0\n",
       "timbre_7_max                0\n",
       "timbre_8_min                0\n",
       "timbre_8_max                0\n",
       "timbre_9_min                0\n",
       "timbre_9_max                0\n",
       "timbre_10_min               0\n",
       "timbre_10_max               0\n",
       "timbre_11_min               0\n",
       "timbre_11_max               0\n",
       "Top10                       0\n",
       "dtype: int64"
      ]
     },
     "execution_count": 66,
     "metadata": {},
     "output_type": "execute_result"
    }
   ],
   "source": [
    "## Checking if there are null values in the dataframe columns\n",
    "dataset.isnull().sum()"
   ]
  },
  {
   "cell_type": "markdown",
   "metadata": {},
   "source": [
    "### Q1.1)"
   ]
  },
  {
   "cell_type": "code",
   "execution_count": 67,
   "metadata": {},
   "outputs": [
    {
     "name": "stdout",
     "output_type": "stream",
     "text": [
      "The total number of songs in total are : 7574\n"
     ]
    }
   ],
   "source": [
    "print('The total number of songs in total are :',dataset.songtitle.count()) ## count gives the count of non-null values in the dataframe"
   ]
  },
  {
   "cell_type": "code",
   "execution_count": 68,
   "metadata": {},
   "outputs": [
    {
     "data": {
      "text/plain": [
       "0    6455\n",
       "1    1119\n",
       "Name: Top10, dtype: int64"
      ]
     },
     "execution_count": 68,
     "metadata": {},
     "output_type": "execute_result"
    }
   ],
   "source": [
    "dataset.Top10.value_counts() ## value_counts() gives us the count of unique values in the dataframe\n"
   ]
  },
  {
   "cell_type": "code",
   "execution_count": 69,
   "metadata": {},
   "outputs": [
    {
     "data": {
      "text/plain": [
       "1119"
      ]
     },
     "execution_count": 69,
     "metadata": {},
     "output_type": "execute_result"
    }
   ],
   "source": [
    "\n",
    "dataset.Top10[dataset.Top10==1].count() ##Finding out which songs belong to Top10 column by masking the data"
   ]
  },
  {
   "cell_type": "code",
   "execution_count": 70,
   "metadata": {},
   "outputs": [
    {
     "name": "stdout",
     "output_type": "stream",
     "text": [
      "The number of Top10 songs are:  1119\n"
     ]
    }
   ],
   "source": [
    "print('The number of Top10 songs are: ',dataset.Top10[dataset.Top10==1].count())\n"
   ]
  },
  {
   "cell_type": "code",
   "execution_count": 71,
   "metadata": {},
   "outputs": [
    {
     "name": "stdout",
     "output_type": "stream",
     "text": [
      "The number of non-Top10 songs are:  6455\n"
     ]
    }
   ],
   "source": [
    "print('The number of non-Top10 songs are: ',dataset.Top10[~(dataset.Top10==1)].count()) ## Finding out the songs who do not\n",
    "                                                                                        ## belong to Top10"
   ]
  },
  {
   "cell_type": "markdown",
   "metadata": {},
   "source": [
    "### <div class = 'alert alert-info'> Answer 1.1:<br><ol><li>The total number of songs in total are : 7574</li><br><li>The number of Top10 songs are: 1119</li><br><li>The number of non-Top10 songs are: 6455 </li></ol></div>"
   ]
  },
  {
   "cell_type": "code",
   "execution_count": 72,
   "metadata": {},
   "outputs": [],
   "source": [
    "## Pickling the file so that I can use it in another file for the next questions, pickling will help me start off directly\n",
    "## on the currrent dataset instead of initializing it again\n",
    "dataset.to_pickle('dataset.pickle')"
   ]
  },
  {
   "cell_type": "markdown",
   "metadata": {},
   "source": [
    "### Q1.2)"
   ]
  },
  {
   "cell_type": "code",
   "execution_count": 73,
   "metadata": {},
   "outputs": [
    {
     "data": {
      "text/plain": [
       "Index(['year', 'songtitle', 'artistname', 'songID', 'artistID',\n",
       "       'timesignature', 'timesignature_confidence', 'loudness', 'tempo',\n",
       "       'tempo_confidence', 'key', 'key_confidence', 'energy', 'pitch',\n",
       "       'timbre_0_min', 'timbre_0_max', 'timbre_1_min', 'timbre_1_max',\n",
       "       'timbre_2_min', 'timbre_2_max', 'timbre_3_min', 'timbre_3_max',\n",
       "       'timbre_4_min', 'timbre_4_max', 'timbre_5_min', 'timbre_5_max',\n",
       "       'timbre_6_min', 'timbre_6_max', 'timbre_7_min', 'timbre_7_max',\n",
       "       'timbre_8_min', 'timbre_8_max', 'timbre_9_min', 'timbre_9_max',\n",
       "       'timbre_10_min', 'timbre_10_max', 'timbre_11_min', 'timbre_11_max',\n",
       "       'Top10'],\n",
       "      dtype='object')"
      ]
     },
     "execution_count": 73,
     "metadata": {},
     "output_type": "execute_result"
    }
   ],
   "source": [
    "dataset.columns"
   ]
  },
  {
   "cell_type": "code",
   "execution_count": 74,
   "metadata": {},
   "outputs": [
    {
     "data": {
      "text/plain": [
       "18"
      ]
     },
     "execution_count": 74,
     "metadata": {},
     "output_type": "execute_result"
    }
   ],
   "source": [
    "dataset.artistname[dataset.artistname=='Michael Jackson'].count()"
   ]
  },
  {
   "cell_type": "markdown",
   "metadata": {},
   "source": [
    "### <div class = 'alert alert-info'> Answer 1.2:The artist named \"Michael Jackson\" owns 18 songs. </div>"
   ]
  },
  {
   "cell_type": "markdown",
   "metadata": {},
   "source": [
    "### Q2.1)"
   ]
  },
  {
   "cell_type": "markdown",
   "metadata": {},
   "source": [
    "### Filtering the dataset into SongsTrain and SongsTest based on the year "
   ]
  },
  {
   "cell_type": "code",
   "execution_count": 88,
   "metadata": {},
   "outputs": [],
   "source": [
    "SongsTrain = dataset[dataset.year.values <=2009]\n",
    "SongsTest =  dataset[dataset.year.values>2009]"
   ]
  },
  {
   "cell_type": "code",
   "execution_count": 99,
   "metadata": {},
   "outputs": [
    {
     "data": {
      "text/plain": [
       "2007    622\n",
       "2002    518\n",
       "2009    483\n",
       "2006    479\n",
       "2004    479\n",
       "2003    434\n",
       "2008    415\n",
       "2005    392\n",
       "1998    380\n",
       "2000    363\n",
       "1999    357\n",
       "1997    329\n",
       "1990    328\n",
       "1993    324\n",
       "2001    282\n",
       "1995    258\n",
       "1994    198\n",
       "1991    196\n",
       "1992    186\n",
       "1996    178\n",
       "Name: year, dtype: int64"
      ]
     },
     "execution_count": 99,
     "metadata": {},
     "output_type": "execute_result"
    }
   ],
   "source": [
    "SongsTrain.year.value_counts()"
   ]
  },
  {
   "cell_type": "code",
   "execution_count": 100,
   "metadata": {},
   "outputs": [
    {
     "data": {
      "text/plain": [
       "2010    373\n",
       "Name: year, dtype: int64"
      ]
     },
     "execution_count": 100,
     "metadata": {},
     "output_type": "execute_result"
    }
   ],
   "source": [
    "SongsTest.year.value_counts()"
   ]
  },
  {
   "cell_type": "code",
   "execution_count": 103,
   "metadata": {},
   "outputs": [
    {
     "name": "stdout",
     "output_type": "stream",
     "text": [
      "Number of songs in the training set, SongsTrain: 7201\n"
     ]
    }
   ],
   "source": [
    "print('Number of songs in the training set, SongsTrain:',SongsTrain.year.count())"
   ]
  },
  {
   "cell_type": "code",
   "execution_count": 115,
   "metadata": {},
   "outputs": [
    {
     "data": {
      "text/plain": [
       "(7201, 39)"
      ]
     },
     "execution_count": 115,
     "metadata": {},
     "output_type": "execute_result"
    }
   ],
   "source": [
    "SongsTrain.shape"
   ]
  },
  {
   "cell_type": "code",
   "execution_count": 105,
   "metadata": {},
   "outputs": [
    {
     "name": "stdout",
     "output_type": "stream",
     "text": [
      "Number of songs in the training set, SongsTest: 373\n"
     ]
    }
   ],
   "source": [
    "print('Number of songs in the training set, SongsTest:',SongsTest.year.count())"
   ]
  },
  {
   "cell_type": "code",
   "execution_count": 116,
   "metadata": {},
   "outputs": [
    {
     "data": {
      "text/plain": [
       "(7201, 39)"
      ]
     },
     "execution_count": 116,
     "metadata": {},
     "output_type": "execute_result"
    }
   ],
   "source": [
    "SongsTrain.shape"
   ]
  },
  {
   "cell_type": "markdown",
   "metadata": {},
   "source": [
    "### <div class = 'alert alert-info'> Answer 2.1:<br><ol><li>Number of songs in the training set, SongsTrain: 7201</li><br><li>Number of songs in the training set, SongsTest: 373</li></ol></div>"
   ]
  },
  {
   "cell_type": "markdown",
   "metadata": {},
   "source": [
    "## Making the logistic regression model:"
   ]
  },
  {
   "cell_type": "markdown",
   "metadata": {},
   "source": [
    "### <b><u>Step 1:</u><b> "
   ]
  },
  {
   "cell_type": "code",
   "execution_count": 163,
   "metadata": {},
   "outputs": [
    {
     "data": {
      "text/plain": [
       "(7201, 33)"
      ]
     },
     "execution_count": 163,
     "metadata": {},
     "output_type": "execute_result"
    }
   ],
   "source": [
    "## We are dropping the categorical columns from the dataset to use as our independent variables. \n",
    "## We are making a copy of the SongsTrain dataset and dropping its Top10 (our target variable) and categorical columns  \n",
    "X_train = SongsTrain.copy().drop(columns=[\"year\", \"songtitle\", \"artistname\", \"songID\", \"artistID\",'Top10'],axis=1)\n",
    "X_train.shape ## Shape tells us the number of rows and columns for the training dataset "
   ]
  },
  {
   "cell_type": "code",
   "execution_count": 129,
   "metadata": {},
   "outputs": [
    {
     "data": {
      "text/html": [
       "<div>\n",
       "<style scoped>\n",
       "    .dataframe tbody tr th:only-of-type {\n",
       "        vertical-align: middle;\n",
       "    }\n",
       "\n",
       "    .dataframe tbody tr th {\n",
       "        vertical-align: top;\n",
       "    }\n",
       "\n",
       "    .dataframe thead th {\n",
       "        text-align: right;\n",
       "    }\n",
       "</style>\n",
       "<table border=\"1\" class=\"dataframe\">\n",
       "  <thead>\n",
       "    <tr style=\"text-align: right;\">\n",
       "      <th></th>\n",
       "      <th>timesignature</th>\n",
       "      <th>timesignature_confidence</th>\n",
       "      <th>loudness</th>\n",
       "      <th>tempo</th>\n",
       "      <th>tempo_confidence</th>\n",
       "      <th>key</th>\n",
       "      <th>key_confidence</th>\n",
       "      <th>energy</th>\n",
       "      <th>pitch</th>\n",
       "      <th>timbre_0_min</th>\n",
       "      <th>...</th>\n",
       "      <th>timbre_7_min</th>\n",
       "      <th>timbre_7_max</th>\n",
       "      <th>timbre_8_min</th>\n",
       "      <th>timbre_8_max</th>\n",
       "      <th>timbre_9_min</th>\n",
       "      <th>timbre_9_max</th>\n",
       "      <th>timbre_10_min</th>\n",
       "      <th>timbre_10_max</th>\n",
       "      <th>timbre_11_min</th>\n",
       "      <th>timbre_11_max</th>\n",
       "    </tr>\n",
       "  </thead>\n",
       "  <tbody>\n",
       "    <tr>\n",
       "      <td>373</td>\n",
       "      <td>3</td>\n",
       "      <td>0.732</td>\n",
       "      <td>-6.320</td>\n",
       "      <td>89.614</td>\n",
       "      <td>0.652</td>\n",
       "      <td>1</td>\n",
       "      <td>0.773</td>\n",
       "      <td>0.598529</td>\n",
       "      <td>0.004</td>\n",
       "      <td>0.000</td>\n",
       "      <td>...</td>\n",
       "      <td>-109.384</td>\n",
       "      <td>70.975</td>\n",
       "      <td>-71.776</td>\n",
       "      <td>58.432</td>\n",
       "      <td>-53.816</td>\n",
       "      <td>88.571</td>\n",
       "      <td>-89.816</td>\n",
       "      <td>38.026</td>\n",
       "      <td>-52.075</td>\n",
       "      <td>52.827</td>\n",
       "    </tr>\n",
       "    <tr>\n",
       "      <td>374</td>\n",
       "      <td>3</td>\n",
       "      <td>0.906</td>\n",
       "      <td>-9.541</td>\n",
       "      <td>117.742</td>\n",
       "      <td>0.542</td>\n",
       "      <td>0</td>\n",
       "      <td>0.722</td>\n",
       "      <td>0.363399</td>\n",
       "      <td>0.006</td>\n",
       "      <td>0.739</td>\n",
       "      <td>...</td>\n",
       "      <td>-90.092</td>\n",
       "      <td>112.879</td>\n",
       "      <td>-64.470</td>\n",
       "      <td>58.086</td>\n",
       "      <td>-76.937</td>\n",
       "      <td>74.441</td>\n",
       "      <td>-88.244</td>\n",
       "      <td>42.209</td>\n",
       "      <td>-66.812</td>\n",
       "      <td>40.749</td>\n",
       "    </tr>\n",
       "    <tr>\n",
       "      <td>375</td>\n",
       "      <td>4</td>\n",
       "      <td>0.987</td>\n",
       "      <td>-4.842</td>\n",
       "      <td>119.018</td>\n",
       "      <td>0.838</td>\n",
       "      <td>6</td>\n",
       "      <td>0.106</td>\n",
       "      <td>0.760151</td>\n",
       "      <td>0.003</td>\n",
       "      <td>0.000</td>\n",
       "      <td>...</td>\n",
       "      <td>-69.311</td>\n",
       "      <td>90.400</td>\n",
       "      <td>-52.459</td>\n",
       "      <td>40.679</td>\n",
       "      <td>-50.408</td>\n",
       "      <td>58.811</td>\n",
       "      <td>-78.239</td>\n",
       "      <td>35.264</td>\n",
       "      <td>-54.200</td>\n",
       "      <td>46.490</td>\n",
       "    </tr>\n",
       "    <tr>\n",
       "      <td>376</td>\n",
       "      <td>4</td>\n",
       "      <td>0.822</td>\n",
       "      <td>-5.272</td>\n",
       "      <td>71.479</td>\n",
       "      <td>0.613</td>\n",
       "      <td>4</td>\n",
       "      <td>0.781</td>\n",
       "      <td>0.755034</td>\n",
       "      <td>0.014</td>\n",
       "      <td>0.000</td>\n",
       "      <td>...</td>\n",
       "      <td>-69.088</td>\n",
       "      <td>93.373</td>\n",
       "      <td>-55.811</td>\n",
       "      <td>78.963</td>\n",
       "      <td>-51.504</td>\n",
       "      <td>70.455</td>\n",
       "      <td>-74.928</td>\n",
       "      <td>30.839</td>\n",
       "      <td>-51.377</td>\n",
       "      <td>27.768</td>\n",
       "    </tr>\n",
       "    <tr>\n",
       "      <td>377</td>\n",
       "      <td>4</td>\n",
       "      <td>0.983</td>\n",
       "      <td>-6.233</td>\n",
       "      <td>77.492</td>\n",
       "      <td>0.740</td>\n",
       "      <td>8</td>\n",
       "      <td>0.552</td>\n",
       "      <td>0.523658</td>\n",
       "      <td>0.008</td>\n",
       "      <td>0.000</td>\n",
       "      <td>...</td>\n",
       "      <td>-78.803</td>\n",
       "      <td>100.766</td>\n",
       "      <td>-61.392</td>\n",
       "      <td>50.309</td>\n",
       "      <td>-62.994</td>\n",
       "      <td>96.837</td>\n",
       "      <td>-90.397</td>\n",
       "      <td>60.549</td>\n",
       "      <td>-52.122</td>\n",
       "      <td>48.059</td>\n",
       "    </tr>\n",
       "  </tbody>\n",
       "</table>\n",
       "<p>5 rows × 33 columns</p>\n",
       "</div>"
      ],
      "text/plain": [
       "     timesignature  timesignature_confidence  loudness    tempo  \\\n",
       "373              3                     0.732    -6.320   89.614   \n",
       "374              3                     0.906    -9.541  117.742   \n",
       "375              4                     0.987    -4.842  119.018   \n",
       "376              4                     0.822    -5.272   71.479   \n",
       "377              4                     0.983    -6.233   77.492   \n",
       "\n",
       "     tempo_confidence  key  key_confidence    energy  pitch  timbre_0_min  \\\n",
       "373             0.652    1           0.773  0.598529  0.004         0.000   \n",
       "374             0.542    0           0.722  0.363399  0.006         0.739   \n",
       "375             0.838    6           0.106  0.760151  0.003         0.000   \n",
       "376             0.613    4           0.781  0.755034  0.014         0.000   \n",
       "377             0.740    8           0.552  0.523658  0.008         0.000   \n",
       "\n",
       "     ...  timbre_7_min  timbre_7_max  timbre_8_min  timbre_8_max  \\\n",
       "373  ...      -109.384        70.975       -71.776        58.432   \n",
       "374  ...       -90.092       112.879       -64.470        58.086   \n",
       "375  ...       -69.311        90.400       -52.459        40.679   \n",
       "376  ...       -69.088        93.373       -55.811        78.963   \n",
       "377  ...       -78.803       100.766       -61.392        50.309   \n",
       "\n",
       "     timbre_9_min  timbre_9_max  timbre_10_min  timbre_10_max  timbre_11_min  \\\n",
       "373       -53.816        88.571        -89.816         38.026        -52.075   \n",
       "374       -76.937        74.441        -88.244         42.209        -66.812   \n",
       "375       -50.408        58.811        -78.239         35.264        -54.200   \n",
       "376       -51.504        70.455        -74.928         30.839        -51.377   \n",
       "377       -62.994        96.837        -90.397         60.549        -52.122   \n",
       "\n",
       "     timbre_11_max  \n",
       "373         52.827  \n",
       "374         40.749  \n",
       "375         46.490  \n",
       "376         27.768  \n",
       "377         48.059  \n",
       "\n",
       "[5 rows x 33 columns]"
      ]
     },
     "execution_count": 129,
     "metadata": {},
     "output_type": "execute_result"
    }
   ],
   "source": [
    "X_train.head()"
   ]
  },
  {
   "cell_type": "code",
   "execution_count": 131,
   "metadata": {},
   "outputs": [
    {
     "data": {
      "text/plain": [
       "7201"
      ]
     },
     "execution_count": 131,
     "metadata": {},
     "output_type": "execute_result"
    }
   ],
   "source": [
    "Y_train = SongsTrain['Top10'].copy() ## We just take a copy of the dependent variable or target variable as our Y_train dataset \n",
    "len(Y_train)"
   ]
  },
  {
   "cell_type": "code",
   "execution_count": 132,
   "metadata": {},
   "outputs": [
    {
     "data": {
      "text/plain": [
       "0    6141\n",
       "1    1060\n",
       "Name: Top10, dtype: int64"
      ]
     },
     "execution_count": 132,
     "metadata": {},
     "output_type": "execute_result"
    }
   ],
   "source": [
    "Y_train.value_counts() ## Here, we are just having a look at what unique values are included in the Y_train dataset"
   ]
  },
  {
   "cell_type": "code",
   "execution_count": 135,
   "metadata": {},
   "outputs": [
    {
     "data": {
      "text/plain": [
       "(373, 33)"
      ]
     },
     "execution_count": 135,
     "metadata": {},
     "output_type": "execute_result"
    }
   ],
   "source": [
    "## Similarly, we create a copy of dataset for X_test, dropping the categorical independent variables \n",
    "X_test = SongsTest.copy().drop(columns=[\"year\", \"songtitle\", \"artistname\", \"songID\", \"artistID\",'Top10'],axis=1)\n",
    "X_test.shape ## Here, we have around 373 rows and 33 columns in our X_test dataset\n",
    "## We will use this dataset as our unknown/test dataset for testing the models accuracy on unknown data points."
   ]
  },
  {
   "cell_type": "code",
   "execution_count": 138,
   "metadata": {},
   "outputs": [
    {
     "data": {
      "text/plain": [
       "373"
      ]
     },
     "execution_count": 138,
     "metadata": {},
     "output_type": "execute_result"
    }
   ],
   "source": [
    "Y_test = SongsTest['Top10'].copy()\n",
    "len(Y_test)"
   ]
  },
  {
   "cell_type": "markdown",
   "metadata": {},
   "source": [
    "### <b><u>Step2:</u></b>"
   ]
  },
  {
   "cell_type": "code",
   "execution_count": 237,
   "metadata": {},
   "outputs": [],
   "source": [
    "# Build Logistic Regression Model:\n",
    "# At this stage, we’re ready to create our \n",
    "# logistic regression model. We’ll do this \n",
    "# using the LogisticRegression class we imported in the beginning.\n",
    "logistic_regression = LogisticRegression(solver = 'newton-cg')"
   ]
  },
  {
   "cell_type": "code",
   "execution_count": 238,
   "metadata": {},
   "outputs": [
    {
     "data": {
      "text/plain": [
       "array([[ 1.33957860e-01,  7.71828317e-01,  3.01060283e-01,\n",
       "         3.43341476e-04,  4.85230851e-01,  1.50578200e-02,\n",
       "         3.35133308e-01, -1.87649885e+00, -1.57537821e+00,\n",
       "         2.24306320e-02, -3.18969044e-01,  5.24515934e-03,\n",
       "        -2.80794469e-04, -3.61167133e-03,  5.25306291e-04,\n",
       "         7.54761118e-04, -3.25555195e-03,  9.27753766e-03,\n",
       "         6.92724409e-03, -6.33233590e-03, -1.59430796e-05,\n",
       "        -1.74698278e-02,  5.02509683e-03, -5.25302783e-03,\n",
       "        -3.62189545e-03,  3.72275789e-03,  5.15043522e-03,\n",
       "         1.39224760e-03,  1.98560925e-03,  4.12184125e-03,\n",
       "         5.57714810e-03, -2.80074257e-02,  1.91613926e-02]])"
      ]
     },
     "execution_count": 238,
     "metadata": {},
     "output_type": "execute_result"
    }
   ],
   "source": [
    "## Fitting/Training the model using sklearn\n",
    "regressor_result = logistic_regression.fit(X_train, Y_train)\n",
    "regressor_result.coef_"
   ]
  },
  {
   "cell_type": "code",
   "execution_count": 239,
   "metadata": {},
   "outputs": [
    {
     "ename": "NameError",
     "evalue": "name 'color' is not defined",
     "output_type": "error",
     "traceback": [
      "\u001b[1;31m---------------------------------------------------------------------------\u001b[0m",
      "\u001b[1;31mNameError\u001b[0m                                 Traceback (most recent call last)",
      "\u001b[1;32m<ipython-input-239-cf57f97b9b73>\u001b[0m in \u001b[0;36m<module>\u001b[1;34m\u001b[0m\n\u001b[0;32m     56\u001b[0m     \u001b[0mx\u001b[0m\u001b[1;33m=\u001b[0m\u001b[0mcorr\u001b[0m\u001b[1;33m[\u001b[0m\u001b[1;34m'x'\u001b[0m\u001b[1;33m]\u001b[0m\u001b[1;33m,\u001b[0m\u001b[1;33m\u001b[0m\u001b[1;33m\u001b[0m\u001b[0m\n\u001b[0;32m     57\u001b[0m     \u001b[0my\u001b[0m\u001b[1;33m=\u001b[0m\u001b[0mcorr\u001b[0m\u001b[1;33m[\u001b[0m\u001b[1;34m'y'\u001b[0m\u001b[1;33m]\u001b[0m\u001b[1;33m,\u001b[0m\u001b[1;33m\u001b[0m\u001b[1;33m\u001b[0m\u001b[0m\n\u001b[1;32m---> 58\u001b[1;33m     \u001b[0msize\u001b[0m\u001b[1;33m=\u001b[0m\u001b[0mcorr\u001b[0m\u001b[1;33m[\u001b[0m\u001b[1;34m'value'\u001b[0m\u001b[1;33m]\u001b[0m\u001b[1;33m.\u001b[0m\u001b[0mabs\u001b[0m\u001b[1;33m(\u001b[0m\u001b[1;33m)\u001b[0m\u001b[1;33m\u001b[0m\u001b[1;33m\u001b[0m\u001b[0m\n\u001b[0m\u001b[0;32m     59\u001b[0m )\n\u001b[0;32m     60\u001b[0m \u001b[1;33m\u001b[0m\u001b[0m\n",
      "\u001b[1;32m<ipython-input-239-cf57f97b9b73>\u001b[0m in \u001b[0;36mheatmap\u001b[1;34m(x, y, size)\u001b[0m\n\u001b[0;32m     43\u001b[0m     \u001b[0my\u001b[0m\u001b[1;33m=\u001b[0m\u001b[0my\u001b[0m\u001b[1;33m.\u001b[0m\u001b[0mmap\u001b[0m\u001b[1;33m(\u001b[0m\u001b[0my_to_num\u001b[0m\u001b[1;33m)\u001b[0m\u001b[1;33m,\u001b[0m\u001b[1;33m\u001b[0m\u001b[1;33m\u001b[0m\u001b[0m\n\u001b[0;32m     44\u001b[0m     \u001b[0ms\u001b[0m\u001b[1;33m=\u001b[0m\u001b[0msize\u001b[0m \u001b[1;33m*\u001b[0m \u001b[0msize_scale\u001b[0m\u001b[1;33m,\u001b[0m\u001b[1;33m\u001b[0m\u001b[1;33m\u001b[0m\u001b[0m\n\u001b[1;32m---> 45\u001b[1;33m     \u001b[0mc\u001b[0m\u001b[1;33m=\u001b[0m\u001b[0mcolor\u001b[0m\u001b[1;33m.\u001b[0m\u001b[0mapply\u001b[0m\u001b[1;33m(\u001b[0m\u001b[0mvalue_to_color\u001b[0m\u001b[1;33m)\u001b[0m\u001b[1;33m,\u001b[0m \u001b[1;31m# Vector of square color values, mapped to color palette\u001b[0m\u001b[1;33m\u001b[0m\u001b[1;33m\u001b[0m\u001b[0m\n\u001b[0m\u001b[0;32m     46\u001b[0m     \u001b[0mmarker\u001b[0m\u001b[1;33m=\u001b[0m\u001b[1;34m's'\u001b[0m\u001b[1;33m\u001b[0m\u001b[1;33m\u001b[0m\u001b[0m\n\u001b[0;32m     47\u001b[0m )\n",
      "\u001b[1;31mNameError\u001b[0m: name 'color' is not defined"
     ]
    },
    {
     "data": {
      "image/png": "[encoded data removed]",
      "text/plain": [
       "<Figure size 432x288 with 1 Axes>"
      ]
     },
     "metadata": {
      "needs_background": "light"
     },
     "output_type": "display_data"
    }
   ],
   "source": [
    "def heatmap(x, y, size):\n",
    "    fig, ax = plt.subplots()\n",
    "    \n",
    "    # Mapping from column names to integer coordinates\n",
    "    x_labels = [v for v in sorted(x.unique())]\n",
    "    y_labels = [v for v in sorted(y.unique())]\n",
    "    x_to_num = {p[1]:p[0] for p in enumerate(x_labels)} \n",
    "    y_to_num = {p[1]:p[0] for p in enumerate(y_labels)} \n",
    "    \n",
    "    size_scale = 500\n",
    "    ax.scatter(\n",
    "        x=x.map(x_to_num), # Use mapping for x\n",
    "        y=y.map(y_to_num), # Use mapping for y\n",
    "        s=size * size_scale, # Vector of square sizes, proportional to size parameter\n",
    "        marker='s' # Use square as scatterplot marker\n",
    "    )\n",
    "    \n",
    "    # Show column labels on the axes\n",
    "    ax.set_xticks([x_to_num[v] for v in x_labels])\n",
    "    ax.set_xticklabels(x_labels, rotation=45, horizontalalignment='right')\n",
    "    ax.set_yticks([y_to_num[v] for v in y_labels])\n",
    "    ax.set_yticklabels(y_labels)\n",
    "    \n",
    "    ax.grid(False, 'major')\n",
    "    ax.grid(True, 'minor')\n",
    "    ax.set_xticks([t + 0.5 for t in ax.get_xticks()], minor=True)\n",
    "    ax.set_yticks([t + 0.5 for t in ax.get_yticks()], minor=True)\n",
    "    \n",
    "    ax.set_xlim([-0.5, max([v for v in x_to_num.values()]) + 0.5]) \n",
    "    ax.set_ylim([-0.5, max([v for v in y_to_num.values()]) + 0.5])\n",
    "    \n",
    "    n_colors = 256 # Use 256 colors for the diverging color palette\n",
    "    palette = sns.diverging_palette(20, 220, n=n_colors) # Create the palette\n",
    "    color_min, color_max = [-1, 1] # Range of values that will be mapped to the palette, i.e. min and max possible correlation\n",
    "\n",
    "    def value_to_color(val):\n",
    "        val_position = float((val - color_min)) / (color_max - color_min) # position of value in the input range, relative to the length of the input range\n",
    "        ind = int(val_position * (n_colors - 1)) # target index in the color palette\n",
    "        return palette[ind]\n",
    "\n",
    "    ax.scatter(\n",
    "    x=x.map(x_to_num),\n",
    "    y=y.map(y_to_num),\n",
    "    s=size * size_scale,\n",
    "    c=color.apply(value_to_color), # Vector of square color values, mapped to color palette\n",
    "    marker='s'\n",
    ")\n",
    "    \n",
    "data = SongsTrain\n",
    "cols = ['timesignature_confidence','key_confidence','tempo_confidence','Top10']\n",
    "columns = (cols)\n",
    "corr = data[columns].corr()\n",
    "corr = pd.melt(corr.reset_index(), id_vars='index') # Unpivot the dataframe, so we can get pair of arrays for x and y\n",
    "corr.columns = ['x', 'y', 'value']\n",
    "heatmap(\n",
    "    x=corr['x'],\n",
    "    y=corr['y'],\n",
    "    size=corr['value'].abs()\n",
    ")\n",
    "\n"
   ]
  },
  {
   "cell_type": "code",
   "execution_count": 240,
   "metadata": {},
   "outputs": [
    {
     "name": "stdout",
     "output_type": "stream",
     "text": [
      "Optimization terminated successfully.\n",
      "         Current function value: 0.335207\n",
      "         Iterations 8\n",
      "                           Logit Regression Results                           \n",
      "==============================================================================\n",
      "Dep. Variable:                  Top10   No. Observations:                 7201\n",
      "Model:                          Logit   Df Residuals:                     7168\n",
      "Method:                           MLE   Df Model:                           32\n",
      "Date:                Sun, 19 Apr 2020   Pseudo R-squ.:                  0.1977\n",
      "Time:                        17:09:12   Log-Likelihood:                -2413.8\n",
      "converged:                       True   LL-Null:                       -3008.8\n",
      "Covariance Type:            nonrobust   LLR p-value:                1.373e-229\n",
      "============================================================================================\n",
      "                               coef    std err          z      P>|z|      [0.025      0.975]\n",
      "--------------------------------------------------------------------------------------------\n",
      "timesignature                0.2818      0.089      3.162      0.002       0.107       0.457\n",
      "timesignature_confidence     0.7315      0.196      3.733      0.000       0.347       1.116\n",
      "loudness                     0.0879      0.012      7.119      0.000       0.064       0.112\n",
      "tempo                        0.0023      0.002      1.404      0.160      -0.001       0.006\n",
      "tempo_confidence             0.5823      0.142      4.112      0.000       0.305       0.860\n",
      "key                          0.0201      0.010      1.950      0.051   -9.96e-05       0.040\n",
      "key_confidence               0.3164      0.140      2.258      0.024       0.042       0.591\n",
      "energy                      -0.6730      0.291     -2.314      0.021      -1.243      -0.103\n",
      "pitch                      -43.1605      6.800     -6.347      0.000     -56.489     -29.832\n",
      "timbre_0_min                 0.0264      0.004      6.259      0.000       0.018       0.035\n",
      "timbre_0_max                -0.1379      0.009    -15.595      0.000      -0.155      -0.121\n",
      "timbre_1_min                 0.0068      0.001      8.783      0.000       0.005       0.008\n",
      "timbre_1_max                -0.0006      0.001     -0.833      0.405      -0.002       0.001\n",
      "timbre_2_min                -0.0018      0.001     -1.566      0.117      -0.004       0.000\n",
      "timbre_2_max                 0.0003      0.001      0.377      0.706      -0.001       0.002\n",
      "timbre_3_min                 0.0007      0.001      1.166      0.244      -0.000       0.002\n",
      "timbre_3_max                -0.0026      0.001     -4.631      0.000      -0.004      -0.002\n",
      "timbre_4_min                 0.0086      0.002      4.406      0.000       0.005       0.012\n",
      "timbre_4_max                 0.0063      0.002      4.117      0.000       0.003       0.009\n",
      "timbre_5_min                -0.0057      0.001     -4.537      0.000      -0.008      -0.003\n",
      "timbre_5_max                 0.0005      0.001      0.613      0.540      -0.001       0.002\n",
      "timbre_6_min                -0.0167      0.002     -7.434      0.000      -0.021      -0.012\n",
      "timbre_6_max                 0.0039      0.002      1.817      0.069      -0.000       0.008\n",
      "timbre_7_min                -0.0047      0.002     -2.685      0.007      -0.008      -0.001\n",
      "timbre_7_max                -0.0031      0.002     -1.701      0.089      -0.007       0.000\n",
      "timbre_8_min                 0.0038      0.003      1.348      0.178      -0.002       0.009\n",
      "timbre_8_max                 0.0076      0.003      2.570      0.010       0.002       0.013\n",
      "timbre_9_min              -2.37e-05      0.003     -0.008      0.994      -0.006       0.006\n",
      "timbre_9_max                 0.0035      0.002      1.477      0.140      -0.001       0.008\n",
      "timbre_10_min                0.0033      0.002      1.832      0.067      -0.000       0.007\n",
      "timbre_10_max                0.0069      0.002      3.951      0.000       0.003       0.010\n",
      "timbre_11_min               -0.0295      0.004     -8.121      0.000      -0.037      -0.022\n",
      "timbre_11_max                0.0206      0.003      6.129      0.000       0.014       0.027\n",
      "============================================================================================\n"
     ]
    }
   ],
   "source": [
    "logit_model=sm.Logit(Y_train,X_train)\n",
    "result=logit_model.fit()\n",
    "print(result.summary())"
   ]
  },
  {
   "cell_type": "code",
   "execution_count": 241,
   "metadata": {},
   "outputs": [
    {
     "data": {
      "text/html": [
       "<div>\n",
       "<style scoped>\n",
       "    .dataframe tbody tr th:only-of-type {\n",
       "        vertical-align: middle;\n",
       "    }\n",
       "\n",
       "    .dataframe tbody tr th {\n",
       "        vertical-align: top;\n",
       "    }\n",
       "\n",
       "    .dataframe thead th {\n",
       "        text-align: right;\n",
       "    }\n",
       "</style>\n",
       "<table border=\"1\" class=\"dataframe\">\n",
       "  <thead>\n",
       "    <tr style=\"text-align: right;\">\n",
       "      <th></th>\n",
       "      <th>0</th>\n",
       "      <th>1</th>\n",
       "    </tr>\n",
       "  </thead>\n",
       "  <tbody>\n",
       "    <tr>\n",
       "      <td>timesignature</td>\n",
       "      <td>0.107124</td>\n",
       "      <td>0.456504</td>\n",
       "    </tr>\n",
       "    <tr>\n",
       "      <td>timesignature_confidence</td>\n",
       "      <td>0.347421</td>\n",
       "      <td>1.115528</td>\n",
       "    </tr>\n",
       "    <tr>\n",
       "      <td>loudness</td>\n",
       "      <td>0.063695</td>\n",
       "      <td>0.112094</td>\n",
       "    </tr>\n",
       "    <tr>\n",
       "      <td>tempo</td>\n",
       "      <td>-0.000923</td>\n",
       "      <td>0.005586</td>\n",
       "    </tr>\n",
       "    <tr>\n",
       "      <td>tempo_confidence</td>\n",
       "      <td>0.304750</td>\n",
       "      <td>0.859761</td>\n",
       "    </tr>\n",
       "    <tr>\n",
       "      <td>key</td>\n",
       "      <td>-0.000100</td>\n",
       "      <td>0.040250</td>\n",
       "    </tr>\n",
       "    <tr>\n",
       "      <td>key_confidence</td>\n",
       "      <td>0.041817</td>\n",
       "      <td>0.591066</td>\n",
       "    </tr>\n",
       "    <tr>\n",
       "      <td>energy</td>\n",
       "      <td>-1.242980</td>\n",
       "      <td>-0.102954</td>\n",
       "    </tr>\n",
       "    <tr>\n",
       "      <td>pitch</td>\n",
       "      <td>-56.489017</td>\n",
       "      <td>-29.832029</td>\n",
       "    </tr>\n",
       "    <tr>\n",
       "      <td>timbre_0_min</td>\n",
       "      <td>0.018134</td>\n",
       "      <td>0.034666</td>\n",
       "    </tr>\n",
       "    <tr>\n",
       "      <td>timbre_0_max</td>\n",
       "      <td>-0.155204</td>\n",
       "      <td>-0.120548</td>\n",
       "    </tr>\n",
       "    <tr>\n",
       "      <td>timbre_1_min</td>\n",
       "      <td>0.005278</td>\n",
       "      <td>0.008310</td>\n",
       "    </tr>\n",
       "    <tr>\n",
       "      <td>timbre_1_max</td>\n",
       "      <td>-0.001975</td>\n",
       "      <td>0.000797</td>\n",
       "    </tr>\n",
       "    <tr>\n",
       "      <td>timbre_2_min</td>\n",
       "      <td>-0.003942</td>\n",
       "      <td>0.000441</td>\n",
       "    </tr>\n",
       "    <tr>\n",
       "      <td>timbre_2_max</td>\n",
       "      <td>-0.001425</td>\n",
       "      <td>0.002105</td>\n",
       "    </tr>\n",
       "    <tr>\n",
       "      <td>timbre_3_min</td>\n",
       "      <td>-0.000474</td>\n",
       "      <td>0.001864</td>\n",
       "    </tr>\n",
       "    <tr>\n",
       "      <td>timbre_3_max</td>\n",
       "      <td>-0.003769</td>\n",
       "      <td>-0.001528</td>\n",
       "    </tr>\n",
       "    <tr>\n",
       "      <td>timbre_4_min</td>\n",
       "      <td>0.004781</td>\n",
       "      <td>0.012443</td>\n",
       "    </tr>\n",
       "    <tr>\n",
       "      <td>timbre_4_max</td>\n",
       "      <td>0.003317</td>\n",
       "      <td>0.009344</td>\n",
       "    </tr>\n",
       "    <tr>\n",
       "      <td>timbre_5_min</td>\n",
       "      <td>-0.008185</td>\n",
       "      <td>-0.003246</td>\n",
       "    </tr>\n",
       "    <tr>\n",
       "      <td>timbre_5_max</td>\n",
       "      <td>-0.001057</td>\n",
       "      <td>0.002020</td>\n",
       "    </tr>\n",
       "    <tr>\n",
       "      <td>timbre_6_min</td>\n",
       "      <td>-0.021125</td>\n",
       "      <td>-0.012310</td>\n",
       "    </tr>\n",
       "    <tr>\n",
       "      <td>timbre_6_max</td>\n",
       "      <td>-0.000310</td>\n",
       "      <td>0.008186</td>\n",
       "    </tr>\n",
       "    <tr>\n",
       "      <td>timbre_7_min</td>\n",
       "      <td>-0.008190</td>\n",
       "      <td>-0.001278</td>\n",
       "    </tr>\n",
       "    <tr>\n",
       "      <td>timbre_7_max</td>\n",
       "      <td>-0.006652</td>\n",
       "      <td>0.000471</td>\n",
       "    </tr>\n",
       "    <tr>\n",
       "      <td>timbre_8_min</td>\n",
       "      <td>-0.001726</td>\n",
       "      <td>0.009332</td>\n",
       "    </tr>\n",
       "    <tr>\n",
       "      <td>timbre_8_max</td>\n",
       "      <td>0.001795</td>\n",
       "      <td>0.013330</td>\n",
       "    </tr>\n",
       "    <tr>\n",
       "      <td>timbre_9_min</td>\n",
       "      <td>-0.005839</td>\n",
       "      <td>0.005792</td>\n",
       "    </tr>\n",
       "    <tr>\n",
       "      <td>timbre_9_max</td>\n",
       "      <td>-0.001152</td>\n",
       "      <td>0.008201</td>\n",
       "    </tr>\n",
       "    <tr>\n",
       "      <td>timbre_10_min</td>\n",
       "      <td>-0.000232</td>\n",
       "      <td>0.006899</td>\n",
       "    </tr>\n",
       "    <tr>\n",
       "      <td>timbre_10_max</td>\n",
       "      <td>0.003475</td>\n",
       "      <td>0.010316</td>\n",
       "    </tr>\n",
       "    <tr>\n",
       "      <td>timbre_11_min</td>\n",
       "      <td>-0.036654</td>\n",
       "      <td>-0.022400</td>\n",
       "    </tr>\n",
       "    <tr>\n",
       "      <td>timbre_11_max</td>\n",
       "      <td>0.013986</td>\n",
       "      <td>0.027135</td>\n",
       "    </tr>\n",
       "  </tbody>\n",
       "</table>\n",
       "</div>"
      ],
      "text/plain": [
       "                                  0          1\n",
       "timesignature              0.107124   0.456504\n",
       "timesignature_confidence   0.347421   1.115528\n",
       "loudness                   0.063695   0.112094\n",
       "tempo                     -0.000923   0.005586\n",
       "tempo_confidence           0.304750   0.859761\n",
       "key                       -0.000100   0.040250\n",
       "key_confidence             0.041817   0.591066\n",
       "energy                    -1.242980  -0.102954\n",
       "pitch                    -56.489017 -29.832029\n",
       "timbre_0_min               0.018134   0.034666\n",
       "timbre_0_max              -0.155204  -0.120548\n",
       "timbre_1_min               0.005278   0.008310\n",
       "timbre_1_max              -0.001975   0.000797\n",
       "timbre_2_min              -0.003942   0.000441\n",
       "timbre_2_max              -0.001425   0.002105\n",
       "timbre_3_min              -0.000474   0.001864\n",
       "timbre_3_max              -0.003769  -0.001528\n",
       "timbre_4_min               0.004781   0.012443\n",
       "timbre_4_max               0.003317   0.009344\n",
       "timbre_5_min              -0.008185  -0.003246\n",
       "timbre_5_max              -0.001057   0.002020\n",
       "timbre_6_min              -0.021125  -0.012310\n",
       "timbre_6_max              -0.000310   0.008186\n",
       "timbre_7_min              -0.008190  -0.001278\n",
       "timbre_7_max              -0.006652   0.000471\n",
       "timbre_8_min              -0.001726   0.009332\n",
       "timbre_8_max               0.001795   0.013330\n",
       "timbre_9_min              -0.005839   0.005792\n",
       "timbre_9_max              -0.001152   0.008201\n",
       "timbre_10_min             -0.000232   0.006899\n",
       "timbre_10_max              0.003475   0.010316\n",
       "timbre_11_min             -0.036654  -0.022400\n",
       "timbre_11_max              0.013986   0.027135"
      ]
     },
     "execution_count": 241,
     "metadata": {},
     "output_type": "execute_result"
    }
   ],
   "source": [
    "result.conf_int()"
   ]
  },
  {
   "cell_type": "code",
   "execution_count": 188,
   "metadata": {},
   "outputs": [
    {
     "data": {
      "text/plain": [
       "LogisticRegression(C=1.0, class_weight=None, dual=False, fit_intercept=True,\n",
       "                   intercept_scaling=1, l1_ratio=None, max_iter=100,\n",
       "                   multi_class='warn', n_jobs=None, penalty='l2',\n",
       "                   random_state=None, solver='liblinear', tol=0.0001, verbose=0,\n",
       "                   warm_start=False)"
      ]
     },
     "execution_count": 188,
     "metadata": {},
     "output_type": "execute_result"
    }
   ],
   "source": [
    "feature_col = list(X_train.columns)\n",
    "\n",
    "zip(feature_col,list(regressor_result.coef_))\n",
    "regressor_result.sparsify()"
   ]
  },
  {
   "cell_type": "markdown",
   "metadata": {},
   "source": [
    "### Q3.1)"
   ]
  },
  {
   "cell_type": "code",
   "execution_count": 145,
   "metadata": {},
   "outputs": [],
   "source": [
    "## We do predictions on the X_test data.. then we will compare to y_test and calculate how the model predicted the y values \n",
    "Y_pred = logistic_regression.predict(X_test)"
   ]
  },
  {
   "cell_type": "code",
   "execution_count": 162,
   "metadata": {},
   "outputs": [
    {
     "data": {
      "text/plain": [
       "0.8632707774798928"
      ]
     },
     "execution_count": 162,
     "metadata": {},
     "output_type": "execute_result"
    }
   ],
   "source": [
    "## Accuracy of a model tells us how well a model has predicted on the unknown dataset i.e. y_test \n",
    "accuracy = metrics.accuracy_score(Y_test, Y_pred)\n",
    "accuracy\n",
    "## Here the model accuracy is fairly good but not great. It is approximately 0.86 that means it has about (~0.14) error"
   ]
  },
  {
   "cell_type": "code",
   "execution_count": null,
   "metadata": {},
   "outputs": [],
   "source": []
  }
 ],
 "metadata": {
  "kernelspec": {
   "display_name": "Python 3",
   "language": "python",
   "name": "python3"
  },
  "language_info": {
   "codemirror_mode": {
    "name": "ipython",
    "version": 3
   },
   "file_extension": ".py",
   "mimetype": "text/x-python",
   "name": "python",
   "nbconvert_exporter": "python",
   "pygments_lexer": "ipython3",
   "version": "3.7.4"
  }
 },
 "nbformat": 4,
 "nbformat_minor": 2
}
