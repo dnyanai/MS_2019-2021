{
 "cells": [
  {
   "cell_type": "markdown",
   "metadata": {},
   "source": [
    "<font color='blue'> \n",
    "Name: Dnyanai Surkutwar <br>\n",
    "Email: dsurkutwar@scu.edu  <br>\n",
    "Student ID: 00001586576 <br><br>\n",
    "<b>Quiz #1 Problem Statement:</b><br> Training Data size = 90%, Test Data Size = 10% <br>\n",
    "<li>\n",
    "1. Build a simple linear model <br>\n",
    "2. Predict y for a given x = 25 <br>\n",
    "3. Predict y for a given x = 11 <br>\n",
    "4. Calculate Mean Absolute Error (MAE) of your model <br>\n",
    "</li>\n",
    "</font>    "
   ]
  },
  {
   "cell_type": "code",
   "execution_count": 1,
   "metadata": {},
   "outputs": [],
   "source": [
    "#Importing all the required libraries :\n",
    "import pandas as pd  \n",
    "import numpy as np  \n",
    "import matplotlib.pyplot as plt  \n",
    "import seaborn as sns  \n",
    "from sklearn.model_selection import train_test_split \n",
    "from sklearn.linear_model import LinearRegression\n",
    "from sklearn import metrics\n",
    "%matplotlib inline"
   ]
  },
  {
   "cell_type": "markdown",
   "metadata": {},
   "source": [
    "##### The dataset showcases the GMC truck pickup listprices in 'X' column and bestprices in 'Y' column.\\We will rename these columns to convey meaning.\\<br>\n",
    "df_gmc_truck_prices -> dataframe of the 'X' and 'Y' prices from the dataset"
   ]
  },
  {
   "cell_type": "code",
   "execution_count": 2,
   "metadata": {},
   "outputs": [
    {
     "data": {
      "text/html": [
       "<div>\n",
       "<style scoped>\n",
       "    .dataframe tbody tr th:only-of-type {\n",
       "        vertical-align: middle;\n",
       "    }\n",
       "\n",
       "    .dataframe tbody tr th {\n",
       "        vertical-align: top;\n",
       "    }\n",
       "\n",
       "    .dataframe thead th {\n",
       "        text-align: right;\n",
       "    }\n",
       "</style>\n",
       "<table border=\"1\" class=\"dataframe\">\n",
       "  <thead>\n",
       "    <tr style=\"text-align: right;\">\n",
       "      <th></th>\n",
       "      <th>ListPrice</th>\n",
       "      <th>BestPrice</th>\n",
       "    </tr>\n",
       "  </thead>\n",
       "  <tbody>\n",
       "    <tr>\n",
       "      <td>0</td>\n",
       "      <td>12.4</td>\n",
       "      <td>11.2</td>\n",
       "    </tr>\n",
       "    <tr>\n",
       "      <td>1</td>\n",
       "      <td>14.3</td>\n",
       "      <td>12.5</td>\n",
       "    </tr>\n",
       "    <tr>\n",
       "      <td>2</td>\n",
       "      <td>14.5</td>\n",
       "      <td>12.7</td>\n",
       "    </tr>\n",
       "    <tr>\n",
       "      <td>3</td>\n",
       "      <td>14.9</td>\n",
       "      <td>13.1</td>\n",
       "    </tr>\n",
       "    <tr>\n",
       "      <td>4</td>\n",
       "      <td>16.1</td>\n",
       "      <td>14.1</td>\n",
       "    </tr>\n",
       "  </tbody>\n",
       "</table>\n",
       "</div>"
      ],
      "text/plain": [
       "   ListPrice  BestPrice\n",
       "0       12.4       11.2\n",
       "1       14.3       12.5\n",
       "2       14.5       12.7\n",
       "3       14.9       13.1\n",
       "4       16.1       14.1"
      ]
     },
     "execution_count": 2,
     "metadata": {},
     "output_type": "execute_result"
    }
   ],
   "source": [
    "df_gmc_truck_prices = pd.read_csv('gmc_pickup.csv')\n",
    "df_gmc_truck_prices.rename({'X':'ListPrice','Y':'BestPrice'},\\\n",
    "                           axis=1,inplace='True')\n",
    "df_gmc_truck_prices.head()"
   ]
  },
  {
   "cell_type": "markdown",
   "metadata": {},
   "source": [
    "##### Performing EDA : "
   ]
  },
  {
   "cell_type": "code",
   "execution_count": 3,
   "metadata": {},
   "outputs": [
    {
     "data": {
      "text/plain": [
       "23"
      ]
     },
     "execution_count": 3,
     "metadata": {},
     "output_type": "execute_result"
    }
   ],
   "source": [
    "len(df_gmc_truck_prices)"
   ]
  },
  {
   "cell_type": "code",
   "execution_count": 4,
   "metadata": {},
   "outputs": [
    {
     "name": "stdout",
     "output_type": "stream",
     "text": [
      "<class 'pandas.core.frame.DataFrame'>\n",
      "RangeIndex: 23 entries, 0 to 22\n",
      "Data columns (total 2 columns):\n",
      "ListPrice    23 non-null float64\n",
      "BestPrice    23 non-null float64\n",
      "dtypes: float64(2)\n",
      "memory usage: 496.0 bytes\n"
     ]
    }
   ],
   "source": [
    "## Using info to get information about the columns like their datatypes\n",
    "df_gmc_truck_prices.info()"
   ]
  },
  {
   "cell_type": "code",
   "execution_count": 5,
   "metadata": {},
   "outputs": [
    {
     "data": {
      "text/plain": [
       "(23, 2)"
      ]
     },
     "execution_count": 5,
     "metadata": {},
     "output_type": "execute_result"
    }
   ],
   "source": [
    "## Using shape function we get the number of rows and columns in the\n",
    "## dataframe \n",
    "df_gmc_truck_prices.shape"
   ]
  },
  {
   "cell_type": "code",
   "execution_count": 6,
   "metadata": {},
   "outputs": [
    {
     "data": {
      "text/html": [
       "<div>\n",
       "<style scoped>\n",
       "    .dataframe tbody tr th:only-of-type {\n",
       "        vertical-align: middle;\n",
       "    }\n",
       "\n",
       "    .dataframe tbody tr th {\n",
       "        vertical-align: top;\n",
       "    }\n",
       "\n",
       "    .dataframe thead th {\n",
       "        text-align: right;\n",
       "    }\n",
       "</style>\n",
       "<table border=\"1\" class=\"dataframe\">\n",
       "  <thead>\n",
       "    <tr style=\"text-align: right;\">\n",
       "      <th></th>\n",
       "      <th>ListPrice</th>\n",
       "      <th>BestPrice</th>\n",
       "    </tr>\n",
       "  </thead>\n",
       "  <tbody>\n",
       "    <tr>\n",
       "      <td>count</td>\n",
       "      <td>23.000000</td>\n",
       "      <td>23.000000</td>\n",
       "    </tr>\n",
       "    <tr>\n",
       "      <td>mean</td>\n",
       "      <td>17.465217</td>\n",
       "      <td>15.300000</td>\n",
       "    </tr>\n",
       "    <tr>\n",
       "      <td>std</td>\n",
       "      <td>2.413901</td>\n",
       "      <td>2.057580</td>\n",
       "    </tr>\n",
       "    <tr>\n",
       "      <td>min</td>\n",
       "      <td>12.400000</td>\n",
       "      <td>11.200000</td>\n",
       "    </tr>\n",
       "    <tr>\n",
       "      <td>25%</td>\n",
       "      <td>15.800000</td>\n",
       "      <td>14.050000</td>\n",
       "    </tr>\n",
       "    <tr>\n",
       "      <td>50%</td>\n",
       "      <td>17.299999</td>\n",
       "      <td>15.100000</td>\n",
       "    </tr>\n",
       "    <tr>\n",
       "      <td>75%</td>\n",
       "      <td>19.300000</td>\n",
       "      <td>16.849999</td>\n",
       "    </tr>\n",
       "    <tr>\n",
       "      <td>max</td>\n",
       "      <td>22.400000</td>\n",
       "      <td>19.600000</td>\n",
       "    </tr>\n",
       "  </tbody>\n",
       "</table>\n",
       "</div>"
      ],
      "text/plain": [
       "       ListPrice  BestPrice\n",
       "count  23.000000  23.000000\n",
       "mean   17.465217  15.300000\n",
       "std     2.413901   2.057580\n",
       "min    12.400000  11.200000\n",
       "25%    15.800000  14.050000\n",
       "50%    17.299999  15.100000\n",
       "75%    19.300000  16.849999\n",
       "max    22.400000  19.600000"
      ]
     },
     "execution_count": 6,
     "metadata": {},
     "output_type": "execute_result"
    }
   ],
   "source": [
    "## describe function is used to understand the statistical details of \n",
    "## the dataframe. \n",
    "df_gmc_truck_prices.describe()\n",
    "## For the dataframe, we see that about 50% of listprices are 17$ and\n",
    "## 15$ for BestPrices \n",
    "## Aslo, the max value for listprice is 22.4$ and bestprice in the \n",
    "## dataset is 19.6$ "
   ]
  },
  {
   "cell_type": "code",
   "execution_count": 18,
   "metadata": {},
   "outputs": [
    {
     "data": {
      "image/png": "[encoded data removed]",
      "text/plain": [
       "<Figure size 432x288 with 1 Axes>"
      ]
     },
     "metadata": {
      "needs_background": "light"
     },
     "output_type": "display_data"
    }
   ],
   "source": [
    "df_gmc_truck_prices.plot(x='ListPrice', y='BestPrice', style='o')  \n",
    "plt.title('ListPrice vs BestPrice')  \n",
    "plt.xlabel('ListPrice')  \n",
    "plt.ylabel('BestPrice')  \n",
    "plt.show()\n",
    "## This shows that there are only 1-3 outliers so this is very good data"
   ]
  },
  {
   "cell_type": "code",
   "execution_count": 9,
   "metadata": {},
   "outputs": [
    {
     "data": {
      "image/png": "[encoded data removed]",
      "text/plain": [
       "<Figure size 432x288 with 1 Axes>"
      ]
     },
     "metadata": {
      "needs_background": "light"
     },
     "output_type": "display_data"
    }
   ],
   "source": [
    "df_gmc_truck_prices.plot(x='BestPrice', y='ListPrice', style='o')  \n",
    "plt.title('BestPrice vs ListPrice')  \n",
    "plt.xlabel('BestPrice')  \n",
    "plt.ylabel('ListPrice')  \n",
    "plt.show()"
   ]
  },
  {
   "cell_type": "code",
   "execution_count": 8,
   "metadata": {},
   "outputs": [
    {
     "data": {
      "text/html": [
       "<div>\n",
       "<style scoped>\n",
       "    .dataframe tbody tr th:only-of-type {\n",
       "        vertical-align: middle;\n",
       "    }\n",
       "\n",
       "    .dataframe tbody tr th {\n",
       "        vertical-align: top;\n",
       "    }\n",
       "\n",
       "    .dataframe thead th {\n",
       "        text-align: right;\n",
       "    }\n",
       "</style>\n",
       "<table border=\"1\" class=\"dataframe\">\n",
       "  <thead>\n",
       "    <tr style=\"text-align: right;\">\n",
       "      <th></th>\n",
       "      <th>ListPrice</th>\n",
       "      <th>BestPrice</th>\n",
       "    </tr>\n",
       "  </thead>\n",
       "  <tbody>\n",
       "    <tr>\n",
       "      <td>ListPrice</td>\n",
       "      <td>1.00000</td>\n",
       "      <td>0.99854</td>\n",
       "    </tr>\n",
       "    <tr>\n",
       "      <td>BestPrice</td>\n",
       "      <td>0.99854</td>\n",
       "      <td>1.00000</td>\n",
       "    </tr>\n",
       "  </tbody>\n",
       "</table>\n",
       "</div>"
      ],
      "text/plain": [
       "           ListPrice  BestPrice\n",
       "ListPrice    1.00000    0.99854\n",
       "BestPrice    0.99854    1.00000"
      ]
     },
     "execution_count": 8,
     "metadata": {},
     "output_type": "execute_result"
    }
   ],
   "source": [
    "## Lets findout the correlation between the data\n",
    "df_gmc_truck_prices.corr()\n",
    "## This shows that the ListPrice is directly related to the BestPrice"
   ]
  },
  {
   "cell_type": "code",
   "execution_count": 19,
   "metadata": {},
   "outputs": [],
   "source": [
    "## Here, X is referring to the independent variable of the dataframe\n",
    "## on which Y, the dependent variable depends.\n",
    "## Since, we only have two columns we can go ahead and assign X and Y to\n",
    "## if there are more than 2 columns then X is all columns except the \n",
    "## dependent cloumn(Y)\n",
    "X = df_gmc_truck_prices['ListPrice'].values.reshape(-1,1)\n",
    "Y = df_gmc_truck_prices['BestPrice'].values.reshape(-1,1)"
   ]
  },
  {
   "cell_type": "code",
   "execution_count": 20,
   "metadata": {},
   "outputs": [],
   "source": [
    "## Next, we split 90% of the data to the training set while \n",
    "## 10% of the data to test set using below code.\n",
    "## the test_size = 0.1 represents the 10%\n",
    "X_train, X_test, Y_train, Y_test = \\\n",
    "train_test_split(X, Y, test_size=0.1, random_state=5)"
   ]
  },
  {
   "cell_type": "code",
   "execution_count": 23,
   "metadata": {},
   "outputs": [
    {
     "name": "stdout",
     "output_type": "stream",
     "text": [
      "The independent train set is: (20, 1)\n",
      "The independent test set is: (3, 1)\n"
     ]
    }
   ],
   "source": [
    "print('The independent train set is:',X_train.shape)\n",
    "print('The independent test set is:',X_test.shape)"
   ]
  },
  {
   "cell_type": "code",
   "execution_count": 24,
   "metadata": {},
   "outputs": [
    {
     "name": "stdout",
     "output_type": "stream",
     "text": [
      "The dependent train set is: (20, 1)\n",
      "The dependent test set is: (3, 1)\n"
     ]
    }
   ],
   "source": [
    "print('The dependent train set is:',Y_train.shape)\n",
    "print('The dependent test set is:',Y_test.shape)"
   ]
  },
  {
   "cell_type": "code",
   "execution_count": 25,
   "metadata": {},
   "outputs": [
    {
     "data": {
      "text/plain": [
       "LinearRegression(copy_X=True, fit_intercept=True, n_jobs=None, normalize=False)"
      ]
     },
     "execution_count": 25,
     "metadata": {},
     "output_type": "execute_result"
    }
   ],
   "source": [
    "# Build Linear Regression Model\n",
    "# After splitting the data into training and testing sets, \n",
    "# finally, the time is to train our algorithm. For that, \n",
    "# we need to import LinearRegression class, instantiate it, \n",
    "# and call the fit() method along with our training data.\n",
    "regressor = LinearRegression()  \n",
    "regressor.fit(X_train, Y_train) #training the algorithm"
   ]
  },
  {
   "cell_type": "code",
   "execution_count": 34,
   "metadata": {},
   "outputs": [
    {
     "name": "stdout",
     "output_type": "stream",
     "text": [
      "The regressor intercept: [0.42087903]\n",
      "The regressor coefficient: [[0.85209222]]\n"
     ]
    }
   ],
   "source": [
    "# find intercpt and slope\n",
    "# As we have discussed that the linear regression model \n",
    "# basically finds the best value for the intercept and slope, \n",
    "# which results in a line that best fits the data. \n",
    "# To see the value of the intercept and slope calculated \n",
    "# by the linear regression algorithm for our dataset, \n",
    "# execute the following code.\n",
    "\n",
    "#To retrieve the intercept:\n",
    "print('The regressor intercept:',regressor.intercept_)\n",
    "\n",
    "#For retrieving the slope:\n",
    "print('The regressor coefficient:',regressor.coef_)"
   ]
  },
  {
   "cell_type": "code",
   "execution_count": 45,
   "metadata": {},
   "outputs": [
    {
     "data": {
      "text/plain": [
       "array([[11.37406797]])"
      ]
     },
     "execution_count": 45,
     "metadata": {},
     "output_type": "execute_result"
    }
   ],
   "source": [
    "## Predict y for a given x = 25\n",
    "## Y= coef_+(intercept)X\n",
    "## Thus...\n",
    "x = 25\n",
    "y_for_x25 =  regressor.coef_ + regressor.intercept_*x\n",
    "y_for_x25"
   ]
  },
  {
   "cell_type": "code",
   "execution_count": 78,
   "metadata": {},
   "outputs": [
    {
     "data": {
      "text/plain": [
       "array([21.72318443])"
      ]
     },
     "execution_count": 78,
     "metadata": {},
     "output_type": "execute_result"
    }
   ],
   "source": [
    "# you have to create a DataFrame since the Statsmodels formula interface expects it\n",
    "X_new25 = pd.DataFrame({'ListPrice': [25]})\n",
    "\n",
    "# predict for a new observation\n",
    "Y_new25 = regressor.predict(X_new25)\n",
    "Y_new25[0]"
   ]
  },
  {
   "cell_type": "code",
   "execution_count": 79,
   "metadata": {},
   "outputs": [
    {
     "data": {
      "text/html": [
       "<div>\n",
       "<style scoped>\n",
       "    .dataframe tbody tr th:only-of-type {\n",
       "        vertical-align: middle;\n",
       "    }\n",
       "\n",
       "    .dataframe tbody tr th {\n",
       "        vertical-align: top;\n",
       "    }\n",
       "\n",
       "    .dataframe thead th {\n",
       "        text-align: right;\n",
       "    }\n",
       "</style>\n",
       "<table border=\"1\" class=\"dataframe\">\n",
       "  <thead>\n",
       "    <tr style=\"text-align: right;\">\n",
       "      <th></th>\n",
       "      <th>Actual</th>\n",
       "      <th>Predicted</th>\n",
       "      <th>Error</th>\n",
       "    </tr>\n",
       "  </thead>\n",
       "  <tbody>\n",
       "    <tr>\n",
       "      <td>0</td>\n",
       "      <td>25</td>\n",
       "      <td>21.723184</td>\n",
       "      <td>3.276816</td>\n",
       "    </tr>\n",
       "  </tbody>\n",
       "</table>\n",
       "</div>"
      ],
      "text/plain": [
       "   Actual  Predicted     Error\n",
       "0      25  21.723184  3.276816"
      ]
     },
     "execution_count": 79,
     "metadata": {},
     "output_type": "execute_result"
    }
   ],
   "source": [
    "df_25 = pd.DataFrame({'Actual': list(X_new25.ListPrice.values),\\\n",
    "                   'Predicted': Y_new25[0]})\n",
    "df_25['Error'] = (df_25.Actual-df_25.Predicted).abs()\n",
    "df_25\n",
    "#error25 = X_new - y_for_x25\n",
    "#error25"
   ]
  },
  {
   "cell_type": "code",
   "execution_count": 77,
   "metadata": {},
   "outputs": [
    {
     "data": {
      "text/plain": [
       "array([[5.48176155]])"
      ]
     },
     "execution_count": 77,
     "metadata": {},
     "output_type": "execute_result"
    }
   ],
   "source": [
    "## Predict y for a given x = 11\n",
    "## Y= coef_+(intercept)X\n",
    "## Thus...\n",
    "x = 11\n",
    "y_for_x11 =  regressor.coef_ + regressor.intercept_*x\n",
    "y_for_x11"
   ]
  },
  {
   "cell_type": "code",
   "execution_count": 80,
   "metadata": {},
   "outputs": [
    {
     "data": {
      "text/plain": [
       "array([9.79389341])"
      ]
     },
     "execution_count": 80,
     "metadata": {},
     "output_type": "execute_result"
    }
   ],
   "source": [
    "# you have to create a DataFrame since the Statsmodels formula interface expects it\n",
    "X_new11 = pd.DataFrame({'ListPrice': [11]})\n",
    "\n",
    "# predict for a new observation\n",
    "Y_new11 = regressor.predict(X_new11)\n",
    "Y_new11[0]"
   ]
  },
  {
   "cell_type": "code",
   "execution_count": 81,
   "metadata": {},
   "outputs": [
    {
     "data": {
      "text/html": [
       "<div>\n",
       "<style scoped>\n",
       "    .dataframe tbody tr th:only-of-type {\n",
       "        vertical-align: middle;\n",
       "    }\n",
       "\n",
       "    .dataframe tbody tr th {\n",
       "        vertical-align: top;\n",
       "    }\n",
       "\n",
       "    .dataframe thead th {\n",
       "        text-align: right;\n",
       "    }\n",
       "</style>\n",
       "<table border=\"1\" class=\"dataframe\">\n",
       "  <thead>\n",
       "    <tr style=\"text-align: right;\">\n",
       "      <th></th>\n",
       "      <th>Actual</th>\n",
       "      <th>Predicted</th>\n",
       "      <th>Error</th>\n",
       "    </tr>\n",
       "  </thead>\n",
       "  <tbody>\n",
       "    <tr>\n",
       "      <td>0</td>\n",
       "      <td>11</td>\n",
       "      <td>9.793893</td>\n",
       "      <td>1.206107</td>\n",
       "    </tr>\n",
       "  </tbody>\n",
       "</table>\n",
       "</div>"
      ],
      "text/plain": [
       "   Actual  Predicted     Error\n",
       "0      11   9.793893  1.206107"
      ]
     },
     "execution_count": 81,
     "metadata": {},
     "output_type": "execute_result"
    }
   ],
   "source": [
    "df_11 = pd.DataFrame({'Actual': list(X_new11.ListPrice.values),\\\n",
    "                   'Predicted': Y_new11[0]})\n",
    "df_11['Error'] = (df_11.Actual-df_11.Predicted).abs()\n",
    "df_11"
   ]
  },
  {
   "cell_type": "code",
   "execution_count": 82,
   "metadata": {},
   "outputs": [],
   "source": [
    "Y_pred = regressor.predict(X_test)"
   ]
  },
  {
   "cell_type": "code",
   "execution_count": 83,
   "metadata": {},
   "outputs": [
    {
     "data": {
      "text/html": [
       "<div>\n",
       "<style scoped>\n",
       "    .dataframe tbody tr th:only-of-type {\n",
       "        vertical-align: middle;\n",
       "    }\n",
       "\n",
       "    .dataframe tbody tr th {\n",
       "        vertical-align: top;\n",
       "    }\n",
       "\n",
       "    .dataframe thead th {\n",
       "        text-align: right;\n",
       "    }\n",
       "</style>\n",
       "<table border=\"1\" class=\"dataframe\">\n",
       "  <thead>\n",
       "    <tr style=\"text-align: right;\">\n",
       "      <th></th>\n",
       "      <th>Actual</th>\n",
       "      <th>Predicted</th>\n",
       "    </tr>\n",
       "  </thead>\n",
       "  <tbody>\n",
       "    <tr>\n",
       "      <td>0</td>\n",
       "      <td>17.700001</td>\n",
       "      <td>17.718350</td>\n",
       "    </tr>\n",
       "    <tr>\n",
       "      <td>1</td>\n",
       "      <td>16.400000</td>\n",
       "      <td>16.440212</td>\n",
       "    </tr>\n",
       "    <tr>\n",
       "      <td>2</td>\n",
       "      <td>17.200001</td>\n",
       "      <td>17.207096</td>\n",
       "    </tr>\n",
       "  </tbody>\n",
       "</table>\n",
       "</div>"
      ],
      "text/plain": [
       "      Actual  Predicted\n",
       "0  17.700001  17.718350\n",
       "1  16.400000  16.440212\n",
       "2  17.200001  17.207096"
      ]
     },
     "execution_count": 83,
     "metadata": {},
     "output_type": "execute_result"
    }
   ],
   "source": [
    "# Now compare the actual output values for X_test \n",
    "# with the predicted values, execute the following script:\n",
    "df = pd.DataFrame({'Actual': Y_test.flatten(),\\\n",
    "                   'Predicted': Y_pred.flatten()})\n",
    "df"
   ]
  },
  {
   "cell_type": "code",
   "execution_count": 37,
   "metadata": {},
   "outputs": [
    {
     "data": {
      "image/png": "[encoded data removed]",
      "text/plain": [
       "<Figure size 1152x720 with 1 Axes>"
      ]
     },
     "metadata": {
      "needs_background": "light"
     },
     "output_type": "display_data"
    }
   ],
   "source": [
    "# Visualize Comparison:\n",
    "# We can also visualize comparison result as a bar graph \n",
    "# using the below script :\n",
    "# Note: As the number of records is huge, for representation \n",
    "# purpose I’m taking just 25 records.\n",
    "df1 = df.head(25)\n",
    "df1.plot(kind='bar',figsize=(16,10))\n",
    "plt.grid(which='major', linestyle='-', linewidth='0.5', color='green')\n",
    "plt.grid(which='minor', linestyle=':', linewidth='0.5', color='black')\n",
    "plt.show()"
   ]
  },
  {
   "cell_type": "code",
   "execution_count": 38,
   "metadata": {},
   "outputs": [
    {
     "data": {
      "image/png": "[encoded data removed]",
      "text/plain": [
       "<Figure size 432x288 with 1 Axes>"
      ]
     },
     "metadata": {
      "needs_background": "light"
     },
     "output_type": "display_data"
    }
   ],
   "source": [
    "# Though our model is not very precise, \n",
    "# the predicted percentages are close to the actual ones.\n",
    "# Let's plot our straight line with the test data :\n",
    "plt.scatter(X_test, Y_test,  color='gray')\n",
    "plt.plot(X_test, Y_pred, color='red', linewidth=2)\n",
    "plt.show()"
   ]
  },
  {
   "cell_type": "code",
   "execution_count": 39,
   "metadata": {},
   "outputs": [
    {
     "name": "stdout",
     "output_type": "stream",
     "text": [
      "Mean Absolute Error: 0.02188587041031198\n"
     ]
    }
   ],
   "source": [
    "print('Mean Absolute Error:', \n",
    "      metrics.mean_absolute_error(Y_test, Y_pred)) "
   ]
  },
  {
   "cell_type": "code",
   "execution_count": null,
   "metadata": {},
   "outputs": [],
   "source": []
  }
 ],
 "metadata": {
  "kernelspec": {
   "display_name": "Python 3",
   "language": "python",
   "name": "python3"
  },
  "language_info": {
   "codemirror_mode": {
    "name": "ipython",
    "version": 3
   },
   "file_extension": ".py",
   "mimetype": "text/x-python",
   "name": "python",
   "nbconvert_exporter": "python",
   "pygments_lexer": "ipython3",
   "version": "3.7.4"
  }
 },
 "nbformat": 4,
 "nbformat_minor": 2
}
