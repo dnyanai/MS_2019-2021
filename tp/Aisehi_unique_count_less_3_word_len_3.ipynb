{
 "cells": [
  {
   "cell_type": "code",
   "execution_count": 46,
   "metadata": {},
   "outputs": [],
   "source": [
    "import numpy as np \n",
    "\n",
    "lines = 'a Fox jumped high and high and jumped and jumped fox an an bebe boo bo fox a'\n"
   ]
  },
  {
   "cell_type": "code",
   "execution_count": 135,
   "metadata": {},
   "outputs": [],
   "source": [
    "def functW(lines):\n",
    "    \n",
    "    lines = lines.lower()\n",
    "    word = lines.split(' ')\n",
    "    lines_new =''\n",
    "    words_unique = np.unique(np.array(word))\n",
    "\n",
    "    for w in word:\n",
    "        if w in words_unique:\n",
    "            if len(w)<3:\n",
    "                word.pop(word.index(w))          \n",
    "    \n",
    "        if word.count(w)<3:\n",
    "            word.pop(word.index(w))\n",
    "    \n",
    "    print(word)\n",
    "\n",
    "    for each in word:\n",
    "        lines_new += ' '+each \n",
    "    \n",
    "    print(lines_new)\n",
    "\n"
   ]
  },
  {
   "cell_type": "code",
   "execution_count": 136,
   "metadata": {},
   "outputs": [
    {
     "name": "stdout",
     "output_type": "stream",
     "text": [
      "['fox', 'jumped', 'and', 'and', 'jumped', 'and', 'jumped', 'fox', 'bebe', 'bo', 'fox']\n",
      " fox jumped and and jumped and jumped fox bebe bo fox\n"
     ]
    }
   ],
   "source": [
    "functW(lines)"
   ]
  },
  {
   "cell_type": "code",
   "execution_count": null,
   "metadata": {},
   "outputs": [],
   "source": []
  },
  {
   "cell_type": "code",
   "execution_count": null,
   "metadata": {},
   "outputs": [],
   "source": []
  }
 ],
 "metadata": {
  "kernelspec": {
   "display_name": "Python 3",
   "language": "python",
   "name": "python3"
  },
  "language_info": {
   "codemirror_mode": {
    "name": "ipython",
    "version": 3
   },
   "file_extension": ".py",
   "mimetype": "text/x-python",
   "name": "python",
   "nbconvert_exporter": "python",
   "pygments_lexer": "ipython3",
   "version": "3.7.4"
  }
 },
 "nbformat": 4,
 "nbformat_minor": 2
}
